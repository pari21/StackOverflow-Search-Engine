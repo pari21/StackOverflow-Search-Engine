{
 "cells": [
  {
   "cell_type": "markdown",
   "metadata": {},
   "source": [
    "# Multilabel Tag Prediction "
   ]
  },
  {
   "cell_type": "markdown",
   "metadata": {},
   "source": [
    "<h1>1. Problem Statement</h1>\n",
    "\n",
    "### Description:-\n",
    "- To compute cosine similarity between query and whole dataset is computationally very expensive. \n",
    "- On our dataset its taking around 4.5 mins to retrieve top 5 similar questions which doesnt satisfy latency constraint of our original problem.\n"
   ]
  },
  {
   "cell_type": "markdown",
   "metadata": {},
   "source": [
    "<h2>2. AIM </h2>\n",
    "- To build Tag prediction model which will predict tags for a given user query.\n",
    "- So we can filter out huge question corpus based on catergory and compute cosine similarity over reduced subsapce which would be faster comparatively.\n"
   ]
  },
  {
   "cell_type": "markdown",
   "metadata": {},
   "source": [
    "<h2>3. Real World / Business Objectives and Constraints </h2>\n",
    "1. Predict as many tags as possible with high precision and recall.\n",
    "2. Incorrect tags could will change whole result set for user. If tags are incorrect user would not get similar questions result n hence user experience would be impacted.\n",
    "3. Strict latency constraints as based on tag we can filter out dataset and retrieve similar questions."
   ]
  },
  {
   "cell_type": "markdown",
   "metadata": {},
   "source": [
    "<h2>4. Machine Learning problem </h2>\n",
    "- Given problem maps to Multilabel Classification under supervised learning category.\n",
    "- <b>Multi-label Classification</b>: Multilabel classification assigns to each sample a set of target labels. This can be thought as predicting properties of a data-point that are not mutually exclusive, such as topics that are relevant for a document. A question on Stackoverflow might be about any of C, Pointers, FileIO and/or memory-management at the same time or none of these. <br>\n",
    "__Credit__: http://scikit-learn.org/stable/modules/multiclass.html\n",
    "</p>"
   ]
  },
  {
   "cell_type": "markdown",
   "metadata": {},
   "source": [
    "<h3>4.2 Performance metric </h3>\n",
    "\n",
    "<b>Micro-Averaged F1-Score (Mean F Score) </b>: \n",
    "The F1 score can be interpreted as a weighted average of the precision and recall, where an F1 score reaches its best value at 1 and worst score at 0. The relative contribution of precision and recall to the F1 score are equal. The formula for the F1 score is:\n",
    "\n",
    "<i>F1 = 2 * (precision * recall) / (precision + recall)</i><br>\n",
    "\n",
    "In the multi-class and multi-label case, this is the weighted average of the F1 score of each class. <br>\n",
    "\n",
    "<b>'Micro f1 score': </b><br>\n",
    "Calculate metrics globally by counting the total true positives, false negatives and false positives. This is a better metric when we have class imbalance.\n",
    "<br>\n",
    "\n",
    "\n",
    "\n",
    "https://www.kaggle.com/wiki/MeanFScore <br>\n",
    "http://scikit-learn.org/stable/modules/generated/sklearn.metrics.f1_score.html <br>\n",
    "<br>"
   ]
  },
  {
   "cell_type": "markdown",
   "metadata": {},
   "source": [
    "### Importing libraries"
   ]
  },
  {
   "cell_type": "code",
   "execution_count": 1,
   "metadata": {},
   "outputs": [],
   "source": [
    "import pandas as pd\n",
    "import numpy as np\n",
    "import gensim\n",
    "#import swifter\n",
    "import pandas as pd\n",
    "import numpy as np\n",
    "import re\n",
    "import bs4\n",
    "import pickle\n",
    "\n",
    "from tqdm import tqdm\n",
    "tqdm.pandas()\n",
    "\n",
    "### Split Dataset into Train and Text\n",
    "from sklearn.model_selection import train_test_split\n",
    "# Feature engineering\n",
    "from sklearn.feature_extraction.text import TfidfVectorizer, CountVectorizer\n",
    "\n",
    "# ML Pkgs\n",
    "from sklearn.linear_model import LogisticRegression\n",
    "from sklearn.neighbors import KNeighborsClassifier\n",
    "from sklearn.tree import DecisionTreeClassifier\n",
    "from sklearn.naive_bayes import GaussianNB,MultinomialNB\n",
    "from sklearn.multiclass import OneVsRestClassifier\n",
    "from sklearn.linear_model import SGDClassifier\n",
    "from sklearn import metrics\n",
    "from sklearn.metrics import f1_score,precision_score,recall_score\n",
    "\n",
    "from sklearn.metrics import accuracy_score,hamming_loss,classification_report\n",
    "\n",
    "# Multi Label Pkgs\n",
    "from skmultilearn.problem_transform import BinaryRelevance\n",
    "from skmultilearn.problem_transform import ClassifierChain\n",
    "from skmultilearn.problem_transform import LabelPowerset\n",
    "\n",
    "from skmultilearn.adapt import MLkNN\n",
    "\n",
    "import nltk\n",
    "from nltk.corpus import stopwords\n",
    "# import these modules\n",
    "from nltk.stem import WordNetLemmatizer\n",
    "\n",
    "import logging  # Setting up the loggings to monitor gensim\n",
    "logging.basicConfig(format=\"%(levelname)s - %(asctime)s: %(message)s\", datefmt= '%H:%M:%S', level=logging.INFO)"
   ]
  },
  {
   "cell_type": "markdown",
   "metadata": {},
   "source": [
    "### Text Preprocessing"
   ]
  },
  {
   "cell_type": "code",
   "execution_count": 2,
   "metadata": {
    "collapsed": true
   },
   "outputs": [],
   "source": [
    "# # https://stackoverflow.com/a/47091490/4084039\n",
    "def decontracted(phrase):\n",
    "    # specific\n",
    "    phrase = re.sub(r\"won't\", \"will not\", phrase)\n",
    "    phrase = re.sub(r\"can\\'t\", \"can not\", phrase)\n",
    "    # general\n",
    "    phrase = re.sub(r\"n\\'t\", \" not\", phrase)\n",
    "    phrase = re.sub(r\"\\'re\", \" are\", phrase)\n",
    "    phrase = re.sub(r\"\\'s\", \" is\", phrase)\n",
    "    phrase = re.sub(r\"\\'d\", \" would\", phrase)\n",
    "    phrase = re.sub(r\"\\'ll\", \" will\", phrase)\n",
    "    phrase = re.sub(r\"\\'t\", \" not\", phrase)\n",
    "    phrase = re.sub(r\"\\'ve\", \" have\", phrase)\n",
    "    phrase = re.sub(r\"\\'m\", \" am\", phrase)\n",
    "    return phrase\n",
    "\n",
    "\n",
    "def text_preprocessing(text):\n",
    "    '''This function does text preprocessing \n",
    "       It includes removal of html tags,\n",
    "       converting to lowercase, \n",
    "       decontraction and \n",
    "       removal of any non alphanumeric characters.\n",
    "       \n",
    "       Function takes one parameter - text\n",
    "       returns - preprocessed text\n",
    "    '''\n",
    "    \n",
    "    # Some titles (~42) start with '<' but doesnt have closing '>'. \n",
    "    #eg: #text = '<asp: RegularExpressionValidator and RegexOptions.IgnorePatternWhitespace'\n",
    "    # beautifulsoup gives emppty string on such text so remove '<' before removing html tags from titles.\n",
    "    text = text.replace(\"<\",\"\")\n",
    "    # Remove html tags from question corpus\n",
    "    text = bs4.BeautifulSoup(text, 'lxml').get_text()\n",
    "    # Convert each word to lowercase\n",
    "    text = text.lower()\n",
    "    # text decontraction. eg: won't to will not. Can't to cannot\n",
    "    text = decontracted(text)\n",
    "    # Remove any non-alphanumeric characters if present\n",
    "    #text = re.sub('\\W', ' ',text).strip()\n",
    "    text = re.sub(\"[^a-zA-Z'.+# ]+\", '', text) # kepping + for c++, . for .net, vb.net etc, # for C#\n",
    "    \n",
    "  \n",
    "\n",
    "    # why lemmatization is choose over stemming\n",
    "    #https://stackoverflow.com/questions/1787110/what-is-the-difference-between-lemmatization-vs-stemming\n",
    "    # Lemmatization   \n",
    "    lemmatizer = WordNetLemmatizer()\n",
    "    \n",
    "    text = \" \".join([lemmatizer.lemmatize(word) for word in text.split()])\n",
    "    \n",
    "    text = text.strip()\n",
    "    return text\n"
   ]
  },
  {
   "cell_type": "markdown",
   "metadata": {},
   "source": [
    "### Data Loading"
   ]
  },
  {
   "cell_type": "code",
   "execution_count": 3,
   "metadata": {},
   "outputs": [
    {
     "name": "stdout",
     "output_type": "stream",
     "text": [
      "CPU times: user 27.5 s, sys: 5.98 s, total: 33.5 s\n",
      "Wall time: 41.3 s\n"
     ]
    },
    {
     "data": {
      "text/plain": [
       "((1000000, 9),\n",
       " Index(['PostTypeId', 'Question_Id', 'Title', 'Tags', 'AnswerCount',\n",
       "        'ViewCount', 'Body', 'Score', 'Answer_corpus'],\n",
       "       dtype='object'))"
      ]
     },
     "execution_count": 3,
     "metadata": {},
     "output_type": "execute_result"
    }
   ],
   "source": [
    "%%time\n",
    "df = pd.read_csv('Final_df.csv')\n",
    "df.shape, df.columns"
   ]
  },
  {
   "cell_type": "markdown",
   "metadata": {},
   "source": [
    "### Data Cleaning\n",
    "- Considering only titles for tag prediction."
   ]
  },
  {
   "cell_type": "code",
   "execution_count": 4,
   "metadata": {},
   "outputs": [
    {
     "name": "stderr",
     "output_type": "stream",
     "text": [
      "100%|██████████| 1000000/1000000 [05:43<00:00, 2913.98it/s]\n"
     ]
    },
    {
     "name": "stdout",
     "output_type": "stream",
     "text": [
      "CPU times: user 5min 35s, sys: 10.9 s, total: 5min 46s\n",
      "Wall time: 5min 43s\n"
     ]
    }
   ],
   "source": [
    "%%time\n",
    "df['Cleaned_Titles'] = df['Title'].progress_apply(lambda x: text_preprocessing(x))\n",
    "\n",
    "df = df[df['Cleaned_Titles']!='']"
   ]
  },
  {
   "cell_type": "code",
   "execution_count": 5,
   "metadata": {},
   "outputs": [
    {
     "data": {
      "text/plain": [
       "(999999, 10)"
      ]
     },
     "execution_count": 5,
     "metadata": {},
     "output_type": "execute_result"
    }
   ],
   "source": [
    "df[df['Cleaned_Titles']!=''].shape"
   ]
  },
  {
   "cell_type": "code",
   "execution_count": 6,
   "metadata": {},
   "outputs": [
    {
     "data": {
      "text/plain": [
       "0    how do i calculate someone is age based on a d...\n",
       "1                        calculate relative time in c#\n",
       "2                         determine a user is timezone\n",
       "3      difference between math.floor and math.truncate\n",
       "4    filling a dataset or a datatable from a linq q...\n",
       "Name: Cleaned_Titles, dtype: object"
      ]
     },
     "execution_count": 6,
     "metadata": {},
     "output_type": "execute_result"
    }
   ],
   "source": [
    "df['Cleaned_Titles'].head()"
   ]
  },
  {
   "cell_type": "markdown",
   "metadata": {},
   "source": [
    "### Cleaning Tags - Target variable"
   ]
  },
  {
   "cell_type": "code",
   "execution_count": 7,
   "metadata": {},
   "outputs": [
    {
     "data": {
      "text/plain": [
       "0                                 <c#><.net><datetime>\n",
       "1    <c#><datetime><time><datediff><relative-time-s...\n",
       "2    <html><browser><timezone><user-agent><timezone...\n",
       "3                                         <.net><math>\n",
       "4                   <c#><linq><web-services><.net-3.5>\n",
       "Name: Tags, dtype: object"
      ]
     },
     "execution_count": 7,
     "metadata": {},
     "output_type": "execute_result"
    }
   ],
   "source": [
    "df['Tags'].head()"
   ]
  },
  {
   "cell_type": "code",
   "execution_count": 8,
   "metadata": {},
   "outputs": [
    {
     "name": "stderr",
     "output_type": "stream",
     "text": [
      "100%|██████████| 999999/999999 [00:07<00:00, 140196.71it/s]\n"
     ]
    }
   ],
   "source": [
    "# re.findall('\\<.*?\\>','<java><oracle><hibernate>') returns list ['<java>', '<oracle>', '<hibernate>']\n",
    "# Iterate over list and remove <> brackets.\n",
    "# Join all tags with space\n",
    "\n",
    "df['Cleaned_Tags'] = df['Tags'].progress_apply(lambda x: ' '.join(word.replace(\"<\",\"\").replace(\">\",\"\") for word in re.findall('\\<.*?\\>',x)))\n",
    "# 2 rows contains null tags,remove them\n",
    "df = df[df['Tags'] != '<null>']"
   ]
  },
  {
   "cell_type": "code",
   "execution_count": 9,
   "metadata": {},
   "outputs": [
    {
     "data": {
      "text/plain": [
       "(999997, 11)"
      ]
     },
     "execution_count": 9,
     "metadata": {},
     "output_type": "execute_result"
    }
   ],
   "source": [
    "df.shape"
   ]
  },
  {
   "cell_type": "code",
   "execution_count": 10,
   "metadata": {},
   "outputs": [
    {
     "data": {
      "text/plain": [
       "PostTypeId        0\n",
       "Question_Id       0\n",
       "Title             0\n",
       "Tags              0\n",
       "AnswerCount       0\n",
       "ViewCount         0\n",
       "Body              0\n",
       "Score             0\n",
       "Answer_corpus     0\n",
       "Cleaned_Titles    0\n",
       "Cleaned_Tags      0\n",
       "dtype: int64"
      ]
     },
     "execution_count": 10,
     "metadata": {},
     "output_type": "execute_result"
    }
   ],
   "source": [
    "df.isnull().sum()"
   ]
  },
  {
   "cell_type": "code",
   "execution_count": 104,
   "metadata": {},
   "outputs": [
    {
     "name": "stdout",
     "output_type": "stream",
     "text": [
      "CPU times: user 1min 47s, sys: 2.66 s, total: 1min 50s\n",
      "Wall time: 1min 52s\n"
     ]
    }
   ],
   "source": [
    "%%time\n",
    "df.to_csv(\"Cleaned_title_tags.csv\", index=False)"
   ]
  },
  {
   "cell_type": "code",
   "execution_count": 11,
   "metadata": {},
   "outputs": [
    {
     "data": {
      "text/plain": [
       "0                                    c# .net datetime\n",
       "1        c# datetime time datediff relative-time-span\n",
       "2    html browser timezone user-agent timezone-offset\n",
       "3                                           .net math\n",
       "4                       c# linq web-services .net-3.5\n",
       "Name: Cleaned_Tags, dtype: object"
      ]
     },
     "execution_count": 11,
     "metadata": {},
     "output_type": "execute_result"
    }
   ],
   "source": [
    "df['Cleaned_Tags'].head()"
   ]
  },
  {
   "cell_type": "markdown",
   "metadata": {},
   "source": [
    "### Brief EDA for problem statement.\n",
    "Refer EDA.ipynb to have  a look at complete EDA"
   ]
  },
  {
   "cell_type": "code",
   "execution_count": 12,
   "metadata": {},
   "outputs": [
    {
     "name": "stdout",
     "output_type": "stream",
     "text": [
      "Unique number of tags:  23729\n",
      "Some of the tags we have : ['.a', '.app', '.aspxauth', '.bash-profile', '.class-file', '.doc', '.emf', '.htaccess', '.htpasswd', '.ico', '.lib', '.mobi', '.mov', '.net', '.net-1.0', '.net-1.1', '.net-2.0', '.net-3.0', '.net-3.5', '.net-4.0']\n",
      "CPU times: user 11 s, sys: 57.7 ms, total: 11.1 s\n",
      "Wall time: 11.1 s\n"
     ]
    }
   ],
   "source": [
    "%%time\n",
    "\n",
    "# question related to for loop could be there. So do not remove word ' for' from vocab.\n",
    "# between functions exists in many programming langugage.\n",
    "# to and from should not be removed.\n",
    "# nor operator should not be removed.\n",
    "\n",
    "stopwords = stopwords.words('english')\n",
    "final_stopwords = list(set(stopwords) - set(['for', 'between', 'to', 'from', 'nor']))\n",
    "final_stopwords.append('would')\n",
    "\n",
    "\n",
    "#'split()' will tokenize each tag using space.\n",
    "vectorizer = CountVectorizer(tokenizer = lambda x: x.split(),stop_words = final_stopwords)\n",
    "\n",
    "# fit function learns the vocabulary; \n",
    "vectorizer.fit(df['Cleaned_Tags'])\n",
    "\n",
    "######### Get count of each tags ####################################\n",
    "# Create bow matrix - each of unique tags will be columns and each row will have 1 corresponding to tags present in that question\n",
    "y= vectorizer.fit_transform(df['Cleaned_Tags'])\n",
    "\n",
    "#'get_feature_name()' gives us the vocabulary.\n",
    "tags = vectorizer.get_feature_names()\n",
    "print(\"Unique number of tags: \", len(tags))\n",
    "#Lets look at the tags we have.\n",
    "print(\"Some of the tags we have :\", tags[:20])"
   ]
  },
  {
   "cell_type": "markdown",
   "metadata": {},
   "source": [
    "### Observation\n",
    "- We have around 23K unique tags."
   ]
  },
  {
   "cell_type": "code",
   "execution_count": 13,
   "metadata": {},
   "outputs": [
    {
     "data": {
      "text/html": [
       "<div>\n",
       "<style scoped>\n",
       "    .dataframe tbody tr th:only-of-type {\n",
       "        vertical-align: middle;\n",
       "    }\n",
       "\n",
       "    .dataframe tbody tr th {\n",
       "        vertical-align: top;\n",
       "    }\n",
       "\n",
       "    .dataframe thead th {\n",
       "        text-align: right;\n",
       "    }\n",
       "</style>\n",
       "<table border=\"1\" class=\"dataframe\">\n",
       "  <thead>\n",
       "    <tr style=\"text-align: right;\">\n",
       "      <th></th>\n",
       "      <th>Counts</th>\n",
       "      <th>Tags</th>\n",
       "    </tr>\n",
       "  </thead>\n",
       "  <tbody>\n",
       "    <tr>\n",
       "      <th>0</th>\n",
       "      <td>3</td>\n",
       "      <td>.a</td>\n",
       "    </tr>\n",
       "    <tr>\n",
       "      <th>1</th>\n",
       "      <td>7</td>\n",
       "      <td>.app</td>\n",
       "    </tr>\n",
       "    <tr>\n",
       "      <th>2</th>\n",
       "      <td>6</td>\n",
       "      <td>.aspxauth</td>\n",
       "    </tr>\n",
       "    <tr>\n",
       "      <th>3</th>\n",
       "      <td>7</td>\n",
       "      <td>.bash-profile</td>\n",
       "    </tr>\n",
       "    <tr>\n",
       "      <th>4</th>\n",
       "      <td>13</td>\n",
       "      <td>.class-file</td>\n",
       "    </tr>\n",
       "  </tbody>\n",
       "</table>\n",
       "</div>"
      ],
      "text/plain": [
       "   Counts           Tags\n",
       "0       3             .a\n",
       "1       7           .app\n",
       "2       6      .aspxauth\n",
       "3       7  .bash-profile\n",
       "4      13    .class-file"
      ]
     },
     "execution_count": 13,
     "metadata": {},
     "output_type": "execute_result"
    }
   ],
   "source": [
    "# If we sum over each tag column we will have tag frequency\n",
    "tag_freq = y.sum(axis=0).A1 # .A1 returns flattened array of matrix\n",
    "\n",
    "tag_df = pd.DataFrame({'Tags':tags, 'Counts':tag_freq})\n",
    "tag_df.head()"
   ]
  },
  {
   "cell_type": "code",
   "execution_count": 14,
   "metadata": {},
   "outputs": [
    {
     "data": {
      "text/html": [
       "<div>\n",
       "<style scoped>\n",
       "    .dataframe tbody tr th:only-of-type {\n",
       "        vertical-align: middle;\n",
       "    }\n",
       "\n",
       "    .dataframe tbody tr th {\n",
       "        vertical-align: top;\n",
       "    }\n",
       "\n",
       "    .dataframe thead th {\n",
       "        text-align: right;\n",
       "    }\n",
       "</style>\n",
       "<table border=\"1\" class=\"dataframe\">\n",
       "  <thead>\n",
       "    <tr style=\"text-align: right;\">\n",
       "      <th></th>\n",
       "      <th>Counts</th>\n",
       "      <th>Tags</th>\n",
       "    </tr>\n",
       "  </thead>\n",
       "  <tbody>\n",
       "    <tr>\n",
       "      <th>2448</th>\n",
       "      <td>120108</td>\n",
       "      <td>c#</td>\n",
       "    </tr>\n",
       "    <tr>\n",
       "      <th>10177</th>\n",
       "      <td>75789</td>\n",
       "      <td>java</td>\n",
       "    </tr>\n",
       "    <tr>\n",
       "      <th>15303</th>\n",
       "      <td>68164</td>\n",
       "      <td>php</td>\n",
       "    </tr>\n",
       "    <tr>\n",
       "      <th>10245</th>\n",
       "      <td>59117</td>\n",
       "      <td>javascript</td>\n",
       "    </tr>\n",
       "    <tr>\n",
       "      <th>13</th>\n",
       "      <td>56209</td>\n",
       "      <td>.net</td>\n",
       "    </tr>\n",
       "  </tbody>\n",
       "</table>\n",
       "</div>"
      ],
      "text/plain": [
       "       Counts        Tags\n",
       "2448   120108          c#\n",
       "10177   75789        java\n",
       "15303   68164         php\n",
       "10245   59117  javascript\n",
       "13      56209        .net"
      ]
     },
     "execution_count": 14,
     "metadata": {},
     "output_type": "execute_result"
    }
   ],
   "source": [
    "tag_df_sorted = tag_df.sort_values(['Counts'], ascending=False)\n",
    "tag_counts = tag_df_sorted['Counts'].values\n",
    "tag_df_sorted.head()"
   ]
  },
  {
   "cell_type": "code",
   "execution_count": null,
   "metadata": {},
   "outputs": [],
   "source": [
    "import matplotlib.pyplot as plt\n",
    "\n",
    "plt.figure(figsize=(12,6))\n",
    "plt.plot(tag_counts)\n",
    "plt.grid()\n",
    "plt.title(\"Distribution Of Tag Frequency\")\n",
    "plt.xlabel(\"Tag Number\")\n",
    "plt.ylabel(\"Tag Count\")\n",
    "plt.show()"
   ]
  },
  {
   "cell_type": "code",
   "execution_count": 16,
   "metadata": {},
   "outputs": [
    {
     "data": {
      "text/plain": [
       "Text(0, 0.5, 'Tag Count')"
      ]
     },
     "execution_count": 16,
     "metadata": {},
     "output_type": "execute_result"
    },
    {
     "data": {
      "image/png": "[encoded data removed]",
      "text/plain": [
       "<Figure size 864x432 with 1 Axes>"
      ]
     },
     "metadata": {
      "needs_background": "light"
     },
     "output_type": "display_data"
    }
   ],
   "source": [
    "plt.figure(figsize=(12,6))\n",
    "plt.plot(tag_counts[0:1000])\n",
    "plt.grid()\n",
    "plt.title(\"Distribution Of Tag Frequency\")\n",
    "plt.xlabel(\"Tag Number\")\n",
    "plt.ylabel(\"Tag Count\")"
   ]
  },
  {
   "cell_type": "code",
   "execution_count": 17,
   "metadata": {},
   "outputs": [
    {
     "data": {
      "text/html": [
       "<div>\n",
       "<style scoped>\n",
       "    .dataframe tbody tr th:only-of-type {\n",
       "        vertical-align: middle;\n",
       "    }\n",
       "\n",
       "    .dataframe tbody tr th {\n",
       "        vertical-align: top;\n",
       "    }\n",
       "\n",
       "    .dataframe thead th {\n",
       "        text-align: right;\n",
       "    }\n",
       "</style>\n",
       "<table border=\"1\" class=\"dataframe\">\n",
       "  <thead>\n",
       "    <tr style=\"text-align: right;\">\n",
       "      <th></th>\n",
       "      <th>Counts</th>\n",
       "    </tr>\n",
       "  </thead>\n",
       "  <tbody>\n",
       "    <tr>\n",
       "      <th>count</th>\n",
       "      <td>23729.000000</td>\n",
       "    </tr>\n",
       "    <tr>\n",
       "      <th>mean</th>\n",
       "      <td>120.325214</td>\n",
       "    </tr>\n",
       "    <tr>\n",
       "      <th>std</th>\n",
       "      <td>1508.651069</td>\n",
       "    </tr>\n",
       "    <tr>\n",
       "      <th>min</th>\n",
       "      <td>1.000000</td>\n",
       "    </tr>\n",
       "    <tr>\n",
       "      <th>25%</th>\n",
       "      <td>3.000000</td>\n",
       "    </tr>\n",
       "    <tr>\n",
       "      <th>50%</th>\n",
       "      <td>7.000000</td>\n",
       "    </tr>\n",
       "    <tr>\n",
       "      <th>75%</th>\n",
       "      <td>25.000000</td>\n",
       "    </tr>\n",
       "    <tr>\n",
       "      <th>max</th>\n",
       "      <td>120108.000000</td>\n",
       "    </tr>\n",
       "  </tbody>\n",
       "</table>\n",
       "</div>"
      ],
      "text/plain": [
       "              Counts\n",
       "count   23729.000000\n",
       "mean      120.325214\n",
       "std      1508.651069\n",
       "min         1.000000\n",
       "25%         3.000000\n",
       "50%         7.000000\n",
       "75%        25.000000\n",
       "max    120108.000000"
      ]
     },
     "execution_count": 17,
     "metadata": {},
     "output_type": "execute_result"
    }
   ],
   "source": [
    "#Get a high level statistical view of the tags data\n",
    "tag_df_sorted.describe()"
   ]
  },
  {
   "cell_type": "code",
   "execution_count": 18,
   "metadata": {},
   "outputs": [
    {
     "name": "stdout",
     "output_type": "stream",
     "text": [
      "0th percentile: 1.0\n",
      "10th percentile: 1.0\n",
      "20th percentile: 2.0\n",
      "30th percentile: 3.0\n",
      "40th percentile: 5.0\n",
      "50th percentile: 7.0\n",
      "60th percentile: 11.0\n",
      "70th percentile: 18.0\n",
      "80th percentile: 36.0\n",
      "90th percentile: 106.0\n",
      "---------------------------------------------------------------\n",
      "71th percentile: 19.0\n",
      "72th percentile: 20.0\n",
      "73th percentile: 21.0\n",
      "74th percentile: 23.0\n",
      "75th percentile: 25.0\n",
      "76th percentile: 26.0\n",
      "77th percentile: 28.0\n",
      "78th percentile: 31.0\n",
      "79th percentile: 33.0\n"
     ]
    }
   ],
   "source": [
    "percentiles = range(0,100,10)\n",
    "\n",
    "for p in percentiles:\n",
    "    print(\"{}th percentile: {}\".format(p,np.percentile(tag_counts,p)))\n",
    "\n",
    "print(\"---------------------------------------------------------------\")\n",
    "percentiles_90 = range(71,80)\n",
    "for p in percentiles_90:\n",
    "    print(\"{}th percentile: {}\".format(p,np.percentile(tag_counts,p)))\n",
    "    "
   ]
  },
  {
   "cell_type": "markdown",
   "metadata": {},
   "source": [
    "### Observation:-\n",
    "- Tags frequency distribution is highly positive skewed.\n",
    "- 80% of data have tags occuring less then 36 times.\n",
    "- Inshort we have some broader category of tags mostly programming languages which occur more frequently then sub-category tags."
   ]
  },
  {
   "cell_type": "code",
   "execution_count": 19,
   "metadata": {
    "collapsed": true
   },
   "outputs": [],
   "source": [
    "#Storing the count of tag in each question in list 'tag_count'\n",
    "df['Tags_Count_per_question'] = df['Cleaned_Tags'].str.split().apply(len)"
   ]
  },
  {
   "cell_type": "code",
   "execution_count": 21,
   "metadata": {},
   "outputs": [
    {
     "data": {
      "text/plain": [
       "array([3, 5, 2, 4, 1, 6])"
      ]
     },
     "execution_count": 21,
     "metadata": {},
     "output_type": "execute_result"
    }
   ],
   "source": [
    "df['Tags_Count_per_question'].unique()"
   ]
  },
  {
   "cell_type": "markdown",
   "metadata": {},
   "source": [
    "### Observation:-\n",
    "- Questions contains number of tags ranging from 1 to 6.\n",
    "- Maximum one question have 6 tags.\n"
   ]
  },
  {
   "cell_type": "markdown",
   "metadata": {},
   "source": [
    "## Data Featurization"
   ]
  },
  {
   "cell_type": "markdown",
   "metadata": {},
   "source": [
    "### Experiment 1: Tfidf features"
   ]
  },
  {
   "cell_type": "markdown",
   "metadata": {},
   "source": [
    "### Load preprocessed data"
   ]
  },
  {
   "cell_type": "code",
   "execution_count": 5,
   "metadata": {},
   "outputs": [
    {
     "name": "stdout",
     "output_type": "stream",
     "text": [
      "(999998, 11)\n",
      "PostTypeId        0\n",
      "Question_Id       0\n",
      "Title             0\n",
      "Tags              0\n",
      "AnswerCount       0\n",
      "ViewCount         0\n",
      "Body              0\n",
      "Score             0\n",
      "Answer_corpus     0\n",
      "Cleaned_Titles    1\n",
      "Cleaned_Tags      0\n",
      "dtype: int64\n",
      "CPU times: user 29.3 s, sys: 2.86 s, total: 32.1 s\n",
      "Wall time: 41.6 s\n"
     ]
    }
   ],
   "source": [
    "%%time\n",
    "df = pd.read_csv(\"Cleaned_title_tags.csv\")\n",
    "print(df.shape)\n",
    "print(df.isnull().sum())\n",
    "df.dropna(inplace=True)"
   ]
  },
  {
   "cell_type": "markdown",
   "metadata": {},
   "source": [
    "### Stopwords Removal"
   ]
  },
  {
   "cell_type": "code",
   "execution_count": 6,
   "metadata": {
    "collapsed": true
   },
   "outputs": [],
   "source": [
    "# question related to for loop could be there. So do not remove word ' for' from vocab.\n",
    "# between functions exists in many programming langugage.\n",
    "# to and from should not be removed.\n",
    "# nor operator should not be removed.\n",
    "\n",
    "stop_words = stopwords.words('english')\n",
    "final_stopwords = list(set(stop_words) - set(['for', 'between', 'to', 'from', 'nor']))\n",
    "final_stopwords.append('would')"
   ]
  },
  {
   "cell_type": "code",
   "execution_count": 7,
   "metadata": {},
   "outputs": [
    {
     "name": "stdout",
     "output_type": "stream",
     "text": [
      "TfidfVectorizer(analyzer='word', binary=False, decode_error='strict',\n",
      "                dtype=<class 'numpy.float64'>, encoding='utf-8',\n",
      "                input='content', lowercase=True, max_df=1.0, max_features=20000,\n",
      "                min_df=1, ngram_range=(1, 1), norm='l2', preprocessor=None,\n",
      "                smooth_idf=True,\n",
      "                stop_words=['having', 'll', 'we', 'hadn', 'or', \"should've\",\n",
      "                            'yourself', 'hasn', 'in', 'haven', 'further', 't',\n",
      "                            'you', 'they', 'being', 'had', 'on', 're', \"you've\",\n",
      "                            'its', 'an', 'other', \"mightn't\", 'me', 'by', 'too',\n",
      "                            \"weren't\", \"shouldn't\", 'she', 'him', ...],\n",
      "                strip_accents=None, sublinear_tf=False,\n",
      "                token_pattern='(?u)\\\\b\\\\w\\\\w+\\\\b',\n",
      "                tokenizer=<function <lambda> at 0x7f736410f0d0>, use_idf=True,\n",
      "                vocabulary=None)\n"
     ]
    },
    {
     "data": {
      "text/plain": [
       "(999997, 20000)"
      ]
     },
     "execution_count": 7,
     "metadata": {},
     "output_type": "execute_result"
    }
   ],
   "source": [
    "tfidf_vec = TfidfVectorizer(tokenizer = lambda x: x.split(),stop_words=final_stopwords, max_features=20000)\n",
    "print(tfidf_vec)\n",
    "tfidf_matrix = tfidf_vec.fit_transform(df['Cleaned_Titles'])\n",
    "tfidf_matrix.shape"
   ]
  },
  {
   "cell_type": "markdown",
   "metadata": {},
   "source": [
    "- In total 1 lakh 59 tf-idf features exists (unique words in cleaned_titles) exists. Experimented but number of feature\n",
    "is very large to fit in memory so only top 20K features are selected."
   ]
  },
  {
   "cell_type": "markdown",
   "metadata": {},
   "source": [
    "### Computing Target \n",
    "- As per Tag frequency eda we know tags count have high positively skewed distribution.\n",
    "- Top 1000 frequent tags are taken out of 23K due to computational resource constraints."
   ]
  },
  {
   "cell_type": "code",
   "execution_count": 8,
   "metadata": {},
   "outputs": [
    {
     "name": "stdout",
     "output_type": "stream",
     "text": [
      "CPU times: user 5.55 s, sys: 13.7 ms, total: 5.56 s\n",
      "Wall time: 5.56 s\n"
     ]
    },
    {
     "data": {
      "text/plain": [
       "(999997, 1000)"
      ]
     },
     "execution_count": 8,
     "metadata": {},
     "output_type": "execute_result"
    }
   ],
   "source": [
    "%%time\n",
    "# Convert target variable in to one_hot vector\n",
    "bow_vec = CountVectorizer(tokenizer = lambda x: x.split(' '),stop_words = final_stopwords, max_features=1000, binary=True)\n",
    "y = bow_vec.fit_transform(df['Cleaned_Tags'])\n",
    "y.shape"
   ]
  },
  {
   "cell_type": "markdown",
   "metadata": {},
   "source": [
    "### Saving target dump for future use\n"
   ]
  },
  {
   "cell_type": "code",
   "execution_count": 4,
   "metadata": {
    "collapsed": true
   },
   "outputs": [],
   "source": [
    "import pickle\n",
    "def dump_intermediate_results(variable, filename):\n",
    "    '''Function dumps object using pickle library in same format as you provide.\n",
    "       Parameters: 1) variable = object to be dumped. If object is dataframe it is dumped as dataframe only.\n",
    "                   2) filename = Name of the file of user's choice.\n",
    "                   \n",
    "    '''\n",
    "    with open(filename, 'wb') as f:\n",
    "        pickle.dump(variable,f )\n",
    "        \n",
    "def load_intermediate_results(filename):\n",
    "    '''Funciton loads pickle object from the file in the same form it was dumped.\n",
    "       Parameters: filename: Name of the file from which object is to be loaded.\n",
    "       Returns: loaded object.\n",
    "    '''\n",
    "    with open(filename,'rb') as fp:\n",
    "        result = pickle.load(fp)\n",
    "        return result"
   ]
  },
  {
   "cell_type": "code",
   "execution_count": 17,
   "metadata": {},
   "outputs": [],
   "source": [
    "dump_intermediate_results(y, 'target_y_tfidf.pkl')\n",
    "dump_intermediate_results(tfidf_matrix, 'X_tfidf.pkl')\n",
    "\n",
    "y = load_intermediate_results('target_y_tfidf.pkl')\n",
    "X = load_intermediate_results('X_tfidf.pkl')"
   ]
  },
  {
   "cell_type": "markdown",
   "metadata": {},
   "source": [
    "## Train-Test Split\n"
   ]
  },
  {
   "cell_type": "markdown",
   "metadata": {},
   "source": [
    "### Multilabel stratification\n",
    "\n",
    "Reference link: https://pypi.org/project/iterative-stratification/\n",
    "- Max features 1000 are selected based on frequency.\n",
    "- Data will be splitted based on stratified sampling of tags. Eg: If <python> tags occurs in 20% of train data points then same proportions will be maintained in test set also.\n",
    "\n",
    "\n",
    "Example:- \n",
    "from iterstrat.ml_stratifiers import MultilabelStratifiedKFold\n",
    "msk = MultilabelStratifiedKFold(n_splits=5, random_state=33) # so we divided data into 80-20%\n",
    "\n",
    "print(msk) #MultilabelStratifiedKFold(n_splits=5, random_state=33, shuffle=False)\n",
    "data_generator = msk.split(y[0:10, :].toarray(), y[0:10, :].toarray()) #requires dense array\n",
    "\n",
    "a,b = next(data_generator) # returns index of train and test\n",
    "Output: a,b #(array([0, 1, 2, 4, 5, 6, 7, 9]), array([3, 8]))\n"
   ]
  },
  {
   "cell_type": "code",
   "execution_count": 12,
   "metadata": {},
   "outputs": [
    {
     "name": "stdout",
     "output_type": "stream",
     "text": [
      "CPU times: user 17min 23s, sys: 2min 8s, total: 19min 32s\n",
      "Wall time: 19min 32s\n"
     ]
    },
    {
     "data": {
      "text/plain": [
       "((799998,), (199999,))"
      ]
     },
     "execution_count": 12,
     "metadata": {},
     "output_type": "execute_result"
    }
   ],
   "source": [
    "%%time\n",
    "from iterstrat.ml_stratifiers import MultilabelStratifiedKFold\n",
    "msk = MultilabelStratifiedKFold(n_splits=5, random_state=33) # so we divided data into 80-20%\n",
    "\n",
    "\n",
    "#Ideally X,y should be passed, but throws memory error, so we will take index for y and filter X later.\n",
    "#requires dense array\n",
    "data_generator = msk.split(y.toarray(), y.toarray())\n",
    "\n",
    "ytrain_index,ytest_index = next(data_generator) # returns index of train and test\n",
    "ytrain_index.shape,ytest_index.shape"
   ]
  },
  {
   "cell_type": "code",
   "execution_count": 14,
   "metadata": {
    "collapsed": true
   },
   "outputs": [],
   "source": [
    "dump_intermediate_results(ytrain_index, 'ytrain_index1.pkl')\n",
    "dump_intermediate_results(ytest_index, 'ytest_index1.pkl')\n"
   ]
  },
  {
   "cell_type": "code",
   "execution_count": 15,
   "metadata": {
    "collapsed": true
   },
   "outputs": [],
   "source": [
    "ytrain_index = load_intermediate_results('ytrain_index1.pkl')\n",
    "ytest_index = load_intermediate_results('ytest_index1.pkl')"
   ]
  },
  {
   "cell_type": "code",
   "execution_count": 18,
   "metadata": {},
   "outputs": [
    {
     "data": {
      "text/plain": [
       "((799998, 20000), (199999, 20000), (799998, 1000), (199999, 1000))"
      ]
     },
     "execution_count": 18,
     "metadata": {},
     "output_type": "execute_result"
    }
   ],
   "source": [
    "\n",
    "y_train = y[ytrain_index]\n",
    "y_test = y[ytest_index]\n",
    "\n",
    "X_train = X[ytrain_index]\n",
    "X_test = X[ytest_index]\n",
    "X_train.shape, X_test.shape, y_train.shape, y_test.shape"
   ]
  },
  {
   "cell_type": "markdown",
   "metadata": {},
   "source": [
    "## Modelling\n",
    "\n",
    "Reference link: https://www.analyticsvidhya.com/blog/2017/08/introduction-to-multi-label-classification/\n",
    "### Multi-label Classification\n",
    "![](multi-class_vs_multi_label_classification_jcharistech.png)\n",
    "\n",
    "#### Solution for Multi-Label Problem\n",
    "+ Methods for solving Multi-label Classification Problems\n",
    "    + Problem Transformation\n",
    "    + Adapted Algorithm\n",
    "    + Ensemble approaches\n",
    "\n",
    "#### Problem Transformation\n",
    "+ It refers to transforming the multi-label problem into single-label problem(s) by using\n",
    "    - Binary Relevance: treats each label as a separate single class classification\n",
    "    - Classifier Chains:In this, the first classifier is trained just on the input data and then each next classifier is trained on the input space and all the previous classifiers in the chain.\n",
    "    - Label Powerset:we transform the problem into a multi-class problem with one multi-class classifier is trained on all unique label combinations found in the training data.\n",
    "\n",
    "        \n",
    "#### Adapted Algorithm\n",
    "+ adapting the algorithm to directly perform multi-label classification, rather than transforming the problem into different subsets of problems.\n",
    "\n",
    "\n",
    "\n",
    "\n",
    "   "
   ]
  },
  {
   "cell_type": "markdown",
   "metadata": {},
   "source": [
    "### Modelling on our dataset\n",
    "\n",
    "All the techniques mentioned under Problem Transormation is available in scikit-multilearn package.\n",
    "#### Label powerset technique \n",
    "- It makes sense compared to other techniques, as we have very large number of tags. \n",
    "- Experimented with Labelpowerset technique:-\n",
    "    - skmultilearn package converts sparse matrix to dense for internal computations.\n",
    "    - Due to above reason, had memory issues.\n"
   ]
  },
  {
   "cell_type": "code",
   "execution_count": null,
   "metadata": {
    "collapsed": true
   },
   "outputs": [],
   "source": [
    "# %%time\n",
    "# # taking 10k tfidf features and 1000 tags - memory error.\n",
    "\n",
    "\n",
    "# # %%time\n",
    "# from skmultilearn.adapt import MLTSVM\n",
    "# svm_classifier = MLTSVM()\n",
    "# svm_classifier.fit(X_train, y_train)\n",
    "\n",
    "\n",
    "# tag_classifier = LabelPowerset(MultinomialNB())\n",
    "# # train\n",
    "# tag_classifier.fit(X_train, y_train)\n",
    "# # predict\n",
    "# predictions = tag_classifier.predict(X_test)\n",
    "# # accuracy\n",
    "# print(\"Accuracy = \",accuracy_score(y_test,predictions))\n",
    "# print(\"\\n\")"
   ]
  },
  {
   "cell_type": "code",
   "execution_count": 23,
   "metadata": {},
   "outputs": [
    {
     "data": {
      "text/plain": [
       "375"
      ]
     },
     "execution_count": 23,
     "metadata": {},
     "output_type": "execute_result"
    }
   ],
   "source": [
    "import gc\n",
    "del df,X,y,tfidf_matrix\n",
    "gc.collect()"
   ]
  },
  {
   "cell_type": "markdown",
   "metadata": {},
   "source": [
    "### OneVsRestClassifier To Rescue:\n",
    "\n",
    "Reference link: https://scikit-learn.org/stable/modules/generated/sklearn.multiclass.OneVsRestClassifier.html\n",
    "\n",
    "- This method internally uses binary relevance technique which involves training individual models for each target label."
   ]
  },
  {
   "cell_type": "code",
   "execution_count": 24,
   "metadata": {},
   "outputs": [
    {
     "name": "stdout",
     "output_type": "stream",
     "text": [
      "CPU times: user 6.41 s, sys: 4.57 s, total: 11 s\n",
      "Wall time: 6min 53s\n"
     ]
    },
    {
     "data": {
      "text/plain": [
       "OneVsRestClassifier(estimator=SGDClassifier(alpha=0.0001, average=False,\n",
       "                                            class_weight=None,\n",
       "                                            early_stopping=False, epsilon=0.1,\n",
       "                                            eta0=0.0, fit_intercept=True,\n",
       "                                            l1_ratio=0.15,\n",
       "                                            learning_rate='optimal', loss='log',\n",
       "                                            max_iter=1000, n_iter_no_change=5,\n",
       "                                            n_jobs=None, penalty='l2',\n",
       "                                            power_t=0.5, random_state=None,\n",
       "                                            shuffle=True, tol=0.001,\n",
       "                                            validation_fraction=0.1, verbose=0,\n",
       "                                            warm_start=False),\n",
       "                    n_jobs=-1)"
      ]
     },
     "execution_count": 24,
     "metadata": {},
     "output_type": "execute_result"
    }
   ],
   "source": [
    "%%time\n",
    "from sklearn.multiclass import OneVsRestClassifier\n",
    "from sklearn.linear_model import SGDClassifier\n",
    "from sklearn import metrics\n",
    "from sklearn.metrics import f1_score,precision_score,recall_score\n",
    "\n",
    "\n",
    "classifier = OneVsRestClassifier(SGDClassifier(loss='log'), n_jobs=-1)\n",
    "classifier.fit(X_train, y_train)"
   ]
  },
  {
   "cell_type": "markdown",
   "metadata": {},
   "source": [
    "## Prediction"
   ]
  },
  {
   "cell_type": "code",
   "execution_count": 38,
   "metadata": {
    "collapsed": true
   },
   "outputs": [],
   "source": [
    "y_predicted_prob = classifier.predict_proba(X_test)\n",
    "y_predicted = classifier.predict(X_test)"
   ]
  },
  {
   "cell_type": "code",
   "execution_count": 34,
   "metadata": {},
   "outputs": [
    {
     "data": {
      "text/plain": [
       "(199999, 1000)"
      ]
     },
     "execution_count": 34,
     "metadata": {},
     "output_type": "execute_result"
    }
   ],
   "source": [
    "y_predicted_prob.shape"
   ]
  },
  {
   "cell_type": "code",
   "execution_count": 35,
   "metadata": {},
   "outputs": [
    {
     "data": {
      "text/plain": [
       "((199999, 1000), (199999, 1000))"
      ]
     },
     "execution_count": 35,
     "metadata": {},
     "output_type": "execute_result"
    }
   ],
   "source": [
    "y_test.shape, y_predicted_prob.shape"
   ]
  },
  {
   "cell_type": "markdown",
   "metadata": {},
   "source": [
    "### Evaluation\n",
    "\n",
    "Along with F1 Score other measures such as accuracy,classifiaction report and hamming loss are also computed.\n",
    "#### Hamming loss\n",
    "Reference link: https://scikit-learn.org/stable/modules/generated/sklearn.metrics.hamming_loss.html\n",
    "\n",
    "It calculates number of places where prediction and true label doesnt match and gives percentage of incorrect labels predicted.\n",
    "It  is the fraction of labels that are incorrectly predicted\n",
    "Example:-\n",
    "from sklearn.metrics import hamming_loss\n",
    "y_pred = [0,0,1,1]\n",
    "y_true = [0,0,0,0]\n",
    "hamming_loss(y_true, y_pred) \n",
    "\n",
    "Output: 0.5 -> 50% of labels are predicted incorrectly.\n"
   ]
  },
  {
   "cell_type": "code",
   "execution_count": 39,
   "metadata": {},
   "outputs": [
    {
     "name": "stdout",
     "output_type": "stream",
     "text": [
      "Accuracy : 0.07710038550192751\n",
      "Hamming loss  0.0020383051915259577\n",
      "Micro-average quality numbers\n",
      "Precision: 0.9034, Recall: 0.1278, F1-measure: 0.2239\n"
     ]
    },
    {
     "name": "stderr",
     "output_type": "stream",
     "text": [
      "/home/satishshah2660/anaconda3/lib/python3.5/site-packages/sklearn/metrics/classification.py:1437: UndefinedMetricWarning: Precision is ill-defined and being set to 0.0 in labels with no predicted samples.\n",
      "  'precision', 'predicted', average, warn_for)\n",
      "/home/satishshah2660/anaconda3/lib/python3.5/site-packages/sklearn/metrics/classification.py:1437: UndefinedMetricWarning: F-score is ill-defined and being set to 0.0 in labels with no predicted samples.\n",
      "  'precision', 'predicted', average, warn_for)\n",
      "/home/satishshah2660/anaconda3/lib/python3.5/site-packages/sklearn/metrics/classification.py:1437: UndefinedMetricWarning: Precision and F-score are ill-defined and being set to 0.0 in labels with no predicted samples.\n",
      "  'precision', 'predicted', average, warn_for)\n"
     ]
    },
    {
     "name": "stdout",
     "output_type": "stream",
     "text": [
      "Macro-average quality numbers\n",
      "Precision: 0.0866, Recall: 0.0102, F1-measure: 0.0160\n",
      "              precision    recall  f1-score   support\n",
      "\n",
      "           0       0.00      0.00      0.00       556\n",
      "           1       0.72      0.11      0.19     11242\n",
      "           2       0.00      0.00      0.00       252\n",
      "           3       0.00      0.00      0.00       552\n",
      "           4       0.00      0.00      0.00       281\n",
      "           5       0.00      0.00      0.00        82\n",
      "           6       0.00      0.00      0.00       222\n",
      "           7       0.00      0.00      0.00       246\n",
      "           8       0.00      0.00      0.00        87\n",
      "           9       0.00      0.00      0.00        99\n",
      "          10       0.00      0.00      0.00       438\n",
      "          11       0.00      0.00      0.00       108\n",
      "          12       1.00      0.00      0.01      1531\n",
      "          13       0.00      0.00      0.00       229\n",
      "          14       0.00      0.00      0.00       451\n",
      "          15       0.00      0.00      0.00       154\n",
      "          16       0.00      0.00      0.00        77\n",
      "          17       0.00      0.00      0.00        86\n",
      "          18       0.00      0.00      0.00       395\n",
      "          19       0.00      0.00      0.00       121\n",
      "          20       0.00      0.00      0.00        89\n",
      "          21       0.00      0.00      0.00       249\n",
      "          22       0.73      0.12      0.20      2367\n",
      "          23       0.00      0.00      0.00        72\n",
      "          24       0.62      0.01      0.02      1531\n",
      "          25       0.00      0.00      0.00        86\n",
      "          26       0.00      0.00      0.00        94\n",
      "          27       0.00      0.00      0.00       108\n",
      "          28       0.00      0.00      0.00        81\n",
      "          29       0.00      0.00      0.00        71\n",
      "          30       0.99      0.45      0.62      4666\n",
      "          31       0.00      0.00      0.00       151\n",
      "          32       0.00      0.00      0.00        98\n",
      "          33       0.00      0.00      0.00       101\n",
      "          34       0.00      0.00      0.00        86\n",
      "          35       0.00      0.00      0.00       375\n",
      "          36       0.00      0.00      0.00       163\n",
      "          37       0.00      0.00      0.00       353\n",
      "          38       0.00      0.00      0.00        78\n",
      "          39       1.00      0.00      0.00      1032\n",
      "          40       0.92      0.13      0.23      1660\n",
      "          41       0.00      0.00      0.00       135\n",
      "          42       0.00      0.00      0.00       598\n",
      "          43       0.00      0.00      0.00        94\n",
      "          44       0.00      0.00      0.00        87\n",
      "          45       0.00      0.00      0.00        69\n",
      "          46       0.00      0.00      0.00       100\n",
      "          47       0.00      0.00      0.00       178\n",
      "          48       0.00      0.00      0.00       515\n",
      "          49       0.00      0.00      0.00       116\n",
      "          50       0.00      0.00      0.00        74\n",
      "          51       0.00      0.00      0.00       113\n",
      "          52       0.60      0.10      0.17      1786\n",
      "          53       0.00      0.00      0.00        96\n",
      "          54       0.00      0.00      0.00        81\n",
      "          55       0.00      0.00      0.00       116\n",
      "          56       0.00      0.00      0.00       394\n",
      "          57       0.86      0.23      0.36      9974\n",
      "          58       0.00      0.00      0.00       118\n",
      "          59       0.00      0.00      0.00       113\n",
      "          60       0.00      0.00      0.00       289\n",
      "          61       0.00      0.00      0.00       179\n",
      "          62       0.83      0.31      0.45      3683\n",
      "          63       1.00      0.00      0.00       741\n",
      "          64       0.00      0.00      0.00        87\n",
      "          65       0.00      0.00      0.00       214\n",
      "          66       0.00      0.00      0.00       372\n",
      "          67       0.00      0.00      0.00        95\n",
      "          68       0.00      0.00      0.00       294\n",
      "          69       0.00      0.00      0.00       231\n",
      "          70       0.00      0.00      0.00       434\n",
      "          71       0.00      0.00      0.00       613\n",
      "          72       0.00      0.00      0.00       114\n",
      "          73       0.00      0.00      0.00       227\n",
      "          74       0.00      0.00      0.00        99\n",
      "          75       0.00      0.00      0.00       203\n",
      "          76       0.00      0.00      0.00       127\n",
      "          77       0.00      0.00      0.00       118\n",
      "          78       0.00      0.00      0.00       148\n",
      "          79       0.00      0.00      0.00        77\n",
      "          80       0.00      0.00      0.00       133\n",
      "          81       1.00      0.01      0.02       771\n",
      "          82       0.00      0.00      0.00       367\n",
      "          83       0.00      0.00      0.00       187\n",
      "          84       0.00      0.00      0.00       426\n",
      "          85       0.00      0.00      0.00       121\n",
      "          86       0.00      0.00      0.00       138\n",
      "          87       0.00      0.00      0.00        79\n",
      "          88       0.00      0.00      0.00       349\n",
      "          89       0.00      0.00      0.00        71\n",
      "          90       0.00      0.00      0.00        97\n",
      "          91       0.00      0.00      0.00       103\n",
      "          92       0.00      0.00      0.00       422\n",
      "          93       0.00      0.00      0.00       138\n",
      "          94       0.00      0.00      0.00       572\n",
      "          95       0.00      0.00      0.00        70\n",
      "          96       0.00      0.00      0.00       244\n",
      "          97       0.00      0.00      0.00       117\n",
      "          98       0.00      0.00      0.00       194\n",
      "          99       0.00      0.00      0.00       307\n",
      "         100       0.00      0.00      0.00        79\n",
      "         101       0.89      0.15      0.26      4331\n",
      "         102       0.91      0.24      0.38     24021\n",
      "         103       0.00      0.00      0.00       105\n",
      "         104       0.00      0.00      0.00       255\n",
      "         105       0.00      0.00      0.00       221\n",
      "         106       0.93      0.28      0.43      9455\n",
      "         107       0.00      0.00      0.00       149\n",
      "         108       0.00      0.00      0.00       113\n",
      "         109       0.00      0.00      0.00       128\n",
      "         110       0.00      0.00      0.00       661\n",
      "         111       1.00      0.00      0.01       499\n",
      "         112       0.00      0.00      0.00       151\n",
      "         113       0.00      0.00      0.00       189\n",
      "         114       0.00      0.00      0.00        86\n",
      "         115       0.00      0.00      0.00       189\n",
      "         116       0.00      0.00      0.00       300\n",
      "         117       0.00      0.00      0.00       112\n",
      "         118       0.00      0.00      0.00       123\n",
      "         119       0.00      0.00      0.00       132\n",
      "         120       0.00      0.00      0.00        99\n",
      "         121       0.00      0.00      0.00        71\n",
      "         122       0.00      0.00      0.00       262\n",
      "         123       0.00      0.00      0.00       184\n",
      "         124       0.00      0.00      0.00       216\n",
      "         125       0.00      0.00      0.00       755\n",
      "         126       0.00      0.00      0.00        82\n",
      "         127       0.00      0.00      0.00        70\n",
      "         128       0.00      0.00      0.00        91\n",
      "         129       0.00      0.00      0.00       112\n",
      "         130       0.00      0.00      0.00       132\n",
      "         131       0.00      0.00      0.00       109\n",
      "         132       0.00      0.00      0.00       100\n",
      "         133       0.00      0.00      0.00       219\n",
      "         134       0.00      0.00      0.00        71\n",
      "         135       0.00      0.00      0.00        99\n",
      "         136       0.00      0.00      0.00        74\n",
      "         137       0.00      0.00      0.00       146\n",
      "         138       0.00      0.00      0.00        71\n",
      "         139       0.00      0.00      0.00       123\n",
      "         140       1.00      0.00      0.00      1526\n",
      "         141       0.00      0.00      0.00      1516\n",
      "         142       0.00      0.00      0.00       138\n",
      "         143       0.00      0.00      0.00       150\n",
      "         144       1.00      0.01      0.02       455\n",
      "         145       0.00      0.00      0.00       370\n",
      "         146       0.00      0.00      0.00       307\n",
      "         147       0.00      0.00      0.00       438\n",
      "         148       0.00      0.00      0.00       239\n",
      "         149       0.00      0.00      0.00       469\n",
      "         150       0.00      0.00      0.00       265\n",
      "         151       0.00      0.00      0.00       113\n",
      "         152       0.00      0.00      0.00       436\n",
      "         153       0.00      0.00      0.00       136\n",
      "         154       0.00      0.00      0.00        83\n",
      "         155       0.00      0.00      0.00       265\n",
      "         156       0.00      0.00      0.00        88\n",
      "         157       0.00      0.00      0.00       184\n",
      "         158       0.00      0.00      0.00       226\n",
      "         159       0.00      0.00      0.00       413\n",
      "         160       0.00      0.00      0.00       114\n",
      "         161       0.00      0.00      0.00       150\n",
      "         162       0.00      0.00      0.00       195\n",
      "         163       0.00      0.00      0.00        84\n",
      "         164       0.00      0.00      0.00       329\n",
      "         165       0.00      0.00      0.00       100\n",
      "         166       0.00      0.00      0.00       419\n",
      "         167       0.00      0.00      0.00       141\n",
      "         168       0.00      0.00      0.00        95\n",
      "         169       0.00      0.00      0.00       198\n",
      "         170       0.00      0.00      0.00        73\n",
      "         171       0.00      0.00      0.00       184\n",
      "         172       0.00      0.00      0.00       100\n",
      "         173       0.00      0.00      0.00       270\n",
      "         174       0.00      0.00      0.00        73\n",
      "         175       0.00      0.00      0.00       204\n",
      "         176       0.00      0.00      0.00        85\n",
      "         177       0.00      0.00      0.00       183\n",
      "         178       0.00      0.00      0.00       152\n",
      "         179       0.00      0.00      0.00       373\n",
      "         180       0.00      0.00      0.00       412\n",
      "         181       0.00      0.00      0.00       133\n",
      "         182       0.00      0.00      0.00       134\n",
      "         183       0.00      0.00      0.00       461\n",
      "         184       0.00      0.00      0.00        96\n",
      "         185       0.00      0.00      0.00        92\n",
      "         186       0.00      0.00      0.00       157\n",
      "         187       0.00      0.00      0.00       157\n",
      "         188       0.00      0.00      0.00       136\n",
      "         189       0.00      0.00      0.00       258\n",
      "         190       0.00      0.00      0.00        95\n",
      "         191       0.00      0.00      0.00       173\n",
      "         192       0.00      0.00      0.00       118\n",
      "         193       0.00      0.00      0.00       187\n",
      "         194       0.00      0.00      0.00       262\n",
      "         195       0.93      0.21      0.35      4299\n",
      "         196       0.00      0.00      0.00        90\n",
      "         197       0.00      0.00      0.00       180\n",
      "         198       0.00      0.00      0.00       297\n",
      "         199       0.00      0.00      0.00        84\n",
      "         200       0.00      0.00      0.00        75\n",
      "         201       0.00      0.00      0.00       272\n",
      "         202       0.00      0.00      0.00       107\n",
      "         203       0.00      0.00      0.00       126\n",
      "         204       0.00      0.00      0.00        96\n",
      "         205       0.00      0.00      0.00       116\n",
      "         206       0.00      0.00      0.00        82\n",
      "         207       0.00      0.00      0.00       702\n",
      "         208       0.00      0.00      0.00        82\n",
      "         209       0.00      0.00      0.00       488\n",
      "         210       0.50      0.01      0.02      2614\n",
      "         211       0.00      0.00      0.00        83\n",
      "         212       0.00      0.00      0.00       762\n",
      "         213       0.00      0.00      0.00       328\n",
      "         214       0.00      0.00      0.00       297\n",
      "         215       0.00      0.00      0.00       188\n",
      "         216       0.00      0.00      0.00        72\n",
      "         217       0.00      0.00      0.00       191\n",
      "         218       0.00      0.00      0.00        84\n",
      "         219       0.00      0.00      0.00       510\n",
      "         220       0.00      0.00      0.00       116\n",
      "         221       0.00      0.00      0.00       707\n",
      "         222       0.00      0.00      0.00       118\n",
      "         223       0.00      0.00      0.00      1129\n",
      "         224       0.00      0.00      0.00        83\n",
      "         225       0.00      0.00      0.00       279\n",
      "         226       0.99      0.08      0.15      1334\n",
      "         227       0.00      0.00      0.00       103\n",
      "         228       0.00      0.00      0.00        89\n",
      "         229       0.00      0.00      0.00       161\n",
      "         230       0.00      0.00      0.00       261\n",
      "         231       0.00      0.00      0.00       527\n",
      "         232       0.91      0.01      0.02       905\n",
      "         233       0.00      0.00      0.00        73\n",
      "         234       0.00      0.00      0.00        95\n",
      "         235       0.00      0.00      0.00        79\n",
      "         236       0.00      0.00      0.00       167\n",
      "         237       0.00      0.00      0.00       329\n",
      "         238       0.00      0.00      0.00       133\n",
      "         239       0.00      0.00      0.00       246\n",
      "         240       0.00      0.00      0.00       130\n",
      "         241       0.97      0.38      0.55      2310\n",
      "         242       0.00      0.00      0.00       178\n",
      "         243       0.00      0.00      0.00       178\n",
      "         244       0.00      0.00      0.00       361\n",
      "         245       0.00      0.00      0.00       173\n",
      "         246       0.00      0.00      0.00       505\n",
      "         247       0.00      0.00      0.00       221\n",
      "         248       0.00      0.00      0.00       163\n",
      "         249       0.00      0.00      0.00       147\n",
      "         250       0.00      0.00      0.00       172\n",
      "         251       0.00      0.00      0.00       601\n",
      "         252       0.00      0.00      0.00       115\n",
      "         253       0.00      0.00      0.00       162\n",
      "         254       0.00      0.00      0.00        85\n",
      "         255       0.00      0.00      0.00        82\n",
      "         256       0.00      0.00      0.00       235\n",
      "         257       0.00      0.00      0.00       198\n",
      "         258       0.00      0.00      0.00       140\n",
      "         259       0.00      0.00      0.00       278\n",
      "         260       1.00      0.03      0.05       700\n",
      "         261       0.00      0.00      0.00       284\n",
      "         262       0.00      0.00      0.00        83\n",
      "         263       0.00      0.00      0.00        76\n",
      "         264       0.00      0.00      0.00       380\n",
      "         265       0.00      0.00      0.00        73\n",
      "         266       0.00      0.00      0.00        93\n",
      "         267       0.87      0.13      0.23      1492\n",
      "         268       0.00      0.00      0.00       180\n",
      "         269       0.00      0.00      0.00        70\n",
      "         270       0.00      0.00      0.00       179\n",
      "         271       0.00      0.00      0.00        79\n",
      "         272       0.00      0.00      0.00       100\n",
      "         273       0.00      0.00      0.00       103\n",
      "         274       1.00      0.00      0.00       445\n",
      "         275       0.78      0.01      0.02       770\n",
      "         276       0.00      0.00      0.00        74\n",
      "         277       0.00      0.00      0.00       195\n",
      "         278       0.00      0.00      0.00       374\n",
      "         279       0.00      0.00      0.00       443\n",
      "         280       0.00      0.00      0.00        84\n",
      "         281       0.00      0.00      0.00        84\n",
      "         282       0.91      0.07      0.13       831\n",
      "         283       0.00      0.00      0.00       193\n",
      "         284       0.00      0.00      0.00       288\n",
      "         285       0.00      0.00      0.00        88\n",
      "         286       0.00      0.00      0.00       197\n",
      "         287       0.00      0.00      0.00       269\n",
      "         288       0.00      0.00      0.00       166\n",
      "         289       0.00      0.00      0.00        76\n",
      "         290       0.00      0.00      0.00       247\n",
      "         291       0.14      0.00      0.00       853\n",
      "         292       0.86      0.07      0.13      1042\n",
      "         293       0.00      0.00      0.00        82\n",
      "         294       0.17      0.00      0.00       716\n",
      "         295       0.00      0.00      0.00       345\n",
      "         296       0.00      0.00      0.00        79\n",
      "         297       0.00      0.00      0.00        77\n",
      "         298       0.00      0.00      0.00        78\n",
      "         299       0.00      0.00      0.00       115\n",
      "         300       0.00      0.00      0.00        70\n",
      "         301       0.00      0.00      0.00        72\n",
      "         302       0.00      0.00      0.00       131\n",
      "         303       0.00      0.00      0.00       229\n",
      "         304       0.00      0.00      0.00       305\n",
      "         305       0.98      0.08      0.15       746\n",
      "         306       0.00      0.00      0.00        86\n",
      "         307       0.00      0.00      0.00       101\n",
      "         308       0.11      0.00      0.00       984\n",
      "         309       0.00      0.00      0.00       445\n",
      "         310       0.00      0.00      0.00       307\n",
      "         311       0.00      0.00      0.00       218\n",
      "         312       0.00      0.00      0.00       186\n",
      "         313       0.00      0.00      0.00        70\n",
      "         314       0.00      0.00      0.00       119\n",
      "         315       0.00      0.00      0.00       111\n",
      "         316       0.75      0.00      0.01       673\n",
      "         317       0.00      0.00      0.00       135\n",
      "         318       0.86      0.06      0.11      1638\n",
      "         319       0.00      0.00      0.00        69\n",
      "         320       0.00      0.00      0.00       269\n",
      "         321       0.00      0.00      0.00       133\n",
      "         322       0.00      0.00      0.00        70\n",
      "         323       0.00      0.00      0.00       228\n",
      "         324       0.00      0.00      0.00       284\n",
      "         325       0.00      0.00      0.00       141\n",
      "         326       0.00      0.00      0.00       244\n",
      "         327       0.00      0.00      0.00       142\n",
      "         328       0.00      0.00      0.00       156\n",
      "         329       0.00      0.00      0.00       149\n",
      "         330       0.00      0.00      0.00       110\n",
      "         331       0.00      0.00      0.00       259\n",
      "         332       0.08      0.00      0.00      1095\n",
      "         333       0.00      0.00      0.00       136\n",
      "         334       0.00      0.00      0.00       348\n",
      "         335       0.00      0.00      0.00       213\n",
      "         336       0.00      0.00      0.00       205\n",
      "         337       0.11      0.00      0.00       680\n",
      "         338       0.00      0.00      0.00       256\n",
      "         339       0.00      0.00      0.00       135\n",
      "         340       0.00      0.00      0.00       231\n",
      "         341       0.00      0.00      0.00       480\n",
      "         342       0.00      0.00      0.00        83\n",
      "         343       0.00      0.00      0.00       142\n",
      "         344       0.00      0.00      0.00       130\n",
      "         345       0.86      0.06      0.12       802\n",
      "         346       0.00      0.00      0.00       124\n",
      "         347       0.00      0.00      0.00       186\n",
      "         348       0.00      0.00      0.00       137\n",
      "         349       0.00      0.00      0.00        75\n",
      "         350       0.98      0.10      0.18       997\n",
      "         351       0.00      0.00      0.00        73\n",
      "         352       0.00      0.00      0.00       101\n",
      "         353       0.00      0.00      0.00       122\n",
      "         354       0.00      0.00      0.00        88\n",
      "         355       0.00      0.00      0.00       107\n",
      "         356       0.00      0.00      0.00       111\n",
      "         357       1.00      0.04      0.08       802\n",
      "         358       0.00      0.00      0.00       296\n",
      "         359       0.00      0.00      0.00       106\n",
      "         360       0.86      0.01      0.02       500\n",
      "         361       0.00      0.00      0.00        84\n",
      "         362       0.00      0.00      0.00       110\n",
      "         363       1.00      0.00      0.01       419\n",
      "         364       0.00      0.00      0.00       216\n",
      "         365       0.00      0.00      0.00       431\n",
      "         366       0.00      0.00      0.00        77\n",
      "         367       0.00      0.00      0.00       112\n",
      "         368       0.00      0.00      0.00       131\n",
      "         369       1.00      0.00      0.00       431\n",
      "         370       0.00      0.00      0.00       271\n",
      "         371       0.00      0.00      0.00       155\n",
      "         372       0.00      0.00      0.00       181\n",
      "         373       0.00      0.00      0.00        76\n",
      "         374       1.00      0.00      0.00       465\n",
      "         375       0.00      0.00      0.00        97\n",
      "         376       0.00      0.00      0.00        70\n",
      "         377       0.00      0.00      0.00       100\n",
      "         378       0.00      0.00      0.00       348\n",
      "         379       0.00      0.00      0.00        85\n",
      "         380       0.00      0.00      0.00        85\n",
      "         381       0.00      0.00      0.00       358\n",
      "         382       0.00      0.00      0.00       223\n",
      "         383       0.00      0.00      0.00        83\n",
      "         384       0.00      0.00      0.00        81\n",
      "         385       0.00      0.00      0.00       102\n",
      "         386       0.98      0.05      0.10       990\n",
      "         387       0.00      0.00      0.00       102\n",
      "         388       0.00      0.00      0.00       118\n",
      "         389       0.00      0.00      0.00        94\n",
      "         390       0.00      0.00      0.00        88\n",
      "         391       0.69      0.10      0.18      6151\n",
      "         392       0.00      0.00      0.00        70\n",
      "         393       0.00      0.00      0.00       198\n",
      "         394       0.00      0.00      0.00       831\n",
      "         395       0.00      0.00      0.00       151\n",
      "         396       0.00      0.00      0.00        74\n",
      "         397       0.00      0.00      0.00       215\n",
      "         398       0.00      0.00      0.00       163\n",
      "         399       0.00      0.00      0.00       134\n",
      "         400       0.00      0.00      0.00       260\n",
      "         401       0.00      0.00      0.00       145\n",
      "         402       0.00      0.00      0.00       339\n",
      "         403       0.00      0.00      0.00        93\n",
      "         404       0.00      0.00      0.00       161\n",
      "         405       0.00      0.00      0.00       343\n",
      "         406       0.50      0.00      0.00       700\n",
      "         407       0.00      0.00      0.00       206\n",
      "         408       0.00      0.00      0.00       354\n",
      "         409       0.38      0.02      0.03      1236\n",
      "         410       0.00      0.00      0.00       100\n",
      "         411       0.00      0.00      0.00       337\n",
      "         412       0.00      0.00      0.00        84\n",
      "         413       0.00      0.00      0.00       233\n",
      "         414       0.00      0.00      0.00       191\n",
      "         415       0.00      0.00      0.00       356\n",
      "         416       0.00      0.00      0.00       557\n",
      "         417       0.00      0.00      0.00       161\n",
      "         418       0.00      0.00      0.00        70\n",
      "         419       0.00      0.00      0.00       233\n",
      "         420       0.00      0.00      0.00       192\n",
      "         421       0.00      0.00      0.00       577\n",
      "         422       0.00      0.00      0.00       147\n",
      "         423       0.00      0.00      0.00        86\n",
      "         424       0.00      0.00      0.00       110\n",
      "         425       0.00      0.00      0.00        97\n",
      "         426       0.00      0.00      0.00       388\n",
      "         427       0.00      0.00      0.00       195\n",
      "         428       0.00      0.00      0.00       285\n",
      "         429       0.64      0.01      0.03       979\n",
      "         430       0.00      0.00      0.00       231\n",
      "         431       0.00      0.00      0.00       221\n",
      "         432       0.00      0.00      0.00       234\n",
      "         433       0.00      0.00      0.00       268\n",
      "         434       0.00      0.00      0.00       138\n",
      "         435       0.00      0.00      0.00       147\n",
      "         436       0.00      0.00      0.00        79\n",
      "         437       0.00      0.00      0.00       728\n",
      "         438       0.00      0.00      0.00        98\n",
      "         439       0.00      0.00      0.00       332\n",
      "         440       0.00      0.00      0.00        93\n",
      "         441       0.00      0.00      0.00       630\n",
      "         442       0.00      0.00      0.00        87\n",
      "         443       0.94      0.33      0.48      9122\n",
      "         444       0.00      0.00      0.00       360\n",
      "         445       0.00      0.00      0.00       102\n",
      "         446       0.00      0.00      0.00        87\n",
      "         447       0.00      0.00      0.00       185\n",
      "         448       0.00      0.00      0.00       470\n",
      "         449       0.00      0.00      0.00       207\n",
      "         450       0.00      0.00      0.00        80\n",
      "         451       0.94      0.34      0.50     15157\n",
      "         452       0.00      0.00      0.00       278\n",
      "         453       0.00      0.00      0.00        99\n",
      "         454       0.91      0.32      0.48     11823\n",
      "         455       0.00      0.00      0.00       158\n",
      "         456       0.00      0.00      0.00        69\n",
      "         457       0.00      0.00      0.00       118\n",
      "         458       0.00      0.00      0.00       241\n",
      "         459       0.00      0.00      0.00       347\n",
      "         460       0.00      0.00      0.00        77\n",
      "         461       0.00      0.00      0.00        93\n",
      "         462       0.00      0.00      0.00       374\n",
      "         463       0.00      0.00      0.00       187\n",
      "         464       0.00      0.00      0.00       433\n",
      "         465       0.00      0.00      0.00        82\n",
      "         466       0.00      0.00      0.00       181\n",
      "         467       0.96      0.57      0.72      9947\n",
      "         468       0.00      0.00      0.00        73\n",
      "         469       0.00      0.00      0.00       351\n",
      "         470       0.00      0.00      0.00       247\n",
      "         471       0.00      0.00      0.00       650\n",
      "         472       0.00      0.00      0.00       105\n",
      "         473       0.00      0.00      0.00        74\n",
      "         474       0.00      0.00      0.00       494\n",
      "         475       0.00      0.00      0.00        80\n",
      "         476       0.86      0.10      0.17      1089\n",
      "         477       0.00      0.00      0.00       640\n",
      "         478       0.00      0.00      0.00        94\n",
      "         479       0.00      0.00      0.00        89\n",
      "         480       0.00      0.00      0.00       212\n",
      "         481       0.00      0.00      0.00       168\n",
      "         482       0.00      0.00      0.00        92\n",
      "         483       0.00      0.00      0.00        99\n",
      "         484       0.00      0.00      0.00       182\n",
      "         485       0.00      0.00      0.00       134\n",
      "         486       0.00      0.00      0.00        86\n",
      "         487       0.00      0.00      0.00        89\n",
      "         488       0.00      0.00      0.00       285\n",
      "         489       0.00      0.00      0.00       739\n",
      "         490       0.00      0.00      0.00        84\n",
      "         491       0.00      0.00      0.00        72\n",
      "         492       0.00      0.00      0.00       287\n",
      "         493       0.00      0.00      0.00       397\n",
      "         494       0.00      0.00      0.00        79\n",
      "         495       0.00      0.00      0.00       144\n",
      "         496       0.00      0.00      0.00       125\n",
      "         497       0.00      0.00      0.00       112\n",
      "         498       0.00      0.00      0.00       250\n",
      "         499       0.77      0.14      0.23      1718\n",
      "         500       0.00      0.00      0.00       204\n",
      "         501       0.00      0.00      0.00        72\n",
      "         502       0.82      0.03      0.06      1048\n",
      "         503       0.00      0.00      0.00       181\n",
      "         504       0.88      0.03      0.06      2051\n",
      "         505       0.00      0.00      0.00       110\n",
      "         506       0.00      0.00      0.00       173\n",
      "         507       0.00      0.00      0.00       730\n",
      "         508       0.00      0.00      0.00       232\n",
      "         509       0.00      0.00      0.00       447\n",
      "         510       0.00      0.00      0.00       130\n",
      "         511       0.00      0.00      0.00       302\n",
      "         512       0.00      0.00      0.00       201\n",
      "         513       0.00      0.00      0.00       133\n",
      "         514       0.00      0.00      0.00       126\n",
      "         515       0.00      0.00      0.00       534\n",
      "         516       0.00      0.00      0.00        80\n",
      "         517       0.00      0.00      0.00       217\n",
      "         518       0.00      0.00      0.00       382\n",
      "         519       0.00      0.00      0.00       134\n",
      "         520       0.00      0.00      0.00       194\n",
      "         521       0.00      0.00      0.00        76\n",
      "         522       0.00      0.00      0.00        76\n",
      "         523       1.00      0.02      0.03      1355\n",
      "         524       0.00      0.00      0.00       172\n",
      "         525       0.00      0.00      0.00       238\n",
      "         526       0.00      0.00      0.00       246\n",
      "         527       0.00      0.00      0.00        99\n",
      "         528       0.00      0.00      0.00       115\n",
      "         529       0.00      0.00      0.00       165\n",
      "         530       0.00      0.00      0.00        69\n",
      "         531       0.00      0.00      0.00       142\n",
      "         532       0.00      0.00      0.00        72\n",
      "         533       0.00      0.00      0.00       155\n",
      "         534       0.00      0.00      0.00       660\n",
      "         535       0.00      0.00      0.00       454\n",
      "         536       0.00      0.00      0.00        78\n",
      "         537       0.00      0.00      0.00       171\n",
      "         538       0.00      0.00      0.00       102\n",
      "         539       1.00      0.00      0.01       545\n",
      "         540       0.00      0.00      0.00        76\n",
      "         541       0.00      0.00      0.00       135\n",
      "         542       0.00      0.00      0.00       546\n",
      "         543       0.00      0.00      0.00       339\n",
      "         544       0.00      0.00      0.00       626\n",
      "         545       0.00      0.00      0.00       206\n",
      "         546       0.00      0.00      0.00       316\n",
      "         547       0.00      0.00      0.00       230\n",
      "         548       0.00      0.00      0.00        70\n",
      "         549       0.00      0.00      0.00        99\n",
      "         550       0.00      0.00      0.00       112\n",
      "         551       0.00      0.00      0.00       279\n",
      "         552       0.00      0.00      0.00       367\n",
      "         553       0.00      0.00      0.00       183\n",
      "         554       0.00      0.00      0.00        70\n",
      "         555       0.00      0.00      0.00       239\n",
      "         556       0.00      0.00      0.00       193\n",
      "         557       0.00      0.00      0.00       488\n",
      "         558       0.00      0.00      0.00       125\n",
      "         559       0.00      0.00      0.00       218\n",
      "         560       0.00      0.00      0.00       519\n",
      "         561       0.00      0.00      0.00       231\n",
      "         562       0.00      0.00      0.00       173\n",
      "         563       0.00      0.00      0.00        86\n",
      "         564       0.00      0.00      0.00       222\n",
      "         565       0.00      0.00      0.00       122\n",
      "         566       0.00      0.00      0.00        90\n",
      "         567       0.00      0.00      0.00       148\n",
      "         568       0.00      0.00      0.00       110\n",
      "         569       0.00      0.00      0.00        97\n",
      "         570       0.00      0.00      0.00       739\n",
      "         571       0.00      0.00      0.00        90\n",
      "         572       0.00      0.00      0.00       133\n",
      "         573       0.00      0.00      0.00       263\n",
      "         574       0.00      0.00      0.00       335\n",
      "         575       0.00      0.00      0.00        74\n",
      "         576       0.00      0.00      0.00        78\n",
      "         577       0.00      0.00      0.00       201\n",
      "         578       0.75      0.06      0.11      1876\n",
      "         579       0.00      0.00      0.00       373\n",
      "         580       0.00      0.00      0.00        78\n",
      "         581       0.96      0.44      0.60      5893\n",
      "         582       0.00      0.00      0.00        78\n",
      "         583       0.00      0.00      0.00       259\n",
      "         584       0.00      0.00      0.00       182\n",
      "         585       0.00      0.00      0.00        94\n",
      "         586       0.00      0.00      0.00       139\n",
      "         587       0.00      0.00      0.00       116\n",
      "         588       0.00      0.00      0.00       364\n",
      "         589       0.00      0.00      0.00       179\n",
      "         590       0.00      0.00      0.00       584\n",
      "         591       0.00      0.00      0.00        88\n",
      "         592       0.00      0.00      0.00        92\n",
      "         593       0.93      0.13      0.23      1069\n",
      "         594       0.00      0.00      0.00       147\n",
      "         595       0.00      0.00      0.00       101\n",
      "         596       0.00      0.00      0.00        77\n",
      "         597       0.00      0.00      0.00       105\n",
      "         598       0.00      0.00      0.00        97\n",
      "         599       0.00      0.00      0.00        89\n",
      "         600       0.00      0.00      0.00        98\n",
      "         601       0.00      0.00      0.00       162\n",
      "         602       0.00      0.00      0.00       222\n",
      "         603       0.00      0.00      0.00       119\n",
      "         604       0.00      0.00      0.00       125\n",
      "         605       0.00      0.00      0.00       189\n",
      "         606       0.00      0.00      0.00       156\n",
      "         607       0.00      0.00      0.00        74\n",
      "         608       0.00      0.00      0.00       440\n",
      "         609       0.86      0.03      0.06      4467\n",
      "         610       0.00      0.00      0.00       147\n",
      "         611       0.00      0.00      0.00        82\n",
      "         612       0.00      0.00      0.00        98\n",
      "         613       0.00      0.00      0.00      1197\n",
      "         614       0.00      0.00      0.00       283\n",
      "         615       0.00      0.00      0.00       127\n",
      "         616       0.00      0.00      0.00       453\n",
      "         617       0.00      0.00      0.00       221\n",
      "         618       0.00      0.00      0.00       163\n",
      "         619       0.00      0.00      0.00        91\n",
      "         620       0.00      0.00      0.00       171\n",
      "         621       0.00      0.00      0.00       126\n",
      "         622       0.00      0.00      0.00       150\n",
      "         623       0.00      0.00      0.00       671\n",
      "         624       0.88      0.09      0.16      1388\n",
      "         625       0.00      0.00      0.00       167\n",
      "         626       0.00      0.00      0.00       555\n",
      "         627       0.00      0.00      0.00        77\n",
      "         628       0.00      0.00      0.00        95\n",
      "         629       0.00      0.00      0.00       178\n",
      "         630       0.00      0.00      0.00        94\n",
      "         631       0.00      0.00      0.00       112\n",
      "         632       0.00      0.00      0.00       145\n",
      "         633       0.00      0.00      0.00        69\n",
      "         634       0.00      0.00      0.00       155\n",
      "         635       0.00      0.00      0.00       290\n",
      "         636       0.00      0.00      0.00       831\n",
      "         637       0.00      0.00      0.00        70\n",
      "         638       0.00      0.00      0.00       190\n",
      "         639       0.00      0.00      0.00       234\n",
      "         640       0.00      0.00      0.00        70\n",
      "         641       0.00      0.00      0.00       109\n",
      "         642       0.00      0.00      0.00       483\n",
      "         643       0.00      0.00      0.00       108\n",
      "         644       0.00      0.00      0.00       103\n",
      "         645       0.00      0.00      0.00        69\n",
      "         646       0.33      0.00      0.01      1914\n",
      "         647       1.00      0.17      0.29      1535\n",
      "         648       0.00      0.00      0.00       247\n",
      "         649       0.00      0.00      0.00       140\n",
      "         650       0.97      0.43      0.60     13632\n",
      "         651       0.00      0.00      0.00        79\n",
      "         652       0.00      0.00      0.00        72\n",
      "         653       0.00      0.00      0.00       115\n",
      "         654       0.00      0.00      0.00       102\n",
      "         655       0.00      0.00      0.00        75\n",
      "         656       0.00      0.00      0.00        92\n",
      "         657       0.00      0.00      0.00       263\n",
      "         658       0.00      0.00      0.00       421\n",
      "         659       0.00      0.00      0.00       123\n",
      "         660       0.00      0.00      0.00       508\n",
      "         661       0.00      0.00      0.00       127\n",
      "         662       0.00      0.00      0.00       145\n",
      "         663       0.00      0.00      0.00        98\n",
      "         664       0.00      0.00      0.00       357\n",
      "         665       0.00      0.00      0.00       121\n",
      "         666       0.00      0.00      0.00       634\n",
      "         667       0.00      0.00      0.00       371\n",
      "         668       0.00      0.00      0.00        73\n",
      "         669       0.00      0.00      0.00       105\n",
      "         670       0.00      0.00      0.00        96\n",
      "         671       0.00      0.00      0.00       320\n",
      "         672       0.00      0.00      0.00        92\n",
      "         673       0.00      0.00      0.00       348\n",
      "         674       0.00      0.00      0.00       164\n",
      "         675       0.00      0.00      0.00       311\n",
      "         676       0.00      0.00      0.00        95\n",
      "         677       0.00      0.00      0.00        75\n",
      "         678       0.00      0.00      0.00       162\n",
      "         679       0.00      0.00      0.00        85\n",
      "         680       0.00      0.00      0.00       372\n",
      "         681       0.00      0.00      0.00        83\n",
      "         682       0.00      0.00      0.00        72\n",
      "         683       0.00      0.00      0.00       193\n",
      "         684       0.00      0.00      0.00       222\n",
      "         685       0.00      0.00      0.00       108\n",
      "         686       0.00      0.00      0.00        75\n",
      "         687       0.00      0.00      0.00        84\n",
      "         688       0.00      0.00      0.00        98\n",
      "         689       0.98      0.42      0.59      7796\n",
      "         690       0.00      0.00      0.00       107\n",
      "         691       1.00      0.01      0.02       787\n",
      "         692       0.00      0.00      0.00       222\n",
      "         693       0.00      0.00      0.00       102\n",
      "         694       0.00      0.00      0.00        97\n",
      "         695       0.00      0.00      0.00       113\n",
      "         696       0.00      0.00      0.00       509\n",
      "         697       0.00      0.00      0.00       114\n",
      "         698       0.00      0.00      0.00        88\n",
      "         699       0.00      0.00      0.00       298\n",
      "         700       0.00      0.00      0.00        70\n",
      "         701       0.00      0.00      0.00       285\n",
      "         702       0.00      0.00      0.00       382\n",
      "         703       0.00      0.00      0.00       265\n",
      "         704       0.00      0.00      0.00       304\n",
      "         705       0.00      0.00      0.00       584\n",
      "         706       0.00      0.00      0.00        87\n",
      "         707       0.94      0.29      0.44      2622\n",
      "         708       0.00      0.00      0.00       168\n",
      "         709       0.00      0.00      0.00        88\n",
      "         710       0.00      0.00      0.00       107\n",
      "         711       0.00      0.00      0.00        78\n",
      "         712       0.00      0.00      0.00       245\n",
      "         713       0.00      0.00      0.00        91\n",
      "         714       0.00      0.00      0.00        88\n",
      "         715       0.00      0.00      0.00       123\n",
      "         716       0.00      0.00      0.00       401\n",
      "         717       0.00      0.00      0.00       141\n",
      "         718       0.00      0.00      0.00        74\n",
      "         719       0.00      0.00      0.00        95\n",
      "         720       0.00      0.00      0.00       125\n",
      "         721       0.00      0.00      0.00       160\n",
      "         722       0.00      0.00      0.00       276\n",
      "         723       0.00      0.00      0.00       487\n",
      "         724       0.00      0.00      0.00        78\n",
      "         725       0.00      0.00      0.00        83\n",
      "         726       0.00      0.00      0.00       100\n",
      "         727       0.00      0.00      0.00        98\n",
      "         728       0.00      0.00      0.00       122\n",
      "         729       0.00      0.00      0.00       117\n",
      "         730       0.00      0.00      0.00       235\n",
      "         731       0.00      0.00      0.00       129\n",
      "         732       0.00      0.00      0.00       215\n",
      "         733       0.65      0.13      0.21      3009\n",
      "         734       0.96      0.39      0.55      4559\n",
      "         735       0.00      0.00      0.00       351\n",
      "         736       0.00      0.00      0.00        70\n",
      "         737       0.00      0.00      0.00       215\n",
      "         738       0.00      0.00      0.00       133\n",
      "         739       0.00      0.00      0.00       200\n",
      "         740       0.00      0.00      0.00        92\n",
      "         741       0.00      0.00      0.00       494\n",
      "         742       0.00      0.00      0.00        94\n",
      "         743       0.00      0.00      0.00        78\n",
      "         744       0.00      0.00      0.00       166\n",
      "         745       0.00      0.00      0.00       129\n",
      "         746       0.00      0.00      0.00       218\n",
      "         747       0.00      0.00      0.00       111\n",
      "         748       0.00      0.00      0.00       517\n",
      "         749       0.00      0.00      0.00       220\n",
      "         750       0.00      0.00      0.00        82\n",
      "         751       0.00      0.00      0.00       199\n",
      "         752       0.00      0.00      0.00        98\n",
      "         753       0.00      0.00      0.00       549\n",
      "         754       0.00      0.00      0.00        87\n",
      "         755       0.00      0.00      0.00      1333\n",
      "         756       0.00      0.00      0.00       154\n",
      "         757       0.00      0.00      0.00        95\n",
      "         758       0.00      0.00      0.00       391\n",
      "         759       0.00      0.00      0.00       181\n",
      "         760       0.00      0.00      0.00       218\n",
      "         761       0.00      0.00      0.00       133\n",
      "         762       0.00      0.00      0.00       567\n",
      "         763       0.00      0.00      0.00       297\n",
      "         764       0.00      0.00      0.00       429\n",
      "         765       0.67      0.01      0.02       650\n",
      "         766       0.00      0.00      0.00       122\n",
      "         767       0.00      0.00      0.00       114\n",
      "         768       0.00      0.00      0.00        93\n",
      "         769       0.85      0.09      0.16      1083\n",
      "         770       0.00      0.00      0.00       298\n",
      "         771       0.00      0.00      0.00       126\n",
      "         772       0.00      0.00      0.00       657\n",
      "         773       0.00      0.00      0.00        78\n",
      "         774       0.85      0.19      0.30      1697\n",
      "         775       0.00      0.00      0.00       238\n",
      "         776       0.00      0.00      0.00       285\n",
      "         777       0.00      0.00      0.00        84\n",
      "         778       0.00      0.00      0.00        75\n",
      "         779       0.00      0.00      0.00       160\n",
      "         780       0.00      0.00      0.00       107\n",
      "         781       0.00      0.00      0.00        72\n",
      "         782       0.00      0.00      0.00       111\n",
      "         783       0.00      0.00      0.00       155\n",
      "         784       0.00      0.00      0.00       367\n",
      "         785       1.00      0.00      0.01       721\n",
      "         786       0.00      0.00      0.00        84\n",
      "         787       0.00      0.00      0.00       130\n",
      "         788       0.00      0.00      0.00       573\n",
      "         789       0.00      0.00      0.00       139\n",
      "         790       0.96      0.03      0.05       851\n",
      "         791       0.00      0.00      0.00       266\n",
      "         792       0.00      0.00      0.00       109\n",
      "         793       0.64      0.14      0.24      6285\n",
      "         794       0.00      0.00      0.00        76\n",
      "         795       0.00      0.00      0.00        98\n",
      "         796       0.68      0.16      0.26      4325\n",
      "         797       0.00      0.00      0.00       190\n",
      "         798       0.33      0.00      0.01      1454\n",
      "         799       0.00      0.00      0.00       843\n",
      "         800       0.00      0.00      0.00       101\n",
      "         801       0.00      0.00      0.00        70\n",
      "         802       0.00      0.00      0.00        83\n",
      "         803       0.00      0.00      0.00       115\n",
      "         804       0.89      0.04      0.08       777\n",
      "         805       0.00      0.00      0.00       168\n",
      "         806       0.00      0.00      0.00       263\n",
      "         807       0.00      0.00      0.00       343\n",
      "         808       0.00      0.00      0.00        90\n",
      "         809       0.00      0.00      0.00        72\n",
      "         810       0.00      0.00      0.00       111\n",
      "         811       0.00      0.00      0.00       110\n",
      "         812       0.00      0.00      0.00       272\n",
      "         813       0.00      0.00      0.00       167\n",
      "         814       0.00      0.00      0.00       401\n",
      "         815       0.00      0.00      0.00        78\n",
      "         816       0.73      0.02      0.04       562\n",
      "         817       0.00      0.00      0.00       176\n",
      "         818       0.00      0.00      0.00       135\n",
      "         819       0.51      0.03      0.05      1800\n",
      "         820       0.00      0.00      0.00       214\n",
      "         821       0.00      0.00      0.00        79\n",
      "         822       0.00      0.00      0.00       121\n",
      "         823       0.00      0.00      0.00       157\n",
      "         824       0.00      0.00      0.00       133\n",
      "         825       0.00      0.00      0.00        79\n",
      "         826       0.00      0.00      0.00        74\n",
      "         827       0.00      0.00      0.00        86\n",
      "         828       0.00      0.00      0.00       193\n",
      "         829       0.00      0.00      0.00        89\n",
      "         830       0.00      0.00      0.00       119\n",
      "         831       0.95      0.05      0.09      1234\n",
      "         832       1.00      0.00      0.00       791\n",
      "         833       0.00      0.00      0.00       100\n",
      "         834       0.00      0.00      0.00       101\n",
      "         835       0.00      0.00      0.00        82\n",
      "         836       0.00      0.00      0.00       227\n",
      "         837       0.00      0.00      0.00       205\n",
      "         838       0.00      0.00      0.00       409\n",
      "         839       0.00      0.00      0.00        81\n",
      "         840       0.00      0.00      0.00        87\n",
      "         841       0.00      0.00      0.00        69\n",
      "         842       0.00      0.00      0.00       142\n",
      "         843       0.00      0.00      0.00       182\n",
      "         844       0.00      0.00      0.00       261\n",
      "         845       0.00      0.00      0.00       215\n",
      "         846       0.00      0.00      0.00        75\n",
      "         847       0.00      0.00      0.00       114\n",
      "         848       0.75      0.01      0.02       752\n",
      "         849       0.00      0.00      0.00       113\n",
      "         850       0.00      0.00      0.00       112\n",
      "         851       0.00      0.00      0.00       618\n",
      "         852       0.00      0.00      0.00       369\n",
      "         853       0.00      0.00      0.00        72\n",
      "         854       0.00      0.00      0.00        77\n",
      "         855       0.00      0.00      0.00       107\n",
      "         856       0.00      0.00      0.00       239\n",
      "         857       0.00      0.00      0.00       367\n",
      "         858       0.00      0.00      0.00       125\n",
      "         859       0.00      0.00      0.00        74\n",
      "         860       0.00      0.00      0.00       138\n",
      "         861       0.00      0.00      0.00       272\n",
      "         862       0.00      0.00      0.00       153\n",
      "         863       0.00      0.00      0.00       195\n",
      "         864       0.00      0.00      0.00       112\n",
      "         865       0.00      0.00      0.00       155\n",
      "         866       0.00      0.00      0.00       105\n",
      "         867       0.00      0.00      0.00        78\n",
      "         868       1.00      0.00      0.00       483\n",
      "         869       0.00      0.00      0.00        99\n",
      "         870       0.00      0.00      0.00       212\n",
      "         871       0.00      0.00      0.00       296\n",
      "         872       0.00      0.00      0.00        73\n",
      "         873       0.00      0.00      0.00        88\n",
      "         874       0.00      0.00      0.00       177\n",
      "         875       0.00      0.00      0.00       208\n",
      "         876       0.00      0.00      0.00       232\n",
      "         877       0.00      0.00      0.00        74\n",
      "         878       0.83      0.00      0.01      1266\n",
      "         879       0.00      0.00      0.00        75\n",
      "         880       0.00      0.00      0.00       298\n",
      "         881       0.00      0.00      0.00        84\n",
      "         882       0.00      0.00      0.00       423\n",
      "         883       0.00      0.00      0.00       267\n",
      "         884       0.00      0.00      0.00       120\n",
      "         885       0.00      0.00      0.00       113\n",
      "         886       0.00      0.00      0.00       112\n",
      "         887       0.00      0.00      0.00       133\n",
      "         888       0.00      0.00      0.00       263\n",
      "         889       0.00      0.00      0.00       179\n",
      "         890       0.00      0.00      0.00       152\n",
      "         891       0.00      0.00      0.00       114\n",
      "         892       0.00      0.00      0.00       667\n",
      "         893       0.00      0.00      0.00        87\n",
      "         894       0.00      0.00      0.00       271\n",
      "         895       0.00      0.00      0.00       206\n",
      "         896       0.00      0.00      0.00       179\n",
      "         897       0.00      0.00      0.00       137\n",
      "         898       0.00      0.00      0.00       452\n",
      "         899       0.86      0.07      0.13      1199\n",
      "         900       0.00      0.00      0.00        81\n",
      "         901       0.00      0.00      0.00       695\n",
      "         902       0.00      0.00      0.00       132\n",
      "         903       0.00      0.00      0.00       222\n",
      "         904       0.00      0.00      0.00        74\n",
      "         905       1.00      0.00      0.00       594\n",
      "         906       0.00      0.00      0.00       229\n",
      "         907       0.00      0.00      0.00        89\n",
      "         908       0.00      0.00      0.00        85\n",
      "         909       0.00      0.00      0.00       107\n",
      "         910       0.00      0.00      0.00       397\n",
      "         911       0.00      0.00      0.00      1174\n",
      "         912       0.00      0.00      0.00       291\n",
      "         913       0.75      0.01      0.02       992\n",
      "         914       0.00      0.00      0.00       496\n",
      "         915       0.96      0.06      0.11      2509\n",
      "         916       0.00      0.00      0.00       407\n",
      "         917       1.00      0.01      0.01       758\n",
      "         918       0.00      0.00      0.00       286\n",
      "         919       0.00      0.00      0.00       252\n",
      "         920       0.00      0.00      0.00        94\n",
      "         921       0.00      0.00      0.00       658\n",
      "         922       0.00      0.00      0.00        98\n",
      "         923       0.00      0.00      0.00       342\n",
      "         924       0.00      0.00      0.00        73\n",
      "         925       0.00      0.00      0.00       168\n",
      "         926       0.00      0.00      0.00        71\n",
      "         927       0.00      0.00      0.00       146\n",
      "         928       0.00      0.00      0.00        87\n",
      "         929       1.00      0.01      0.02       518\n",
      "         930       0.00      0.00      0.00       743\n",
      "         931       0.00      0.00      0.00        70\n",
      "         932       0.56      0.06      0.11      2191\n",
      "         933       0.00      0.00      0.00       330\n",
      "         934       0.26      0.00      0.01      1653\n",
      "         935       0.00      0.00      0.00       884\n",
      "         936       0.00      0.00      0.00       111\n",
      "         937       0.00      0.00      0.00       104\n",
      "         938       0.93      0.27      0.42      1607\n",
      "         939       0.00      0.00      0.00        89\n",
      "         940       0.00      0.00      0.00       213\n",
      "         941       0.00      0.00      0.00       609\n",
      "         942       0.00      0.00      0.00       210\n",
      "         943       0.00      0.00      0.00        98\n",
      "         944       0.00      0.00      0.00        96\n",
      "         945       0.75      0.03      0.06      1450\n",
      "         946       0.00      0.00      0.00       102\n",
      "         947       0.00      0.00      0.00       276\n",
      "         948       0.00      0.00      0.00       155\n",
      "         949       0.00      0.00      0.00        87\n",
      "         950       0.00      0.00      0.00       112\n",
      "         951       0.00      0.00      0.00        89\n",
      "         952       0.00      0.00      0.00        73\n",
      "         953       0.00      0.00      0.00        76\n",
      "         954       0.00      0.00      0.00        76\n",
      "         955       0.00      0.00      0.00       135\n",
      "         956       0.00      0.00      0.00        84\n",
      "         957       0.00      0.00      0.00      1103\n",
      "         958       0.00      0.00      0.00       117\n",
      "         959       0.33      0.01      0.02      2780\n",
      "         960       0.00      0.00      0.00       325\n",
      "         961       0.00      0.00      0.00       101\n",
      "         962       0.00      0.00      0.00       229\n",
      "         963       0.00      0.00      0.00       331\n",
      "         964       0.00      0.00      0.00       211\n",
      "         965       0.00      0.00      0.00        84\n",
      "         966       0.00      0.00      0.00       111\n",
      "         967       0.00      0.00      0.00       289\n",
      "         968       0.00      0.00      0.00       229\n",
      "         969       0.00      0.00      0.00       200\n",
      "         970       0.95      0.01      0.02      2182\n",
      "         971       0.00      0.00      0.00       192\n",
      "         972       0.00      0.00      0.00       113\n",
      "         973       1.00      0.05      0.10       747\n",
      "         974       0.00      0.00      0.00       164\n",
      "         975       0.00      0.00      0.00        95\n",
      "         976       0.97      0.40      0.56      3674\n",
      "         977       0.00      0.00      0.00       173\n",
      "         978       0.00      0.00      0.00       158\n",
      "         979       0.00      0.00      0.00        72\n",
      "         980       0.00      0.00      0.00       142\n",
      "         981       0.00      0.00      0.00        82\n",
      "         982       0.00      0.00      0.00       146\n",
      "         983       0.00      0.00      0.00       697\n",
      "         984       0.82      0.01      0.02      1144\n",
      "         985       0.00      0.00      0.00       462\n",
      "         986       0.76      0.21      0.32      2923\n",
      "         987       0.00      0.00      0.00       211\n",
      "         988       0.00      0.00      0.00       125\n",
      "         989       0.00      0.00      0.00        77\n",
      "         990       0.00      0.00      0.00       147\n",
      "         991       0.00      0.00      0.00       379\n",
      "         992       0.00      0.00      0.00       311\n",
      "         993       1.00      0.00      0.01       645\n",
      "         994       0.00      0.00      0.00       100\n",
      "         995       0.00      0.00      0.00        87\n",
      "         996       0.00      0.00      0.00       106\n",
      "         997       0.00      0.00      0.00        76\n",
      "         998       0.97      0.05      0.10       780\n",
      "         999       0.00      0.00      0.00       126\n",
      "\n",
      "   micro avg       0.90      0.13      0.22    460175\n",
      "   macro avg       0.09      0.01      0.02    460175\n",
      "weighted avg       0.51      0.13      0.19    460175\n",
      " samples avg       0.27      0.15      0.18    460175\n",
      "\n"
     ]
    },
    {
     "name": "stderr",
     "output_type": "stream",
     "text": [
      "/home/satishshah2660/anaconda3/lib/python3.5/site-packages/sklearn/metrics/classification.py:1437: UndefinedMetricWarning: Precision and F-score are ill-defined and being set to 0.0 in samples with no predicted labels.\n",
      "  'precision', 'predicted', average, warn_for)\n",
      "/home/satishshah2660/anaconda3/lib/python3.5/site-packages/sklearn/metrics/classification.py:1439: UndefinedMetricWarning: Recall and F-score are ill-defined and being set to 0.0 in samples with no true labels.\n",
      "  'recall', 'true', average, warn_for)\n"
     ]
    }
   ],
   "source": [
    "y_predicted = classifier.predict(X_test)\n",
    "\n",
    "print(\"Accuracy :\",metrics.accuracy_score(y_test,y_predicted ))\n",
    "print(\"Hamming loss \",metrics.hamming_loss(y_test,y_predicted ))\n",
    "\n",
    "\n",
    "precision = precision_score(y_test, y_predicted , average='micro')\n",
    "recall = recall_score(y_test, y_predicted , average='micro')\n",
    "f1 = f1_score(y_test, y_predicted , average='micro')\n",
    " \n",
    "print(\"Micro-average quality numbers\")\n",
    "print(\"Precision: {:.4f}, Recall: {:.4f}, F1-measure: {:.4f}\".format(precision, recall, f1))\n",
    "\n",
    "precision = precision_score(y_test, y_predicted , average='macro')\n",
    "recall = recall_score(y_test, y_predicted , average='macro')\n",
    "f1 = f1_score(y_test, y_predicted , average='macro')\n",
    " \n",
    "print(\"Macro-average quality numbers\")\n",
    "print(\"Precision: {:.4f}, Recall: {:.4f}, F1-measure: {:.4f}\".format(precision, recall, f1))\n",
    "\n",
    "print (metrics.classification_report(y_test, y_predicted ))\n"
   ]
  },
  {
   "cell_type": "markdown",
   "metadata": {},
   "source": [
    "### Observations:-\n",
    "- Precision: 0.9034\n",
    "- Recall: 0.1278\n",
    "- Micro F1-measure: 0.2239\n",
    "\n",
    "- We are having high precision for our trained model which suggests true positives/predicted positives ratio is good.\n",
    "- On the other hand recall is very low which suggests ratio of true positives/ total positives is low.\n",
    "- Overall F1 score is 0.22 which is low due to low recall. \n",
    "- Model performance should be improved."
   ]
  },
  {
   "cell_type": "code",
   "execution_count": 40,
   "metadata": {},
   "outputs": [
    {
     "name": "stdout",
     "output_type": "stream",
     "text": [
      "CPU times: user 6.57 s, sys: 4.51 s, total: 11.1 s\n",
      "Wall time: 5min 47s\n"
     ]
    },
    {
     "data": {
      "text/plain": [
       "OneVsRestClassifier(estimator=SGDClassifier(alpha=0.0001, average=False,\n",
       "                                            class_weight=None,\n",
       "                                            early_stopping=False, epsilon=0.1,\n",
       "                                            eta0=0.0, fit_intercept=True,\n",
       "                                            l1_ratio=0.15,\n",
       "                                            learning_rate='optimal',\n",
       "                                            loss='hinge', max_iter=1000,\n",
       "                                            n_iter_no_change=5, n_jobs=None,\n",
       "                                            penalty='l2', power_t=0.5,\n",
       "                                            random_state=None, shuffle=True,\n",
       "                                            tol=0.001, validation_fraction=0.1,\n",
       "                                            verbose=0, warm_start=False),\n",
       "                    n_jobs=-1)"
      ]
     },
     "execution_count": 40,
     "metadata": {},
     "output_type": "execute_result"
    }
   ],
   "source": [
    "%%time\n",
    "from sklearn.multiclass import OneVsRestClassifier\n",
    "from sklearn.linear_model import SGDClassifier\n",
    "from sklearn import metrics\n",
    "from sklearn.metrics import f1_score,precision_score,recall_score\n",
    "\n",
    "\n",
    "classifier2 = OneVsRestClassifier(SGDClassifier(loss='hinge'), n_jobs=-1)\n",
    "classifier2.fit(X_train, y_train)"
   ]
  },
  {
   "cell_type": "code",
   "execution_count": 41,
   "metadata": {},
   "outputs": [
    {
     "name": "stdout",
     "output_type": "stream",
     "text": [
      "Accuracy : 0.1366156830784154\n",
      "Hamming loss  0.0017944989724948625\n",
      "Micro-average quality numbers\n",
      "Precision: 0.8706, Recall: 0.2585, F1-measure: 0.3986\n",
      "Macro-average quality numbers\n",
      "Precision: 0.2408, Recall: 0.0997, F1-measure: 0.1264\n",
      "              precision    recall  f1-score   support\n",
      "\n",
      "           0       0.89      0.54      0.68       556\n",
      "           1       0.69      0.21      0.33     11242\n",
      "           2       0.00      0.00      0.00       252\n",
      "           3       0.00      0.00      0.00       552\n",
      "           4       0.00      0.00      0.00       281\n",
      "           5       0.00      0.00      0.00        82\n",
      "           6       0.00      0.00      0.00       222\n",
      "           7       0.00      0.00      0.00       246\n",
      "           8       0.00      0.00      0.00        87\n",
      "           9       0.00      0.00      0.00        99\n",
      "          10       0.00      0.00      0.00       438\n",
      "          11       0.00      0.00      0.00       108\n",
      "          12       0.70      0.18      0.28      1531\n",
      "          13       0.00      0.00      0.00       229\n",
      "          14       0.81      0.28      0.41       451\n",
      "          15       0.82      0.06      0.11       154\n",
      "          16       0.00      0.00      0.00        77\n",
      "          17       0.00      0.00      0.00        86\n",
      "          18       0.00      0.00      0.00       395\n",
      "          19       0.00      0.00      0.00       121\n",
      "          20       0.00      0.00      0.00        89\n",
      "          21       0.93      0.55      0.70       249\n",
      "          22       0.71      0.47      0.56      2367\n",
      "          23       0.00      0.00      0.00        72\n",
      "          24       0.68      0.27      0.39      1531\n",
      "          25       0.00      0.00      0.00        86\n",
      "          26       0.00      0.00      0.00        94\n",
      "          27       0.00      0.00      0.00       108\n",
      "          28       0.00      0.00      0.00        81\n",
      "          29       0.00      0.00      0.00        71\n",
      "          30       0.99      0.58      0.73      4666\n",
      "          31       0.00      0.00      0.00       151\n",
      "          32       0.00      0.00      0.00        98\n",
      "          33       0.00      0.00      0.00       101\n",
      "          34       0.00      0.00      0.00        86\n",
      "          35       0.00      0.00      0.00       375\n",
      "          36       0.00      0.00      0.00       163\n",
      "          37       0.95      0.74      0.83       353\n",
      "          38       0.00      0.00      0.00        78\n",
      "          39       0.63      0.31      0.41      1032\n",
      "          40       0.91      0.58      0.70      1660\n",
      "          41       0.00      0.00      0.00       135\n",
      "          42       0.00      0.00      0.00       598\n",
      "          43       0.00      0.00      0.00        94\n",
      "          44       0.00      0.00      0.00        87\n",
      "          45       0.00      0.00      0.00        69\n",
      "          46       1.00      0.08      0.15       100\n",
      "          47       0.83      0.67      0.75       178\n",
      "          48       0.00      0.00      0.00       515\n",
      "          49       0.00      0.00      0.00       116\n",
      "          50       0.00      0.00      0.00        74\n",
      "          51       0.00      0.00      0.00       113\n",
      "          52       0.00      0.00      0.00      1786\n",
      "          53       0.00      0.00      0.00        96\n",
      "          54       0.00      0.00      0.00        81\n",
      "          55       0.00      0.00      0.00       116\n",
      "          56       0.90      0.33      0.48       394\n",
      "          57       0.89      0.35      0.51      9974\n",
      "          58       0.00      0.00      0.00       118\n",
      "          59       0.00      0.00      0.00       113\n",
      "          60       0.00      0.00      0.00       289\n",
      "          61       0.00      0.00      0.00       179\n",
      "          62       0.77      0.58      0.66      3683\n",
      "          63       0.00      0.00      0.00       741\n",
      "          64       0.00      0.00      0.00        87\n",
      "          65       0.00      0.00      0.00       214\n",
      "          66       0.00      0.00      0.00       372\n",
      "          67       0.00      0.00      0.00        95\n",
      "          68       0.00      0.00      0.00       294\n",
      "          69       0.00      0.00      0.00       231\n",
      "          70       0.00      0.00      0.00       434\n",
      "          71       0.00      0.00      0.00       613\n",
      "          72       0.00      0.00      0.00       114\n",
      "          73       1.00      0.01      0.03       227\n",
      "          74       0.00      0.00      0.00        99\n",
      "          75       0.00      0.00      0.00       203\n",
      "          76       0.92      0.09      0.16       127\n",
      "          77       1.00      0.38      0.55       118\n",
      "          78       0.00      0.00      0.00       148\n",
      "          79       0.00      0.00      0.00        77\n",
      "          80       0.00      0.00      0.00       133\n",
      "          81       0.92      0.45      0.60       771\n",
      "          82       0.70      0.31      0.43       367\n",
      "          83       0.00      0.00      0.00       187\n",
      "          84       0.00      0.00      0.00       426\n",
      "          85       0.00      0.00      0.00       121\n",
      "          86       0.00      0.00      0.00       138\n",
      "          87       1.00      0.13      0.22        79\n",
      "          88       0.98      0.76      0.86       349\n",
      "          89       0.00      0.00      0.00        71\n",
      "          90       0.82      0.09      0.17        97\n",
      "          91       0.00      0.00      0.00       103\n",
      "          92       0.83      0.40      0.54       422\n",
      "          93       0.00      0.00      0.00       138\n",
      "          94       0.00      0.00      0.00       572\n",
      "          95       0.00      0.00      0.00        70\n",
      "          96       0.00      0.00      0.00       244\n",
      "          97       0.00      0.00      0.00       117\n",
      "          98       0.00      0.00      0.00       194\n",
      "          99       0.00      0.00      0.00       307\n",
      "         100       0.00      0.00      0.00        79\n",
      "         101       0.81      0.36      0.50      4331\n",
      "         102       0.93      0.24      0.38     24021\n",
      "         103       0.00      0.00      0.00       105\n",
      "         104       0.00      0.00      0.00       255\n",
      "         105       0.00      0.00      0.00       221\n",
      "         106       0.91      0.36      0.52      9455\n",
      "         107       1.00      0.03      0.06       149\n",
      "         108       0.00      0.00      0.00       113\n",
      "         109       0.00      0.00      0.00       128\n",
      "         110       0.69      0.12      0.20       661\n",
      "         111       0.96      0.70      0.81       499\n",
      "         112       0.00      0.00      0.00       151\n",
      "         113       0.00      0.00      0.00       189\n",
      "         114       0.00      0.00      0.00        86\n",
      "         115       0.50      0.01      0.01       189\n",
      "         116       0.00      0.00      0.00       300\n",
      "         117       1.00      0.19      0.32       112\n",
      "         118       0.00      0.00      0.00       123\n",
      "         119       0.50      0.01      0.01       132\n",
      "         120       0.00      0.00      0.00        99\n",
      "         121       0.00      0.00      0.00        71\n",
      "         122       0.00      0.00      0.00       262\n",
      "         123       0.00      0.00      0.00       184\n",
      "         124       0.00      0.00      0.00       216\n",
      "         125       0.00      0.00      0.00       755\n",
      "         126       0.00      0.00      0.00        82\n",
      "         127       0.00      0.00      0.00        70\n",
      "         128       0.00      0.00      0.00        91\n",
      "         129       0.00      0.00      0.00       112\n",
      "         130       0.95      0.58      0.72       132\n",
      "         131       0.00      0.00      0.00       109\n",
      "         132       0.00      0.00      0.00       100\n",
      "         133       1.00      0.62      0.76       219\n",
      "         134       0.00      0.00      0.00        71\n",
      "         135       0.00      0.00      0.00        99\n",
      "         136       0.00      0.00      0.00        74\n",
      "         137       0.00      0.00      0.00       146\n",
      "         138       1.00      0.10      0.18        71\n",
      "         139       0.00      0.00      0.00       123\n",
      "         140       0.83      0.20      0.32      1526\n",
      "         141       0.00      0.00      0.00      1516\n",
      "         142       0.96      0.19      0.32       138\n",
      "         143       0.00      0.00      0.00       150\n",
      "         144       0.98      0.65      0.78       455\n",
      "         145       0.00      0.00      0.00       370\n",
      "         146       0.98      0.51      0.67       307\n",
      "         147       0.00      0.00      0.00       438\n",
      "         148       0.00      0.00      0.00       239\n",
      "         149       0.72      0.44      0.55       469\n",
      "         150       0.00      0.00      0.00       265\n",
      "         151       0.00      0.00      0.00       113\n",
      "         152       0.00      0.00      0.00       436\n",
      "         153       0.00      0.00      0.00       136\n",
      "         154       0.00      0.00      0.00        83\n",
      "         155       0.00      0.00      0.00       265\n",
      "         156       0.00      0.00      0.00        88\n",
      "         157       0.00      0.00      0.00       184\n",
      "         158       0.00      0.00      0.00       226\n",
      "         159       0.00      0.00      0.00       413\n",
      "         160       0.00      0.00      0.00       114\n",
      "         161       0.00      0.00      0.00       150\n",
      "         162       0.00      0.00      0.00       195\n",
      "         163       0.00      0.00      0.00        84\n",
      "         164       0.00      0.00      0.00       329\n",
      "         165       0.00      0.00      0.00       100\n",
      "         166       0.00      0.00      0.00       419\n",
      "         167       0.00      0.00      0.00       141\n",
      "         168       0.00      0.00      0.00        95\n",
      "         169       0.00      0.00      0.00       198\n",
      "         170       0.00      0.00      0.00        73\n",
      "         171       0.00      0.00      0.00       184\n",
      "         172       0.00      0.00      0.00       100\n",
      "         173       0.00      0.00      0.00       270\n",
      "         174       0.00      0.00      0.00        73\n",
      "         175       0.83      0.02      0.05       204\n",
      "         176       0.00      0.00      0.00        85\n",
      "         177       0.00      0.00      0.00       183\n",
      "         178       0.00      0.00      0.00       152\n",
      "         179       0.00      0.00      0.00       373\n",
      "         180       0.71      0.51      0.59       412\n",
      "         181       0.00      0.00      0.00       133\n",
      "         182       0.00      0.00      0.00       134\n",
      "         183       1.00      0.01      0.03       461\n",
      "         184       0.00      0.00      0.00        96\n",
      "         185       1.00      0.39      0.56        92\n",
      "         186       0.00      0.00      0.00       157\n",
      "         187       0.00      0.00      0.00       157\n",
      "         188       0.80      0.03      0.06       136\n",
      "         189       0.00      0.00      0.00       258\n",
      "         190       0.00      0.00      0.00        95\n",
      "         191       0.00      0.00      0.00       173\n",
      "         192       1.00      0.02      0.03       118\n",
      "         193       0.00      0.00      0.00       187\n",
      "         194       0.95      0.79      0.86       262\n",
      "         195       0.88      0.37      0.52      4299\n",
      "         196       0.00      0.00      0.00        90\n",
      "         197       0.00      0.00      0.00       180\n",
      "         198       0.65      0.36      0.46       297\n",
      "         199       1.00      0.01      0.02        84\n",
      "         200       0.00      0.00      0.00        75\n",
      "         201       0.88      0.61      0.72       272\n",
      "         202       0.00      0.00      0.00       107\n",
      "         203       0.00      0.00      0.00       126\n",
      "         204       1.00      0.05      0.10        96\n",
      "         205       1.00      0.14      0.24       116\n",
      "         206       0.00      0.00      0.00        82\n",
      "         207       0.77      0.05      0.10       702\n",
      "         208       0.00      0.00      0.00        82\n",
      "         209       0.00      0.00      0.00       488\n",
      "         210       0.00      0.00      0.00      2614\n",
      "         211       0.00      0.00      0.00        83\n",
      "         212       0.00      0.00      0.00       762\n",
      "         213       0.50      0.01      0.02       328\n",
      "         214       0.77      0.68      0.73       297\n",
      "         215       0.00      0.00      0.00       188\n",
      "         216       0.00      0.00      0.00        72\n",
      "         217       0.00      0.00      0.00       191\n",
      "         218       0.00      0.00      0.00        84\n",
      "         219       0.00      0.00      0.00       510\n",
      "         220       0.00      0.00      0.00       116\n",
      "         221       0.00      0.00      0.00       707\n",
      "         222       0.00      0.00      0.00       118\n",
      "         223       0.63      0.01      0.02      1129\n",
      "         224       0.00      0.00      0.00        83\n",
      "         225       0.00      0.00      0.00       279\n",
      "         226       1.00      0.53      0.69      1334\n",
      "         227       0.00      0.00      0.00       103\n",
      "         228       0.00      0.00      0.00        89\n",
      "         229       0.00      0.00      0.00       161\n",
      "         230       0.00      0.00      0.00       261\n",
      "         231       0.00      0.00      0.00       527\n",
      "         232       0.00      0.00      0.00       905\n",
      "         233       0.00      0.00      0.00        73\n",
      "         234       0.00      0.00      0.00        95\n",
      "         235       0.00      0.00      0.00        79\n",
      "         236       0.00      0.00      0.00       167\n",
      "         237       0.00      0.00      0.00       329\n",
      "         238       0.00      0.00      0.00       133\n",
      "         239       0.00      0.00      0.00       246\n",
      "         240       0.00      0.00      0.00       130\n",
      "         241       0.97      0.72      0.82      2310\n",
      "         242       0.00      0.00      0.00       178\n",
      "         243       0.00      0.00      0.00       178\n",
      "         244       0.00      0.00      0.00       361\n",
      "         245       0.00      0.00      0.00       173\n",
      "         246       0.00      0.00      0.00       505\n",
      "         247       0.00      0.00      0.00       221\n",
      "         248       0.96      0.66      0.78       163\n",
      "         249       0.00      0.00      0.00       147\n",
      "         250       0.98      0.51      0.67       172\n",
      "         251       0.00      0.00      0.00       601\n",
      "         252       0.00      0.00      0.00       115\n",
      "         253       0.00      0.00      0.00       162\n",
      "         254       1.00      0.02      0.05        85\n",
      "         255       0.00      0.00      0.00        82\n",
      "         256       0.00      0.00      0.00       235\n",
      "         257       0.00      0.00      0.00       198\n",
      "         258       0.00      0.00      0.00       140\n",
      "         259       0.00      0.00      0.00       278\n",
      "         260       0.91      0.71      0.80       700\n",
      "         261       0.00      0.00      0.00       284\n",
      "         262       0.00      0.00      0.00        83\n",
      "         263       0.00      0.00      0.00        76\n",
      "         264       0.00      0.00      0.00       380\n",
      "         265       0.00      0.00      0.00        73\n",
      "         266       0.00      0.00      0.00        93\n",
      "         267       0.87      0.72      0.79      1492\n",
      "         268       0.00      0.00      0.00       180\n",
      "         269       0.00      0.00      0.00        70\n",
      "         270       0.00      0.00      0.00       179\n",
      "         271       0.00      0.00      0.00        79\n",
      "         272       0.00      0.00      0.00       100\n",
      "         273       0.00      0.00      0.00       103\n",
      "         274       0.97      0.73      0.84       445\n",
      "         275       0.00      0.00      0.00       770\n",
      "         276       0.00      0.00      0.00        74\n",
      "         277       0.00      0.00      0.00       195\n",
      "         278       0.00      0.00      0.00       374\n",
      "         279       0.67      0.07      0.12       443\n",
      "         280       0.00      0.00      0.00        84\n",
      "         281       0.00      0.00      0.00        84\n",
      "         282       0.91      0.05      0.10       831\n",
      "         283       0.00      0.00      0.00       193\n",
      "         284       0.71      0.41      0.52       288\n",
      "         285       0.00      0.00      0.00        88\n",
      "         286       0.99      0.66      0.79       197\n",
      "         287       0.00      0.00      0.00       269\n",
      "         288       0.00      0.00      0.00       166\n",
      "         289       0.00      0.00      0.00        76\n",
      "         290       0.00      0.00      0.00       247\n",
      "         291       0.00      0.00      0.00       853\n",
      "         292       0.77      0.71      0.74      1042\n",
      "         293       0.00      0.00      0.00        82\n",
      "         294       0.00      0.00      0.00       716\n",
      "         295       0.00      0.00      0.00       345\n",
      "         296       0.00      0.00      0.00        79\n",
      "         297       0.00      0.00      0.00        77\n",
      "         298       0.00      0.00      0.00        78\n",
      "         299       0.00      0.00      0.00       115\n",
      "         300       0.00      0.00      0.00        70\n",
      "         301       0.00      0.00      0.00        72\n",
      "         302       0.00      0.00      0.00       131\n",
      "         303       0.99      0.58      0.73       229\n",
      "         304       0.99      0.68      0.80       305\n",
      "         305       0.92      0.79      0.85       746\n",
      "         306       1.00      0.03      0.07        86\n",
      "         307       0.00      0.00      0.00       101\n",
      "         308       0.00      0.00      0.00       984\n",
      "         309       0.00      0.00      0.00       445\n",
      "         310       0.00      0.00      0.00       307\n",
      "         311       0.00      0.00      0.00       218\n",
      "         312       0.00      0.00      0.00       186\n",
      "         313       0.00      0.00      0.00        70\n",
      "         314       0.00      0.00      0.00       119\n",
      "         315       0.60      0.05      0.10       111\n",
      "         316       0.64      0.48      0.55       673\n",
      "         317       0.00      0.00      0.00       135\n",
      "         318       0.80      0.43      0.56      1638\n",
      "         319       0.00      0.00      0.00        69\n",
      "         320       0.00      0.00      0.00       269\n",
      "         321       0.00      0.00      0.00       133\n",
      "         322       0.00      0.00      0.00        70\n",
      "         323       0.00      0.00      0.00       228\n",
      "         324       0.82      0.37      0.51       284\n",
      "         325       0.00      0.00      0.00       141\n",
      "         326       0.00      0.00      0.00       244\n",
      "         327       0.00      0.00      0.00       142\n",
      "         328       0.00      0.00      0.00       156\n",
      "         329       0.00      0.00      0.00       149\n",
      "         330       0.00      0.00      0.00       110\n",
      "         331       0.00      0.00      0.00       259\n",
      "         332       0.00      0.00      0.00      1095\n",
      "         333       0.00      0.00      0.00       136\n",
      "         334       0.00      0.00      0.00       348\n",
      "         335       0.79      0.54      0.65       213\n",
      "         336       0.00      0.00      0.00       205\n",
      "         337       0.00      0.00      0.00       680\n",
      "         338       0.00      0.00      0.00       256\n",
      "         339       0.00      0.00      0.00       135\n",
      "         340       0.89      0.07      0.14       231\n",
      "         341       0.85      0.39      0.54       480\n",
      "         342       0.00      0.00      0.00        83\n",
      "         343       0.96      0.37      0.54       142\n",
      "         344       0.00      0.00      0.00       130\n",
      "         345       0.63      0.61      0.62       802\n",
      "         346       0.00      0.00      0.00       124\n",
      "         347       0.00      0.00      0.00       186\n",
      "         348       0.00      0.00      0.00       137\n",
      "         349       0.00      0.00      0.00        75\n",
      "         350       0.97      0.72      0.82       997\n",
      "         351       0.00      0.00      0.00        73\n",
      "         352       0.00      0.00      0.00       101\n",
      "         353       0.93      0.11      0.20       122\n",
      "         354       0.00      0.00      0.00        88\n",
      "         355       0.00      0.00      0.00       107\n",
      "         356       1.00      0.05      0.09       111\n",
      "         357       0.98      0.29      0.44       802\n",
      "         358       0.72      0.26      0.38       296\n",
      "         359       0.00      0.00      0.00       106\n",
      "         360       1.00      0.03      0.07       500\n",
      "         361       0.00      0.00      0.00        84\n",
      "         362       0.00      0.00      0.00       110\n",
      "         363       1.00      0.76      0.86       419\n",
      "         364       0.00      0.00      0.00       216\n",
      "         365       0.00      0.00      0.00       431\n",
      "         366       0.00      0.00      0.00        77\n",
      "         367       0.00      0.00      0.00       112\n",
      "         368       0.00      0.00      0.00       131\n",
      "         369       0.71      0.65      0.68       431\n",
      "         370       0.98      0.45      0.62       271\n",
      "         371       0.00      0.00      0.00       155\n",
      "         372       1.00      0.02      0.03       181\n",
      "         373       0.00      0.00      0.00        76\n",
      "         374       0.98      0.70      0.82       465\n",
      "         375       0.00      0.00      0.00        97\n",
      "         376       0.00      0.00      0.00        70\n",
      "         377       0.00      0.00      0.00       100\n",
      "         378       0.00      0.00      0.00       348\n",
      "         379       0.00      0.00      0.00        85\n",
      "         380       0.00      0.00      0.00        85\n",
      "         381       0.99      0.61      0.75       358\n",
      "         382       0.00      0.00      0.00       223\n",
      "         383       0.00      0.00      0.00        83\n",
      "         384       0.86      0.07      0.14        81\n",
      "         385       0.00      0.00      0.00       102\n",
      "         386       0.97      0.60      0.74       990\n",
      "         387       0.00      0.00      0.00       102\n",
      "         388       0.00      0.00      0.00       118\n",
      "         389       0.00      0.00      0.00        94\n",
      "         390       0.00      0.00      0.00        88\n",
      "         391       0.60      0.28      0.38      6151\n",
      "         392       0.00      0.00      0.00        70\n",
      "         393       0.00      0.00      0.00       198\n",
      "         394       0.00      0.00      0.00       831\n",
      "         395       0.00      0.00      0.00       151\n",
      "         396       0.00      0.00      0.00        74\n",
      "         397       0.00      0.00      0.00       215\n",
      "         398       0.00      0.00      0.00       163\n",
      "         399       0.99      0.60      0.74       134\n",
      "         400       0.00      0.00      0.00       260\n",
      "         401       0.00      0.00      0.00       145\n",
      "         402       0.00      0.00      0.00       339\n",
      "         403       0.00      0.00      0.00        93\n",
      "         404       0.00      0.00      0.00       161\n",
      "         405       0.67      0.59      0.63       343\n",
      "         406       0.00      0.00      0.00       700\n",
      "         407       0.00      0.00      0.00       206\n",
      "         408       0.00      0.00      0.00       354\n",
      "         409       0.00      0.00      0.00      1236\n",
      "         410       0.00      0.00      0.00       100\n",
      "         411       0.00      0.00      0.00       337\n",
      "         412       0.00      0.00      0.00        84\n",
      "         413       0.00      0.00      0.00       233\n",
      "         414       0.00      0.00      0.00       191\n",
      "         415       0.00      0.00      0.00       356\n",
      "         416       0.00      0.00      0.00       557\n",
      "         417       0.00      0.00      0.00       161\n",
      "         418       0.00      0.00      0.00        70\n",
      "         419       0.00      0.00      0.00       233\n",
      "         420       0.00      0.00      0.00       192\n",
      "         421       0.00      0.00      0.00       577\n",
      "         422       0.00      0.00      0.00       147\n",
      "         423       0.00      0.00      0.00        86\n",
      "         424       0.97      0.34      0.50       110\n",
      "         425       0.00      0.00      0.00        97\n",
      "         426       0.00      0.00      0.00       388\n",
      "         427       0.00      0.00      0.00       195\n",
      "         428       0.00      0.00      0.00       285\n",
      "         429       0.00      0.00      0.00       979\n",
      "         430       0.00      0.00      0.00       231\n",
      "         431       0.00      0.00      0.00       221\n",
      "         432       0.00      0.00      0.00       234\n",
      "         433       0.00      0.00      0.00       268\n",
      "         434       0.00      0.00      0.00       138\n",
      "         435       0.00      0.00      0.00       147\n",
      "         436       0.00      0.00      0.00        79\n",
      "         437       0.00      0.00      0.00       728\n",
      "         438       0.00      0.00      0.00        98\n",
      "         439       0.00      0.00      0.00       332\n",
      "         440       0.00      0.00      0.00        93\n",
      "         441       0.85      0.36      0.50       630\n",
      "         442       0.00      0.00      0.00        87\n",
      "         443       0.93      0.44      0.60      9122\n",
      "         444       0.00      0.00      0.00       360\n",
      "         445       0.98      0.42      0.59       102\n",
      "         446       0.00      0.00      0.00        87\n",
      "         447       0.00      0.00      0.00       185\n",
      "         448       0.00      0.00      0.00       470\n",
      "         449       0.00      0.00      0.00       207\n",
      "         450       0.00      0.00      0.00        80\n",
      "         451       0.90      0.39      0.55     15157\n",
      "         452       0.97      0.40      0.56       278\n",
      "         453       0.00      0.00      0.00        99\n",
      "         454       0.91      0.37      0.53     11823\n",
      "         455       0.00      0.00      0.00       158\n",
      "         456       0.00      0.00      0.00        69\n",
      "         457       0.93      0.31      0.47       118\n",
      "         458       0.83      0.56      0.67       241\n",
      "         459       0.91      0.37      0.53       347\n",
      "         460       0.00      0.00      0.00        77\n",
      "         461       1.00      0.01      0.02        93\n",
      "         462       0.00      0.00      0.00       374\n",
      "         463       0.89      0.71      0.79       187\n",
      "         464       0.94      0.47      0.63       433\n",
      "         465       0.00      0.00      0.00        82\n",
      "         466       0.95      0.84      0.89       181\n",
      "         467       0.96      0.62      0.75      9947\n",
      "         468       0.00      0.00      0.00        73\n",
      "         469       0.00      0.00      0.00       351\n",
      "         470       0.00      0.00      0.00       247\n",
      "         471       0.00      0.00      0.00       650\n",
      "         472       0.00      0.00      0.00       105\n",
      "         473       1.00      0.01      0.03        74\n",
      "         474       0.95      0.52      0.68       494\n",
      "         475       0.00      0.00      0.00        80\n",
      "         476       0.85      0.65      0.74      1089\n",
      "         477       0.89      0.45      0.60       640\n",
      "         478       0.00      0.00      0.00        94\n",
      "         479       0.56      0.06      0.10        89\n",
      "         480       0.86      0.45      0.59       212\n",
      "         481       0.00      0.00      0.00       168\n",
      "         482       0.00      0.00      0.00        92\n",
      "         483       0.00      0.00      0.00        99\n",
      "         484       0.00      0.00      0.00       182\n",
      "         485       0.00      0.00      0.00       134\n",
      "         486       0.00      0.00      0.00        86\n",
      "         487       0.00      0.00      0.00        89\n",
      "         488       0.75      0.42      0.54       285\n",
      "         489       0.00      0.00      0.00       739\n",
      "         490       0.00      0.00      0.00        84\n",
      "         491       0.00      0.00      0.00        72\n",
      "         492       0.98      0.67      0.80       287\n",
      "         493       0.00      0.00      0.00       397\n",
      "         494       0.00      0.00      0.00        79\n",
      "         495       1.00      0.26      0.42       144\n",
      "         496       0.00      0.00      0.00       125\n",
      "         497       0.00      0.00      0.00       112\n",
      "         498       0.00      0.00      0.00       250\n",
      "         499       0.69      0.61      0.64      1718\n",
      "         500       0.00      0.00      0.00       204\n",
      "         501       0.00      0.00      0.00        72\n",
      "         502       0.91      0.12      0.21      1048\n",
      "         503       0.00      0.00      0.00       181\n",
      "         504       0.72      0.34      0.46      2051\n",
      "         505       0.00      0.00      0.00       110\n",
      "         506       1.00      0.02      0.03       173\n",
      "         507       0.00      0.00      0.00       730\n",
      "         508       0.00      0.00      0.00       232\n",
      "         509       0.66      0.64      0.65       447\n",
      "         510       0.00      0.00      0.00       130\n",
      "         511       0.73      0.06      0.12       302\n",
      "         512       0.00      0.00      0.00       201\n",
      "         513       0.98      0.40      0.57       133\n",
      "         514       0.97      0.58      0.73       126\n",
      "         515       0.00      0.00      0.00       534\n",
      "         516       0.00      0.00      0.00        80\n",
      "         517       0.00      0.00      0.00       217\n",
      "         518       0.00      0.00      0.00       382\n",
      "         519       0.99      0.72      0.84       134\n",
      "         520       0.89      0.48      0.63       194\n",
      "         521       0.00      0.00      0.00        76\n",
      "         522       0.00      0.00      0.00        76\n",
      "         523       0.73      0.33      0.46      1355\n",
      "         524       0.00      0.00      0.00       172\n",
      "         525       1.00      0.85      0.92       238\n",
      "         526       0.91      0.31      0.47       246\n",
      "         527       0.00      0.00      0.00        99\n",
      "         528       0.00      0.00      0.00       115\n",
      "         529       0.00      0.00      0.00       165\n",
      "         530       0.00      0.00      0.00        69\n",
      "         531       0.00      0.00      0.00       142\n",
      "         532       0.00      0.00      0.00        72\n",
      "         533       0.00      0.00      0.00       155\n",
      "         534       0.00      0.00      0.00       660\n",
      "         535       0.99      0.74      0.85       454\n",
      "         536       0.00      0.00      0.00        78\n",
      "         537       0.00      0.00      0.00       171\n",
      "         538       0.00      0.00      0.00       102\n",
      "         539       0.86      0.68      0.76       545\n",
      "         540       0.00      0.00      0.00        76\n",
      "         541       1.00      0.07      0.14       135\n",
      "         542       0.00      0.00      0.00       546\n",
      "         543       0.67      0.28      0.40       339\n",
      "         544       0.00      0.00      0.00       626\n",
      "         545       0.00      0.00      0.00       206\n",
      "         546       1.00      0.67      0.80       316\n",
      "         547       0.00      0.00      0.00       230\n",
      "         548       0.00      0.00      0.00        70\n",
      "         549       0.00      0.00      0.00        99\n",
      "         550       0.00      0.00      0.00       112\n",
      "         551       0.00      0.00      0.00       279\n",
      "         552       0.91      0.39      0.54       367\n",
      "         553       0.00      0.00      0.00       183\n",
      "         554       0.00      0.00      0.00        70\n",
      "         555       0.00      0.00      0.00       239\n",
      "         556       0.00      0.00      0.00       193\n",
      "         557       0.97      0.34      0.51       488\n",
      "         558       0.00      0.00      0.00       125\n",
      "         559       0.00      0.00      0.00       218\n",
      "         560       0.00      0.00      0.00       519\n",
      "         561       0.00      0.00      0.00       231\n",
      "         562       0.98      0.52      0.68       173\n",
      "         563       0.00      0.00      0.00        86\n",
      "         564       0.94      0.49      0.64       222\n",
      "         565       1.00      0.26      0.42       122\n",
      "         566       1.00      0.04      0.09        90\n",
      "         567       0.00      0.00      0.00       148\n",
      "         568       0.00      0.00      0.00       110\n",
      "         569       0.00      0.00      0.00        97\n",
      "         570       0.00      0.00      0.00       739\n",
      "         571       0.00      0.00      0.00        90\n",
      "         572       0.00      0.00      0.00       133\n",
      "         573       0.00      0.00      0.00       263\n",
      "         574       0.96      0.56      0.70       335\n",
      "         575       0.00      0.00      0.00        74\n",
      "         576       0.00      0.00      0.00        78\n",
      "         577       0.00      0.00      0.00       201\n",
      "         578       0.68      0.47      0.55      1876\n",
      "         579       0.88      0.48      0.62       373\n",
      "         580       0.00      0.00      0.00        78\n",
      "         581       0.95      0.54      0.69      5893\n",
      "         582       0.00      0.00      0.00        78\n",
      "         583       0.00      0.00      0.00       259\n",
      "         584       0.00      0.00      0.00       182\n",
      "         585       1.00      0.16      0.28        94\n",
      "         586       0.00      0.00      0.00       139\n",
      "         587       0.00      0.00      0.00       116\n",
      "         588       0.83      0.69      0.76       364\n",
      "         589       0.00      0.00      0.00       179\n",
      "         590       0.00      0.00      0.00       584\n",
      "         591       0.00      0.00      0.00        88\n",
      "         592       1.00      0.03      0.06        92\n",
      "         593       0.93      0.75      0.83      1069\n",
      "         594       0.00      0.00      0.00       147\n",
      "         595       0.00      0.00      0.00       101\n",
      "         596       1.00      0.01      0.03        77\n",
      "         597       0.00      0.00      0.00       105\n",
      "         598       0.00      0.00      0.00        97\n",
      "         599       0.00      0.00      0.00        89\n",
      "         600       0.00      0.00      0.00        98\n",
      "         601       0.00      0.00      0.00       162\n",
      "         602       0.00      0.00      0.00       222\n",
      "         603       0.00      0.00      0.00       119\n",
      "         604       1.00      0.14      0.25       125\n",
      "         605       0.95      0.48      0.64       189\n",
      "         606       0.84      0.33      0.47       156\n",
      "         607       0.00      0.00      0.00        74\n",
      "         608       0.00      0.00      0.00       440\n",
      "         609       0.94      0.17      0.29      4467\n",
      "         610       0.78      0.05      0.09       147\n",
      "         611       0.00      0.00      0.00        82\n",
      "         612       0.00      0.00      0.00        98\n",
      "         613       0.83      0.04      0.08      1197\n",
      "         614       0.00      0.00      0.00       283\n",
      "         615       1.00      0.49      0.66       127\n",
      "         616       0.83      0.50      0.62       453\n",
      "         617       0.00      0.00      0.00       221\n",
      "         618       0.93      0.61      0.74       163\n",
      "         619       0.00      0.00      0.00        91\n",
      "         620       0.00      0.00      0.00       171\n",
      "         621       0.00      0.00      0.00       126\n",
      "         622       0.00      0.00      0.00       150\n",
      "         623       0.00      0.00      0.00       671\n",
      "         624       0.86      0.59      0.70      1388\n",
      "         625       0.00      0.00      0.00       167\n",
      "         626       0.80      0.08      0.14       555\n",
      "         627       1.00      0.01      0.03        77\n",
      "         628       0.00      0.00      0.00        95\n",
      "         629       0.74      0.21      0.32       178\n",
      "         630       0.00      0.00      0.00        94\n",
      "         631       0.00      0.00      0.00       112\n",
      "         632       0.00      0.00      0.00       145\n",
      "         633       0.00      0.00      0.00        69\n",
      "         634       0.00      0.00      0.00       155\n",
      "         635       0.00      0.00      0.00       290\n",
      "         636       0.00      0.00      0.00       831\n",
      "         637       0.00      0.00      0.00        70\n",
      "         638       0.00      0.00      0.00       190\n",
      "         639       0.00      0.00      0.00       234\n",
      "         640       0.00      0.00      0.00        70\n",
      "         641       0.93      0.23      0.37       109\n",
      "         642       0.64      0.71      0.68       483\n",
      "         643       0.00      0.00      0.00       108\n",
      "         644       1.00      0.03      0.06       103\n",
      "         645       0.00      0.00      0.00        69\n",
      "         646       0.33      0.00      0.00      1914\n",
      "         647       0.98      0.65      0.78      1535\n",
      "         648       0.00      0.00      0.00       247\n",
      "         649       0.00      0.00      0.00       140\n",
      "         650       0.97      0.46      0.62     13632\n",
      "         651       0.00      0.00      0.00        79\n",
      "         652       1.00      0.01      0.03        72\n",
      "         653       0.00      0.00      0.00       115\n",
      "         654       0.00      0.00      0.00       102\n",
      "         655       0.00      0.00      0.00        75\n",
      "         656       0.00      0.00      0.00        92\n",
      "         657       0.87      0.22      0.36       263\n",
      "         658       0.00      0.00      0.00       421\n",
      "         659       0.00      0.00      0.00       123\n",
      "         660       0.00      0.00      0.00       508\n",
      "         661       0.00      0.00      0.00       127\n",
      "         662       0.00      0.00      0.00       145\n",
      "         663       0.00      0.00      0.00        98\n",
      "         664       0.00      0.00      0.00       357\n",
      "         665       0.00      0.00      0.00       121\n",
      "         666       0.96      0.56      0.71       634\n",
      "         667       0.96      0.79      0.87       371\n",
      "         668       0.00      0.00      0.00        73\n",
      "         669       0.00      0.00      0.00       105\n",
      "         670       0.00      0.00      0.00        96\n",
      "         671       0.00      0.00      0.00       320\n",
      "         672       0.00      0.00      0.00        92\n",
      "         673       0.00      0.00      0.00       348\n",
      "         674       0.00      0.00      0.00       164\n",
      "         675       0.00      0.00      0.00       311\n",
      "         676       0.00      0.00      0.00        95\n",
      "         677       0.00      0.00      0.00        75\n",
      "         678       0.00      0.00      0.00       162\n",
      "         679       0.98      0.51      0.67        85\n",
      "         680       0.00      0.00      0.00       372\n",
      "         681       0.00      0.00      0.00        83\n",
      "         682       0.00      0.00      0.00        72\n",
      "         683       0.00      0.00      0.00       193\n",
      "         684       0.00      0.00      0.00       222\n",
      "         685       0.00      0.00      0.00       108\n",
      "         686       0.00      0.00      0.00        75\n",
      "         687       1.00      0.01      0.02        84\n",
      "         688       0.00      0.00      0.00        98\n",
      "         689       0.98      0.48      0.65      7796\n",
      "         690       0.00      0.00      0.00       107\n",
      "         691       0.86      0.52      0.65       787\n",
      "         692       0.00      0.00      0.00       222\n",
      "         693       0.00      0.00      0.00       102\n",
      "         694       0.00      0.00      0.00        97\n",
      "         695       0.00      0.00      0.00       113\n",
      "         696       1.00      0.01      0.01       509\n",
      "         697       0.00      0.00      0.00       114\n",
      "         698       0.00      0.00      0.00        88\n",
      "         699       0.00      0.00      0.00       298\n",
      "         700       0.00      0.00      0.00        70\n",
      "         701       0.00      0.00      0.00       285\n",
      "         702       0.00      0.00      0.00       382\n",
      "         703       0.00      0.00      0.00       265\n",
      "         704       0.00      0.00      0.00       304\n",
      "         705       0.86      0.34      0.49       584\n",
      "         706       0.00      0.00      0.00        87\n",
      "         707       0.90      0.63      0.74      2622\n",
      "         708       0.50      0.01      0.01       168\n",
      "         709       0.00      0.00      0.00        88\n",
      "         710       0.00      0.00      0.00       107\n",
      "         711       0.00      0.00      0.00        78\n",
      "         712       0.00      0.00      0.00       245\n",
      "         713       0.00      0.00      0.00        91\n",
      "         714       0.00      0.00      0.00        88\n",
      "         715       0.00      0.00      0.00       123\n",
      "         716       0.88      0.31      0.46       401\n",
      "         717       0.00      0.00      0.00       141\n",
      "         718       0.00      0.00      0.00        74\n",
      "         719       0.00      0.00      0.00        95\n",
      "         720       0.95      0.30      0.45       125\n",
      "         721       0.00      0.00      0.00       160\n",
      "         722       0.00      0.00      0.00       276\n",
      "         723       0.77      0.38      0.51       487\n",
      "         724       0.00      0.00      0.00        78\n",
      "         725       0.00      0.00      0.00        83\n",
      "         726       0.00      0.00      0.00       100\n",
      "         727       0.00      0.00      0.00        98\n",
      "         728       0.00      0.00      0.00       122\n",
      "         729       0.00      0.00      0.00       117\n",
      "         730       0.00      0.00      0.00       235\n",
      "         731       1.00      0.23      0.38       129\n",
      "         732       0.00      0.00      0.00       215\n",
      "         733       0.77      0.45      0.57      3009\n",
      "         734       0.96      0.54      0.69      4559\n",
      "         735       0.00      0.00      0.00       351\n",
      "         736       0.00      0.00      0.00        70\n",
      "         737       0.00      0.00      0.00       215\n",
      "         738       0.00      0.00      0.00       133\n",
      "         739       0.00      0.00      0.00       200\n",
      "         740       0.00      0.00      0.00        92\n",
      "         741       1.00      0.69      0.82       494\n",
      "         742       0.00      0.00      0.00        94\n",
      "         743       0.00      0.00      0.00        78\n",
      "         744       0.00      0.00      0.00       166\n",
      "         745       0.00      0.00      0.00       129\n",
      "         746       0.00      0.00      0.00       218\n",
      "         747       0.00      0.00      0.00       111\n",
      "         748       0.00      0.00      0.00       517\n",
      "         749       0.00      0.00      0.00       220\n",
      "         750       0.00      0.00      0.00        82\n",
      "         751       0.00      0.00      0.00       199\n",
      "         752       1.00      0.01      0.02        98\n",
      "         753       0.00      0.00      0.00       549\n",
      "         754       0.00      0.00      0.00        87\n",
      "         755       0.00      0.00      0.00      1333\n",
      "         756       0.93      0.28      0.43       154\n",
      "         757       0.00      0.00      0.00        95\n",
      "         758       0.00      0.00      0.00       391\n",
      "         759       0.87      0.71      0.78       181\n",
      "         760       0.91      0.05      0.09       218\n",
      "         761       0.00      0.00      0.00       133\n",
      "         762       1.00      0.00      0.00       567\n",
      "         763       0.00      0.00      0.00       297\n",
      "         764       0.78      0.29      0.42       429\n",
      "         765       0.00      0.00      0.00       650\n",
      "         766       0.00      0.00      0.00       122\n",
      "         767       0.00      0.00      0.00       114\n",
      "         768       0.00      0.00      0.00        93\n",
      "         769       0.85      0.67      0.75      1083\n",
      "         770       0.00      0.00      0.00       298\n",
      "         771       0.00      0.00      0.00       126\n",
      "         772       0.73      0.11      0.20       657\n",
      "         773       0.00      0.00      0.00        78\n",
      "         774       0.86      0.64      0.73      1697\n",
      "         775       0.00      0.00      0.00       238\n",
      "         776       0.00      0.00      0.00       285\n",
      "         777       0.00      0.00      0.00        84\n",
      "         778       1.00      0.03      0.05        75\n",
      "         779       0.79      0.07      0.13       160\n",
      "         780       0.00      0.00      0.00       107\n",
      "         781       1.00      0.11      0.20        72\n",
      "         782       1.00      0.01      0.02       111\n",
      "         783       0.00      0.00      0.00       155\n",
      "         784       0.75      0.49      0.59       367\n",
      "         785       0.78      0.52      0.63       721\n",
      "         786       0.00      0.00      0.00        84\n",
      "         787       0.98      0.48      0.64       130\n",
      "         788       0.00      0.00      0.00       573\n",
      "         789       0.00      0.00      0.00       139\n",
      "         790       0.77      0.61      0.68       851\n",
      "         791       0.00      0.00      0.00       266\n",
      "         792       0.00      0.00      0.00       109\n",
      "         793       0.65      0.26      0.37      6285\n",
      "         794       0.00      0.00      0.00        76\n",
      "         795       0.00      0.00      0.00        98\n",
      "         796       0.00      0.00      0.00      4325\n",
      "         797       0.00      0.00      0.00       190\n",
      "         798       0.00      0.00      0.00      1454\n",
      "         799       0.00      0.00      0.00       843\n",
      "         800       0.00      0.00      0.00       101\n",
      "         801       0.00      0.00      0.00        70\n",
      "         802       0.00      0.00      0.00        83\n",
      "         803       1.00      0.58      0.74       115\n",
      "         804       0.92      0.67      0.77       777\n",
      "         805       0.90      0.05      0.10       168\n",
      "         806       0.96      0.71      0.82       263\n",
      "         807       0.77      0.43      0.55       343\n",
      "         808       0.00      0.00      0.00        90\n",
      "         809       0.00      0.00      0.00        72\n",
      "         810       0.00      0.00      0.00       111\n",
      "         811       0.00      0.00      0.00       110\n",
      "         812       0.00      0.00      0.00       272\n",
      "         813       0.00      0.00      0.00       167\n",
      "         814       0.80      0.22      0.34       401\n",
      "         815       0.00      0.00      0.00        78\n",
      "         816       0.00      0.00      0.00       562\n",
      "         817       0.00      0.00      0.00       176\n",
      "         818       0.00      0.00      0.00       135\n",
      "         819       0.00      0.00      0.00      1800\n",
      "         820       0.00      0.00      0.00       214\n",
      "         821       1.00      0.13      0.22        79\n",
      "         822       0.00      0.00      0.00       121\n",
      "         823       0.00      0.00      0.00       157\n",
      "         824       0.00      0.00      0.00       133\n",
      "         825       0.00      0.00      0.00        79\n",
      "         826       0.00      0.00      0.00        74\n",
      "         827       0.00      0.00      0.00        86\n",
      "         828       0.84      0.76      0.80       193\n",
      "         829       0.00      0.00      0.00        89\n",
      "         830       0.90      0.50      0.65       119\n",
      "         831       0.94      0.71      0.81      1234\n",
      "         832       0.93      0.32      0.47       791\n",
      "         833       0.00      0.00      0.00       100\n",
      "         834       0.83      0.05      0.09       101\n",
      "         835       0.00      0.00      0.00        82\n",
      "         836       0.96      0.66      0.78       227\n",
      "         837       0.00      0.00      0.00       205\n",
      "         838       0.00      0.00      0.00       409\n",
      "         839       0.00      0.00      0.00        81\n",
      "         840       0.00      0.00      0.00        87\n",
      "         841       0.00      0.00      0.00        69\n",
      "         842       0.00      0.00      0.00       142\n",
      "         843       0.00      0.00      0.00       182\n",
      "         844       0.00      0.00      0.00       261\n",
      "         845       0.89      0.04      0.07       215\n",
      "         846       0.00      0.00      0.00        75\n",
      "         847       1.00      0.02      0.03       114\n",
      "         848       0.00      0.00      0.00       752\n",
      "         849       0.00      0.00      0.00       113\n",
      "         850       0.00      0.00      0.00       112\n",
      "         851       0.00      0.00      0.00       618\n",
      "         852       0.00      0.00      0.00       369\n",
      "         853       0.00      0.00      0.00        72\n",
      "         854       0.00      0.00      0.00        77\n",
      "         855       0.00      0.00      0.00       107\n",
      "         856       0.00      0.00      0.00       239\n",
      "         857       0.85      0.61      0.71       367\n",
      "         858       0.00      0.00      0.00       125\n",
      "         859       0.00      0.00      0.00        74\n",
      "         860       0.00      0.00      0.00       138\n",
      "         861       0.00      0.00      0.00       272\n",
      "         862       0.00      0.00      0.00       153\n",
      "         863       0.00      0.00      0.00       195\n",
      "         864       0.00      0.00      0.00       112\n",
      "         865       0.00      0.00      0.00       155\n",
      "         866       0.95      0.53      0.68       105\n",
      "         867       0.00      0.00      0.00        78\n",
      "         868       0.85      0.61      0.71       483\n",
      "         869       0.00      0.00      0.00        99\n",
      "         870       1.00      0.02      0.04       212\n",
      "         871       0.00      0.00      0.00       296\n",
      "         872       0.00      0.00      0.00        73\n",
      "         873       0.00      0.00      0.00        88\n",
      "         874       0.00      0.00      0.00       177\n",
      "         875       0.71      0.34      0.46       208\n",
      "         876       0.00      0.00      0.00       232\n",
      "         877       0.00      0.00      0.00        74\n",
      "         878       0.86      0.22      0.35      1266\n",
      "         879       1.00      0.04      0.08        75\n",
      "         880       0.82      0.70      0.76       298\n",
      "         881       0.00      0.00      0.00        84\n",
      "         882       0.00      0.00      0.00       423\n",
      "         883       0.00      0.00      0.00       267\n",
      "         884       1.00      0.01      0.02       120\n",
      "         885       0.00      0.00      0.00       113\n",
      "         886       0.00      0.00      0.00       112\n",
      "         887       0.00      0.00      0.00       133\n",
      "         888       0.00      0.00      0.00       263\n",
      "         889       0.00      0.00      0.00       179\n",
      "         890       0.60      0.08      0.14       152\n",
      "         891       0.00      0.00      0.00       114\n",
      "         892       0.72      0.40      0.52       667\n",
      "         893       0.00      0.00      0.00        87\n",
      "         894       0.00      0.00      0.00       271\n",
      "         895       0.00      0.00      0.00       206\n",
      "         896       0.75      0.46      0.57       179\n",
      "         897       1.00      0.16      0.28       137\n",
      "         898       0.75      0.48      0.58       452\n",
      "         899       0.73      0.41      0.52      1199\n",
      "         900       0.00      0.00      0.00        81\n",
      "         901       0.76      0.08      0.14       695\n",
      "         902       0.00      0.00      0.00       132\n",
      "         903       0.00      0.00      0.00       222\n",
      "         904       0.00      0.00      0.00        74\n",
      "         905       0.00      0.00      0.00       594\n",
      "         906       0.00      0.00      0.00       229\n",
      "         907       0.00      0.00      0.00        89\n",
      "         908       0.00      0.00      0.00        85\n",
      "         909       0.00      0.00      0.00       107\n",
      "         910       0.00      0.00      0.00       397\n",
      "         911       0.00      0.00      0.00      1174\n",
      "         912       0.75      0.02      0.04       291\n",
      "         913       0.00      0.00      0.00       992\n",
      "         914       0.00      0.00      0.00       496\n",
      "         915       0.94      0.28      0.43      2509\n",
      "         916       0.00      0.00      0.00       407\n",
      "         917       0.94      0.41      0.57       758\n",
      "         918       0.98      0.40      0.56       286\n",
      "         919       0.00      0.00      0.00       252\n",
      "         920       0.00      0.00      0.00        94\n",
      "         921       0.00      0.00      0.00       658\n",
      "         922       0.00      0.00      0.00        98\n",
      "         923       0.00      0.00      0.00       342\n",
      "         924       0.00      0.00      0.00        73\n",
      "         925       0.00      0.00      0.00       168\n",
      "         926       0.00      0.00      0.00        71\n",
      "         927       0.00      0.00      0.00       146\n",
      "         928       0.00      0.00      0.00        87\n",
      "         929       0.97      0.73      0.83       518\n",
      "         930       0.67      0.00      0.01       743\n",
      "         931       0.00      0.00      0.00        70\n",
      "         932       0.00      0.00      0.00      2191\n",
      "         933       0.00      0.00      0.00       330\n",
      "         934       0.00      0.00      0.00      1653\n",
      "         935       0.00      0.00      0.00       884\n",
      "         936       1.00      0.01      0.02       111\n",
      "         937       0.00      0.00      0.00       104\n",
      "         938       0.94      0.74      0.83      1607\n",
      "         939       0.00      0.00      0.00        89\n",
      "         940       0.00      0.00      0.00       213\n",
      "         941       0.00      0.00      0.00       609\n",
      "         942       0.00      0.00      0.00       210\n",
      "         943       0.00      0.00      0.00        98\n",
      "         944       0.00      0.00      0.00        96\n",
      "         945       0.78      0.15      0.26      1450\n",
      "         946       0.00      0.00      0.00       102\n",
      "         947       0.00      0.00      0.00       276\n",
      "         948       0.00      0.00      0.00       155\n",
      "         949       0.00      0.00      0.00        87\n",
      "         950       0.00      0.00      0.00       112\n",
      "         951       0.00      0.00      0.00        89\n",
      "         952       0.00      0.00      0.00        73\n",
      "         953       0.00      0.00      0.00        76\n",
      "         954       0.00      0.00      0.00        76\n",
      "         955       0.00      0.00      0.00       135\n",
      "         956       0.00      0.00      0.00        84\n",
      "         957       0.00      0.00      0.00      1103\n",
      "         958       0.00      0.00      0.00       117\n",
      "         959       0.00      0.00      0.00      2780\n",
      "         960       0.00      0.00      0.00       325\n",
      "         961       0.00      0.00      0.00       101\n",
      "         962       0.67      0.01      0.02       229\n",
      "         963       0.00      0.00      0.00       331\n",
      "         964       0.00      0.00      0.00       211\n",
      "         965       0.00      0.00      0.00        84\n",
      "         966       0.00      0.00      0.00       111\n",
      "         967       0.00      0.00      0.00       289\n",
      "         968       1.00      0.00      0.01       229\n",
      "         969       0.00      0.00      0.00       200\n",
      "         970       0.84      0.21      0.34      2182\n",
      "         971       1.00      0.69      0.81       192\n",
      "         972       1.00      0.02      0.03       113\n",
      "         973       0.97      0.71      0.82       747\n",
      "         974       0.00      0.00      0.00       164\n",
      "         975       0.00      0.00      0.00        95\n",
      "         976       0.97      0.59      0.73      3674\n",
      "         977       0.00      0.00      0.00       173\n",
      "         978       0.00      0.00      0.00       158\n",
      "         979       0.00      0.00      0.00        72\n",
      "         980       0.95      0.42      0.59       142\n",
      "         981       0.00      0.00      0.00        82\n",
      "         982       0.00      0.00      0.00       146\n",
      "         983       0.79      0.31      0.44       697\n",
      "         984       0.87      0.36      0.51      1144\n",
      "         985       0.67      0.00      0.01       462\n",
      "         986       0.68      0.59      0.63      2923\n",
      "         987       0.00      0.00      0.00       211\n",
      "         988       0.00      0.00      0.00       125\n",
      "         989       0.00      0.00      0.00        77\n",
      "         990       0.99      0.45      0.62       147\n",
      "         991       0.90      0.61      0.73       379\n",
      "         992       0.89      0.32      0.47       311\n",
      "         993       0.95      0.65      0.77       645\n",
      "         994       0.00      0.00      0.00       100\n",
      "         995       0.00      0.00      0.00        87\n",
      "         996       0.83      0.09      0.17       106\n",
      "         997       0.00      0.00      0.00        76\n",
      "         998       0.93      0.58      0.71       780\n",
      "         999       0.00      0.00      0.00       126\n",
      "\n",
      "   micro avg       0.87      0.26      0.40    460175\n",
      "   macro avg       0.24      0.10      0.13    460175\n",
      "weighted avg       0.56      0.26      0.34    460175\n",
      " samples avg       0.49      0.29      0.35    460175\n",
      "\n"
     ]
    }
   ],
   "source": [
    "y_predicted2 = classifier2.predict(X_test)\n",
    "\n",
    "print(\"Accuracy :\",metrics.accuracy_score(y_test,y_predicted2 ))\n",
    "print(\"Hamming loss \",metrics.hamming_loss(y_test,y_predicted2 ))\n",
    "\n",
    "\n",
    "precision = precision_score(y_test, y_predicted2 , average='micro')\n",
    "recall = recall_score(y_test, y_predicted2 , average='micro')\n",
    "f1 = f1_score(y_test, y_predicted2 , average='micro')\n",
    " \n",
    "print(\"Micro-average quality numbers\")\n",
    "print(\"Precision: {:.4f}, Recall: {:.4f}, F1-measure: {:.4f}\".format(precision, recall, f1))\n",
    "\n",
    "precision = precision_score(y_test, y_predicted2 , average='macro')\n",
    "recall = recall_score(y_test, y_predicted2 , average='macro')\n",
    "f1 = f1_score(y_test, y_predicted2 , average='macro')\n",
    " \n",
    "print(\"Macro-average quality numbers\")\n",
    "print(\"Precision: {:.4f}, Recall: {:.4f}, F1-measure: {:.4f}\".format(precision, recall, f1))\n",
    "\n",
    "print (metrics.classification_report(y_test, y_predicted2 ))\n"
   ]
  },
  {
   "cell_type": "markdown",
   "metadata": {},
   "source": [
    "### Observations:-\n",
    "\n",
    "- Precision: 0.8706, Recall: 0.2585, F1-measure: 0.3986\n",
    "- SGD Classifier with hinge loss performs slightly better than SGD with logloss.\n"
   ]
  },
  {
   "cell_type": "markdown",
   "metadata": {},
   "source": [
    "### Experiment 2: AvgW2Vec + Tfidf features +SVD"
   ]
  },
  {
   "cell_type": "code",
   "execution_count": 33,
   "metadata": {},
   "outputs": [
    {
     "name": "stdout",
     "output_type": "stream",
     "text": [
      "(999998, 11)\n",
      "PostTypeId        0\n",
      "Question_Id       0\n",
      "Title             0\n",
      "Tags              0\n",
      "AnswerCount       0\n",
      "ViewCount         0\n",
      "Body              0\n",
      "Score             0\n",
      "Answer_corpus     0\n",
      "Cleaned_Titles    1\n",
      "Cleaned_Tags      0\n",
      "dtype: int64\n",
      "(999997, 11)\n",
      "CPU times: user 29.7 s, sys: 591 ms, total: 30.3 s\n",
      "Wall time: 30.3 s\n"
     ]
    }
   ],
   "source": [
    "%%time\n",
    "df = pd.read_csv(\"Cleaned_title_tags.csv\")\n",
    "print(df.shape)\n",
    "print(df.isnull().sum())\n",
    "df.dropna(inplace=True)\n",
    "print(df.shape)"
   ]
  },
  {
   "cell_type": "markdown",
   "metadata": {},
   "source": [
    "### Load custom-trained w2v model and compute sentence embeddings"
   ]
  },
  {
   "cell_type": "code",
   "execution_count": 35,
   "metadata": {},
   "outputs": [
    {
     "name": "stderr",
     "output_type": "stream",
     "text": [
      "INFO - 06:53:07: loading Word2Vec object from model/custom_trained_w2v/word2vec_v2.model\n",
      "INFO - 06:53:13: loading trainables recursively from model/custom_trained_w2v/word2vec_v2.model.trainables.* with mmap=None\n",
      "INFO - 06:53:13: loading syn1neg from model/custom_trained_w2v/word2vec_v2.model.trainables.syn1neg.npy with mmap=None\n",
      "INFO - 06:53:14: loading wv recursively from model/custom_trained_w2v/word2vec_v2.model.wv.* with mmap=None\n",
      "INFO - 06:53:14: loading vectors from model/custom_trained_w2v/word2vec_v2.model.wv.vectors.npy with mmap=None\n",
      "INFO - 06:53:14: setting ignored attribute vectors_norm to None\n",
      "INFO - 06:53:14: loading vocabulary recursively from model/custom_trained_w2v/word2vec_v2.model.vocabulary.* with mmap=None\n",
      "INFO - 06:53:14: setting ignored attribute cum_table to None\n",
      "INFO - 06:53:14: loaded model/custom_trained_w2v/word2vec_v2.model\n"
     ]
    }
   ],
   "source": [
    "from gensim.models import Word2Vec\n",
    "def get_embedding(sentence):\n",
    "    '''Get 300 dim word embedding for each wrod from custom trained w2v model.\n",
    "       Avg word embedding to create sentence embedding\n",
    "       \n",
    "       Function accepets only one parameter - sentence (text input)\n",
    "       returns - 300 dim sentence embedding'''\n",
    "    \n",
    "    custom_w2v = []\n",
    "    for word in sentence.split():\n",
    "        #print(word)\n",
    "        if (word not in final_stopwords):\n",
    "            try:\n",
    "                custom_w2v.append(loaded_model[word]) #keyerror\n",
    "            except:\n",
    "                pass\n",
    "         \n",
    "        #print(len(pretrained_w2v))\n",
    "    avg_w2v = np.array(custom_w2v).mean(axis=0)\n",
    "    #print(avg_w2v.shape)\n",
    "    return avg_w2v\n",
    "\n",
    "\n",
    "loaded_model = Word2Vec.load(\"model/custom_trained_w2v/word2vec_v2.model\")\n"
   ]
  },
  {
   "cell_type": "code",
   "execution_count": 38,
   "metadata": {
    "collapsed": true
   },
   "outputs": [],
   "source": [
    "# question related to for loop could be there. So do not remove word ' for' from vocab.\n",
    "# between functions exists in many programming langugage.\n",
    "# to and from should not be removed.\n",
    "# nor operator should not be removed.\n",
    "\n",
    "stop_words = stopwords.words('english')\n",
    "final_stopwords = list(set(stop_words) - set(['for', 'between', 'to', 'from', 'nor']))\n",
    "final_stopwords.append('would')"
   ]
  },
  {
   "cell_type": "code",
   "execution_count": 39,
   "metadata": {},
   "outputs": [
    {
     "name": "stderr",
     "output_type": "stream",
     "text": [
      "  0%|          | 0/999997 [00:00<?, ?it/s]/home/satishshah2660/anaconda3/lib/python3.5/site-packages/ipykernel/__main__.py:14: DeprecationWarning: Call to deprecated `__getitem__` (Method will be removed in 4.0.0, use self.wv.__getitem__() instead).\n",
      "  0%|          | 3214/999997 [00:00<01:31, 10946.69it/s]/home/satishshah2660/anaconda3/lib/python3.5/site-packages/ipykernel/__main__.py:19: RuntimeWarning: Mean of empty slice.\n",
      "100%|██████████| 999997/999997 [01:32<00:00, 10836.00it/s]\n"
     ]
    },
    {
     "name": "stdout",
     "output_type": "stream",
     "text": [
      "CPU times: user 1min 33s, sys: 702 ms, total: 1min 34s\n",
      "Wall time: 1min 33s\n"
     ]
    }
   ],
   "source": [
    "\n",
    "%%time\n",
    "df['Sentence_Embedding'] = df['Cleaned_Titles'].progress_apply(lambda x: get_embedding(x))\n",
    "df.dropna(inplace=True)\n",
    "\n",
    "X = df['Sentence_Embedding'].values\n",
    "X.shape"
   ]
  },
  {
   "cell_type": "code",
   "execution_count": 40,
   "metadata": {},
   "outputs": [
    {
     "name": "stdout",
     "output_type": "stream",
     "text": [
      "CPU times: user 5.47 s, sys: 42.5 ms, total: 5.51 s\n",
      "Wall time: 5.51 s\n"
     ]
    },
    {
     "data": {
      "text/plain": [
       "(999383, 1000)"
      ]
     },
     "execution_count": 40,
     "metadata": {},
     "output_type": "execute_result"
    }
   ],
   "source": [
    "%%time\n",
    "# Convert target variable in to one_hot vector\n",
    "bow_vec = CountVectorizer(tokenizer = lambda x: x.split(' '),stop_words = final_stopwords, max_features=1000, binary=True)\n",
    "y = bow_vec.fit_transform(df['Cleaned_Tags'])\n",
    "y.shape"
   ]
  },
  {
   "cell_type": "markdown",
   "metadata": {},
   "source": [
    "### Compute tf-idf features"
   ]
  },
  {
   "cell_type": "code",
   "execution_count": 41,
   "metadata": {
    "collapsed": true
   },
   "outputs": [],
   "source": [
    "clean_titles = df['Cleaned_Titles']"
   ]
  },
  {
   "cell_type": "code",
   "execution_count": 42,
   "metadata": {},
   "outputs": [
    {
     "data": {
      "text/plain": [
       "22"
      ]
     },
     "execution_count": 42,
     "metadata": {},
     "output_type": "execute_result"
    }
   ],
   "source": [
    "import gc\n",
    "del df, loaded_model\n",
    "gc.collect()"
   ]
  },
  {
   "cell_type": "code",
   "execution_count": 43,
   "metadata": {},
   "outputs": [
    {
     "name": "stdout",
     "output_type": "stream",
     "text": [
      "TfidfVectorizer(analyzer='word', binary=False, decode_error='strict',\n",
      "                dtype=<class 'numpy.float64'>, encoding='utf-8',\n",
      "                input='content', lowercase=True, max_df=1.0, max_features=None,\n",
      "                min_df=1, ngram_range=(1, 1), norm='l2', preprocessor=None,\n",
      "                smooth_idf=True,\n",
      "                stop_words=['at', 'than', 'they', 'during', \"weren't\", 'below',\n",
      "                            'because', 'won', 'under', \"you'd\", 'while',\n",
      "                            'where', 'few', 'my', 'itself', 'too', 'y', 'were',\n",
      "                            're', 'over', 'and', 'wasn', 'own', 'didn', 'haven',\n",
      "                            'both', 'into', 'don', 'ours', 'why', ...],\n",
      "                strip_accents=None, sublinear_tf=False,\n",
      "                token_pattern='(?u)\\\\b\\\\w\\\\w+\\\\b',\n",
      "                tokenizer=<function <lambda> at 0x7ff393de6510>, use_idf=True,\n",
      "                vocabulary=None)\n"
     ]
    },
    {
     "data": {
      "text/plain": [
       "(999383, 159490)"
      ]
     },
     "execution_count": 43,
     "metadata": {},
     "output_type": "execute_result"
    }
   ],
   "source": [
    "tfidf_vec = TfidfVectorizer(tokenizer = lambda x: x.split(),stop_words=final_stopwords)\n",
    "print(tfidf_vec)\n",
    "tfidf_matrix = tfidf_vec.fit_transform(clean_titles)\n",
    "tfidf_matrix.shape"
   ]
  },
  {
   "cell_type": "markdown",
   "metadata": {},
   "source": [
    "### Observations\n",
    "- We have 1 lakh 59k unique tf-idf features. Concatenating with 300dim sentence embeddings gives us very large number of features to fit in memory.\n",
    "- Using SVD to reduce number of features."
   ]
  },
  {
   "cell_type": "code",
   "execution_count": 44,
   "metadata": {},
   "outputs": [
    {
     "name": "stdout",
     "output_type": "stream",
     "text": [
      "0.18362586169230113\n",
      "(999383, 100) <class 'numpy.ndarray'> (999383,)\n",
      "CPU times: user 2min 51s, sys: 34.6 s, total: 3min 26s\n",
      "Wall time: 1min 32s\n"
     ]
    },
    {
     "data": {
      "text/plain": [
       "((999383, 100), (999383, 300))"
      ]
     },
     "execution_count": 44,
     "metadata": {},
     "output_type": "execute_result"
    }
   ],
   "source": [
    "%%time\n",
    "from sklearn.decomposition import TruncatedSVD\n",
    "\n",
    "svd = TruncatedSVD(n_components=100, random_state=33)\n",
    "reduced_df = svd.fit_transform(tfidf_matrix)\n",
    "\n",
    "a = svd.explained_variance_ratio_\n",
    "print(np.cumsum(a)[-1])\n",
    "print(reduced_df.shape, type(reduced_df), X.shape)\n",
    "\n",
    "X = np.array([x.tolist() for x in X])\n",
    "reduced_df.shape, X.shape"
   ]
  },
  {
   "cell_type": "markdown",
   "metadata": {},
   "source": [
    "### Observations\n",
    "\n",
    "- Experimented with 200 components which preserves around 27% of variance but due to memory constraints reducing it to 100.\n",
    "- 100 components preserves 18% of variance."
   ]
  },
  {
   "cell_type": "markdown",
   "metadata": {
    "collapsed": true
   },
   "source": [
    "### Concatenating sentence embeddings + reduced tfidf features"
   ]
  },
  {
   "cell_type": "code",
   "execution_count": 45,
   "metadata": {},
   "outputs": [
    {
     "data": {
      "text/plain": [
       "(999383, 400)"
      ]
     },
     "execution_count": 45,
     "metadata": {},
     "output_type": "execute_result"
    }
   ],
   "source": [
    "X = np.hstack((X, reduced_df))\n",
    "X.shape"
   ]
  },
  {
   "cell_type": "markdown",
   "metadata": {},
   "source": [
    "### Saving feature dump for future use."
   ]
  },
  {
   "cell_type": "code",
   "execution_count": 46,
   "metadata": {},
   "outputs": [
    {
     "name": "stdout",
     "output_type": "stream",
     "text": [
      "CPU times: user 1.74 s, sys: 3.75 s, total: 5.49 s\n",
      "Wall time: 29.3 s\n"
     ]
    }
   ],
   "source": [
    "%%time\n",
    "import pickle\n",
    "    \n",
    "dump_intermediate_results(X, 'w2v_tfidf_X.pkl')\n",
    "dump_intermediate_results(y, 'w2v_tfidf_y.pkl')"
   ]
  },
  {
   "cell_type": "code",
   "execution_count": 54,
   "metadata": {},
   "outputs": [
    {
     "name": "stdout",
     "output_type": "stream",
     "text": [
      "CPU times: user 639 ms, sys: 5.44 s, total: 6.08 s\n",
      "Wall time: 6.07 s\n"
     ]
    }
   ],
   "source": [
    "%%time\n",
    "X = load_intermediate_results('w2v_tfidf_X.pkl')\n",
    "y = load_intermediate_results('w2v_tfidf_y.pkl')"
   ]
  },
  {
   "cell_type": "code",
   "execution_count": 55,
   "metadata": {},
   "outputs": [
    {
     "data": {
      "text/plain": [
       "((999383, 400), (999383, 1000))"
      ]
     },
     "execution_count": 55,
     "metadata": {},
     "output_type": "execute_result"
    }
   ],
   "source": [
    "X.shape, y.shape"
   ]
  },
  {
   "cell_type": "markdown",
   "metadata": {},
   "source": [
    "## Train-Test Multilabel stratified split"
   ]
  },
  {
   "cell_type": "code",
   "execution_count": 50,
   "metadata": {},
   "outputs": [
    {
     "name": "stdout",
     "output_type": "stream",
     "text": [
      "CPU times: user 17min 23s, sys: 1min 48s, total: 19min 11s\n",
      "Wall time: 19min 11s\n"
     ]
    },
    {
     "data": {
      "text/plain": [
       "((799507,), (199876,))"
      ]
     },
     "execution_count": 50,
     "metadata": {},
     "output_type": "execute_result"
    }
   ],
   "source": [
    "%%time\n",
    "from iterstrat.ml_stratifiers import MultilabelStratifiedKFold\n",
    "msk = MultilabelStratifiedKFold(n_splits=5, random_state=33) # so we divided data into 80-20%\n",
    "\n",
    "\n",
    "#Ideally X,y should be passed, but throws memory error, so we will take index for y and filter X later.\n",
    "#requires dense array\n",
    "data_generator = msk.split(y.toarray(), y.toarray())\n",
    "\n",
    "ytrain_index,ytest_index = next(data_generator) # returns index of train and test\n",
    "ytrain_index.shape,ytest_index.shape"
   ]
  },
  {
   "cell_type": "code",
   "execution_count": 51,
   "metadata": {
    "collapsed": true
   },
   "outputs": [],
   "source": [
    "dump_intermediate_results(ytrain_index, 'ytrain_index2.pkl')\n",
    "dump_intermediate_results(ytest_index, 'ytest_index2.pkl')"
   ]
  },
  {
   "cell_type": "code",
   "execution_count": 57,
   "metadata": {
    "collapsed": true
   },
   "outputs": [],
   "source": [
    "ytrain_index = load_intermediate_results('ytrain_index2.pkl')\n",
    "ytest_index = load_intermediate_results('ytest_index2.pkl')"
   ]
  },
  {
   "cell_type": "code",
   "execution_count": 58,
   "metadata": {},
   "outputs": [
    {
     "data": {
      "text/plain": [
       "((799507, 400), (199876, 400), (799507, 1000), (199876, 1000))"
      ]
     },
     "execution_count": 58,
     "metadata": {},
     "output_type": "execute_result"
    }
   ],
   "source": [
    "y_train = y[ytrain_index]\n",
    "y_test = y[ytest_index]\n",
    "\n",
    "X_train = X[ytrain_index]\n",
    "X_test = X[ytest_index]\n",
    "X_train.shape, X_test.shape, y_train.shape, y_test.shape"
   ]
  },
  {
   "cell_type": "code",
   "execution_count": 40,
   "metadata": {},
   "outputs": [],
   "source": [
    "y1_train = y_train[:,0].toarray()\n",
    "y1_test = y_test[:,0].toarray()"
   ]
  },
  {
   "cell_type": "code",
   "execution_count": 41,
   "metadata": {},
   "outputs": [
    {
     "data": {
      "text/plain": [
       "((799507, 1), (199876, 1))"
      ]
     },
     "execution_count": 41,
     "metadata": {},
     "output_type": "execute_result"
    }
   ],
   "source": [
    "y1_train.shape, y1_test.shape"
   ]
  },
  {
   "cell_type": "code",
   "execution_count": null,
   "metadata": {
    "collapsed": true
   },
   "outputs": [],
   "source": [
    "y1_train = y1_train.flatten()\n",
    "y1_test = y1_test.flatten()"
   ]
  },
  {
   "cell_type": "markdown",
   "metadata": {},
   "source": [
    "## Testing just on one model (Binary Classifier for 1 tag)\n",
    "- To check whether combination of w2v+tfidf features works well or not."
   ]
  },
  {
   "cell_type": "code",
   "execution_count": 64,
   "metadata": {},
   "outputs": [
    {
     "name": "stderr",
     "output_type": "stream",
     "text": [
      "/home/satishshah2660/anaconda3/lib/python3.5/site-packages/sklearn/utils/validation.py:724: DataConversionWarning: A column-vector y was passed when a 1d array was expected. Please change the shape of y to (n_samples, ), for example using ravel().\n",
      "  y = column_or_1d(y, warn=True)\n"
     ]
    },
    {
     "name": "stdout",
     "output_type": "stream",
     "text": [
      "F1 Sore:  0.6150627615062761\n",
      "Recall:  0.5278276481149012\n",
      "Precision:  0.7368421052631579\n"
     ]
    }
   ],
   "source": [
    "clf = SGDClassifier(loss='log', n_jobs=-1, random_state=33)\n",
    "clf.fit(X_train, y1_train)\n",
    "\n",
    "y_predicted_proba = clf.predict_proba(X_test)[:,1]\n",
    "\n",
    "print(\"F1 Sore: \", f1_score(y1_test, (y_predicted_proba>0.4).astype('int')))\n",
    "print(\"Recall: \",recall_score(y1_test, (y_predicted_proba>0.4).astype('int')))\n",
    "print(\"Precision: \",precision_score(y1_test,(y_predicted_proba>0.4).astype('int')))"
   ]
  },
  {
   "cell_type": "markdown",
   "metadata": {},
   "source": [
    "### Observation:-\n",
    "- Concatenating w2v + tfidf features is giving more score.\n",
    "- We have taken most frequent tag for prediction so dataset also constituted of enough training data points. \n"
   ]
  },
  {
   "cell_type": "markdown",
   "metadata": {},
   "source": [
    "## Modelling on whole data - gives memeory error so lets try some other technique.\n",
    "\n",
    "- sklearn provides partial_fit method to load data in chunks and train model incrementally.\n",
    "\n",
    "Referenced links:\n",
    "- https://towardsdatascience.com/strategies-to-train-out-of-memory-data-with-scikit-learn-7b2ed15b9a80\n",
    "- https://scikit-learn.org/0.15/modules/scaling_strategies.html\n",
    "\n",
    "\n",
    "Partial_fit method supports below classification models only:- <br>\n",
    " Classification: MultinomialNB, BernoulliNB, SGDClassifier, PassiveAggressiveClassifier, Perceptron\n",
    " \n",
    " \n",
    "Tree based models are not supported which makes sense as they require whole data to be in memory to train individual base learners on subset of rows and columns i.e bootstrap sampling + column sampling."
   ]
  },
  {
   "cell_type": "markdown",
   "metadata": {},
   "source": [
    "### Testing on 1 model of binary classification\n",
    "- Some sources mention partial_fit gives poor performance then fit() method.\n",
    "- So lets test on one model only to check whether this method yeilds same result as fit or not."
   ]
  },
  {
   "cell_type": "code",
   "execution_count": 68,
   "metadata": {},
   "outputs": [],
   "source": [
    "# https://stackoverflow.com/questions/53972000/built-in-method-for-chunking-a-numpy-array\n",
    "def spliterate(X,y, chunk):\n",
    "    '''This '''\n",
    "    counter = 1\n",
    "    for start in range(0, X.size+1, chunk):\n",
    "        print(\"Batch {} Started: \".format(counter))\n",
    "        if (counter > (X.shape[0]/chunk)):\n",
    "            break\n",
    "        else:\n",
    "            yield X[start:start + chunk], y[start:start + chunk]\n",
    "            counter = counter+1"
   ]
  },
  {
   "cell_type": "code",
   "execution_count": 69,
   "metadata": {},
   "outputs": [],
   "source": [
    "y1_train = y1_train.flatten()\n",
    "y1_test = y1_test.flatten()"
   ]
  },
  {
   "cell_type": "code",
   "execution_count": 70,
   "metadata": {},
   "outputs": [
    {
     "name": "stdout",
     "output_type": "stream",
     "text": [
      "Batch 1 Started: \n",
      "Batch 2 Started: \n",
      "Batch 3 Started: \n",
      "Batch 4 Started: \n",
      "Batch 5 Started: \n",
      "Batch 6 Started: \n",
      "Batch 7 Started: \n",
      "Batch 8 Started: \n",
      "Batch 9 Started: \n",
      "Batch 10 Started: \n",
      "F1 Sore:  0.6150627615062761\n",
      "Recall:  0.5278276481149012\n",
      "Precision:  0.7368421052631579\n"
     ]
    }
   ],
   "source": [
    "#Classification: MultinomialNB, BernoulliNB, SGDClassifier, PassiveAggressiveClassifier, Perceptron\n",
    "#https://towardsdatascience.com/strategies-to-train-out-of-memory-data-with-scikit-learn-7b2ed15b9a80\n",
    "#https://scikit-learn.org/0.15/modules/scaling_strategies.html\n",
    "\n",
    "from sklearn.linear_model import SGDClassifier        \n",
    "clf = SGDClassifier(loss='log',n_jobs=-1, random_state=33)   \n",
    "\n",
    "chunk_size = 88834 # 799506/9 = int number\n",
    "for train_data in spliterate(X_train, y1_train.flatten(),chunk_size):\n",
    "    #print(train_data[0].shape)\n",
    "    clf.partial_fit(train_data[0], train_data[1], classes=[0,1])\n",
    "    \n",
    "    \n",
    "print(\"F1 Sore: \", f1_score(y1_test, (y_predicted_proba>0.4).astype('int')))\n",
    "print(\"Recall: \",recall_score(y1_test, (y_predicted_proba>0.4).astype('int')))\n",
    "print(\"Precision: \",precision_score(y1_test,(y_predicted_proba>0.4).astype('int')))"
   ]
  },
  {
   "cell_type": "markdown",
   "metadata": {},
   "source": [
    "### Observations:-\n",
    "- F1score, precision and recall is same so partial_fit method yeilds same result as fit."
   ]
  },
  {
   "cell_type": "markdown",
   "metadata": {},
   "source": [
    "### Modelling on whole data using partial fit technique"
   ]
  },
  {
   "cell_type": "code",
   "execution_count": null,
   "metadata": {},
   "outputs": [],
   "source": [
    "%%time \n",
    "from sklearn.multiclass import OneVsRestClassifier\n",
    "from sklearn.linear_model import SGDClassifier\n",
    "from sklearn import metrics\n",
    "from sklearn.metrics import f1_score,precision_score,recall_score\n",
    "\n",
    "clf = OneVsRestClassifier(SGDClassifier(loss='log', verbose=2), n_jobs=-1)\n",
    "chunk_size = 88834 # 799506/9 = int number\n",
    "\n",
    "\n",
    "for train_data in spliterate(X_train, y_train,chunk_size):\n",
    "    print(train_data[0].shape)\n",
    "    clf.partial_fit(train_data[0], train_data[1], classes=list(range(0,1000)))\n"
   ]
  },
  {
   "cell_type": "markdown",
   "metadata": {},
   "source": [
    "### Experiment Observation:-\n",
    "- For some reason Kernel hangs and requires to be restarted.\n",
    "- So this technique also doesn't solved our memory issue problem."
   ]
  },
  {
   "cell_type": "markdown",
   "metadata": {},
   "source": [
    "## Next Modelling Idea: To Train binary classifier for each tag individually.\n",
    "\n",
    "- This way we dont need whole data in RAM which causes memory issues.\n",
    "- Model will be trained on data corresponding to one tag only at a time, save model, delete from memory. \n",
    "- In this experiment we can use any models including tree based models like random forest."
   ]
  },
  {
   "cell_type": "markdown",
   "metadata": {},
   "source": [
    "- For creating individual binary classifiers for each tag we will have highly imbalanced data.\n",
    "- For example Lets say we have 12K data points for python tag out of 1lakh datapoints.\n",
    "- So we will undersample negative datapoints (extract randomly of size equal to positive data points)\n",
    "- Save modek and model predictions."
   ]
  },
  {
   "cell_type": "markdown",
   "metadata": {},
   "source": [
    "### Random Forest Classifier"
   ]
  },
  {
   "cell_type": "code",
   "execution_count": 63,
   "metadata": {},
   "outputs": [
    {
     "name": "stderr",
     "output_type": "stream",
     "text": [
      "\r",
      "  0%|          | 0/1000 [00:00<?, ?it/s]"
     ]
    },
    {
     "name": "stdout",
     "output_type": "stream",
     "text": [
      "Roc score 0.9840908472883382 at model 0\n",
      "Best F1 score 0.5018248175182481 at threshold 0.9  model 0\n"
     ]
    },
    {
     "name": "stderr",
     "output_type": "stream",
     "text": [
      "\r",
      "  0%|          | 1/1000 [00:04<1:13:30,  4.42s/it]"
     ]
    },
    {
     "name": "stdout",
     "output_type": "stream",
     "text": [
      "Roc score 0.832284103235612 at model 1\n",
      "Best F1 score 0.33652173913043476 at threshold 0.7000000000000001  model 1\n"
     ]
    },
    {
     "name": "stderr",
     "output_type": "stream",
     "text": [
      "\r",
      "  0%|          | 2/1000 [00:59<9:30:01, 34.27s/it]"
     ]
    },
    {
     "name": "stdout",
     "output_type": "stream",
     "text": [
      "Roc score 0.7983722637329468 at model 2\n",
      "Best F1 score 0.07327586206896551 at threshold 0.9  model 2\n"
     ]
    },
    {
     "name": "stderr",
     "output_type": "stream",
     "text": [
      "\r",
      "  0%|          | 3/1000 [01:03<5:38:12, 20.35s/it]"
     ]
    },
    {
     "name": "stdout",
     "output_type": "stream",
     "text": [
      "Roc score 0.8248596045534569 at model 3\n",
      "Best F1 score 0.1259029927760578 at threshold 0.9  model 3\n"
     ]
    },
    {
     "name": "stderr",
     "output_type": "stream",
     "text": [
      "\r",
      "  0%|          | 4/1000 [01:07<3:54:43, 14.14s/it]"
     ]
    },
    {
     "name": "stdout",
     "output_type": "stream",
     "text": [
      "Roc score 0.8461933368808492 at model 4\n",
      "Best F1 score 0.14372716199756394 at threshold 0.9  model 4\n"
     ]
    },
    {
     "name": "stderr",
     "output_type": "stream",
     "text": [
      "\r",
      "  0%|          | 5/1000 [01:11<2:53:09, 10.44s/it]"
     ]
    },
    {
     "name": "stdout",
     "output_type": "stream",
     "text": [
      "Roc score 0.941677427750583 at model 5\n",
      "Best F1 score 0.03007518796992481 at threshold 0.9  model 5\n"
     ]
    },
    {
     "name": "stderr",
     "output_type": "stream",
     "text": [
      "\r",
      "  1%|          | 6/1000 [01:15<2:12:06,  7.97s/it]"
     ]
    },
    {
     "name": "stdout",
     "output_type": "stream",
     "text": [
      "Roc score 0.9169667450107091 at model 6\n",
      "Best F1 score 0.09320905459387484 at threshold 0.9  model 6\n"
     ]
    },
    {
     "name": "stderr",
     "output_type": "stream",
     "text": [
      "\r",
      "  1%|          | 7/1000 [01:18<1:48:12,  6.54s/it]"
     ]
    },
    {
     "name": "stdout",
     "output_type": "stream",
     "text": [
      "Roc score 0.9606459449982467 at model 7\n",
      "Best F1 score 0.3735632183908046 at threshold 0.8  model 7\n"
     ]
    },
    {
     "name": "stderr",
     "output_type": "stream",
     "text": [
      "\r",
      "  1%|          | 8/1000 [01:22<1:32:30,  5.59s/it]"
     ]
    },
    {
     "name": "stdout",
     "output_type": "stream",
     "text": [
      "Roc score 0.980070008341559 at model 8\n",
      "Best F1 score 0.15882352941176472 at threshold 0.9  model 8\n"
     ]
    },
    {
     "name": "stderr",
     "output_type": "stream",
     "text": [
      "\r",
      "  1%|          | 9/1000 [01:25<1:18:46,  4.77s/it]"
     ]
    },
    {
     "name": "stdout",
     "output_type": "stream",
     "text": [
      "Roc score 0.8713951914971052 at model 9\n",
      "Best F1 score 0.04838709677419355 at threshold 0.9  model 9\n"
     ]
    },
    {
     "name": "stderr",
     "output_type": "stream",
     "text": [
      "\r",
      "  1%|          | 10/1000 [01:28<1:11:00,  4.30s/it]"
     ]
    },
    {
     "name": "stdout",
     "output_type": "stream",
     "text": [
      "Roc score 0.9027380184558941 at model 10\n",
      "Best F1 score 0.15281501340482576 at threshold 0.8  model 10\n"
     ]
    },
    {
     "name": "stderr",
     "output_type": "stream",
     "text": [
      "\r",
      "  1%|          | 11/1000 [01:32<1:10:52,  4.30s/it]"
     ]
    },
    {
     "name": "stdout",
     "output_type": "stream",
     "text": [
      "Roc score 0.9475343250021877 at model 11\n",
      "Best F1 score 0.12639405204460968 at threshold 0.9  model 11\n"
     ]
    },
    {
     "name": "stderr",
     "output_type": "stream",
     "text": [
      "\r",
      "  1%|          | 12/1000 [01:35<1:05:39,  3.99s/it]"
     ]
    },
    {
     "name": "stdout",
     "output_type": "stream",
     "text": [
      "Roc score 0.9203812462562717 at model 12\n",
      "Best F1 score 0.3277339732601988 at threshold 0.8  model 12\n"
     ]
    },
    {
     "name": "stderr",
     "output_type": "stream",
     "text": [
      "\r",
      "  1%|▏         | 13/1000 [01:43<1:25:27,  5.20s/it]"
     ]
    },
    {
     "name": "stdout",
     "output_type": "stream",
     "text": [
      "Roc score 0.9503470021968687 at model 13\n",
      "Best F1 score 0.4490861618798956 at threshold 0.9  model 13\n"
     ]
    },
    {
     "name": "stderr",
     "output_type": "stream",
     "text": [
      "\r",
      "  1%|▏         | 14/1000 [01:47<1:17:51,  4.74s/it]"
     ]
    },
    {
     "name": "stdout",
     "output_type": "stream",
     "text": [
      "Roc score 0.9633678199546534 at model 14\n",
      "Best F1 score 0.2727272727272727 at threshold 0.9  model 14\n"
     ]
    },
    {
     "name": "stderr",
     "output_type": "stream",
     "text": [
      "\r",
      "  2%|▏         | 15/1000 [01:51<1:15:36,  4.61s/it]"
     ]
    },
    {
     "name": "stdout",
     "output_type": "stream",
     "text": [
      "Roc score 0.9313107232039548 at model 15\n",
      "Best F1 score 0.3013698630136986 at threshold 0.9  model 15\n"
     ]
    },
    {
     "name": "stderr",
     "output_type": "stream",
     "text": [
      "\r",
      "  2%|▏         | 16/1000 [01:55<1:09:25,  4.23s/it]"
     ]
    },
    {
     "name": "stdout",
     "output_type": "stream",
     "text": [
      "Roc score 0.9374201276622722 at model 16\n",
      "Best F1 score 0.09836065573770493 at threshold 0.9  model 16\n"
     ]
    },
    {
     "name": "stderr",
     "output_type": "stream",
     "text": [
      "\r",
      "  2%|▏         | 17/1000 [01:58<1:04:06,  3.91s/it]"
     ]
    },
    {
     "name": "stdout",
     "output_type": "stream",
     "text": [
      "Roc score 0.9549711212923389 at model 17\n",
      "Best F1 score 0.04761904761904763 at threshold 0.9  model 17\n"
     ]
    },
    {
     "name": "stderr",
     "output_type": "stream",
     "text": [
      "\r",
      "  2%|▏         | 18/1000 [02:01<1:00:25,  3.69s/it]"
     ]
    },
    {
     "name": "stdout",
     "output_type": "stream",
     "text": [
      "Roc score 0.9325454578368405 at model 18\n",
      "Best F1 score 0.1482444733420026 at threshold 0.9  model 18\n"
     ]
    },
    {
     "name": "stderr",
     "output_type": "stream",
     "text": [
      "\r",
      "  2%|▏         | 19/1000 [02:05<1:01:51,  3.78s/it]"
     ]
    },
    {
     "name": "stdout",
     "output_type": "stream",
     "text": [
      "Roc score 0.9131667717949232 at model 19\n",
      "Best F1 score 0.11392405063291139 at threshold 0.9  model 19\n"
     ]
    },
    {
     "name": "stderr",
     "output_type": "stream",
     "text": [
      "\r",
      "  2%|▏         | 20/1000 [02:08<59:10,  3.62s/it]  "
     ]
    },
    {
     "name": "stdout",
     "output_type": "stream",
     "text": [
      "Roc score 0.9775620867684758 at model 20\n",
      "Best F1 score 0.2327272727272727 at threshold 0.9  model 20\n"
     ]
    },
    {
     "name": "stderr",
     "output_type": "stream",
     "text": [
      "\r",
      "  2%|▏         | 21/1000 [02:11<55:52,  3.42s/it]"
     ]
    },
    {
     "name": "stdout",
     "output_type": "stream",
     "text": [
      "Roc score 0.9250650656244981 at model 21\n",
      "Best F1 score 0.3186582809224319 at threshold 0.9  model 21\n"
     ]
    },
    {
     "name": "stderr",
     "output_type": "stream",
     "text": [
      "\r",
      "  2%|▏         | 22/1000 [02:15<57:39,  3.54s/it]"
     ]
    },
    {
     "name": "stdout",
     "output_type": "stream",
     "text": [
      "Roc score 0.9260993081162164 at model 22\n",
      "Best F1 score 0.49211195928753176 at threshold 0.9  model 22\n"
     ]
    },
    {
     "name": "stderr",
     "output_type": "stream",
     "text": [
      "\r",
      "  2%|▏         | 23/1000 [02:27<1:37:14,  5.97s/it]"
     ]
    },
    {
     "name": "stdout",
     "output_type": "stream",
     "text": [
      "Roc score 0.9374497771705159 at model 23\n",
      "Best F1 score 0.14479638009049772 at threshold 0.9  model 23\n"
     ]
    },
    {
     "name": "stderr",
     "output_type": "stream",
     "text": [
      "\r",
      "  2%|▏         | 24/1000 [02:30<1:23:31,  5.13s/it]"
     ]
    },
    {
     "name": "stdout",
     "output_type": "stream",
     "text": [
      "Roc score 0.9501920241731221 at model 24\n",
      "Best F1 score 0.3666113350723263 at threshold 0.8  model 24\n"
     ]
    },
    {
     "name": "stderr",
     "output_type": "stream",
     "text": [
      "\r",
      "  2%|▎         | 25/1000 [02:38<1:39:12,  6.11s/it]"
     ]
    },
    {
     "name": "stdout",
     "output_type": "stream",
     "text": [
      "Roc score 0.9546713293143847 at model 25\n",
      "Best F1 score 0.1085972850678733 at threshold 0.9  model 25\n"
     ]
    },
    {
     "name": "stderr",
     "output_type": "stream",
     "text": [
      "\r",
      "  3%|▎         | 26/1000 [02:42<1:25:40,  5.28s/it]"
     ]
    },
    {
     "name": "stdout",
     "output_type": "stream",
     "text": [
      "Roc score 0.9566803099642682 at model 26\n",
      "Best F1 score 0.1875 at threshold 0.9  model 26\n"
     ]
    },
    {
     "name": "stderr",
     "output_type": "stream",
     "text": [
      "\r",
      "  3%|▎         | 27/1000 [02:45<1:15:22,  4.65s/it]"
     ]
    },
    {
     "name": "stdout",
     "output_type": "stream",
     "text": [
      "Roc score 0.9456658149379206 at model 27\n",
      "Best F1 score 0.24358974358974358 at threshold 0.9  model 27\n"
     ]
    },
    {
     "name": "stderr",
     "output_type": "stream",
     "text": [
      "\r",
      "  3%|▎         | 28/1000 [02:48<1:08:39,  4.24s/it]"
     ]
    },
    {
     "name": "stdout",
     "output_type": "stream",
     "text": [
      "Roc score 0.927246040961781 at model 28\n",
      "Best F1 score 0.109375 at threshold 0.9  model 28\n"
     ]
    },
    {
     "name": "stderr",
     "output_type": "stream",
     "text": [
      "\r",
      "  3%|▎         | 29/1000 [02:51<1:03:23,  3.92s/it]"
     ]
    },
    {
     "name": "stdout",
     "output_type": "stream",
     "text": [
      "Roc score 0.9630426637802844 at model 29\n",
      "Best F1 score 0.19444444444444445 at threshold 0.9  model 29\n"
     ]
    },
    {
     "name": "stderr",
     "output_type": "stream",
     "text": [
      "\r",
      "  3%|▎         | 30/1000 [02:54<58:45,  3.63s/it]  "
     ]
    },
    {
     "name": "stdout",
     "output_type": "stream",
     "text": [
      "Roc score 0.9495561186222341 at model 30\n",
      "Best F1 score 0.7351992776989553 at threshold 0.8  model 30\n"
     ]
    },
    {
     "name": "stderr",
     "output_type": "stream",
     "text": [
      "\r",
      "  3%|▎         | 31/1000 [03:15<2:19:22,  8.63s/it]"
     ]
    },
    {
     "name": "stdout",
     "output_type": "stream",
     "text": [
      "Roc score 0.9668957470519843 at model 31\n",
      "Best F1 score 0.23828125000000003 at threshold 0.9  model 31\n"
     ]
    },
    {
     "name": "stderr",
     "output_type": "stream",
     "text": [
      "\r",
      "  3%|▎         | 32/1000 [03:18<1:53:46,  7.05s/it]"
     ]
    },
    {
     "name": "stdout",
     "output_type": "stream",
     "text": [
      "Roc score 0.9704745135126892 at model 32\n",
      "Best F1 score 0.08624898291293735 at threshold 0.9  model 32\n"
     ]
    },
    {
     "name": "stderr",
     "output_type": "stream",
     "text": [
      "\r",
      "  3%|▎         | 33/1000 [03:21<1:34:49,  5.88s/it]"
     ]
    },
    {
     "name": "stdout",
     "output_type": "stream",
     "text": [
      "Roc score 0.9649628852260774 at model 33\n",
      "Best F1 score 0.21220159151193638 at threshold 0.9  model 33\n"
     ]
    },
    {
     "name": "stderr",
     "output_type": "stream",
     "text": [
      "\r",
      "  3%|▎         | 34/1000 [03:24<1:22:03,  5.10s/it]"
     ]
    },
    {
     "name": "stdout",
     "output_type": "stream",
     "text": [
      "Roc score 0.9460673241787597 at model 34\n",
      "Best F1 score 0.04585152838427948 at threshold 0.9  model 34\n"
     ]
    },
    {
     "name": "stderr",
     "output_type": "stream",
     "text": [
      "\r",
      "  4%|▎         | 35/1000 [03:28<1:12:42,  4.52s/it]"
     ]
    },
    {
     "name": "stdout",
     "output_type": "stream",
     "text": [
      "Roc score 0.9539627259638458 at model 35\n",
      "Best F1 score 0.25275827482447344 at threshold 0.9  model 35\n"
     ]
    },
    {
     "name": "stderr",
     "output_type": "stream",
     "text": [
      "\r",
      "  4%|▎         | 36/1000 [03:32<1:10:08,  4.37s/it]"
     ]
    },
    {
     "name": "stdout",
     "output_type": "stream",
     "text": [
      "Roc score 0.9377338843203187 at model 36\n",
      "Best F1 score 0.24309392265193372 at threshold 0.9  model 36\n"
     ]
    },
    {
     "name": "stderr",
     "output_type": "stream",
     "text": [
      "\r",
      "  4%|▎         | 37/1000 [03:35<1:05:14,  4.07s/it]"
     ]
    },
    {
     "name": "stdout",
     "output_type": "stream",
     "text": [
      "Roc score 0.962842195672516 at model 37\n",
      "Best F1 score 0.36363636363636365 at threshold 0.9  model 37\n"
     ]
    },
    {
     "name": "stderr",
     "output_type": "stream",
     "text": [
      "\r",
      "  4%|▍         | 38/1000 [03:39<1:04:18,  4.01s/it]"
     ]
    },
    {
     "name": "stdout",
     "output_type": "stream",
     "text": [
      "Roc score 0.9352318235920852 at model 38\n",
      "Best F1 score 0.13333333333333333 at threshold 0.9  model 38\n"
     ]
    },
    {
     "name": "stderr",
     "output_type": "stream",
     "text": [
      "\r",
      "  4%|▍         | 39/1000 [03:42<1:00:11,  3.76s/it]"
     ]
    },
    {
     "name": "stdout",
     "output_type": "stream",
     "text": [
      "Roc score 0.9412734067054863 at model 39\n",
      "Best F1 score 0.34084661902144037 at threshold 0.9  model 39\n"
     ]
    },
    {
     "name": "stderr",
     "output_type": "stream",
     "text": [
      "\r",
      "  4%|▍         | 40/1000 [03:48<1:11:57,  4.50s/it]"
     ]
    },
    {
     "name": "stdout",
     "output_type": "stream",
     "text": [
      "Roc score 0.9228911399131698 at model 40\n",
      "Best F1 score 0.5222701149425287 at threshold 0.8  model 40\n"
     ]
    },
    {
     "name": "stderr",
     "output_type": "stream",
     "text": [
      "\r",
      "  4%|▍         | 41/1000 [03:57<1:30:46,  5.68s/it]"
     ]
    },
    {
     "name": "stdout",
     "output_type": "stream",
     "text": [
      "Roc score 0.9453357468291809 at model 41\n",
      "Best F1 score 0.13822894168466524 at threshold 0.9  model 41\n"
     ]
    },
    {
     "name": "stderr",
     "output_type": "stream",
     "text": [
      "\r",
      "  4%|▍         | 42/1000 [04:00<1:19:45,  5.00s/it]"
     ]
    },
    {
     "name": "stdout",
     "output_type": "stream",
     "text": [
      "Roc score 0.8651380248781314 at model 42\n",
      "Best F1 score 0.22361219702892887 at threshold 0.9  model 42\n"
     ]
    },
    {
     "name": "stderr",
     "output_type": "stream",
     "text": [
      "\r",
      "  4%|▍         | 43/1000 [04:05<1:18:40,  4.93s/it]"
     ]
    },
    {
     "name": "stdout",
     "output_type": "stream",
     "text": [
      "Roc score 0.9554636673263609 at model 43\n",
      "Best F1 score 0.18791946308724836 at threshold 0.8  model 43\n"
     ]
    },
    {
     "name": "stderr",
     "output_type": "stream",
     "text": [
      "\r",
      "  4%|▍         | 44/1000 [04:08<1:10:06,  4.40s/it]"
     ]
    },
    {
     "name": "stdout",
     "output_type": "stream",
     "text": [
      "Roc score 0.970588683704987 at model 44\n",
      "Best F1 score 0.11729323308270678 at threshold 0.9  model 44\n"
     ]
    },
    {
     "name": "stderr",
     "output_type": "stream",
     "text": [
      "\r",
      "  4%|▍         | 45/1000 [04:11<1:03:10,  3.97s/it]"
     ]
    },
    {
     "name": "stdout",
     "output_type": "stream",
     "text": [
      "Roc score 0.9191808575604676 at model 45\n",
      "Best F1 score 0.0945945945945946 at threshold 0.9  model 45\n"
     ]
    },
    {
     "name": "stderr",
     "output_type": "stream",
     "text": [
      "\r",
      "  5%|▍         | 46/1000 [04:14<59:46,  3.76s/it]  "
     ]
    },
    {
     "name": "stdout",
     "output_type": "stream",
     "text": [
      "Roc score 0.9445754099926844 at model 46\n",
      "Best F1 score 0.32544378698224846 at threshold 0.9  model 46\n"
     ]
    },
    {
     "name": "stderr",
     "output_type": "stream",
     "text": [
      "\r",
      "  5%|▍         | 47/1000 [04:18<58:20,  3.67s/it]"
     ]
    },
    {
     "name": "stdout",
     "output_type": "stream",
     "text": [
      "Roc score 0.9166563477935596 at model 47\n",
      "Best F1 score 0.180385288966725 at threshold 0.9  model 47\n"
     ]
    },
    {
     "name": "stderr",
     "output_type": "stream",
     "text": [
      "\r",
      "  5%|▍         | 48/1000 [04:22<1:02:44,  3.95s/it]"
     ]
    },
    {
     "name": "stdout",
     "output_type": "stream",
     "text": [
      "Roc score 0.9490809343252142 at model 48\n",
      "Best F1 score 0.14345991561181434 at threshold 0.9  model 48\n"
     ]
    },
    {
     "name": "stderr",
     "output_type": "stream",
     "text": [
      "\r",
      "  5%|▍         | 49/1000 [04:26<59:25,  3.75s/it]  "
     ]
    },
    {
     "name": "stdout",
     "output_type": "stream",
     "text": [
      "Roc score 0.9387525587960021 at model 49\n",
      "Best F1 score 0.1791044776119403 at threshold 0.9  model 49\n"
     ]
    },
    {
     "name": "stderr",
     "output_type": "stream",
     "text": [
      "\r",
      "  5%|▌         | 50/1000 [04:29<56:35,  3.57s/it]"
     ]
    },
    {
     "name": "stdout",
     "output_type": "stream",
     "text": [
      "Roc score 0.952441984219951 at model 50\n",
      "Best F1 score 0.14689265536723164 at threshold 0.9  model 50\n"
     ]
    },
    {
     "name": "stderr",
     "output_type": "stream",
     "text": [
      "\r",
      "  5%|▌         | 51/1000 [04:32<55:06,  3.48s/it]"
     ]
    },
    {
     "name": "stdout",
     "output_type": "stream",
     "text": [
      "Roc score 0.9529688706316655 at model 51\n",
      "Best F1 score 0.5555328287993454 at threshold 0.8  model 51\n"
     ]
    },
    {
     "name": "stderr",
     "output_type": "stream",
     "text": [
      "\r",
      "  5%|▌         | 52/1000 [04:42<1:28:04,  5.57s/it]"
     ]
    },
    {
     "name": "stdout",
     "output_type": "stream",
     "text": [
      "Roc score 0.9387258536473454 at model 52\n",
      "Best F1 score 0.08320493066255778 at threshold 0.9  model 52\n"
     ]
    },
    {
     "name": "stderr",
     "output_type": "stream",
     "text": [
      "\r",
      "  5%|▌         | 53/1000 [04:46<1:16:36,  4.85s/it]"
     ]
    },
    {
     "name": "stdout",
     "output_type": "stream",
     "text": [
      "Roc score 0.9425697798000233 at model 53\n",
      "Best F1 score 0.13043478260869565 at threshold 0.9  model 53\n"
     ]
    },
    {
     "name": "stderr",
     "output_type": "stream",
     "text": [
      "\r",
      "  5%|▌         | 54/1000 [04:49<1:07:42,  4.29s/it]"
     ]
    },
    {
     "name": "stdout",
     "output_type": "stream",
     "text": [
      "Roc score 0.9661688206882741 at model 54\n",
      "Best F1 score 0.12979351032448377 at threshold 0.9  model 54\n"
     ]
    },
    {
     "name": "stderr",
     "output_type": "stream",
     "text": [
      "\r",
      "  6%|▌         | 55/1000 [04:52<1:02:50,  3.99s/it]"
     ]
    },
    {
     "name": "stdout",
     "output_type": "stream",
     "text": [
      "Roc score 0.8993346785541391 at model 55\n",
      "Best F1 score 0.4467265725288832 at threshold 0.8  model 55\n"
     ]
    },
    {
     "name": "stderr",
     "output_type": "stream",
     "text": [
      "\r",
      "  6%|▌         | 56/1000 [04:56<1:02:40,  3.98s/it]"
     ]
    },
    {
     "name": "stdout",
     "output_type": "stream",
     "text": [
      "Roc score 0.8852108989465728 at model 56\n",
      "Best F1 score 0.5047422680412371 at threshold 0.7000000000000001  model 56\n"
     ]
    },
    {
     "name": "stderr",
     "output_type": "stream",
     "text": [
      "\r",
      "  6%|▌         | 57/1000 [05:42<4:22:33, 16.71s/it]"
     ]
    },
    {
     "name": "stdout",
     "output_type": "stream",
     "text": [
      "Roc score 0.8616771632658567 at model 57\n",
      "Best F1 score 0.040310077519379844 at threshold 0.9  model 57\n"
     ]
    },
    {
     "name": "stderr",
     "output_type": "stream",
     "text": [
      "\r",
      "  6%|▌         | 58/1000 [05:46<3:19:31, 12.71s/it]"
     ]
    },
    {
     "name": "stdout",
     "output_type": "stream",
     "text": [
      "Roc score 0.8558871343184957 at model 58\n",
      "Best F1 score 0.04081632653061224 at threshold 0.9  model 58\n"
     ]
    },
    {
     "name": "stderr",
     "output_type": "stream",
     "text": [
      "\r",
      "  6%|▌         | 59/1000 [05:49<2:34:56,  9.88s/it]"
     ]
    },
    {
     "name": "stdout",
     "output_type": "stream",
     "text": [
      "Roc score 0.9253905595331177 at model 59\n",
      "Best F1 score 0.16684045881126172 at threshold 0.9  model 59\n"
     ]
    },
    {
     "name": "stderr",
     "output_type": "stream",
     "text": [
      "\r",
      "  6%|▌         | 60/1000 [05:53<2:06:10,  8.05s/it]"
     ]
    },
    {
     "name": "stdout",
     "output_type": "stream",
     "text": [
      "Roc score 0.9450543271380163 at model 60\n",
      "Best F1 score 0.2540983606557377 at threshold 0.9  model 60\n"
     ]
    },
    {
     "name": "stderr",
     "output_type": "stream",
     "text": [
      "\r",
      "  6%|▌         | 61/1000 [05:56<1:44:03,  6.65s/it]"
     ]
    },
    {
     "name": "stdout",
     "output_type": "stream",
     "text": [
      "Roc score 0.9321141123844651 at model 61\n",
      "Best F1 score 0.6277602523659307 at threshold 0.8  model 61\n"
     ]
    },
    {
     "name": "stderr",
     "output_type": "stream",
     "text": [
      "\r",
      "  6%|▌         | 62/1000 [06:15<2:40:49, 10.29s/it]"
     ]
    },
    {
     "name": "stdout",
     "output_type": "stream",
     "text": [
      "Roc score 0.9201771128555378 at model 62\n",
      "Best F1 score 0.24291497975708504 at threshold 0.9  model 62\n"
     ]
    },
    {
     "name": "stderr",
     "output_type": "stream",
     "text": [
      "\r",
      "  6%|▋         | 63/1000 [06:20<2:17:45,  8.82s/it]"
     ]
    },
    {
     "name": "stdout",
     "output_type": "stream",
     "text": [
      "Roc score 0.9772738687591271 at model 63\n",
      "Best F1 score 0.10430247718383312 at threshold 0.9  model 63\n"
     ]
    },
    {
     "name": "stderr",
     "output_type": "stream",
     "text": [
      "\r",
      "  6%|▋         | 64/1000 [06:23<1:50:09,  7.06s/it]"
     ]
    },
    {
     "name": "stdout",
     "output_type": "stream",
     "text": [
      "Roc score 0.9753440062937976 at model 64\n",
      "Best F1 score 0.30036630036630035 at threshold 0.9  model 64\n"
     ]
    },
    {
     "name": "stderr",
     "output_type": "stream",
     "text": [
      "\r",
      "  6%|▋         | 65/1000 [06:27<1:33:42,  6.01s/it]"
     ]
    },
    {
     "name": "stdout",
     "output_type": "stream",
     "text": [
      "Roc score 0.9551748897619162 at model 65\n",
      "Best F1 score 0.3198594024604569 at threshold 0.9  model 65\n"
     ]
    },
    {
     "name": "stderr",
     "output_type": "stream",
     "text": [
      "\r",
      "  7%|▋         | 66/1000 [06:31<1:23:49,  5.38s/it]"
     ]
    },
    {
     "name": "stdout",
     "output_type": "stream",
     "text": [
      "Roc score 0.9542570018341268 at model 66\n",
      "Best F1 score 0.144702842377261 at threshold 0.9  model 66\n"
     ]
    },
    {
     "name": "stderr",
     "output_type": "stream",
     "text": [
      "\r",
      "  7%|▋         | 67/1000 [06:34<1:13:48,  4.75s/it]"
     ]
    },
    {
     "name": "stdout",
     "output_type": "stream",
     "text": [
      "Roc score 0.9213973104161693 at model 67\n",
      "Best F1 score 0.2991803278688525 at threshold 0.9  model 67\n"
     ]
    },
    {
     "name": "stderr",
     "output_type": "stream",
     "text": [
      "\r",
      "  7%|▋         | 68/1000 [06:38<1:09:10,  4.45s/it]"
     ]
    },
    {
     "name": "stdout",
     "output_type": "stream",
     "text": [
      "Roc score 0.9327741418518065 at model 68\n",
      "Best F1 score 0.2310030395136778 at threshold 0.9  model 68\n"
     ]
    },
    {
     "name": "stderr",
     "output_type": "stream",
     "text": [
      "\r",
      "  7%|▋         | 69/1000 [06:42<1:06:01,  4.25s/it]"
     ]
    },
    {
     "name": "stdout",
     "output_type": "stream",
     "text": [
      "Roc score 0.9592374013821141 at model 69\n",
      "Best F1 score 0.34611398963730566 at threshold 0.9  model 69\n"
     ]
    },
    {
     "name": "stderr",
     "output_type": "stream",
     "text": [
      "\r",
      "  7%|▋         | 70/1000 [06:46<1:06:18,  4.28s/it]"
     ]
    },
    {
     "name": "stdout",
     "output_type": "stream",
     "text": [
      "Roc score 0.9504568927747297 at model 70\n",
      "Best F1 score 0.2894356005788712 at threshold 0.9  model 70\n"
     ]
    },
    {
     "name": "stderr",
     "output_type": "stream",
     "text": [
      "\r",
      "  7%|▋         | 71/1000 [06:51<1:09:09,  4.47s/it]"
     ]
    },
    {
     "name": "stdout",
     "output_type": "stream",
     "text": [
      "Roc score 0.9259737728247492 at model 71\n",
      "Best F1 score 0.08888888888888889 at threshold 0.9  model 71\n"
     ]
    },
    {
     "name": "stderr",
     "output_type": "stream",
     "text": [
      "\r",
      "  7%|▋         | 72/1000 [06:54<1:03:34,  4.11s/it]"
     ]
    },
    {
     "name": "stdout",
     "output_type": "stream",
     "text": [
      "Roc score 0.9305325780665773 at model 72\n",
      "Best F1 score 0.2701298701298701 at threshold 0.9  model 72\n"
     ]
    },
    {
     "name": "stderr",
     "output_type": "stream",
     "text": [
      "\r",
      "  7%|▋         | 73/1000 [06:58<1:01:25,  3.98s/it]"
     ]
    },
    {
     "name": "stdout",
     "output_type": "stream",
     "text": [
      "Roc score 0.8831440143457197 at model 73\n",
      "Best F1 score 0.10615711252653928 at threshold 0.9  model 73\n"
     ]
    },
    {
     "name": "stderr",
     "output_type": "stream",
     "text": [
      "\r",
      "  7%|▋         | 74/1000 [07:01<58:06,  3.76s/it]  "
     ]
    },
    {
     "name": "stdout",
     "output_type": "stream",
     "text": [
      "Roc score 0.8707978678143692 at model 74\n",
      "Best F1 score 0.0880503144654088 at threshold 0.8  model 74\n"
     ]
    },
    {
     "name": "stderr",
     "output_type": "stream",
     "text": [
      "\r",
      "  8%|▊         | 75/1000 [07:05<57:36,  3.74s/it]"
     ]
    },
    {
     "name": "stdout",
     "output_type": "stream",
     "text": [
      "Roc score 0.9862066460336857 at model 75\n",
      "Best F1 score 0.1414141414141414 at threshold 0.9  model 75\n"
     ]
    },
    {
     "name": "stderr",
     "output_type": "stream",
     "text": [
      "\r",
      "  8%|▊         | 76/1000 [07:08<55:25,  3.60s/it]"
     ]
    },
    {
     "name": "stdout",
     "output_type": "stream",
     "text": [
      "Roc score 0.9370862684526242 at model 76\n",
      "Best F1 score 0.2692307692307693 at threshold 0.9  model 76\n"
     ]
    },
    {
     "name": "stderr",
     "output_type": "stream",
     "text": [
      "\r",
      "  8%|▊         | 77/1000 [07:11<53:49,  3.50s/it]"
     ]
    },
    {
     "name": "stdout",
     "output_type": "stream",
     "text": [
      "Roc score 0.9376690625657043 at model 77\n",
      "Best F1 score 0.1608040201005025 at threshold 0.9  model 77\n"
     ]
    },
    {
     "name": "stderr",
     "output_type": "stream",
     "text": [
      "\r",
      "  8%|▊         | 78/1000 [07:14<52:48,  3.44s/it]"
     ]
    },
    {
     "name": "stdout",
     "output_type": "stream",
     "text": [
      "Roc score 0.9522385581925419 at model 78\n",
      "Best F1 score 0.13090909090909092 at threshold 0.9  model 78\n"
     ]
    },
    {
     "name": "stderr",
     "output_type": "stream",
     "text": [
      "\r",
      "  8%|▊         | 79/1000 [07:18<51:28,  3.35s/it]"
     ]
    },
    {
     "name": "stdout",
     "output_type": "stream",
     "text": [
      "Roc score 0.984145472797206 at model 79\n",
      "Best F1 score 0.2403846153846154 at threshold 0.9  model 79\n"
     ]
    },
    {
     "name": "stderr",
     "output_type": "stream",
     "text": [
      "\r",
      "  8%|▊         | 80/1000 [07:21<51:01,  3.33s/it]"
     ]
    },
    {
     "name": "stdout",
     "output_type": "stream",
     "text": [
      "Roc score 0.9591850899832522 at model 80\n",
      "Best F1 score 0.365206662553979 at threshold 0.9  model 80\n"
     ]
    },
    {
     "name": "stderr",
     "output_type": "stream",
     "text": [
      "\r",
      "  8%|▊         | 81/1000 [07:26<1:00:31,  3.95s/it]"
     ]
    },
    {
     "name": "stdout",
     "output_type": "stream",
     "text": [
      "Roc score 0.9596390544652891 at model 81\n",
      "Best F1 score 0.35443037974683544 at threshold 0.9  model 81\n"
     ]
    },
    {
     "name": "stderr",
     "output_type": "stream",
     "text": [
      "\r",
      "  8%|▊         | 82/1000 [07:30<1:00:36,  3.96s/it]"
     ]
    },
    {
     "name": "stdout",
     "output_type": "stream",
     "text": [
      "Roc score 0.934533563848966 at model 82\n",
      "Best F1 score 0.22869955156950672 at threshold 0.9  model 82\n"
     ]
    },
    {
     "name": "stderr",
     "output_type": "stream",
     "text": [
      "\r",
      "  8%|▊         | 83/1000 [07:34<58:44,  3.84s/it]  "
     ]
    },
    {
     "name": "stdout",
     "output_type": "stream",
     "text": [
      "Roc score 0.9457592887482831 at model 83\n",
      "Best F1 score 0.24999999999999994 at threshold 0.9  model 83\n"
     ]
    },
    {
     "name": "stderr",
     "output_type": "stream",
     "text": [
      "\r",
      "  8%|▊         | 84/1000 [07:38<1:00:12,  3.94s/it]"
     ]
    },
    {
     "name": "stdout",
     "output_type": "stream",
     "text": [
      "Roc score 0.970916562872163 at model 84\n",
      "Best F1 score 0.24437299035369775 at threshold 0.9  model 84\n"
     ]
    },
    {
     "name": "stderr",
     "output_type": "stream",
     "text": [
      "\r",
      "  8%|▊         | 85/1000 [07:41<57:02,  3.74s/it]  "
     ]
    },
    {
     "name": "stdout",
     "output_type": "stream",
     "text": [
      "Roc score 0.9518277276565635 at model 85\n",
      "Best F1 score 0.1492007104795737 at threshold 0.9  model 85\n"
     ]
    },
    {
     "name": "stderr",
     "output_type": "stream",
     "text": [
      "\r",
      "  9%|▊         | 86/1000 [07:45<54:52,  3.60s/it]"
     ]
    },
    {
     "name": "stdout",
     "output_type": "stream",
     "text": [
      "Roc score 0.9513619615048515 at model 86\n",
      "Best F1 score 0.25 at threshold 0.9  model 86\n"
     ]
    },
    {
     "name": "stderr",
     "output_type": "stream",
     "text": [
      "\r",
      "  9%|▊         | 87/1000 [07:48<52:47,  3.47s/it]"
     ]
    },
    {
     "name": "stdout",
     "output_type": "stream",
     "text": [
      "Roc score 0.9374717867059216 at model 87\n",
      "Best F1 score 0.3347107438016529 at threshold 0.9  model 87\n"
     ]
    },
    {
     "name": "stderr",
     "output_type": "stream",
     "text": [
      "\r",
      "  9%|▉         | 88/1000 [07:52<54:37,  3.59s/it]"
     ]
    },
    {
     "name": "stdout",
     "output_type": "stream",
     "text": [
      "Roc score 0.9338194175941261 at model 88\n",
      "Best F1 score 0.1258741258741259 at threshold 0.9  model 88\n"
     ]
    },
    {
     "name": "stderr",
     "output_type": "stream",
     "text": [
      "\r",
      "  9%|▉         | 89/1000 [07:55<52:35,  3.46s/it]"
     ]
    },
    {
     "name": "stdout",
     "output_type": "stream",
     "text": [
      "Roc score 0.9787323239602441 at model 89\n",
      "Best F1 score 0.2292263610315186 at threshold 0.9  model 89\n"
     ]
    },
    {
     "name": "stderr",
     "output_type": "stream",
     "text": [
      "\r",
      "  9%|▉         | 90/1000 [07:58<50:18,  3.32s/it]"
     ]
    },
    {
     "name": "stdout",
     "output_type": "stream",
     "text": [
      "Roc score 0.9577941946949072 at model 90\n",
      "Best F1 score 0.3495145631067962 at threshold 0.9  model 90\n"
     ]
    },
    {
     "name": "stderr",
     "output_type": "stream",
     "text": [
      "\r",
      "  9%|▉         | 91/1000 [08:01<50:00,  3.30s/it]"
     ]
    },
    {
     "name": "stdout",
     "output_type": "stream",
     "text": [
      "Roc score 0.9241933915018415 at model 91\n",
      "Best F1 score 0.18106995884773663 at threshold 0.9  model 91\n"
     ]
    },
    {
     "name": "stderr",
     "output_type": "stream",
     "text": [
      "\r",
      "  9%|▉         | 92/1000 [08:05<53:31,  3.54s/it]"
     ]
    },
    {
     "name": "stdout",
     "output_type": "stream",
     "text": [
      "Roc score 0.9904765097349991 at model 92\n",
      "Best F1 score 0.267741935483871 at threshold 0.9  model 92\n"
     ]
    },
    {
     "name": "stderr",
     "output_type": "stream",
     "text": [
      "\r",
      "  9%|▉         | 93/1000 [08:08<52:10,  3.45s/it]"
     ]
    },
    {
     "name": "stdout",
     "output_type": "stream",
     "text": [
      "Roc score 0.9249004026852078 at model 93\n",
      "Best F1 score 0.20418410041841006 at threshold 0.9  model 93\n"
     ]
    },
    {
     "name": "stderr",
     "output_type": "stream",
     "text": [
      "\r",
      "  9%|▉         | 94/1000 [08:13<57:17,  3.79s/it]"
     ]
    },
    {
     "name": "stdout",
     "output_type": "stream",
     "text": [
      "Roc score 0.8962255530721943 at model 94\n",
      "Best F1 score 0.2236842105263158 at threshold 0.9  model 94\n"
     ]
    },
    {
     "name": "stderr",
     "output_type": "stream",
     "text": [
      "\r",
      " 10%|▉         | 95/1000 [08:16<53:54,  3.57s/it]"
     ]
    },
    {
     "name": "stdout",
     "output_type": "stream",
     "text": [
      "Roc score 0.9469618462725513 at model 95\n",
      "Best F1 score 0.11440677966101692 at threshold 0.9  model 95\n"
     ]
    },
    {
     "name": "stderr",
     "output_type": "stream",
     "text": [
      "\r",
      " 10%|▉         | 96/1000 [08:20<54:18,  3.60s/it]"
     ]
    },
    {
     "name": "stdout",
     "output_type": "stream",
     "text": [
      "Roc score 0.9528807426624296 at model 96\n",
      "Best F1 score 0.10968921389396709 at threshold 0.9  model 96\n"
     ]
    },
    {
     "name": "stderr",
     "output_type": "stream",
     "text": [
      "\r",
      " 10%|▉         | 97/1000 [08:23<52:42,  3.50s/it]"
     ]
    },
    {
     "name": "stdout",
     "output_type": "stream",
     "text": [
      "Roc score 0.9455682602348043 at model 97\n",
      "Best F1 score 0.11282051282051284 at threshold 0.9  model 97\n"
     ]
    },
    {
     "name": "stderr",
     "output_type": "stream",
     "text": [
      "\r",
      " 10%|▉         | 98/1000 [08:26<52:02,  3.46s/it]"
     ]
    },
    {
     "name": "stdout",
     "output_type": "stream",
     "text": [
      "Roc score 0.9602237179710773 at model 98\n",
      "Best F1 score 0.23253493013972057 at threshold 0.8  model 98\n"
     ]
    },
    {
     "name": "stderr",
     "output_type": "stream",
     "text": [
      "\r",
      " 10%|▉         | 99/1000 [08:30<53:20,  3.55s/it]"
     ]
    },
    {
     "name": "stdout",
     "output_type": "stream",
     "text": [
      "Roc score 0.9620856941947976 at model 99\n",
      "Best F1 score 0.1845238095238095 at threshold 0.9  model 99\n"
     ]
    },
    {
     "name": "stderr",
     "output_type": "stream",
     "text": [
      "\r",
      " 10%|█         | 100/1000 [08:33<50:35,  3.37s/it]"
     ]
    },
    {
     "name": "stdout",
     "output_type": "stream",
     "text": [
      "Roc score 0.9196009821415844 at model 100\n",
      "Best F1 score 0.461063803529557 at threshold 0.8  model 100\n"
     ]
    },
    {
     "name": "stderr",
     "output_type": "stream",
     "text": [
      "\r",
      " 10%|█         | 101/1000 [08:53<2:05:08,  8.35s/it]"
     ]
    },
    {
     "name": "stdout",
     "output_type": "stream",
     "text": [
      "Roc score 0.8532609218209769 at model 101\n",
      "Best F1 score 0.4954320917014743 at threshold 0.6  model 101\n"
     ]
    },
    {
     "name": "stderr",
     "output_type": "stream",
     "text": [
      "\r",
      " 10%|█         | 102/1000 [10:59<10:53:06, 43.64s/it]"
     ]
    },
    {
     "name": "stdout",
     "output_type": "stream",
     "text": [
      "Roc score 0.7949956700638728 at model 102\n",
      "Best F1 score 0.025200458190148912 at threshold 0.8  model 102\n"
     ]
    },
    {
     "name": "stderr",
     "output_type": "stream",
     "text": [
      "\r",
      " 10%|█         | 103/1000 [11:02<7:51:20, 31.53s/it] "
     ]
    },
    {
     "name": "stdout",
     "output_type": "stream",
     "text": [
      "Roc score 0.8116678655070967 at model 103\n",
      "Best F1 score 0.029826682789197905 at threshold 0.8  model 103\n"
     ]
    },
    {
     "name": "stderr",
     "output_type": "stream",
     "text": [
      "\r",
      " 10%|█         | 104/1000 [11:06<5:45:56, 23.17s/it]"
     ]
    },
    {
     "name": "stdout",
     "output_type": "stream",
     "text": [
      "Roc score 0.8277979688645141 at model 104\n",
      "Best F1 score 0.0898876404494382 at threshold 0.9  model 104\n"
     ]
    },
    {
     "name": "stderr",
     "output_type": "stream",
     "text": [
      "\r",
      " 10%|█         | 105/1000 [11:10<4:18:18, 17.32s/it]"
     ]
    },
    {
     "name": "stdout",
     "output_type": "stream",
     "text": [
      "Roc score 0.9159957337862695 at model 105\n",
      "Best F1 score 0.5267851201171225 at threshold 0.8  model 105\n"
     ]
    },
    {
     "name": "stderr",
     "output_type": "stream",
     "text": [
      "\r",
      " 11%|█         | 106/1000 [11:53<6:14:48, 25.15s/it]"
     ]
    },
    {
     "name": "stdout",
     "output_type": "stream",
     "text": [
      "Roc score 0.8986833470640445 at model 106\n",
      "Best F1 score 0.0606060606060606 at threshold 0.9  model 106\n"
     ]
    },
    {
     "name": "stderr",
     "output_type": "stream",
     "text": [
      "\r",
      " 11%|█         | 107/1000 [11:56<4:37:07, 18.62s/it]"
     ]
    },
    {
     "name": "stdout",
     "output_type": "stream",
     "text": [
      "Roc score 0.9350927429820128 at model 107\n",
      "Best F1 score 0.03672316384180791 at threshold 0.9  model 107\n"
     ]
    },
    {
     "name": "stderr",
     "output_type": "stream",
     "text": [
      "\r",
      " 11%|█         | 108/1000 [12:00<3:28:26, 14.02s/it]"
     ]
    },
    {
     "name": "stdout",
     "output_type": "stream",
     "text": [
      "Roc score 0.9810495403896409 at model 108\n",
      "Best F1 score 0.28467153284671537 at threshold 0.9  model 108\n"
     ]
    },
    {
     "name": "stderr",
     "output_type": "stream",
     "text": [
      "\r",
      " 11%|█         | 109/1000 [12:03<2:40:18, 10.79s/it]"
     ]
    },
    {
     "name": "stdout",
     "output_type": "stream",
     "text": [
      "Roc score 0.936964093142741 at model 109\n",
      "Best F1 score 0.4674509803921569 at threshold 0.8  model 109\n"
     ]
    },
    {
     "name": "stderr",
     "output_type": "stream",
     "text": [
      "\r",
      " 11%|█         | 110/1000 [12:08<2:14:14,  9.05s/it]"
     ]
    },
    {
     "name": "stdout",
     "output_type": "stream",
     "text": [
      "Roc score 0.9440203735655245 at model 110\n",
      "Best F1 score 0.367854183927092 at threshold 0.8  model 110\n"
     ]
    },
    {
     "name": "stderr",
     "output_type": "stream",
     "text": [
      "\r",
      " 11%|█         | 111/1000 [12:12<1:52:55,  7.62s/it]"
     ]
    },
    {
     "name": "stdout",
     "output_type": "stream",
     "text": [
      "Roc score 0.9776209175032888 at model 111\n",
      "Best F1 score 0.261744966442953 at threshold 0.9  model 111\n"
     ]
    },
    {
     "name": "stderr",
     "output_type": "stream",
     "text": [
      "\r",
      " 11%|█         | 112/1000 [12:15<1:33:23,  6.31s/it]"
     ]
    },
    {
     "name": "stdout",
     "output_type": "stream",
     "text": [
      "Roc score 0.9222404756565717 at model 112\n",
      "Best F1 score 0.20944558521560575 at threshold 0.9  model 112\n"
     ]
    },
    {
     "name": "stderr",
     "output_type": "stream",
     "text": [
      "\r",
      " 11%|█▏        | 113/1000 [12:19<1:20:42,  5.46s/it]"
     ]
    },
    {
     "name": "stdout",
     "output_type": "stream",
     "text": [
      "Roc score 0.9719176647107369 at model 113\n",
      "Best F1 score 0.1488095238095238 at threshold 0.9  model 113\n"
     ]
    },
    {
     "name": "stderr",
     "output_type": "stream",
     "text": [
      "\r",
      " 11%|█▏        | 114/1000 [12:22<1:09:58,  4.74s/it]"
     ]
    },
    {
     "name": "stdout",
     "output_type": "stream",
     "text": [
      "Roc score 0.9537487922648693 at model 114\n",
      "Best F1 score 0.3389830508474576 at threshold 0.9  model 114\n"
     ]
    },
    {
     "name": "stderr",
     "output_type": "stream",
     "text": [
      "\r",
      " 12%|█▏        | 115/1000 [12:25<1:03:49,  4.33s/it]"
     ]
    },
    {
     "name": "stdout",
     "output_type": "stream",
     "text": [
      "Roc score 0.9540693603773334 at model 115\n",
      "Best F1 score 0.24118316268486917 at threshold 0.9  model 115\n"
     ]
    },
    {
     "name": "stderr",
     "output_type": "stream",
     "text": [
      "\r",
      " 12%|█▏        | 116/1000 [12:29<1:01:16,  4.16s/it]"
     ]
    },
    {
     "name": "stdout",
     "output_type": "stream",
     "text": [
      "Roc score 0.9665598263093308 at model 116\n",
      "Best F1 score 0.4152542372881356 at threshold 0.9  model 116\n"
     ]
    },
    {
     "name": "stderr",
     "output_type": "stream",
     "text": [
      "\r",
      " 12%|█▏        | 117/1000 [12:32<55:51,  3.80s/it]  "
     ]
    },
    {
     "name": "stdout",
     "output_type": "stream",
     "text": [
      "Roc score 0.9865163965302025 at model 117\n",
      "Best F1 score 0.3467741935483871 at threshold 0.9  model 117\n"
     ]
    },
    {
     "name": "stderr",
     "output_type": "stream",
     "text": [
      "\r",
      " 12%|█▏        | 118/1000 [12:35<53:24,  3.63s/it]"
     ]
    },
    {
     "name": "stdout",
     "output_type": "stream",
     "text": [
      "Roc score 0.8875522221473789 at model 118\n",
      "Best F1 score 0.17506631299734748 at threshold 0.9  model 118\n"
     ]
    },
    {
     "name": "stderr",
     "output_type": "stream",
     "text": [
      "\r",
      " 12%|█▏        | 119/1000 [12:39<51:44,  3.52s/it]"
     ]
    },
    {
     "name": "stdout",
     "output_type": "stream",
     "text": [
      "Roc score 0.9664624288404804 at model 119\n",
      "Best F1 score 0.18687872763419483 at threshold 0.9  model 119\n"
     ]
    },
    {
     "name": "stderr",
     "output_type": "stream",
     "text": [
      "\r",
      " 12%|█▏        | 120/1000 [12:42<50:01,  3.41s/it]"
     ]
    },
    {
     "name": "stdout",
     "output_type": "stream",
     "text": [
      "Roc score 0.9304438024256748 at model 120\n",
      "Best F1 score 0.06715328467153285 at threshold 0.9  model 120\n"
     ]
    },
    {
     "name": "stderr",
     "output_type": "stream",
     "text": [
      "\r",
      " 12%|█▏        | 121/1000 [12:45<48:01,  3.28s/it]"
     ]
    },
    {
     "name": "stdout",
     "output_type": "stream",
     "text": [
      "Roc score 0.9433006657046573 at model 121\n",
      "Best F1 score 0.20698576972833116 at threshold 0.9  model 121\n"
     ]
    },
    {
     "name": "stderr",
     "output_type": "stream",
     "text": [
      "\r",
      " 12%|█▏        | 122/1000 [12:49<50:12,  3.43s/it]"
     ]
    },
    {
     "name": "stdout",
     "output_type": "stream",
     "text": [
      "Roc score 0.9513943456618845 at model 122\n",
      "Best F1 score 0.37641723356009066 at threshold 0.8  model 122\n"
     ]
    },
    {
     "name": "stderr",
     "output_type": "stream",
     "text": [
      "\r",
      " 12%|█▏        | 123/1000 [12:52<49:50,  3.41s/it]"
     ]
    },
    {
     "name": "stdout",
     "output_type": "stream",
     "text": [
      "Roc score 0.9605952804953607 at model 123\n",
      "Best F1 score 0.2523900573613767 at threshold 0.9  model 123\n"
     ]
    },
    {
     "name": "stderr",
     "output_type": "stream",
     "text": [
      "\r",
      " 12%|█▏        | 124/1000 [12:55<50:05,  3.43s/it]"
     ]
    },
    {
     "name": "stdout",
     "output_type": "stream",
     "text": [
      "Roc score 0.9337660607775146 at model 124\n",
      "Best F1 score 0.20922715251248897 at threshold 0.9  model 124\n"
     ]
    },
    {
     "name": "stderr",
     "output_type": "stream",
     "text": [
      "\r",
      " 12%|█▎        | 125/1000 [13:01<59:28,  4.08s/it]"
     ]
    },
    {
     "name": "stdout",
     "output_type": "stream",
     "text": [
      "Roc score 0.9251373732017149 at model 125\n",
      "Best F1 score 0.03655750190403656 at threshold 0.9  model 125\n"
     ]
    },
    {
     "name": "stderr",
     "output_type": "stream",
     "text": [
      "\r",
      " 13%|█▎        | 126/1000 [13:04<55:21,  3.80s/it]"
     ]
    },
    {
     "name": "stdout",
     "output_type": "stream",
     "text": [
      "Roc score 0.964344284973624 at model 126\n",
      "Best F1 score 0.13658536585365855 at threshold 0.9  model 126\n"
     ]
    },
    {
     "name": "stderr",
     "output_type": "stream",
     "text": [
      "\r",
      " 13%|█▎        | 127/1000 [13:07<52:01,  3.58s/it]"
     ]
    },
    {
     "name": "stdout",
     "output_type": "stream",
     "text": [
      "Roc score 0.9770253893888683 at model 127\n",
      "Best F1 score 0.22471910112359553 at threshold 0.9  model 127\n"
     ]
    },
    {
     "name": "stderr",
     "output_type": "stream",
     "text": [
      "\r",
      " 13%|█▎        | 128/1000 [13:10<49:38,  3.42s/it]"
     ]
    },
    {
     "name": "stdout",
     "output_type": "stream",
     "text": [
      "Roc score 0.9553801387422873 at model 128\n",
      "Best F1 score 0.10904584882280051 at threshold 0.9  model 128\n"
     ]
    },
    {
     "name": "stderr",
     "output_type": "stream",
     "text": [
      "\r",
      " 13%|█▎        | 129/1000 [13:13<48:55,  3.37s/it]"
     ]
    },
    {
     "name": "stdout",
     "output_type": "stream",
     "text": [
      "Roc score 0.9596548670304499 at model 129\n",
      "Best F1 score 0.3661971830985915 at threshold 0.9  model 129\n"
     ]
    },
    {
     "name": "stderr",
     "output_type": "stream",
     "text": [
      "\r",
      " 13%|█▎        | 130/1000 [13:17<48:25,  3.34s/it]"
     ]
    },
    {
     "name": "stdout",
     "output_type": "stream",
     "text": [
      "Roc score 0.8816735487668823 at model 130\n",
      "Best F1 score 0.05610561056105611 at threshold 0.9  model 130\n"
     ]
    },
    {
     "name": "stderr",
     "output_type": "stream",
     "text": [
      "\r",
      " 13%|█▎        | 131/1000 [13:20<48:01,  3.32s/it]"
     ]
    },
    {
     "name": "stdout",
     "output_type": "stream",
     "text": [
      "Roc score 0.9166223622166999 at model 131\n",
      "Best F1 score 0.07331378299120234 at threshold 0.9  model 131\n"
     ]
    },
    {
     "name": "stderr",
     "output_type": "stream",
     "text": [
      "\r",
      " 13%|█▎        | 132/1000 [13:23<47:42,  3.30s/it]"
     ]
    },
    {
     "name": "stdout",
     "output_type": "stream",
     "text": [
      "Roc score 0.9130922774567516 at model 132\n",
      "Best F1 score 0.20189274447949526 at threshold 0.9  model 132\n"
     ]
    },
    {
     "name": "stderr",
     "output_type": "stream",
     "text": [
      "\r",
      " 13%|█▎        | 133/1000 [13:27<48:49,  3.38s/it]"
     ]
    },
    {
     "name": "stdout",
     "output_type": "stream",
     "text": [
      "Roc score 0.9537251848578836 at model 133\n",
      "Best F1 score 0.13114754098360656 at threshold 0.9  model 133\n"
     ]
    },
    {
     "name": "stderr",
     "output_type": "stream",
     "text": [
      "\r",
      " 13%|█▎        | 134/1000 [13:30<47:45,  3.31s/it]"
     ]
    },
    {
     "name": "stdout",
     "output_type": "stream",
     "text": [
      "Roc score 0.9474319421710763 at model 134\n",
      "Best F1 score 0.07739307535641547 at threshold 0.9  model 134\n"
     ]
    },
    {
     "name": "stderr",
     "output_type": "stream",
     "text": [
      "\r",
      " 14%|█▎        | 135/1000 [13:33<47:06,  3.27s/it]"
     ]
    },
    {
     "name": "stdout",
     "output_type": "stream",
     "text": [
      "Roc score 0.9459753331473835 at model 135\n",
      "Best F1 score 0.16666666666666669 at threshold 0.9  model 135\n"
     ]
    },
    {
     "name": "stderr",
     "output_type": "stream",
     "text": [
      "\r",
      " 14%|█▎        | 136/1000 [13:36<45:47,  3.18s/it]"
     ]
    },
    {
     "name": "stdout",
     "output_type": "stream",
     "text": [
      "Roc score 0.8955369200475436 at model 136\n",
      "Best F1 score 0.075 at threshold 0.9  model 136\n"
     ]
    },
    {
     "name": "stderr",
     "output_type": "stream",
     "text": [
      "\r",
      " 14%|█▎        | 137/1000 [13:39<46:34,  3.24s/it]"
     ]
    },
    {
     "name": "stdout",
     "output_type": "stream",
     "text": [
      "Roc score 0.9679417713961254 at model 137\n",
      "Best F1 score 0.16346153846153846 at threshold 0.9  model 137\n"
     ]
    },
    {
     "name": "stderr",
     "output_type": "stream",
     "text": [
      "\r",
      " 14%|█▍        | 138/1000 [13:42<45:18,  3.15s/it]"
     ]
    },
    {
     "name": "stdout",
     "output_type": "stream",
     "text": [
      "Roc score 0.9568220410743854 at model 138\n",
      "Best F1 score 0.15157116451016636 at threshold 0.9  model 138\n"
     ]
    },
    {
     "name": "stderr",
     "output_type": "stream",
     "text": [
      "\r",
      " 14%|█▍        | 139/1000 [13:46<45:42,  3.19s/it]"
     ]
    },
    {
     "name": "stdout",
     "output_type": "stream",
     "text": [
      "Roc score 0.8923982795526163 at model 139\n",
      "Best F1 score 0.17543859649122806 at threshold 0.8  model 139\n"
     ]
    },
    {
     "name": "stderr",
     "output_type": "stream",
     "text": [
      "\r",
      " 14%|█▍        | 140/1000 [13:54<1:06:10,  4.62s/it]"
     ]
    },
    {
     "name": "stdout",
     "output_type": "stream",
     "text": [
      "Roc score 0.932439656516506 at model 140\n",
      "Best F1 score 0.2040034812880766 at threshold 0.8  model 140\n"
     ]
    },
    {
     "name": "stderr",
     "output_type": "stream",
     "text": [
      "\r",
      " 14%|█▍        | 141/1000 [14:02<1:21:16,  5.68s/it]"
     ]
    },
    {
     "name": "stdout",
     "output_type": "stream",
     "text": [
      "Roc score 0.9090084641314905 at model 141\n",
      "Best F1 score 0.058732612055641426 at threshold 0.9  model 141\n"
     ]
    },
    {
     "name": "stderr",
     "output_type": "stream",
     "text": [
      "\r",
      " 14%|█▍        | 142/1000 [14:05<1:11:14,  4.98s/it]"
     ]
    },
    {
     "name": "stdout",
     "output_type": "stream",
     "text": [
      "Roc score 0.8753057188348037 at model 142\n",
      "Best F1 score 0.19117647058823528 at threshold 0.9  model 142\n"
     ]
    },
    {
     "name": "stderr",
     "output_type": "stream",
     "text": [
      "\r",
      " 14%|█▍        | 143/1000 [14:09<1:04:13,  4.50s/it]"
     ]
    },
    {
     "name": "stdout",
     "output_type": "stream",
     "text": [
      "Roc score 0.9299495280595566 at model 143\n",
      "Best F1 score 0.2713120830244626 at threshold 0.8  model 143\n"
     ]
    },
    {
     "name": "stderr",
     "output_type": "stream",
     "text": [
      "\r",
      " 14%|█▍        | 144/1000 [14:13<1:03:38,  4.46s/it]"
     ]
    },
    {
     "name": "stdout",
     "output_type": "stream",
     "text": [
      "Roc score 0.8717068456384568 at model 144\n",
      "Best F1 score 0.12815533980582527 at threshold 0.9  model 144\n"
     ]
    },
    {
     "name": "stderr",
     "output_type": "stream",
     "text": [
      "\r",
      " 14%|█▍        | 145/1000 [14:17<1:01:28,  4.31s/it]"
     ]
    },
    {
     "name": "stdout",
     "output_type": "stream",
     "text": [
      "Roc score 0.8458520485417332 at model 145\n",
      "Best F1 score 0.12760416666666666 at threshold 0.8  model 145\n"
     ]
    },
    {
     "name": "stderr",
     "output_type": "stream",
     "text": [
      "\r",
      " 15%|█▍        | 146/1000 [14:21<59:00,  4.15s/it]  "
     ]
    },
    {
     "name": "stdout",
     "output_type": "stream",
     "text": [
      "Roc score 0.949234540840584 at model 146\n",
      "Best F1 score 0.24900398406374505 at threshold 0.9  model 146\n"
     ]
    },
    {
     "name": "stderr",
     "output_type": "stream",
     "text": [
      "\r",
      " 15%|█▍        | 147/1000 [14:25<58:40,  4.13s/it]"
     ]
    },
    {
     "name": "stdout",
     "output_type": "stream",
     "text": [
      "Roc score 0.9558985961193206 at model 147\n",
      "Best F1 score 0.27546628407460544 at threshold 0.9  model 147\n"
     ]
    },
    {
     "name": "stderr",
     "output_type": "stream",
     "text": [
      "\r",
      " 15%|█▍        | 148/1000 [14:28<55:45,  3.93s/it]"
     ]
    },
    {
     "name": "stdout",
     "output_type": "stream",
     "text": [
      "Roc score 0.9295527283170721 at model 148\n",
      "Best F1 score 0.3697478991596639 at threshold 0.9  model 148\n"
     ]
    },
    {
     "name": "stderr",
     "output_type": "stream",
     "text": [
      "\r",
      " 15%|█▍        | 149/1000 [14:32<56:44,  4.00s/it]"
     ]
    },
    {
     "name": "stdout",
     "output_type": "stream",
     "text": [
      "Roc score 0.9645081570446972 at model 149\n",
      "Best F1 score 0.32563791008505466 at threshold 0.9  model 149\n"
     ]
    },
    {
     "name": "stderr",
     "output_type": "stream",
     "text": [
      "\r",
      " 15%|█▌        | 150/1000 [14:36<54:49,  3.87s/it]"
     ]
    },
    {
     "name": "stdout",
     "output_type": "stream",
     "text": [
      "Roc score 0.8945467705463876 at model 150\n",
      "Best F1 score 0.10891089108910891 at threshold 0.9  model 150\n"
     ]
    },
    {
     "name": "stderr",
     "output_type": "stream",
     "text": [
      "\r",
      " 15%|█▌        | 151/1000 [14:39<52:07,  3.68s/it]"
     ]
    },
    {
     "name": "stdout",
     "output_type": "stream",
     "text": [
      "Roc score 0.9392253509079237 at model 151\n",
      "Best F1 score 0.2763857251328778 at threshold 0.9  model 151\n"
     ]
    },
    {
     "name": "stderr",
     "output_type": "stream",
     "text": [
      "\r",
      " 15%|█▌        | 152/1000 [14:43<53:41,  3.80s/it]"
     ]
    },
    {
     "name": "stdout",
     "output_type": "stream",
     "text": [
      "Roc score 0.950135529055198 at model 152\n",
      "Best F1 score 0.3701492537313433 at threshold 0.8  model 152\n"
     ]
    },
    {
     "name": "stderr",
     "output_type": "stream",
     "text": [
      "\r",
      " 15%|█▌        | 153/1000 [14:47<52:07,  3.69s/it]"
     ]
    },
    {
     "name": "stdout",
     "output_type": "stream",
     "text": [
      "Roc score 0.9307868507001235 at model 153\n",
      "Best F1 score 0.1390374331550802 at threshold 0.9  model 153\n"
     ]
    },
    {
     "name": "stderr",
     "output_type": "stream",
     "text": [
      "\r",
      " 15%|█▌        | 154/1000 [14:50<49:48,  3.53s/it]"
     ]
    },
    {
     "name": "stdout",
     "output_type": "stream",
     "text": [
      "Roc score 0.9179902784113231 at model 154\n",
      "Best F1 score 0.27027027027027023 at threshold 0.9  model 154\n"
     ]
    },
    {
     "name": "stderr",
     "output_type": "stream",
     "text": [
      "\r",
      " 16%|█▌        | 155/1000 [14:54<50:44,  3.60s/it]"
     ]
    },
    {
     "name": "stdout",
     "output_type": "stream",
     "text": [
      "Roc score 0.9125253166083321 at model 155\n",
      "Best F1 score 0.11504424778761062 at threshold 0.9  model 155\n"
     ]
    },
    {
     "name": "stderr",
     "output_type": "stream",
     "text": [
      "\r",
      " 16%|█▌        | 156/1000 [14:57<48:48,  3.47s/it]"
     ]
    },
    {
     "name": "stdout",
     "output_type": "stream",
     "text": [
      "Roc score 0.915054251482065 at model 156\n",
      "Best F1 score 0.07510204081632654 at threshold 0.8  model 156\n"
     ]
    },
    {
     "name": "stderr",
     "output_type": "stream",
     "text": [
      "\r",
      " 16%|█▌        | 157/1000 [15:00<49:11,  3.50s/it]"
     ]
    },
    {
     "name": "stdout",
     "output_type": "stream",
     "text": [
      "Roc score 0.9399209789698344 at model 157\n",
      "Best F1 score 0.10863509749303621 at threshold 0.9  model 157\n"
     ]
    },
    {
     "name": "stderr",
     "output_type": "stream",
     "text": [
      "\r",
      " 16%|█▌        | 158/1000 [15:04<49:47,  3.55s/it]"
     ]
    },
    {
     "name": "stdout",
     "output_type": "stream",
     "text": [
      "Roc score 0.9291343443586709 at model 158\n",
      "Best F1 score 0.21908893709327545 at threshold 0.9  model 158\n"
     ]
    },
    {
     "name": "stderr",
     "output_type": "stream",
     "text": [
      "\r",
      " 16%|█▌        | 159/1000 [15:08<51:31,  3.68s/it]"
     ]
    },
    {
     "name": "stdout",
     "output_type": "stream",
     "text": [
      "Roc score 0.9428873868675653 at model 159\n",
      "Best F1 score 0.12518195050946143 at threshold 0.9  model 159\n"
     ]
    },
    {
     "name": "stderr",
     "output_type": "stream",
     "text": [
      "\r",
      " 16%|█▌        | 160/1000 [15:11<49:45,  3.55s/it]"
     ]
    },
    {
     "name": "stdout",
     "output_type": "stream",
     "text": [
      "Roc score 0.9200734005587655 at model 160\n",
      "Best F1 score 0.14062500000000003 at threshold 0.9  model 160\n"
     ]
    },
    {
     "name": "stderr",
     "output_type": "stream",
     "text": [
      "\r",
      " 16%|█▌        | 161/1000 [15:14<48:25,  3.46s/it]"
     ]
    },
    {
     "name": "stdout",
     "output_type": "stream",
     "text": [
      "Roc score 0.932468376804593 at model 161\n",
      "Best F1 score 0.16120906801007556 at threshold 0.9  model 161\n"
     ]
    },
    {
     "name": "stderr",
     "output_type": "stream",
     "text": [
      "\r",
      " 16%|█▌        | 162/1000 [15:18<48:26,  3.47s/it]"
     ]
    },
    {
     "name": "stdout",
     "output_type": "stream",
     "text": [
      "Roc score 0.9328395853563861 at model 162\n",
      "Best F1 score 0.02769230769230769 at threshold 0.9  model 162\n"
     ]
    },
    {
     "name": "stderr",
     "output_type": "stream",
     "text": [
      "\r",
      " 16%|█▋        | 163/1000 [15:21<47:08,  3.38s/it]"
     ]
    },
    {
     "name": "stdout",
     "output_type": "stream",
     "text": [
      "Roc score 0.9241883169329901 at model 163\n",
      "Best F1 score 0.1337386018237082 at threshold 0.9  model 163\n"
     ]
    },
    {
     "name": "stderr",
     "output_type": "stream",
     "text": [
      "\r",
      " 16%|█▋        | 164/1000 [15:25<48:44,  3.50s/it]"
     ]
    },
    {
     "name": "stdout",
     "output_type": "stream",
     "text": [
      "Roc score 0.8785763304901489 at model 164\n",
      "Best F1 score 0.12669683257918554 at threshold 0.9  model 164\n"
     ]
    },
    {
     "name": "stderr",
     "output_type": "stream",
     "text": [
      "\r",
      " 16%|█▋        | 165/1000 [15:28<47:41,  3.43s/it]"
     ]
    },
    {
     "name": "stdout",
     "output_type": "stream",
     "text": [
      "Roc score 0.8849336624189225 at model 165\n",
      "Best F1 score 0.1903448275862069 at threshold 0.9  model 165\n"
     ]
    },
    {
     "name": "stderr",
     "output_type": "stream",
     "text": [
      "\r",
      " 17%|█▋        | 166/1000 [15:32<50:46,  3.65s/it]"
     ]
    },
    {
     "name": "stdout",
     "output_type": "stream",
     "text": [
      "Roc score 0.9320127005161272 at model 166\n",
      "Best F1 score 0.12149532710280374 at threshold 0.9  model 166\n"
     ]
    },
    {
     "name": "stderr",
     "output_type": "stream",
     "text": [
      "\r",
      " 17%|█▋        | 167/1000 [15:36<49:32,  3.57s/it]"
     ]
    },
    {
     "name": "stdout",
     "output_type": "stream",
     "text": [
      "Roc score 0.972508784575187 at model 167\n",
      "Best F1 score 0.2857142857142857 at threshold 0.9  model 167\n"
     ]
    },
    {
     "name": "stderr",
     "output_type": "stream",
     "text": [
      "\r",
      " 17%|█▋        | 168/1000 [15:39<47:18,  3.41s/it]"
     ]
    },
    {
     "name": "stdout",
     "output_type": "stream",
     "text": [
      "Roc score 0.9419202415889583 at model 168\n",
      "Best F1 score 0.30875576036866365 at threshold 0.9  model 168\n"
     ]
    },
    {
     "name": "stderr",
     "output_type": "stream",
     "text": [
      "\r",
      " 17%|█▋        | 169/1000 [15:42<47:29,  3.43s/it]"
     ]
    },
    {
     "name": "stdout",
     "output_type": "stream",
     "text": [
      "Roc score 0.934295726496078 at model 169\n",
      "Best F1 score 0.23580786026200873 at threshold 0.9  model 169\n"
     ]
    },
    {
     "name": "stderr",
     "output_type": "stream",
     "text": [
      "\r",
      " 17%|█▋        | 170/1000 [15:45<45:53,  3.32s/it]"
     ]
    },
    {
     "name": "stdout",
     "output_type": "stream",
     "text": [
      "Roc score 0.9592185008391183 at model 170\n",
      "Best F1 score 0.26066350710900477 at threshold 0.9  model 170\n"
     ]
    },
    {
     "name": "stderr",
     "output_type": "stream",
     "text": [
      "\r",
      " 17%|█▋        | 171/1000 [15:49<46:02,  3.33s/it]"
     ]
    },
    {
     "name": "stdout",
     "output_type": "stream",
     "text": [
      "Roc score 0.9515690072881627 at model 171\n",
      "Best F1 score 0.23863636363636362 at threshold 0.9  model 171\n"
     ]
    },
    {
     "name": "stderr",
     "output_type": "stream",
     "text": [
      "\r",
      " 17%|█▋        | 172/1000 [15:52<45:40,  3.31s/it]"
     ]
    },
    {
     "name": "stdout",
     "output_type": "stream",
     "text": [
      "Roc score 0.9791891786077833 at model 172\n",
      "Best F1 score 0.34499396863691195 at threshold 0.9  model 172\n"
     ]
    },
    {
     "name": "stderr",
     "output_type": "stream",
     "text": [
      "\r",
      " 17%|█▋        | 173/1000 [15:55<46:19,  3.36s/it]"
     ]
    },
    {
     "name": "stdout",
     "output_type": "stream",
     "text": [
      "Roc score 0.8975443504078442 at model 173\n",
      "Best F1 score 0.11594202898550725 at threshold 0.9  model 173\n"
     ]
    },
    {
     "name": "stderr",
     "output_type": "stream",
     "text": [
      "\r",
      " 17%|█▋        | 174/1000 [15:59<45:25,  3.30s/it]"
     ]
    },
    {
     "name": "stdout",
     "output_type": "stream",
     "text": [
      "Roc score 0.9242685682716857 at model 174\n",
      "Best F1 score 0.11483253588516745 at threshold 0.9  model 174\n"
     ]
    },
    {
     "name": "stderr",
     "output_type": "stream",
     "text": [
      "\r",
      " 18%|█▊        | 175/1000 [16:02<46:55,  3.41s/it]"
     ]
    },
    {
     "name": "stdout",
     "output_type": "stream",
     "text": [
      "Roc score 0.9640961863971379 at model 175\n",
      "Best F1 score 0.2724014336917563 at threshold 0.9  model 175\n"
     ]
    },
    {
     "name": "stderr",
     "output_type": "stream",
     "text": [
      "\r",
      " 18%|█▊        | 176/1000 [16:05<44:57,  3.27s/it]"
     ]
    },
    {
     "name": "stdout",
     "output_type": "stream",
     "text": [
      "Roc score 0.9630834971024785 at model 176\n",
      "Best F1 score 0.1836327345309381 at threshold 0.9  model 176\n"
     ]
    },
    {
     "name": "stderr",
     "output_type": "stream",
     "text": [
      "\r",
      " 18%|█▊        | 177/1000 [16:09<45:17,  3.30s/it]"
     ]
    },
    {
     "name": "stdout",
     "output_type": "stream",
     "text": [
      "Roc score 0.9397031554861499 at model 177\n",
      "Best F1 score 0.14225941422594143 at threshold 0.9  model 177\n"
     ]
    },
    {
     "name": "stderr",
     "output_type": "stream",
     "text": [
      "\r",
      " 18%|█▊        | 178/1000 [16:12<45:29,  3.32s/it]"
     ]
    },
    {
     "name": "stdout",
     "output_type": "stream",
     "text": [
      "Roc score 0.9342393999222115 at model 178\n",
      "Best F1 score 0.15186721991701244 at threshold 0.9  model 178\n"
     ]
    },
    {
     "name": "stderr",
     "output_type": "stream",
     "text": [
      "\r",
      " 18%|█▊        | 179/1000 [16:16<48:09,  3.52s/it]"
     ]
    },
    {
     "name": "stdout",
     "output_type": "stream",
     "text": [
      "Roc score 0.9281280567357412 at model 179\n",
      "Best F1 score 0.2390998593530239 at threshold 0.9  model 179\n"
     ]
    },
    {
     "name": "stderr",
     "output_type": "stream",
     "text": [
      "\r",
      " 18%|█▊        | 180/1000 [16:20<49:55,  3.65s/it]"
     ]
    },
    {
     "name": "stdout",
     "output_type": "stream",
     "text": [
      "Roc score 0.9310212871660384 at model 180\n",
      "Best F1 score 0.14332247557003258 at threshold 0.9  model 180\n"
     ]
    },
    {
     "name": "stderr",
     "output_type": "stream",
     "text": [
      "\r",
      " 18%|█▊        | 181/1000 [16:23<48:13,  3.53s/it]"
     ]
    },
    {
     "name": "stdout",
     "output_type": "stream",
     "text": [
      "Roc score 0.9737716131421473 at model 181\n",
      "Best F1 score 0.16535433070866143 at threshold 0.9  model 181\n"
     ]
    },
    {
     "name": "stderr",
     "output_type": "stream",
     "text": [
      "\r",
      " 18%|█▊        | 182/1000 [16:26<47:05,  3.45s/it]"
     ]
    },
    {
     "name": "stdout",
     "output_type": "stream",
     "text": [
      "Roc score 0.963554383556719 at model 182\n",
      "Best F1 score 0.5120643431635389 at threshold 0.9  model 182\n"
     ]
    },
    {
     "name": "stderr",
     "output_type": "stream",
     "text": [
      "\r",
      " 18%|█▊        | 183/1000 [16:30<49:34,  3.64s/it]"
     ]
    },
    {
     "name": "stdout",
     "output_type": "stream",
     "text": [
      "Roc score 0.9564348126689358 at model 183\n",
      "Best F1 score 0.08617594254937162 at threshold 0.9  model 183\n"
     ]
    },
    {
     "name": "stderr",
     "output_type": "stream",
     "text": [
      "\r",
      " 18%|█▊        | 184/1000 [16:34<47:57,  3.53s/it]"
     ]
    },
    {
     "name": "stdout",
     "output_type": "stream",
     "text": [
      "Roc score 0.9499342442011286 at model 184\n",
      "Best F1 score 0.1271393643031785 at threshold 0.8  model 184\n"
     ]
    },
    {
     "name": "stderr",
     "output_type": "stream",
     "text": [
      "\r",
      " 18%|█▊        | 185/1000 [16:37<46:22,  3.41s/it]"
     ]
    },
    {
     "name": "stdout",
     "output_type": "stream",
     "text": [
      "Roc score 0.9350686918942771 at model 185\n",
      "Best F1 score 0.1785063752276867 at threshold 0.9  model 185\n"
     ]
    },
    {
     "name": "stderr",
     "output_type": "stream",
     "text": [
      "\r",
      " 19%|█▊        | 186/1000 [16:40<46:06,  3.40s/it]"
     ]
    },
    {
     "name": "stdout",
     "output_type": "stream",
     "text": [
      "Roc score 0.9295171339936433 at model 186\n",
      "Best F1 score 0.22748815165876776 at threshold 0.9  model 186\n"
     ]
    },
    {
     "name": "stderr",
     "output_type": "stream",
     "text": [
      "\r",
      " 19%|█▊        | 187/1000 [16:44<45:57,  3.39s/it]"
     ]
    },
    {
     "name": "stdout",
     "output_type": "stream",
     "text": [
      "Roc score 0.9648053867086036 at model 187\n",
      "Best F1 score 0.2977346278317152 at threshold 0.9  model 187\n"
     ]
    },
    {
     "name": "stderr",
     "output_type": "stream",
     "text": [
      "\r",
      " 19%|█▉        | 188/1000 [16:47<45:20,  3.35s/it]"
     ]
    },
    {
     "name": "stdout",
     "output_type": "stream",
     "text": [
      "Roc score 0.9335018742358798 at model 188\n",
      "Best F1 score 0.09674861221252973 at threshold 0.9  model 188\n"
     ]
    },
    {
     "name": "stderr",
     "output_type": "stream",
     "text": [
      "\r",
      " 19%|█▉        | 189/1000 [16:51<46:36,  3.45s/it]"
     ]
    },
    {
     "name": "stdout",
     "output_type": "stream",
     "text": [
      "Roc score 0.9619195650816591 at model 189\n",
      "Best F1 score 0.2528735632183908 at threshold 0.9  model 189\n"
     ]
    },
    {
     "name": "stderr",
     "output_type": "stream",
     "text": [
      "\r",
      " 19%|█▉        | 190/1000 [16:54<44:57,  3.33s/it]"
     ]
    },
    {
     "name": "stdout",
     "output_type": "stream",
     "text": [
      "Roc score 0.8860678917440955 at model 190\n",
      "Best F1 score 0.12244897959183675 at threshold 0.9  model 190\n"
     ]
    },
    {
     "name": "stderr",
     "output_type": "stream",
     "text": [
      "\r",
      " 19%|█▉        | 191/1000 [16:57<45:54,  3.41s/it]"
     ]
    },
    {
     "name": "stdout",
     "output_type": "stream",
     "text": [
      "Roc score 0.9619134067475884 at model 191\n",
      "Best F1 score 0.1646341463414634 at threshold 0.9  model 191\n"
     ]
    },
    {
     "name": "stderr",
     "output_type": "stream",
     "text": [
      "\r",
      " 19%|█▉        | 192/1000 [17:00<45:14,  3.36s/it]"
     ]
    },
    {
     "name": "stdout",
     "output_type": "stream",
     "text": [
      "Roc score 0.9422805135782935 at model 192\n",
      "Best F1 score 0.1344364012409514 at threshold 0.8  model 192\n"
     ]
    },
    {
     "name": "stderr",
     "output_type": "stream",
     "text": [
      "\r",
      " 19%|█▉        | 193/1000 [17:04<45:12,  3.36s/it]"
     ]
    },
    {
     "name": "stdout",
     "output_type": "stream",
     "text": [
      "Roc score 0.9660243902750301 at model 193\n",
      "Best F1 score 0.6027874564459931 at threshold 0.8  model 193\n"
     ]
    },
    {
     "name": "stderr",
     "output_type": "stream",
     "text": [
      "\r",
      " 19%|█▉        | 194/1000 [17:07<45:30,  3.39s/it]"
     ]
    },
    {
     "name": "stdout",
     "output_type": "stream",
     "text": [
      "Roc score 0.9637882400251125 at model 194\n",
      "Best F1 score 0.5641357027463652 at threshold 0.8  model 194\n"
     ]
    },
    {
     "name": "stderr",
     "output_type": "stream",
     "text": [
      "\r",
      " 20%|█▉        | 195/1000 [17:28<1:53:29,  8.46s/it]"
     ]
    },
    {
     "name": "stdout",
     "output_type": "stream",
     "text": [
      "Roc score 0.9828954353240134 at model 195\n",
      "Best F1 score 0.10776545166402535 at threshold 0.9  model 195\n"
     ]
    },
    {
     "name": "stderr",
     "output_type": "stream",
     "text": [
      "\r",
      " 20%|█▉        | 196/1000 [17:31<1:31:13,  6.81s/it]"
     ]
    },
    {
     "name": "stdout",
     "output_type": "stream",
     "text": [
      "Roc score 0.9595589601750215 at model 196\n",
      "Best F1 score 0.1426978818283166 at threshold 0.9  model 196\n"
     ]
    },
    {
     "name": "stderr",
     "output_type": "stream",
     "text": [
      "\r",
      " 20%|█▉        | 197/1000 [17:34<1:17:21,  5.78s/it]"
     ]
    },
    {
     "name": "stdout",
     "output_type": "stream",
     "text": [
      "Roc score 0.9618535798454202 at model 197\n",
      "Best F1 score 0.3758865248226951 at threshold 0.9  model 197\n"
     ]
    },
    {
     "name": "stderr",
     "output_type": "stream",
     "text": [
      "\r",
      " 20%|█▉        | 198/1000 [17:38<1:08:48,  5.15s/it]"
     ]
    },
    {
     "name": "stdout",
     "output_type": "stream",
     "text": [
      "Roc score 0.9529682894019305 at model 198\n",
      "Best F1 score 0.14173228346456693 at threshold 0.9  model 198\n"
     ]
    },
    {
     "name": "stderr",
     "output_type": "stream",
     "text": [
      "\r",
      " 20%|█▉        | 199/1000 [17:41<1:00:39,  4.54s/it]"
     ]
    },
    {
     "name": "stdout",
     "output_type": "stream",
     "text": [
      "Roc score 0.9426151151151151 at model 199\n",
      "Best F1 score 0.13333333333333333 at threshold 0.9  model 199\n"
     ]
    },
    {
     "name": "stderr",
     "output_type": "stream",
     "text": [
      "\r",
      " 20%|██        | 200/1000 [17:44<54:11,  4.06s/it]  "
     ]
    },
    {
     "name": "stdout",
     "output_type": "stream",
     "text": [
      "Roc score 0.9589691265175636 at model 200\n",
      "Best F1 score 0.3679060665362035 at threshold 0.9  model 200\n"
     ]
    },
    {
     "name": "stderr",
     "output_type": "stream",
     "text": [
      "\r",
      " 20%|██        | 201/1000 [17:47<52:54,  3.97s/it]"
     ]
    },
    {
     "name": "stdout",
     "output_type": "stream",
     "text": [
      "Roc score 0.9317187285894648 at model 201\n",
      "Best F1 score 0.29069767441860467 at threshold 0.8  model 201\n"
     ]
    },
    {
     "name": "stderr",
     "output_type": "stream",
     "text": [
      "\r",
      " 20%|██        | 202/1000 [17:51<49:30,  3.72s/it]"
     ]
    },
    {
     "name": "stdout",
     "output_type": "stream",
     "text": [
      "Roc score 0.9457895446186539 at model 202\n",
      "Best F1 score 0.13581599123767799 at threshold 0.9  model 202\n"
     ]
    },
    {
     "name": "stderr",
     "output_type": "stream",
     "text": [
      "\r",
      " 20%|██        | 203/1000 [17:54<47:34,  3.58s/it]"
     ]
    },
    {
     "name": "stdout",
     "output_type": "stream",
     "text": [
      "Roc score 0.9427971260108766 at model 203\n",
      "Best F1 score 0.028703703703703703 at threshold 0.8  model 203\n"
     ]
    },
    {
     "name": "stderr",
     "output_type": "stream",
     "text": [
      "\r",
      " 20%|██        | 204/1000 [17:57<45:48,  3.45s/it]"
     ]
    },
    {
     "name": "stdout",
     "output_type": "stream",
     "text": [
      "Roc score 0.9490685805725491 at model 204\n",
      "Best F1 score 0.17500000000000004 at threshold 0.9  model 204\n"
     ]
    },
    {
     "name": "stderr",
     "output_type": "stream",
     "text": [
      "\r",
      " 20%|██        | 205/1000 [18:00<45:03,  3.40s/it]"
     ]
    },
    {
     "name": "stdout",
     "output_type": "stream",
     "text": [
      "Roc score 0.94467899497458 at model 205\n",
      "Best F1 score 0.1645021645021645 at threshold 0.9  model 205\n"
     ]
    },
    {
     "name": "stderr",
     "output_type": "stream",
     "text": [
      "\r",
      " 21%|██        | 206/1000 [18:03<43:40,  3.30s/it]"
     ]
    },
    {
     "name": "stdout",
     "output_type": "stream",
     "text": [
      "Roc score 0.9571494809558149 at model 206\n",
      "Best F1 score 0.31790963527490473 at threshold 0.9  model 206\n"
     ]
    },
    {
     "name": "stderr",
     "output_type": "stream",
     "text": [
      "\r",
      " 21%|██        | 207/1000 [18:08<51:07,  3.87s/it]"
     ]
    },
    {
     "name": "stdout",
     "output_type": "stream",
     "text": [
      "Roc score 0.9441957018289425 at model 207\n",
      "Best F1 score 0.048192771084337345 at threshold 0.9  model 207\n"
     ]
    },
    {
     "name": "stderr",
     "output_type": "stream",
     "text": [
      "\r",
      " 21%|██        | 208/1000 [18:12<47:50,  3.62s/it]"
     ]
    },
    {
     "name": "stdout",
     "output_type": "stream",
     "text": [
      "Roc score 0.9263056144383148 at model 208\n",
      "Best F1 score 0.24675324675324675 at threshold 0.9  model 208\n"
     ]
    },
    {
     "name": "stderr",
     "output_type": "stream",
     "text": [
      "\r",
      " 21%|██        | 209/1000 [18:16<50:03,  3.80s/it]"
     ]
    },
    {
     "name": "stdout",
     "output_type": "stream",
     "text": [
      "Roc score 0.912109804454815 at model 209\n",
      "Best F1 score 0.2708221386351424 at threshold 0.9  model 209\n"
     ]
    },
    {
     "name": "stderr",
     "output_type": "stream",
     "text": [
      "\r",
      " 21%|██        | 210/1000 [18:29<1:28:16,  6.70s/it]"
     ]
    },
    {
     "name": "stdout",
     "output_type": "stream",
     "text": [
      "Roc score 0.9657685765007746 at model 210\n",
      "Best F1 score 0.09917355371900827 at threshold 0.9  model 210\n"
     ]
    },
    {
     "name": "stderr",
     "output_type": "stream",
     "text": [
      "\r",
      " 21%|██        | 211/1000 [18:32<1:13:21,  5.58s/it]"
     ]
    },
    {
     "name": "stdout",
     "output_type": "stream",
     "text": [
      "Roc score 0.9619947832151022 at model 211\n",
      "Best F1 score 0.2791145332050048 at threshold 0.9  model 211\n"
     ]
    },
    {
     "name": "stderr",
     "output_type": "stream",
     "text": [
      "\r",
      " 21%|██        | 212/1000 [18:38<1:12:33,  5.53s/it]"
     ]
    },
    {
     "name": "stdout",
     "output_type": "stream",
     "text": [
      "Roc score 0.9609100326525295 at model 212\n",
      "Best F1 score 0.3240556660039761 at threshold 0.9  model 212\n"
     ]
    },
    {
     "name": "stderr",
     "output_type": "stream",
     "text": [
      "\r",
      " 21%|██▏       | 213/1000 [18:41<1:05:33,  5.00s/it]"
     ]
    },
    {
     "name": "stdout",
     "output_type": "stream",
     "text": [
      "Roc score 0.9715608659102922 at model 213\n",
      "Best F1 score 0.3379501385041551 at threshold 0.9  model 213\n"
     ]
    },
    {
     "name": "stderr",
     "output_type": "stream",
     "text": [
      "\r",
      " 21%|██▏       | 214/1000 [18:45<59:56,  4.58s/it]  "
     ]
    },
    {
     "name": "stdout",
     "output_type": "stream",
     "text": [
      "Roc score 0.9254380450524095 at model 214\n",
      "Best F1 score 0.15546218487394958 at threshold 0.9  model 214\n"
     ]
    },
    {
     "name": "stderr",
     "output_type": "stream",
     "text": [
      "\r",
      " 22%|██▏       | 215/1000 [18:49<56:45,  4.34s/it]"
     ]
    },
    {
     "name": "stdout",
     "output_type": "stream",
     "text": [
      "Roc score 0.9270993559799715 at model 215\n",
      "Best F1 score 0.1 at threshold 0.9  model 215\n"
     ]
    },
    {
     "name": "stderr",
     "output_type": "stream",
     "text": [
      "\r",
      " 22%|██▏       | 216/1000 [18:52<52:04,  3.99s/it]"
     ]
    },
    {
     "name": "stdout",
     "output_type": "stream",
     "text": [
      "Roc score 0.933797114100717 at model 216\n",
      "Best F1 score 0.22921348314606743 at threshold 0.9  model 216\n"
     ]
    },
    {
     "name": "stderr",
     "output_type": "stream",
     "text": [
      "\r",
      " 22%|██▏       | 217/1000 [18:55<49:57,  3.83s/it]"
     ]
    },
    {
     "name": "stdout",
     "output_type": "stream",
     "text": [
      "Roc score 0.9700276382676077 at model 217\n",
      "Best F1 score 0.06827880512091039 at threshold 0.9  model 217\n"
     ]
    },
    {
     "name": "stderr",
     "output_type": "stream",
     "text": [
      "\r",
      " 22%|██▏       | 218/1000 [18:58<46:29,  3.57s/it]"
     ]
    },
    {
     "name": "stdout",
     "output_type": "stream",
     "text": [
      "Roc score 0.9780327736257334 at model 218\n",
      "Best F1 score 0.3443557582668187 at threshold 0.9  model 218\n"
     ]
    },
    {
     "name": "stderr",
     "output_type": "stream",
     "text": [
      "\r",
      " 22%|██▏       | 219/1000 [19:03<49:33,  3.81s/it]"
     ]
    },
    {
     "name": "stdout",
     "output_type": "stream",
     "text": [
      "Roc score 0.9730978251487993 at model 219\n",
      "Best F1 score 0.41568627450980394 at threshold 0.9  model 219\n"
     ]
    },
    {
     "name": "stderr",
     "output_type": "stream",
     "text": [
      "\r",
      " 22%|██▏       | 220/1000 [19:06<46:30,  3.58s/it]"
     ]
    },
    {
     "name": "stdout",
     "output_type": "stream",
     "text": [
      "Roc score 0.9588885773713685 at model 220\n",
      "Best F1 score 0.3255583126550868 at threshold 0.9  model 220\n"
     ]
    },
    {
     "name": "stderr",
     "output_type": "stream",
     "text": [
      "\r",
      " 22%|██▏       | 221/1000 [19:11<52:44,  4.06s/it]"
     ]
    },
    {
     "name": "stdout",
     "output_type": "stream",
     "text": [
      "Roc score 0.9298525877528576 at model 221\n",
      "Best F1 score 0.06794682422451993 at threshold 0.9  model 221\n"
     ]
    },
    {
     "name": "stderr",
     "output_type": "stream",
     "text": [
      "\r",
      " 22%|██▏       | 222/1000 [19:14<49:36,  3.83s/it]"
     ]
    },
    {
     "name": "stdout",
     "output_type": "stream",
     "text": [
      "Roc score 0.9157347520279586 at model 222\n",
      "Best F1 score 0.38036809815950917 at threshold 0.8  model 222\n"
     ]
    },
    {
     "name": "stderr",
     "output_type": "stream",
     "text": [
      "\r",
      " 22%|██▏       | 223/1000 [19:21<59:59,  4.63s/it]"
     ]
    },
    {
     "name": "stdout",
     "output_type": "stream",
     "text": [
      "Roc score 0.9598874895758074 at model 223\n",
      "Best F1 score 0.2356902356902357 at threshold 0.9  model 223\n"
     ]
    },
    {
     "name": "stderr",
     "output_type": "stream",
     "text": [
      "\r",
      " 22%|██▏       | 224/1000 [19:24<53:21,  4.13s/it]"
     ]
    },
    {
     "name": "stdout",
     "output_type": "stream",
     "text": [
      "Roc score 0.9316819268963161 at model 224\n",
      "Best F1 score 0.3153988868274582 at threshold 0.9  model 224\n"
     ]
    },
    {
     "name": "stderr",
     "output_type": "stream",
     "text": [
      "\r",
      " 22%|██▎       | 225/1000 [19:27<51:54,  4.02s/it]"
     ]
    },
    {
     "name": "stdout",
     "output_type": "stream",
     "text": [
      "Roc score 0.9024372457826249 at model 225\n",
      "Best F1 score 0.5013248542660307 at threshold 0.8  model 225\n"
     ]
    },
    {
     "name": "stderr",
     "output_type": "stream",
     "text": [
      "\r",
      " 23%|██▎       | 226/1000 [19:35<1:03:47,  4.95s/it]"
     ]
    },
    {
     "name": "stdout",
     "output_type": "stream",
     "text": [
      "Roc score 0.9156899502319974 at model 226\n",
      "Best F1 score 0.1691542288557214 at threshold 0.9  model 226\n"
     ]
    },
    {
     "name": "stderr",
     "output_type": "stream",
     "text": [
      "\r",
      " 23%|██▎       | 227/1000 [19:38<57:10,  4.44s/it]  "
     ]
    },
    {
     "name": "stdout",
     "output_type": "stream",
     "text": [
      "Roc score 0.8884280579041399 at model 227\n",
      "Best F1 score 0.1764705882352941 at threshold 0.9  model 227\n"
     ]
    },
    {
     "name": "stderr",
     "output_type": "stream",
     "text": [
      "\r",
      " 23%|██▎       | 228/1000 [19:41<52:03,  4.05s/it]"
     ]
    },
    {
     "name": "stdout",
     "output_type": "stream",
     "text": [
      "Roc score 0.9545473106630364 at model 228\n",
      "Best F1 score 0.22337662337662337 at threshold 0.9  model 228\n"
     ]
    },
    {
     "name": "stderr",
     "output_type": "stream",
     "text": [
      "\r",
      " 23%|██▎       | 229/1000 [19:44<49:21,  3.84s/it]"
     ]
    },
    {
     "name": "stdout",
     "output_type": "stream",
     "text": [
      "Roc score 0.9743901435878115 at model 229\n",
      "Best F1 score 0.3566433566433567 at threshold 0.9  model 229\n"
     ]
    },
    {
     "name": "stderr",
     "output_type": "stream",
     "text": [
      "\r",
      " 23%|██▎       | 230/1000 [19:48<47:47,  3.72s/it]"
     ]
    },
    {
     "name": "stdout",
     "output_type": "stream",
     "text": [
      "Roc score 0.9368245641777042 at model 230\n",
      "Best F1 score 0.22915042868277474 at threshold 0.9  model 230\n"
     ]
    },
    {
     "name": "stderr",
     "output_type": "stream",
     "text": [
      "\r",
      " 23%|██▎       | 231/1000 [19:52<50:17,  3.92s/it]"
     ]
    },
    {
     "name": "stdout",
     "output_type": "stream",
     "text": [
      "Roc score 0.9218925682026291 at model 231\n",
      "Best F1 score 0.3371325734853029 at threshold 0.9  model 231\n"
     ]
    },
    {
     "name": "stderr",
     "output_type": "stream",
     "text": [
      "\r",
      " 23%|██▎       | 232/1000 [19:58<57:03,  4.46s/it]"
     ]
    },
    {
     "name": "stdout",
     "output_type": "stream",
     "text": [
      "Roc score 0.9297170726864592 at model 232\n",
      "Best F1 score 0.08465608465608465 at threshold 0.9  model 232\n"
     ]
    },
    {
     "name": "stderr",
     "output_type": "stream",
     "text": [
      "\r",
      " 23%|██▎       | 233/1000 [20:01<51:35,  4.04s/it]"
     ]
    },
    {
     "name": "stdout",
     "output_type": "stream",
     "text": [
      "Roc score 0.9173530805705932 at model 233\n",
      "Best F1 score 0.12280701754385966 at threshold 0.9  model 233\n"
     ]
    },
    {
     "name": "stderr",
     "output_type": "stream",
     "text": [
      "\r",
      " 23%|██▎       | 234/1000 [20:04<48:09,  3.77s/it]"
     ]
    },
    {
     "name": "stdout",
     "output_type": "stream",
     "text": [
      "Roc score 0.8850715229534125 at model 234\n",
      "Best F1 score 0.08450704225352113 at threshold 0.9  model 234\n"
     ]
    },
    {
     "name": "stderr",
     "output_type": "stream",
     "text": [
      "\r",
      " 24%|██▎       | 235/1000 [20:07<45:42,  3.59s/it]"
     ]
    },
    {
     "name": "stdout",
     "output_type": "stream",
     "text": [
      "Roc score 0.951823263154682 at model 235\n",
      "Best F1 score 0.2648752399232246 at threshold 0.9  model 235\n"
     ]
    },
    {
     "name": "stderr",
     "output_type": "stream",
     "text": [
      "\r",
      " 24%|██▎       | 236/1000 [20:11<44:45,  3.51s/it]"
     ]
    },
    {
     "name": "stdout",
     "output_type": "stream",
     "text": [
      "Roc score 0.9538907449080374 at model 236\n",
      "Best F1 score 0.36983842010771995 at threshold 0.9  model 236\n"
     ]
    },
    {
     "name": "stderr",
     "output_type": "stream",
     "text": [
      "\r",
      " 24%|██▎       | 237/1000 [20:14<46:05,  3.62s/it]"
     ]
    },
    {
     "name": "stdout",
     "output_type": "stream",
     "text": [
      "Roc score 0.9485443117714534 at model 237\n",
      "Best F1 score 0.20875420875420875 at threshold 0.9  model 237\n"
     ]
    },
    {
     "name": "stderr",
     "output_type": "stream",
     "text": [
      "\r",
      " 24%|██▍       | 238/1000 [20:18<44:35,  3.51s/it]"
     ]
    },
    {
     "name": "stdout",
     "output_type": "stream",
     "text": [
      "Roc score 0.9611667662411233 at model 238\n",
      "Best F1 score 0.1895734597156398 at threshold 0.9  model 238\n"
     ]
    },
    {
     "name": "stderr",
     "output_type": "stream",
     "text": [
      "\r",
      " 24%|██▍       | 239/1000 [20:21<44:42,  3.53s/it]"
     ]
    },
    {
     "name": "stdout",
     "output_type": "stream",
     "text": [
      "Roc score 0.9117632662712414 at model 239\n",
      "Best F1 score 0.08695652173913043 at threshold 0.9  model 239\n"
     ]
    },
    {
     "name": "stderr",
     "output_type": "stream",
     "text": [
      "\r",
      " 24%|██▍       | 240/1000 [20:24<43:40,  3.45s/it]"
     ]
    },
    {
     "name": "stdout",
     "output_type": "stream",
     "text": [
      "Roc score 0.9502913236183395 at model 240\n",
      "Best F1 score 0.7917073170731709 at threshold 0.8  model 240\n"
     ]
    },
    {
     "name": "stderr",
     "output_type": "stream",
     "text": [
      "\r",
      " 24%|██▍       | 241/1000 [20:36<1:12:48,  5.76s/it]"
     ]
    },
    {
     "name": "stdout",
     "output_type": "stream",
     "text": [
      "Roc score 0.9642785324941786 at model 241\n",
      "Best F1 score 0.22880490296220635 at threshold 0.9  model 241\n"
     ]
    },
    {
     "name": "stderr",
     "output_type": "stream",
     "text": [
      "\r",
      " 24%|██▍       | 242/1000 [20:39<1:03:35,  5.03s/it]"
     ]
    },
    {
     "name": "stdout",
     "output_type": "stream",
     "text": [
      "Roc score 0.9649359859230134 at model 242\n",
      "Best F1 score 0.2612942612942613 at threshold 0.9  model 242\n"
     ]
    },
    {
     "name": "stderr",
     "output_type": "stream",
     "text": [
      "\r",
      " 24%|██▍       | 243/1000 [20:42<57:08,  4.53s/it]  "
     ]
    },
    {
     "name": "stdout",
     "output_type": "stream",
     "text": [
      "Roc score 0.9761135157188315 at model 243\n",
      "Best F1 score 0.29987293519695046 at threshold 0.9  model 243\n"
     ]
    },
    {
     "name": "stderr",
     "output_type": "stream",
     "text": [
      "\r",
      " 24%|██▍       | 244/1000 [20:46<54:32,  4.33s/it]"
     ]
    },
    {
     "name": "stdout",
     "output_type": "stream",
     "text": [
      "Roc score 0.9572742545801903 at model 244\n",
      "Best F1 score 0.18693467336683417 at threshold 0.9  model 244\n"
     ]
    },
    {
     "name": "stderr",
     "output_type": "stream",
     "text": [
      "\r",
      " 24%|██▍       | 245/1000 [20:50<50:49,  4.04s/it]"
     ]
    },
    {
     "name": "stdout",
     "output_type": "stream",
     "text": [
      "Roc score 0.9529527596910505 at model 245\n",
      "Best F1 score 0.3395485770363101 at threshold 0.9  model 245\n"
     ]
    },
    {
     "name": "stderr",
     "output_type": "stream",
     "text": [
      "\r",
      " 25%|██▍       | 246/1000 [20:54<51:59,  4.14s/it]"
     ]
    },
    {
     "name": "stdout",
     "output_type": "stream",
     "text": [
      "Roc score 0.9396829553604402 at model 246\n",
      "Best F1 score 0.17551963048498845 at threshold 0.9  model 246\n"
     ]
    },
    {
     "name": "stderr",
     "output_type": "stream",
     "text": [
      "\r",
      " 25%|██▍       | 247/1000 [20:57<49:43,  3.96s/it]"
     ]
    },
    {
     "name": "stdout",
     "output_type": "stream",
     "text": [
      "Roc score 0.950882998698224 at model 247\n",
      "Best F1 score 0.27838827838827834 at threshold 0.9  model 247\n"
     ]
    },
    {
     "name": "stderr",
     "output_type": "stream",
     "text": [
      "\r",
      " 25%|██▍       | 248/1000 [21:01<47:21,  3.78s/it]"
     ]
    },
    {
     "name": "stdout",
     "output_type": "stream",
     "text": [
      "Roc score 0.9435613998464518 at model 248\n",
      "Best F1 score 0.24561403508771928 at threshold 0.9  model 248\n"
     ]
    },
    {
     "name": "stderr",
     "output_type": "stream",
     "text": [
      "\r",
      " 25%|██▍       | 249/1000 [21:04<45:43,  3.65s/it]"
     ]
    },
    {
     "name": "stdout",
     "output_type": "stream",
     "text": [
      "Roc score 0.9143822100895371 at model 249\n",
      "Best F1 score 0.15730337078651685 at threshold 0.9  model 249\n"
     ]
    },
    {
     "name": "stderr",
     "output_type": "stream",
     "text": [
      "\r",
      " 25%|██▌       | 250/1000 [21:08<44:31,  3.56s/it]"
     ]
    },
    {
     "name": "stdout",
     "output_type": "stream",
     "text": [
      "Roc score 0.926499922451833 at model 250\n",
      "Best F1 score 0.18604651162790697 at threshold 0.9  model 250\n"
     ]
    },
    {
     "name": "stderr",
     "output_type": "stream",
     "text": [
      "\r",
      " 25%|██▌       | 251/1000 [21:12<49:25,  3.96s/it]"
     ]
    },
    {
     "name": "stdout",
     "output_type": "stream",
     "text": [
      "Roc score 0.9362349529273168 at model 251\n",
      "Best F1 score 0.06581740976645435 at threshold 0.9  model 251\n"
     ]
    },
    {
     "name": "stderr",
     "output_type": "stream",
     "text": [
      "\r",
      " 25%|██▌       | 252/1000 [21:16<46:40,  3.74s/it]"
     ]
    },
    {
     "name": "stdout",
     "output_type": "stream",
     "text": [
      "Roc score 0.9581033439546947 at model 252\n",
      "Best F1 score 0.193158953722334 at threshold 0.9  model 252\n"
     ]
    },
    {
     "name": "stderr",
     "output_type": "stream",
     "text": [
      "\r",
      " 25%|██▌       | 253/1000 [21:19<45:08,  3.63s/it]"
     ]
    },
    {
     "name": "stdout",
     "output_type": "stream",
     "text": [
      "Roc score 0.9076065665090608 at model 253\n",
      "Best F1 score 0.14666666666666667 at threshold 0.9  model 253\n"
     ]
    },
    {
     "name": "stderr",
     "output_type": "stream",
     "text": [
      "\r",
      " 25%|██▌       | 254/1000 [21:22<43:16,  3.48s/it]"
     ]
    },
    {
     "name": "stdout",
     "output_type": "stream",
     "text": [
      "Roc score 0.9502387764275252 at model 254\n",
      "Best F1 score 0.21167883211678834 at threshold 0.9  model 254\n"
     ]
    },
    {
     "name": "stderr",
     "output_type": "stream",
     "text": [
      "\r",
      " 26%|██▌       | 255/1000 [21:25<41:11,  3.32s/it]"
     ]
    },
    {
     "name": "stdout",
     "output_type": "stream",
     "text": [
      "Roc score 0.9521051345812293 at model 255\n",
      "Best F1 score 0.2302357836338419 at threshold 0.9  model 255\n"
     ]
    },
    {
     "name": "stderr",
     "output_type": "stream",
     "text": [
      "\r",
      " 26%|██▌       | 256/1000 [21:29<41:36,  3.36s/it]"
     ]
    },
    {
     "name": "stdout",
     "output_type": "stream",
     "text": [
      "Roc score 0.9616348356207028 at model 256\n",
      "Best F1 score 0.3647058823529412 at threshold 0.9  model 256\n"
     ]
    },
    {
     "name": "stderr",
     "output_type": "stream",
     "text": [
      "\r",
      " 26%|██▌       | 257/1000 [21:32<41:31,  3.35s/it]"
     ]
    },
    {
     "name": "stdout",
     "output_type": "stream",
     "text": [
      "Roc score 0.9606621859069651 at model 257\n",
      "Best F1 score 0.1521335807050093 at threshold 0.9  model 257\n"
     ]
    },
    {
     "name": "stderr",
     "output_type": "stream",
     "text": [
      "\r",
      " 26%|██▌       | 258/1000 [21:35<41:29,  3.35s/it]"
     ]
    },
    {
     "name": "stdout",
     "output_type": "stream",
     "text": [
      "Roc score 0.9512081243731555 at model 258\n",
      "Best F1 score 0.2268041237113402 at threshold 0.9  model 258\n"
     ]
    },
    {
     "name": "stderr",
     "output_type": "stream",
     "text": [
      "\r",
      " 26%|██▌       | 259/1000 [21:39<41:47,  3.38s/it]"
     ]
    },
    {
     "name": "stdout",
     "output_type": "stream",
     "text": [
      "Roc score 0.9522935709408478 at model 259\n",
      "Best F1 score 0.5397461589846358 at threshold 0.8  model 259\n"
     ]
    },
    {
     "name": "stderr",
     "output_type": "stream",
     "text": [
      "\r",
      " 26%|██▌       | 260/1000 [21:44<47:14,  3.83s/it]"
     ]
    },
    {
     "name": "stdout",
     "output_type": "stream",
     "text": [
      "Roc score 0.9664152753784999 at model 260\n",
      "Best F1 score 0.3417085427135678 at threshold 0.8  model 260\n"
     ]
    },
    {
     "name": "stderr",
     "output_type": "stream",
     "text": [
      "\r",
      " 26%|██▌       | 261/1000 [21:47<46:31,  3.78s/it]"
     ]
    },
    {
     "name": "stdout",
     "output_type": "stream",
     "text": [
      "Roc score 0.9806384246249085 at model 261\n",
      "Best F1 score 0.22222222222222224 at threshold 0.9  model 261\n"
     ]
    },
    {
     "name": "stderr",
     "output_type": "stream",
     "text": [
      "\r",
      " 26%|██▌       | 262/1000 [21:50<43:19,  3.52s/it]"
     ]
    },
    {
     "name": "stdout",
     "output_type": "stream",
     "text": [
      "Roc score 0.9161816750961488 at model 262\n",
      "Best F1 score 0.15706806282722516 at threshold 0.9  model 262\n"
     ]
    },
    {
     "name": "stderr",
     "output_type": "stream",
     "text": [
      "\r",
      " 26%|██▋       | 263/1000 [21:53<41:29,  3.38s/it]"
     ]
    },
    {
     "name": "stdout",
     "output_type": "stream",
     "text": [
      "Roc score 0.8845584623250591 at model 263\n",
      "Best F1 score 0.20030120481927713 at threshold 0.8  model 263\n"
     ]
    },
    {
     "name": "stderr",
     "output_type": "stream",
     "text": [
      "\r",
      " 26%|██▋       | 264/1000 [21:57<43:32,  3.55s/it]"
     ]
    },
    {
     "name": "stdout",
     "output_type": "stream",
     "text": [
      "Roc score 0.9339481559717093 at model 264\n",
      "Best F1 score 0.441860465116279 at threshold 0.8  model 264\n"
     ]
    },
    {
     "name": "stderr",
     "output_type": "stream",
     "text": [
      "\r",
      " 26%|██▋       | 265/1000 [22:00<41:37,  3.40s/it]"
     ]
    },
    {
     "name": "stdout",
     "output_type": "stream",
     "text": [
      "Roc score 0.930773251415877 at model 265\n",
      "Best F1 score 0.13270142180094785 at threshold 0.9  model 265\n"
     ]
    },
    {
     "name": "stderr",
     "output_type": "stream",
     "text": [
      "\r",
      " 27%|██▋       | 266/1000 [22:03<40:16,  3.29s/it]"
     ]
    },
    {
     "name": "stdout",
     "output_type": "stream",
     "text": [
      "Roc score 0.9515224941116717 at model 266\n",
      "Best F1 score 0.6468984321745058 at threshold 0.8  model 266\n"
     ]
    },
    {
     "name": "stderr",
     "output_type": "stream",
     "text": [
      "\r",
      " 27%|██▋       | 267/1000 [22:11<56:48,  4.65s/it]"
     ]
    },
    {
     "name": "stdout",
     "output_type": "stream",
     "text": [
      "Roc score 0.9362883249205459 at model 267\n",
      "Best F1 score 0.2248175182481752 at threshold 0.9  model 267\n"
     ]
    },
    {
     "name": "stderr",
     "output_type": "stream",
     "text": [
      "\r",
      " 27%|██▋       | 268/1000 [22:14<51:56,  4.26s/it]"
     ]
    },
    {
     "name": "stdout",
     "output_type": "stream",
     "text": [
      "Roc score 0.8715396434541506 at model 268\n",
      "Best F1 score 0.09187279151943464 at threshold 0.9  model 268\n"
     ]
    },
    {
     "name": "stderr",
     "output_type": "stream",
     "text": [
      "\r",
      " 27%|██▋       | 269/1000 [22:17<47:00,  3.86s/it]"
     ]
    },
    {
     "name": "stdout",
     "output_type": "stream",
     "text": [
      "Roc score 0.9417117351782364 at model 269\n",
      "Best F1 score 0.21662468513853902 at threshold 0.9  model 269\n"
     ]
    },
    {
     "name": "stderr",
     "output_type": "stream",
     "text": [
      "\r",
      " 27%|██▋       | 270/1000 [22:21<45:04,  3.71s/it]"
     ]
    },
    {
     "name": "stdout",
     "output_type": "stream",
     "text": [
      "Roc score 0.946029919267653 at model 270\n",
      "Best F1 score 0.18181818181818182 at threshold 0.9  model 270\n"
     ]
    },
    {
     "name": "stderr",
     "output_type": "stream",
     "text": [
      "\r",
      " 27%|██▋       | 271/1000 [22:24<42:12,  3.47s/it]"
     ]
    },
    {
     "name": "stdout",
     "output_type": "stream",
     "text": [
      "Roc score 0.973620763919447 at model 271\n",
      "Best F1 score 0.2520325203252033 at threshold 0.9  model 271\n"
     ]
    },
    {
     "name": "stderr",
     "output_type": "stream",
     "text": [
      "\r",
      " 27%|██▋       | 272/1000 [22:27<40:54,  3.37s/it]"
     ]
    },
    {
     "name": "stdout",
     "output_type": "stream",
     "text": [
      "Roc score 0.940344402900768 at model 272\n",
      "Best F1 score 0.21097046413502107 at threshold 0.9  model 272\n"
     ]
    },
    {
     "name": "stderr",
     "output_type": "stream",
     "text": [
      "\r",
      " 27%|██▋       | 273/1000 [22:30<40:25,  3.34s/it]"
     ]
    },
    {
     "name": "stdout",
     "output_type": "stream",
     "text": [
      "Roc score 0.9650106671727426 at model 273\n",
      "Best F1 score 0.5042016806722689 at threshold 0.8  model 273\n"
     ]
    },
    {
     "name": "stderr",
     "output_type": "stream",
     "text": [
      "\r",
      " 27%|██▋       | 274/1000 [22:34<43:03,  3.56s/it]"
     ]
    },
    {
     "name": "stdout",
     "output_type": "stream",
     "text": [
      "Roc score 0.9527762703179317 at model 274\n",
      "Best F1 score 0.5081967213114754 at threshold 0.8  model 274\n"
     ]
    },
    {
     "name": "stderr",
     "output_type": "stream",
     "text": [
      "\r",
      " 28%|██▊       | 275/1000 [22:39<48:30,  4.02s/it]"
     ]
    },
    {
     "name": "stdout",
     "output_type": "stream",
     "text": [
      "Roc score 0.9318856411090222 at model 275\n",
      "Best F1 score 0.13559322033898305 at threshold 0.9  model 275\n"
     ]
    },
    {
     "name": "stderr",
     "output_type": "stream",
     "text": [
      "\r",
      " 28%|██▊       | 276/1000 [22:42<44:34,  3.69s/it]"
     ]
    },
    {
     "name": "stdout",
     "output_type": "stream",
     "text": [
      "Roc score 0.913989441364104 at model 276\n",
      "Best F1 score 0.12021857923497269 at threshold 0.9  model 276\n"
     ]
    },
    {
     "name": "stderr",
     "output_type": "stream",
     "text": [
      "\r",
      " 28%|██▊       | 277/1000 [22:46<44:25,  3.69s/it]"
     ]
    },
    {
     "name": "stdout",
     "output_type": "stream",
     "text": [
      "Roc score 0.9416634585894277 at model 277\n",
      "Best F1 score 0.25717566016073473 at threshold 0.9  model 277\n"
     ]
    },
    {
     "name": "stderr",
     "output_type": "stream",
     "text": [
      "\r",
      " 28%|██▊       | 278/1000 [22:50<45:47,  3.81s/it]"
     ]
    },
    {
     "name": "stdout",
     "output_type": "stream",
     "text": [
      "Roc score 0.9446260170155756 at model 278\n",
      "Best F1 score 0.35834068843777583 at threshold 0.8  model 278\n"
     ]
    },
    {
     "name": "stderr",
     "output_type": "stream",
     "text": [
      "\r",
      " 28%|██▊       | 279/1000 [22:54<46:39,  3.88s/it]"
     ]
    },
    {
     "name": "stdout",
     "output_type": "stream",
     "text": [
      "Roc score 0.933479121858161 at model 279\n",
      "Best F1 score 0.376068376068376 at threshold 0.9  model 279\n"
     ]
    },
    {
     "name": "stderr",
     "output_type": "stream",
     "text": [
      "\r",
      " 28%|██▊       | 280/1000 [22:57<43:54,  3.66s/it]"
     ]
    },
    {
     "name": "stdout",
     "output_type": "stream",
     "text": [
      "Roc score 0.9247450682042657 at model 280\n",
      "Best F1 score 0.09773539928486293 at threshold 0.9  model 280\n"
     ]
    },
    {
     "name": "stderr",
     "output_type": "stream",
     "text": [
      "\r",
      " 28%|██▊       | 281/1000 [23:00<41:17,  3.45s/it]"
     ]
    },
    {
     "name": "stdout",
     "output_type": "stream",
     "text": [
      "Roc score 0.9589794669063431 at model 281\n",
      "Best F1 score 0.5945626477541371 at threshold 0.9  model 281\n"
     ]
    },
    {
     "name": "stderr",
     "output_type": "stream",
     "text": [
      "\r",
      " 28%|██▊       | 282/1000 [23:05<48:10,  4.03s/it]"
     ]
    },
    {
     "name": "stdout",
     "output_type": "stream",
     "text": [
      "Roc score 0.962283730074863 at model 282\n",
      "Best F1 score 0.21513002364066194 at threshold 0.9  model 282\n"
     ]
    },
    {
     "name": "stderr",
     "output_type": "stream",
     "text": [
      "\r",
      " 28%|██▊       | 283/1000 [23:09<45:44,  3.83s/it]"
     ]
    },
    {
     "name": "stdout",
     "output_type": "stream",
     "text": [
      "Roc score 0.9724866471458983 at model 283\n",
      "Best F1 score 0.46420824295010843 at threshold 0.9  model 283\n"
     ]
    },
    {
     "name": "stderr",
     "output_type": "stream",
     "text": [
      "\r",
      " 28%|██▊       | 284/1000 [23:12<44:43,  3.75s/it]"
     ]
    },
    {
     "name": "stdout",
     "output_type": "stream",
     "text": [
      "Roc score 0.9588108849926377 at model 284\n",
      "Best F1 score 0.26573426573426573 at threshold 0.9  model 284\n"
     ]
    },
    {
     "name": "stderr",
     "output_type": "stream",
     "text": [
      "\r",
      " 28%|██▊       | 285/1000 [23:15<42:29,  3.57s/it]"
     ]
    },
    {
     "name": "stdout",
     "output_type": "stream",
     "text": [
      "Roc score 0.9188849736108385 at model 285\n",
      "Best F1 score 0.2205607476635514 at threshold 0.8  model 285\n"
     ]
    },
    {
     "name": "stderr",
     "output_type": "stream",
     "text": [
      "\r",
      " 29%|██▊       | 286/1000 [23:19<41:41,  3.50s/it]"
     ]
    },
    {
     "name": "stdout",
     "output_type": "stream",
     "text": [
      "Roc score 0.9266280266746462 at model 286\n",
      "Best F1 score 0.1208955223880597 at threshold 0.9  model 286\n"
     ]
    },
    {
     "name": "stderr",
     "output_type": "stream",
     "text": [
      "\r",
      " 29%|██▊       | 287/1000 [23:23<42:32,  3.58s/it]"
     ]
    },
    {
     "name": "stdout",
     "output_type": "stream",
     "text": [
      "Roc score 0.9573498002467842 at model 287\n",
      "Best F1 score 0.15485996705107083 at threshold 0.9  model 287\n"
     ]
    },
    {
     "name": "stderr",
     "output_type": "stream",
     "text": [
      "\r",
      " 29%|██▉       | 288/1000 [23:26<41:39,  3.51s/it]"
     ]
    },
    {
     "name": "stdout",
     "output_type": "stream",
     "text": [
      "Roc score 0.9011889521100047 at model 288\n",
      "Best F1 score 0.10762331838565023 at threshold 0.9  model 288\n"
     ]
    },
    {
     "name": "stderr",
     "output_type": "stream",
     "text": [
      "\r",
      " 29%|██▉       | 289/1000 [23:29<40:18,  3.40s/it]"
     ]
    },
    {
     "name": "stdout",
     "output_type": "stream",
     "text": [
      "Roc score 0.90871505879969 at model 289\n",
      "Best F1 score 0.12809472551130247 at threshold 0.9  model 289\n"
     ]
    },
    {
     "name": "stderr",
     "output_type": "stream",
     "text": [
      "\r",
      " 29%|██▉       | 290/1000 [23:33<41:09,  3.48s/it]"
     ]
    },
    {
     "name": "stdout",
     "output_type": "stream",
     "text": [
      "Roc score 0.9276265848234865 at model 290\n",
      "Best F1 score 0.3406307977736549 at threshold 0.9  model 290\n"
     ]
    },
    {
     "name": "stderr",
     "output_type": "stream",
     "text": [
      "\r",
      " 29%|██▉       | 291/1000 [23:38<48:34,  4.11s/it]"
     ]
    },
    {
     "name": "stdout",
     "output_type": "stream",
     "text": [
      "Roc score 0.953624749854029 at model 291\n",
      "Best F1 score 0.632610939112487 at threshold 0.8  model 291\n"
     ]
    },
    {
     "name": "stderr",
     "output_type": "stream",
     "text": [
      "\r",
      " 29%|██▉       | 292/1000 [23:44<55:51,  4.73s/it]"
     ]
    },
    {
     "name": "stdout",
     "output_type": "stream",
     "text": [
      "Roc score 0.9552772587472413 at model 292\n",
      "Best F1 score 0.11195158850226927 at threshold 0.8  model 292\n"
     ]
    },
    {
     "name": "stderr",
     "output_type": "stream",
     "text": [
      "\r",
      " 29%|██▉       | 293/1000 [23:47<49:25,  4.19s/it]"
     ]
    },
    {
     "name": "stdout",
     "output_type": "stream",
     "text": [
      "Roc score 0.9302740364278573 at model 293\n",
      "Best F1 score 0.38077858880778587 at threshold 0.9  model 293\n"
     ]
    },
    {
     "name": "stderr",
     "output_type": "stream",
     "text": [
      "\r",
      " 29%|██▉       | 294/1000 [23:52<52:07,  4.43s/it]"
     ]
    },
    {
     "name": "stdout",
     "output_type": "stream",
     "text": [
      "Roc score 0.9556956825418346 at model 294\n",
      "Best F1 score 0.2827906976744186 at threshold 0.9  model 294\n"
     ]
    },
    {
     "name": "stderr",
     "output_type": "stream",
     "text": [
      "\r",
      " 30%|██▉       | 295/1000 [23:56<50:04,  4.26s/it]"
     ]
    },
    {
     "name": "stdout",
     "output_type": "stream",
     "text": [
      "Roc score 0.9571680762302851 at model 295\n",
      "Best F1 score 0.26666666666666666 at threshold 0.9  model 295\n"
     ]
    },
    {
     "name": "stderr",
     "output_type": "stream",
     "text": [
      "\r",
      " 30%|██▉       | 296/1000 [23:59<45:21,  3.87s/it]"
     ]
    },
    {
     "name": "stdout",
     "output_type": "stream",
     "text": [
      "Roc score 0.9480213156313517 at model 296\n",
      "Best F1 score 0.14285714285714288 at threshold 0.9  model 296\n"
     ]
    },
    {
     "name": "stderr",
     "output_type": "stream",
     "text": [
      "\r",
      " 30%|██▉       | 297/1000 [24:02<42:46,  3.65s/it]"
     ]
    },
    {
     "name": "stdout",
     "output_type": "stream",
     "text": [
      "Roc score 0.9554574475370983 at model 297\n",
      "Best F1 score 0.17777777777777778 at threshold 0.9  model 297\n"
     ]
    },
    {
     "name": "stderr",
     "output_type": "stream",
     "text": [
      "\r",
      " 30%|██▉       | 298/1000 [24:05<40:37,  3.47s/it]"
     ]
    },
    {
     "name": "stdout",
     "output_type": "stream",
     "text": [
      "Roc score 0.9387258208341577 at model 298\n",
      "Best F1 score 0.14285714285714285 at threshold 0.9  model 298\n"
     ]
    },
    {
     "name": "stderr",
     "output_type": "stream",
     "text": [
      "\r",
      " 30%|██▉       | 299/1000 [24:09<39:50,  3.41s/it]"
     ]
    },
    {
     "name": "stdout",
     "output_type": "stream",
     "text": [
      "Roc score 0.8895987679477665 at model 299\n",
      "Best F1 score 0.06402048655569782 at threshold 0.9  model 299\n"
     ]
    },
    {
     "name": "stderr",
     "output_type": "stream",
     "text": [
      "\r",
      " 30%|███       | 300/1000 [24:12<38:51,  3.33s/it]"
     ]
    },
    {
     "name": "stdout",
     "output_type": "stream",
     "text": [
      "Roc score 0.9583554035732796 at model 300\n",
      "Best F1 score 0.06999999999999999 at threshold 0.9  model 300\n"
     ]
    },
    {
     "name": "stderr",
     "output_type": "stream",
     "text": [
      "\r",
      " 30%|███       | 301/1000 [24:15<37:37,  3.23s/it]"
     ]
    },
    {
     "name": "stdout",
     "output_type": "stream",
     "text": [
      "Roc score 0.9462315406341558 at model 301\n",
      "Best F1 score 0.18560000000000001 at threshold 0.9  model 301\n"
     ]
    },
    {
     "name": "stderr",
     "output_type": "stream",
     "text": [
      "\r",
      " 30%|███       | 302/1000 [24:18<37:41,  3.24s/it]"
     ]
    },
    {
     "name": "stdout",
     "output_type": "stream",
     "text": [
      "Roc score 0.9345206014645924 at model 302\n",
      "Best F1 score 0.1783783783783784 at threshold 0.9  model 302\n"
     ]
    },
    {
     "name": "stderr",
     "output_type": "stream",
     "text": [
      "\r",
      " 30%|███       | 303/1000 [24:22<38:45,  3.34s/it]"
     ]
    },
    {
     "name": "stdout",
     "output_type": "stream",
     "text": [
      "Roc score 0.926684659599839 at model 303\n",
      "Best F1 score 0.2717149220489978 at threshold 0.9  model 303\n"
     ]
    },
    {
     "name": "stderr",
     "output_type": "stream",
     "text": [
      "\r",
      " 30%|███       | 304/1000 [24:25<40:35,  3.50s/it]"
     ]
    },
    {
     "name": "stdout",
     "output_type": "stream",
     "text": [
      "Roc score 0.9624036776547406 at model 304\n",
      "Best F1 score 0.7009472259810555 at threshold 0.8  model 304\n"
     ]
    },
    {
     "name": "stderr",
     "output_type": "stream",
     "text": [
      "\r",
      " 30%|███       | 305/1000 [24:31<46:22,  4.00s/it]"
     ]
    },
    {
     "name": "stdout",
     "output_type": "stream",
     "text": [
      "Roc score 0.928271370986047 at model 305\n",
      "Best F1 score 0.16521739130434782 at threshold 0.9  model 305\n"
     ]
    },
    {
     "name": "stderr",
     "output_type": "stream",
     "text": [
      "\r",
      " 31%|███       | 306/1000 [24:34<42:59,  3.72s/it]"
     ]
    },
    {
     "name": "stdout",
     "output_type": "stream",
     "text": [
      "Roc score 0.9233597128784238 at model 306\n",
      "Best F1 score 0.06779661016949154 at threshold 0.8  model 306\n"
     ]
    },
    {
     "name": "stderr",
     "output_type": "stream",
     "text": [
      "\r",
      " 31%|███       | 307/1000 [24:37<41:19,  3.58s/it]"
     ]
    },
    {
     "name": "stdout",
     "output_type": "stream",
     "text": [
      "Roc score 0.9236507219333233 at model 307\n",
      "Best F1 score 0.16045099739809196 at threshold 0.9  model 307\n"
     ]
    },
    {
     "name": "stderr",
     "output_type": "stream",
     "text": [
      "\r",
      " 31%|███       | 308/1000 [24:44<52:02,  4.51s/it]"
     ]
    },
    {
     "name": "stdout",
     "output_type": "stream",
     "text": [
      "Roc score 0.9238361960000921 at model 308\n",
      "Best F1 score 0.11197053406998157 at threshold 0.9  model 308\n"
     ]
    },
    {
     "name": "stderr",
     "output_type": "stream",
     "text": [
      "\r",
      " 31%|███       | 309/1000 [24:48<50:48,  4.41s/it]"
     ]
    },
    {
     "name": "stdout",
     "output_type": "stream",
     "text": [
      "Roc score 0.9429449698628231 at model 309\n",
      "Best F1 score 0.2983783783783784 at threshold 0.9  model 309\n"
     ]
    },
    {
     "name": "stderr",
     "output_type": "stream",
     "text": [
      "\r",
      " 31%|███       | 310/1000 [24:52<48:29,  4.22s/it]"
     ]
    },
    {
     "name": "stdout",
     "output_type": "stream",
     "text": [
      "Roc score 0.9224331060241453 at model 310\n",
      "Best F1 score 0.058333333333333334 at threshold 0.9  model 310\n"
     ]
    },
    {
     "name": "stderr",
     "output_type": "stream",
     "text": [
      "\r",
      " 31%|███       | 311/1000 [24:55<47:00,  4.09s/it]"
     ]
    },
    {
     "name": "stdout",
     "output_type": "stream",
     "text": [
      "Roc score 0.8826424640989233 at model 311\n",
      "Best F1 score 0.18425460636515914 at threshold 0.8  model 311\n"
     ]
    },
    {
     "name": "stderr",
     "output_type": "stream",
     "text": [
      "\r",
      " 31%|███       | 312/1000 [24:59<45:32,  3.97s/it]"
     ]
    },
    {
     "name": "stdout",
     "output_type": "stream",
     "text": [
      "Roc score 0.9117556166558168 at model 312\n",
      "Best F1 score 0.05535055350553506 at threshold 0.8  model 312\n"
     ]
    },
    {
     "name": "stderr",
     "output_type": "stream",
     "text": [
      "\r",
      " 31%|███▏      | 313/1000 [25:02<42:47,  3.74s/it]"
     ]
    },
    {
     "name": "stdout",
     "output_type": "stream",
     "text": [
      "Roc score 0.8901938082367801 at model 313\n",
      "Best F1 score 0.07232267037552156 at threshold 0.9  model 313\n"
     ]
    },
    {
     "name": "stderr",
     "output_type": "stream",
     "text": [
      "\r",
      " 31%|███▏      | 314/1000 [25:06<41:52,  3.66s/it]"
     ]
    },
    {
     "name": "stdout",
     "output_type": "stream",
     "text": [
      "Roc score 0.9580006733136661 at model 314\n",
      "Best F1 score 0.22702702702702704 at threshold 0.9  model 314\n"
     ]
    },
    {
     "name": "stderr",
     "output_type": "stream",
     "text": [
      "\r",
      " 32%|███▏      | 315/1000 [25:09<40:32,  3.55s/it]"
     ]
    },
    {
     "name": "stdout",
     "output_type": "stream",
     "text": [
      "Roc score 0.949970036240779 at model 315\n",
      "Best F1 score 0.30638852672750977 at threshold 0.9  model 315\n"
     ]
    },
    {
     "name": "stderr",
     "output_type": "stream",
     "text": [
      "\r",
      " 32%|███▏      | 316/1000 [25:14<46:12,  4.05s/it]"
     ]
    },
    {
     "name": "stdout",
     "output_type": "stream",
     "text": [
      "Roc score 0.9323889065970061 at model 316\n",
      "Best F1 score 0.1686746987951807 at threshold 0.9  model 316\n"
     ]
    },
    {
     "name": "stderr",
     "output_type": "stream",
     "text": [
      "\r",
      " 32%|███▏      | 317/1000 [25:18<44:54,  3.95s/it]"
     ]
    },
    {
     "name": "stdout",
     "output_type": "stream",
     "text": [
      "Roc score 0.9349254000393035 at model 317\n",
      "Best F1 score 0.45705024311183146 at threshold 0.8  model 317\n"
     ]
    },
    {
     "name": "stderr",
     "output_type": "stream",
     "text": [
      "\r",
      " 32%|███▏      | 318/1000 [25:26<59:57,  5.27s/it]"
     ]
    },
    {
     "name": "stdout",
     "output_type": "stream",
     "text": [
      "Roc score 0.9516816336460336 at model 318\n",
      "Best F1 score 0.061588330632090765 at threshold 0.8  model 318\n"
     ]
    },
    {
     "name": "stderr",
     "output_type": "stream",
     "text": [
      "\r",
      " 32%|███▏      | 319/1000 [25:29<52:23,  4.62s/it]"
     ]
    },
    {
     "name": "stdout",
     "output_type": "stream",
     "text": [
      "Roc score 0.9401688363112368 at model 319\n",
      "Best F1 score 0.218018018018018 at threshold 0.8  model 319\n"
     ]
    },
    {
     "name": "stderr",
     "output_type": "stream",
     "text": [
      "\r",
      " 32%|███▏      | 320/1000 [25:33<49:30,  4.37s/it]"
     ]
    },
    {
     "name": "stdout",
     "output_type": "stream",
     "text": [
      "Roc score 0.9377555610086781 at model 320\n",
      "Best F1 score 0.1298076923076923 at threshold 0.8  model 320\n"
     ]
    },
    {
     "name": "stderr",
     "output_type": "stream",
     "text": [
      "\r",
      " 32%|███▏      | 321/1000 [25:37<45:44,  4.04s/it]"
     ]
    },
    {
     "name": "stdout",
     "output_type": "stream",
     "text": [
      "Roc score 0.9235375970444423 at model 321\n",
      "Best F1 score 0.2173913043478261 at threshold 0.9  model 321\n"
     ]
    },
    {
     "name": "stderr",
     "output_type": "stream",
     "text": [
      "\r",
      " 32%|███▏      | 322/1000 [25:40<42:24,  3.75s/it]"
     ]
    },
    {
     "name": "stdout",
     "output_type": "stream",
     "text": [
      "Roc score 0.9668633461559011 at model 322\n",
      "Best F1 score 0.2810810810810811 at threshold 0.9  model 322\n"
     ]
    },
    {
     "name": "stderr",
     "output_type": "stream",
     "text": [
      "\r",
      " 32%|███▏      | 323/1000 [25:43<41:50,  3.71s/it]"
     ]
    },
    {
     "name": "stdout",
     "output_type": "stream",
     "text": [
      "Roc score 0.9808388856966883 at model 323\n",
      "Best F1 score 0.4420772303595206 at threshold 0.9  model 323\n"
     ]
    },
    {
     "name": "stderr",
     "output_type": "stream",
     "text": [
      "\r",
      " 32%|███▏      | 324/1000 [25:47<41:43,  3.70s/it]"
     ]
    },
    {
     "name": "stdout",
     "output_type": "stream",
     "text": [
      "Roc score 0.9582328299455177 at model 324\n",
      "Best F1 score 0.30434782608695654 at threshold 0.9  model 324\n"
     ]
    },
    {
     "name": "stderr",
     "output_type": "stream",
     "text": [
      "\r",
      " 32%|███▎      | 325/1000 [25:50<40:41,  3.62s/it]"
     ]
    },
    {
     "name": "stdout",
     "output_type": "stream",
     "text": [
      "Roc score 0.9601279468977016 at model 325\n",
      "Best F1 score 0.3436853002070393 at threshold 0.9  model 325\n"
     ]
    },
    {
     "name": "stderr",
     "output_type": "stream",
     "text": [
      "\r",
      " 33%|███▎      | 326/1000 [25:54<40:34,  3.61s/it]"
     ]
    },
    {
     "name": "stdout",
     "output_type": "stream",
     "text": [
      "Roc score 0.9376461891498792 at model 326\n",
      "Best F1 score 0.24742268041237114 at threshold 0.9  model 326\n"
     ]
    },
    {
     "name": "stderr",
     "output_type": "stream",
     "text": [
      "\r",
      " 33%|███▎      | 327/1000 [25:57<40:07,  3.58s/it]"
     ]
    },
    {
     "name": "stdout",
     "output_type": "stream",
     "text": [
      "Roc score 0.9506365482187883 at model 327\n",
      "Best F1 score 0.42777777777777776 at threshold 0.9  model 327\n"
     ]
    },
    {
     "name": "stderr",
     "output_type": "stream",
     "text": [
      "\r",
      " 33%|███▎      | 328/1000 [26:01<39:47,  3.55s/it]"
     ]
    },
    {
     "name": "stdout",
     "output_type": "stream",
     "text": [
      "Roc score 0.9704526712519637 at model 328\n",
      "Best F1 score 0.2587859424920128 at threshold 0.9  model 328\n"
     ]
    },
    {
     "name": "stderr",
     "output_type": "stream",
     "text": [
      "\r",
      " 33%|███▎      | 329/1000 [26:04<38:51,  3.48s/it]"
     ]
    },
    {
     "name": "stdout",
     "output_type": "stream",
     "text": [
      "Roc score 0.9024731702341485 at model 329\n",
      "Best F1 score 0.08860759493670887 at threshold 0.9  model 329\n"
     ]
    },
    {
     "name": "stderr",
     "output_type": "stream",
     "text": [
      "\r",
      " 33%|███▎      | 330/1000 [26:08<38:29,  3.45s/it]"
     ]
    },
    {
     "name": "stdout",
     "output_type": "stream",
     "text": [
      "Roc score 0.9123010623258598 at model 330\n",
      "Best F1 score 0.10671256454388985 at threshold 0.9  model 330\n"
     ]
    },
    {
     "name": "stderr",
     "output_type": "stream",
     "text": [
      "\r",
      " 33%|███▎      | 331/1000 [26:11<39:17,  3.52s/it]"
     ]
    },
    {
     "name": "stdout",
     "output_type": "stream",
     "text": [
      "Roc score 0.9266721259685087 at model 331\n",
      "Best F1 score 0.34006309148264985 at threshold 0.9  model 331\n"
     ]
    },
    {
     "name": "stderr",
     "output_type": "stream",
     "text": [
      "\r",
      " 33%|███▎      | 332/1000 [26:18<50:37,  4.55s/it]"
     ]
    },
    {
     "name": "stdout",
     "output_type": "stream",
     "text": [
      "Roc score 0.9546052515328751 at model 332\n",
      "Best F1 score 0.2337078651685393 at threshold 0.9  model 332\n"
     ]
    },
    {
     "name": "stderr",
     "output_type": "stream",
     "text": [
      "\r",
      " 33%|███▎      | 333/1000 [26:22<47:01,  4.23s/it]"
     ]
    },
    {
     "name": "stdout",
     "output_type": "stream",
     "text": [
      "Roc score 0.9056636136439757 at model 333\n",
      "Best F1 score 0.25490196078431376 at threshold 0.9  model 333\n"
     ]
    },
    {
     "name": "stderr",
     "output_type": "stream",
     "text": [
      "\r",
      " 33%|███▎      | 334/1000 [26:26<46:32,  4.19s/it]"
     ]
    },
    {
     "name": "stdout",
     "output_type": "stream",
     "text": [
      "Roc score 0.9516042160147831 at model 334\n",
      "Best F1 score 0.34192037470725994 at threshold 0.9  model 334\n"
     ]
    },
    {
     "name": "stderr",
     "output_type": "stream",
     "text": [
      "\r",
      " 34%|███▎      | 335/1000 [26:29<44:31,  4.02s/it]"
     ]
    },
    {
     "name": "stdout",
     "output_type": "stream",
     "text": [
      "Roc score 0.967802797077403 at model 335\n",
      "Best F1 score 0.3510848126232741 at threshold 0.9  model 335\n"
     ]
    },
    {
     "name": "stderr",
     "output_type": "stream",
     "text": [
      "\r",
      " 34%|███▎      | 336/1000 [26:33<43:00,  3.89s/it]"
     ]
    },
    {
     "name": "stdout",
     "output_type": "stream",
     "text": [
      "Roc score 0.9311991263703617 at model 336\n",
      "Best F1 score 0.21860730593607305 at threshold 0.9  model 336\n"
     ]
    },
    {
     "name": "stderr",
     "output_type": "stream",
     "text": [
      "\r",
      " 34%|███▎      | 337/1000 [26:38<47:23,  4.29s/it]"
     ]
    },
    {
     "name": "stdout",
     "output_type": "stream",
     "text": [
      "Roc score 0.9371904274371305 at model 337\n",
      "Best F1 score 0.19407894736842105 at threshold 0.9  model 337\n"
     ]
    },
    {
     "name": "stderr",
     "output_type": "stream",
     "text": [
      "\r",
      " 34%|███▍      | 338/1000 [26:42<45:04,  4.09s/it]"
     ]
    },
    {
     "name": "stdout",
     "output_type": "stream",
     "text": [
      "Roc score 0.9501037121468784 at model 338\n",
      "Best F1 score 0.11926605504587155 at threshold 0.9  model 338\n"
     ]
    },
    {
     "name": "stderr",
     "output_type": "stream",
     "text": [
      "\r",
      " 34%|███▍      | 339/1000 [26:45<42:45,  3.88s/it]"
     ]
    },
    {
     "name": "stdout",
     "output_type": "stream",
     "text": [
      "Roc score 0.9494126208218723 at model 339\n",
      "Best F1 score 0.33986928104575165 at threshold 0.9  model 339\n"
     ]
    },
    {
     "name": "stderr",
     "output_type": "stream",
     "text": [
      "\r",
      " 34%|███▍      | 340/1000 [26:49<42:19,  3.85s/it]"
     ]
    },
    {
     "name": "stdout",
     "output_type": "stream",
     "text": [
      "Roc score 0.9549959053424676 at model 340\n",
      "Best F1 score 0.3057929724596391 at threshold 0.9  model 340\n"
     ]
    },
    {
     "name": "stderr",
     "output_type": "stream",
     "text": [
      "\r",
      " 34%|███▍      | 341/1000 [26:54<44:46,  4.08s/it]"
     ]
    },
    {
     "name": "stdout",
     "output_type": "stream",
     "text": [
      "Roc score 0.9705572074325843 at model 341\n",
      "Best F1 score 0.17291066282420747 at threshold 0.9  model 341\n"
     ]
    },
    {
     "name": "stderr",
     "output_type": "stream",
     "text": [
      "\r",
      " 34%|███▍      | 342/1000 [26:57<41:18,  3.77s/it]"
     ]
    },
    {
     "name": "stdout",
     "output_type": "stream",
     "text": [
      "Roc score 0.9724913360121072 at model 342\n",
      "Best F1 score 0.3278688524590164 at threshold 0.9  model 342\n"
     ]
    },
    {
     "name": "stderr",
     "output_type": "stream",
     "text": [
      "\r",
      " 34%|███▍      | 343/1000 [27:00<39:36,  3.62s/it]"
     ]
    },
    {
     "name": "stdout",
     "output_type": "stream",
     "text": [
      "Roc score 0.9371923304134713 at model 343\n",
      "Best F1 score 0.09026128266033254 at threshold 0.9  model 343\n"
     ]
    },
    {
     "name": "stderr",
     "output_type": "stream",
     "text": [
      "\r",
      " 34%|███▍      | 344/1000 [27:03<37:59,  3.47s/it]"
     ]
    },
    {
     "name": "stdout",
     "output_type": "stream",
     "text": [
      "Roc score 0.9652950702241312 at model 344\n",
      "Best F1 score 0.490979381443299 at threshold 0.9  model 344\n"
     ]
    },
    {
     "name": "stderr",
     "output_type": "stream",
     "text": [
      "\r",
      " 34%|███▍      | 345/1000 [27:08<43:31,  3.99s/it]"
     ]
    },
    {
     "name": "stdout",
     "output_type": "stream",
     "text": [
      "Roc score 0.9427925194932815 at model 345\n",
      "Best F1 score 0.12955465587044532 at threshold 0.9  model 345\n"
     ]
    },
    {
     "name": "stderr",
     "output_type": "stream",
     "text": [
      "\r",
      " 35%|███▍      | 346/1000 [27:11<40:43,  3.74s/it]"
     ]
    },
    {
     "name": "stdout",
     "output_type": "stream",
     "text": [
      "Roc score 0.9751969360229122 at model 346\n",
      "Best F1 score 0.2766355140186916 at threshold 0.9  model 346\n"
     ]
    },
    {
     "name": "stderr",
     "output_type": "stream",
     "text": [
      "\r",
      " 35%|███▍      | 347/1000 [27:15<39:04,  3.59s/it]"
     ]
    },
    {
     "name": "stdout",
     "output_type": "stream",
     "text": [
      "Roc score 0.9198160168362779 at model 347\n",
      "Best F1 score 0.15636363636363634 at threshold 0.9  model 347\n"
     ]
    },
    {
     "name": "stderr",
     "output_type": "stream",
     "text": [
      "\r",
      " 35%|███▍      | 348/1000 [27:18<38:17,  3.52s/it]"
     ]
    },
    {
     "name": "stdout",
     "output_type": "stream",
     "text": [
      "Roc score 0.8862217151361889 at model 348\n",
      "Best F1 score 0.032 at threshold 0.9  model 348\n"
     ]
    },
    {
     "name": "stderr",
     "output_type": "stream",
     "text": [
      "\r",
      " 35%|███▍      | 349/1000 [27:21<36:44,  3.39s/it]"
     ]
    },
    {
     "name": "stdout",
     "output_type": "stream",
     "text": [
      "Roc score 0.9873715063550607 at model 349\n",
      "Best F1 score 0.625546381738708 at threshold 0.9  model 349\n"
     ]
    },
    {
     "name": "stderr",
     "output_type": "stream",
     "text": [
      "\r",
      " 35%|███▌      | 350/1000 [27:27<45:07,  4.17s/it]"
     ]
    },
    {
     "name": "stdout",
     "output_type": "stream",
     "text": [
      "Roc score 0.9751971788101691 at model 350\n",
      "Best F1 score 0.13240418118466898 at threshold 0.9  model 350\n"
     ]
    },
    {
     "name": "stderr",
     "output_type": "stream",
     "text": [
      "\r",
      " 35%|███▌      | 351/1000 [27:30<41:08,  3.80s/it]"
     ]
    },
    {
     "name": "stdout",
     "output_type": "stream",
     "text": [
      "Roc score 0.9778234176815254 at model 351\n",
      "Best F1 score 0.10491803278688523 at threshold 0.9  model 351\n"
     ]
    },
    {
     "name": "stderr",
     "output_type": "stream",
     "text": [
      "\r",
      " 35%|███▌      | 352/1000 [27:33<38:38,  3.58s/it]"
     ]
    },
    {
     "name": "stdout",
     "output_type": "stream",
     "text": [
      "Roc score 0.9598207183965647 at model 352\n",
      "Best F1 score 0.22110552763819094 at threshold 0.9  model 352\n"
     ]
    },
    {
     "name": "stderr",
     "output_type": "stream",
     "text": [
      "\r",
      " 35%|███▌      | 353/1000 [27:36<37:13,  3.45s/it]"
     ]
    },
    {
     "name": "stdout",
     "output_type": "stream",
     "text": [
      "Roc score 0.954749420749631 at model 353\n",
      "Best F1 score 0.14598540145985403 at threshold 0.9  model 353\n"
     ]
    },
    {
     "name": "stderr",
     "output_type": "stream",
     "text": [
      "\r",
      " 35%|███▌      | 354/1000 [27:39<35:50,  3.33s/it]"
     ]
    },
    {
     "name": "stdout",
     "output_type": "stream",
     "text": [
      "Roc score 0.9542629213376965 at model 354\n",
      "Best F1 score 0.21052631578947364 at threshold 0.9  model 354\n"
     ]
    },
    {
     "name": "stderr",
     "output_type": "stream",
     "text": [
      "\r",
      " 36%|███▌      | 355/1000 [27:42<35:12,  3.28s/it]"
     ]
    },
    {
     "name": "stdout",
     "output_type": "stream",
     "text": [
      "Roc score 0.9532388121374735 at model 355\n",
      "Best F1 score 0.3069306930693069 at threshold 0.9  model 355\n"
     ]
    },
    {
     "name": "stderr",
     "output_type": "stream",
     "text": [
      "\r",
      " 36%|███▌      | 356/1000 [27:46<34:43,  3.24s/it]"
     ]
    },
    {
     "name": "stdout",
     "output_type": "stream",
     "text": [
      "Roc score 0.9363087723341115 at model 356\n",
      "Best F1 score 0.5786646201074443 at threshold 0.9  model 356\n"
     ]
    },
    {
     "name": "stderr",
     "output_type": "stream",
     "text": [
      "\r",
      " 36%|███▌      | 357/1000 [27:51<40:36,  3.79s/it]"
     ]
    },
    {
     "name": "stdout",
     "output_type": "stream",
     "text": [
      "Roc score 0.9518604610222006 at model 357\n",
      "Best F1 score 0.309462915601023 at threshold 0.9  model 357\n"
     ]
    },
    {
     "name": "stderr",
     "output_type": "stream",
     "text": [
      "\r",
      " 36%|███▌      | 358/1000 [27:54<40:08,  3.75s/it]"
     ]
    },
    {
     "name": "stdout",
     "output_type": "stream",
     "text": [
      "Roc score 0.9628781383255256 at model 358\n",
      "Best F1 score 0.20809248554913293 at threshold 0.9  model 358\n"
     ]
    },
    {
     "name": "stderr",
     "output_type": "stream",
     "text": [
      "\r",
      " 36%|███▌      | 359/1000 [27:57<38:10,  3.57s/it]"
     ]
    },
    {
     "name": "stdout",
     "output_type": "stream",
     "text": [
      "Roc score 0.9606013652944895 at model 359\n",
      "Best F1 score 0.6186131386861313 at threshold 0.9  model 359\n"
     ]
    },
    {
     "name": "stderr",
     "output_type": "stream",
     "text": [
      "\r",
      " 36%|███▌      | 360/1000 [28:02<39:59,  3.75s/it]"
     ]
    },
    {
     "name": "stdout",
     "output_type": "stream",
     "text": [
      "Roc score 0.9813412794544422 at model 360\n",
      "Best F1 score 0.27102803738317754 at threshold 0.9  model 360\n"
     ]
    },
    {
     "name": "stderr",
     "output_type": "stream",
     "text": [
      "\r",
      " 36%|███▌      | 361/1000 [28:05<37:20,  3.51s/it]"
     ]
    },
    {
     "name": "stdout",
     "output_type": "stream",
     "text": [
      "Roc score 0.9473136069200966 at model 361\n",
      "Best F1 score 0.22686567164179106 at threshold 0.9  model 361\n"
     ]
    },
    {
     "name": "stderr",
     "output_type": "stream",
     "text": [
      "\r",
      " 36%|███▌      | 362/1000 [28:08<36:10,  3.40s/it]"
     ]
    },
    {
     "name": "stdout",
     "output_type": "stream",
     "text": [
      "Roc score 0.869047680442856 at model 362\n",
      "Best F1 score 0.11355571327182401 at threshold 0.8  model 362\n"
     ]
    },
    {
     "name": "stderr",
     "output_type": "stream",
     "text": [
      "\r",
      " 36%|███▋      | 363/1000 [28:12<38:34,  3.63s/it]"
     ]
    },
    {
     "name": "stdout",
     "output_type": "stream",
     "text": [
      "Roc score 0.9488863243439773 at model 363\n",
      "Best F1 score 0.24554455445544554 at threshold 0.9  model 363\n"
     ]
    },
    {
     "name": "stderr",
     "output_type": "stream",
     "text": [
      "\r",
      " 36%|███▋      | 364/1000 [28:15<37:36,  3.55s/it]"
     ]
    },
    {
     "name": "stdout",
     "output_type": "stream",
     "text": [
      "Roc score 0.9288004665382632 at model 364\n",
      "Best F1 score 0.11993243243243243 at threshold 0.9  model 364\n"
     ]
    },
    {
     "name": "stderr",
     "output_type": "stream",
     "text": [
      "\r",
      " 36%|███▋      | 365/1000 [28:19<38:55,  3.68s/it]"
     ]
    },
    {
     "name": "stdout",
     "output_type": "stream",
     "text": [
      "Roc score 0.9260886411622902 at model 365\n",
      "Best F1 score 0.07216494845360824 at threshold 0.9  model 365\n"
     ]
    },
    {
     "name": "stderr",
     "output_type": "stream",
     "text": [
      "\r",
      " 37%|███▋      | 366/1000 [28:22<36:51,  3.49s/it]"
     ]
    },
    {
     "name": "stdout",
     "output_type": "stream",
     "text": [
      "Roc score 0.9738907179900347 at model 366\n",
      "Best F1 score 0.17230769230769227 at threshold 0.9  model 366\n"
     ]
    },
    {
     "name": "stderr",
     "output_type": "stream",
     "text": [
      "\r",
      " 37%|███▋      | 367/1000 [28:25<35:45,  3.39s/it]"
     ]
    },
    {
     "name": "stdout",
     "output_type": "stream",
     "text": [
      "Roc score 0.9256793442173121 at model 367\n",
      "Best F1 score 0.1550387596899225 at threshold 0.9  model 367\n"
     ]
    },
    {
     "name": "stderr",
     "output_type": "stream",
     "text": [
      "\r",
      " 37%|███▋      | 368/1000 [28:29<34:57,  3.32s/it]"
     ]
    },
    {
     "name": "stdout",
     "output_type": "stream",
     "text": [
      "Roc score 0.9683862805265304 at model 368\n",
      "Best F1 score 0.3318700614574188 at threshold 0.9  model 368\n"
     ]
    },
    {
     "name": "stderr",
     "output_type": "stream",
     "text": [
      "\r",
      " 37%|███▋      | 369/1000 [28:33<37:14,  3.54s/it]"
     ]
    },
    {
     "name": "stdout",
     "output_type": "stream",
     "text": [
      "Roc score 0.8839481869681551 at model 369\n",
      "Best F1 score 0.17377567140600314 at threshold 0.8  model 369\n"
     ]
    },
    {
     "name": "stderr",
     "output_type": "stream",
     "text": [
      "\r",
      " 37%|███▋      | 370/1000 [28:36<37:13,  3.54s/it]"
     ]
    },
    {
     "name": "stdout",
     "output_type": "stream",
     "text": [
      "Roc score 0.9784559944994234 at model 370\n",
      "Best F1 score 0.20150375939849624 at threshold 0.9  model 370\n"
     ]
    },
    {
     "name": "stderr",
     "output_type": "stream",
     "text": [
      "\r",
      " 37%|███▋      | 371/1000 [28:39<36:12,  3.45s/it]"
     ]
    },
    {
     "name": "stdout",
     "output_type": "stream",
     "text": [
      "Roc score 0.9122682429391694 at model 371\n",
      "Best F1 score 0.12154696132596685 at threshold 0.9  model 371\n"
     ]
    },
    {
     "name": "stderr",
     "output_type": "stream",
     "text": [
      "\r",
      " 37%|███▋      | 372/1000 [28:43<36:28,  3.48s/it]"
     ]
    },
    {
     "name": "stdout",
     "output_type": "stream",
     "text": [
      "Roc score 0.9462630393551446 at model 372\n",
      "Best F1 score 0.17391304347826086 at threshold 0.9  model 372\n"
     ]
    },
    {
     "name": "stderr",
     "output_type": "stream",
     "text": [
      "\r",
      " 37%|███▋      | 373/1000 [28:46<35:01,  3.35s/it]"
     ]
    },
    {
     "name": "stdout",
     "output_type": "stream",
     "text": [
      "Roc score 0.9198568717631175 at model 373\n",
      "Best F1 score 0.38740920096852294 at threshold 0.8  model 373\n"
     ]
    },
    {
     "name": "stderr",
     "output_type": "stream",
     "text": [
      "\r",
      " 37%|███▋      | 374/1000 [28:50<37:12,  3.57s/it]"
     ]
    },
    {
     "name": "stdout",
     "output_type": "stream",
     "text": [
      "Roc score 0.9484660704717889 at model 374\n",
      "Best F1 score 0.20000000000000004 at threshold 0.9  model 374\n"
     ]
    },
    {
     "name": "stderr",
     "output_type": "stream",
     "text": [
      "\r",
      " 38%|███▊      | 375/1000 [28:53<35:51,  3.44s/it]"
     ]
    },
    {
     "name": "stdout",
     "output_type": "stream",
     "text": [
      "Roc score 0.9221603169359994 at model 375\n",
      "Best F1 score 0.13861386138613863 at threshold 0.9  model 375\n"
     ]
    },
    {
     "name": "stderr",
     "output_type": "stream",
     "text": [
      "\r",
      " 38%|███▊      | 376/1000 [28:56<34:32,  3.32s/it]"
     ]
    },
    {
     "name": "stdout",
     "output_type": "stream",
     "text": [
      "Roc score 0.9300464715127064 at model 376\n",
      "Best F1 score 0.1079136690647482 at threshold 0.9  model 376\n"
     ]
    },
    {
     "name": "stderr",
     "output_type": "stream",
     "text": [
      "\r",
      " 38%|███▊      | 377/1000 [28:59<33:39,  3.24s/it]"
     ]
    },
    {
     "name": "stdout",
     "output_type": "stream",
     "text": [
      "Roc score 0.9436085109191548 at model 377\n",
      "Best F1 score 0.3873370577281192 at threshold 0.9  model 377\n"
     ]
    },
    {
     "name": "stderr",
     "output_type": "stream",
     "text": [
      "\r",
      " 38%|███▊      | 378/1000 [29:03<35:11,  3.40s/it]"
     ]
    },
    {
     "name": "stdout",
     "output_type": "stream",
     "text": [
      "Roc score 0.9554912825078679 at model 378\n",
      "Best F1 score 0.1863354037267081 at threshold 0.9  model 378\n"
     ]
    },
    {
     "name": "stderr",
     "output_type": "stream",
     "text": [
      "\r",
      " 38%|███▊      | 379/1000 [29:06<33:43,  3.26s/it]"
     ]
    },
    {
     "name": "stdout",
     "output_type": "stream",
     "text": [
      "Roc score 0.9328195022622169 at model 379\n",
      "Best F1 score 0.15492957746478872 at threshold 0.9  model 379\n"
     ]
    },
    {
     "name": "stderr",
     "output_type": "stream",
     "text": [
      "\r",
      " 38%|███▊      | 380/1000 [29:09<33:03,  3.20s/it]"
     ]
    },
    {
     "name": "stdout",
     "output_type": "stream",
     "text": [
      "Roc score 0.945514406148788 at model 380\n",
      "Best F1 score 0.33451957295373663 at threshold 0.9  model 380\n"
     ]
    },
    {
     "name": "stderr",
     "output_type": "stream",
     "text": [
      "\r",
      " 38%|███▊      | 381/1000 [29:13<34:44,  3.37s/it]"
     ]
    },
    {
     "name": "stdout",
     "output_type": "stream",
     "text": [
      "Roc score 0.9157610090277932 at model 381\n",
      "Best F1 score 0.19607843137254902 at threshold 0.9  model 381\n"
     ]
    },
    {
     "name": "stderr",
     "output_type": "stream",
     "text": [
      "\r",
      " 38%|███▊      | 382/1000 [29:16<34:54,  3.39s/it]"
     ]
    },
    {
     "name": "stdout",
     "output_type": "stream",
     "text": [
      "Roc score 0.9718242411635203 at model 382\n",
      "Best F1 score 0.12244897959183676 at threshold 0.9  model 382\n"
     ]
    },
    {
     "name": "stderr",
     "output_type": "stream",
     "text": [
      "\r",
      " 38%|███▊      | 383/1000 [29:19<33:11,  3.23s/it]"
     ]
    },
    {
     "name": "stdout",
     "output_type": "stream",
     "text": [
      "Roc score 0.9796508696640466 at model 383\n",
      "Best F1 score 0.27814569536423844 at threshold 0.9  model 383\n"
     ]
    },
    {
     "name": "stderr",
     "output_type": "stream",
     "text": [
      "\r",
      " 38%|███▊      | 384/1000 [29:22<31:58,  3.11s/it]"
     ]
    },
    {
     "name": "stdout",
     "output_type": "stream",
     "text": [
      "Roc score 0.9464706638108906 at model 384\n",
      "Best F1 score 0.20887728459530025 at threshold 0.9  model 384\n"
     ]
    },
    {
     "name": "stderr",
     "output_type": "stream",
     "text": [
      "\r",
      " 38%|███▊      | 385/1000 [29:25<31:25,  3.07s/it]"
     ]
    },
    {
     "name": "stdout",
     "output_type": "stream",
     "text": [
      "Roc score 0.9683708518390179 at model 385\n",
      "Best F1 score 0.4668874172185431 at threshold 0.9  model 385\n"
     ]
    },
    {
     "name": "stderr",
     "output_type": "stream",
     "text": [
      "\r",
      " 39%|███▊      | 386/1000 [29:31<40:38,  3.97s/it]"
     ]
    },
    {
     "name": "stdout",
     "output_type": "stream",
     "text": [
      "Roc score 0.9207126333957385 at model 386\n",
      "Best F1 score 0.12429378531073447 at threshold 0.9  model 386\n"
     ]
    },
    {
     "name": "stderr",
     "output_type": "stream",
     "text": [
      "\r",
      " 39%|███▊      | 387/1000 [29:34<38:01,  3.72s/it]"
     ]
    },
    {
     "name": "stdout",
     "output_type": "stream",
     "text": [
      "Roc score 0.9438811640050563 at model 387\n",
      "Best F1 score 0.1780821917808219 at threshold 0.9  model 387\n"
     ]
    },
    {
     "name": "stderr",
     "output_type": "stream",
     "text": [
      "\r",
      " 39%|███▉      | 388/1000 [29:37<36:17,  3.56s/it]"
     ]
    },
    {
     "name": "stdout",
     "output_type": "stream",
     "text": [
      "Roc score 0.9682350304384971 at model 388\n",
      "Best F1 score 0.20163487738419617 at threshold 0.9  model 388\n"
     ]
    },
    {
     "name": "stderr",
     "output_type": "stream",
     "text": [
      "\r",
      " 39%|███▉      | 389/1000 [29:40<34:23,  3.38s/it]"
     ]
    },
    {
     "name": "stdout",
     "output_type": "stream",
     "text": [
      "Roc score 0.9761187995864372 at model 389\n",
      "Best F1 score 0.11134903640256961 at threshold 0.9  model 389\n"
     ]
    },
    {
     "name": "stderr",
     "output_type": "stream",
     "text": [
      "\r",
      " 39%|███▉      | 390/1000 [29:43<32:43,  3.22s/it]"
     ]
    },
    {
     "name": "stdout",
     "output_type": "stream",
     "text": [
      "Roc score 0.9220319403425288 at model 390\n",
      "Best F1 score 0.4521589217145992 at threshold 0.8  model 390\n"
     ]
    },
    {
     "name": "stderr",
     "output_type": "stream",
     "text": [
      "\r",
      " 39%|███▉      | 391/1000 [30:13<1:53:07, 11.14s/it]"
     ]
    },
    {
     "name": "stdout",
     "output_type": "stream",
     "text": [
      "Roc score 0.9147408512031625 at model 391\n",
      "Best F1 score 0.08913649025069638 at threshold 0.9  model 391\n"
     ]
    },
    {
     "name": "stderr",
     "output_type": "stream",
     "text": [
      "\r",
      " 39%|███▉      | 392/1000 [30:16<1:27:40,  8.65s/it]"
     ]
    },
    {
     "name": "stdout",
     "output_type": "stream",
     "text": [
      "Roc score 0.9778375745170159 at model 392\n",
      "Best F1 score 0.24906600249066005 at threshold 0.9  model 392\n"
     ]
    },
    {
     "name": "stderr",
     "output_type": "stream",
     "text": [
      "\r",
      " 39%|███▉      | 393/1000 [30:19<1:11:07,  7.03s/it]"
     ]
    },
    {
     "name": "stdout",
     "output_type": "stream",
     "text": [
      "Roc score 0.9347099215843498 at model 393\n",
      "Best F1 score 0.31030577576443935 at threshold 0.9  model 393\n"
     ]
    },
    {
     "name": "stderr",
     "output_type": "stream",
     "text": [
      "\r",
      " 39%|███▉      | 394/1000 [30:24<1:05:41,  6.50s/it]"
     ]
    },
    {
     "name": "stdout",
     "output_type": "stream",
     "text": [
      "Roc score 0.9544504654164376 at model 394\n",
      "Best F1 score 0.18004866180048662 at threshold 0.9  model 394\n"
     ]
    },
    {
     "name": "stderr",
     "output_type": "stream",
     "text": [
      "\r",
      " 40%|███▉      | 395/1000 [30:27<55:45,  5.53s/it]  "
     ]
    },
    {
     "name": "stdout",
     "output_type": "stream",
     "text": [
      "Roc score 0.9585291803750577 at model 395\n",
      "Best F1 score 0.06349206349206349 at threshold 0.9  model 395\n"
     ]
    },
    {
     "name": "stderr",
     "output_type": "stream",
     "text": [
      "\r",
      " 40%|███▉      | 396/1000 [30:30<48:10,  4.79s/it]"
     ]
    },
    {
     "name": "stdout",
     "output_type": "stream",
     "text": [
      "Roc score 0.9754104413093642 at model 396\n",
      "Best F1 score 0.22733423545331533 at threshold 0.9  model 396\n"
     ]
    },
    {
     "name": "stderr",
     "output_type": "stream",
     "text": [
      "\r",
      " 40%|███▉      | 397/1000 [30:34<43:26,  4.32s/it]"
     ]
    },
    {
     "name": "stdout",
     "output_type": "stream",
     "text": [
      "Roc score 0.9452875766295186 at model 397\n",
      "Best F1 score 0.13071895424836602 at threshold 0.9  model 397\n"
     ]
    },
    {
     "name": "stderr",
     "output_type": "stream",
     "text": [
      "\r",
      " 40%|███▉      | 398/1000 [30:37<40:07,  4.00s/it]"
     ]
    },
    {
     "name": "stdout",
     "output_type": "stream",
     "text": [
      "Roc score 0.9775496771432162 at model 398\n",
      "Best F1 score 0.29710144927536236 at threshold 0.9  model 398\n"
     ]
    },
    {
     "name": "stderr",
     "output_type": "stream",
     "text": [
      "\r",
      " 40%|███▉      | 399/1000 [30:40<37:29,  3.74s/it]"
     ]
    },
    {
     "name": "stdout",
     "output_type": "stream",
     "text": [
      "Roc score 0.9436807131230424 at model 399\n",
      "Best F1 score 0.1863905325443787 at threshold 0.9  model 399\n"
     ]
    },
    {
     "name": "stderr",
     "output_type": "stream",
     "text": [
      "\r",
      " 40%|████      | 400/1000 [30:44<37:13,  3.72s/it]"
     ]
    },
    {
     "name": "stdout",
     "output_type": "stream",
     "text": [
      "Roc score 0.9567735792635126 at model 400\n",
      "Best F1 score 0.25958702064896755 at threshold 0.9  model 400\n"
     ]
    },
    {
     "name": "stderr",
     "output_type": "stream",
     "text": [
      "\r",
      " 40%|████      | 401/1000 [30:47<35:29,  3.56s/it]"
     ]
    },
    {
     "name": "stdout",
     "output_type": "stream",
     "text": [
      "Roc score 0.9353606175149878 at model 401\n",
      "Best F1 score 0.16292134831460672 at threshold 0.9  model 401\n"
     ]
    },
    {
     "name": "stderr",
     "output_type": "stream",
     "text": [
      "\r",
      " 40%|████      | 402/1000 [30:51<36:50,  3.70s/it]"
     ]
    },
    {
     "name": "stdout",
     "output_type": "stream",
     "text": [
      "Roc score 0.9428040445388624 at model 402\n",
      "Best F1 score 0.10948905109489052 at threshold 0.9  model 402\n"
     ]
    },
    {
     "name": "stderr",
     "output_type": "stream",
     "text": [
      "\r",
      " 40%|████      | 403/1000 [30:55<37:02,  3.72s/it]"
     ]
    },
    {
     "name": "stdout",
     "output_type": "stream",
     "text": [
      "Roc score 0.9162609358086826 at model 403\n",
      "Best F1 score 0.17999999999999997 at threshold 0.9  model 403\n"
     ]
    },
    {
     "name": "stderr",
     "output_type": "stream",
     "text": [
      "\r",
      " 40%|████      | 404/1000 [30:58<36:10,  3.64s/it]"
     ]
    },
    {
     "name": "stdout",
     "output_type": "stream",
     "text": [
      "Roc score 0.9754658176404588 at model 404\n",
      "Best F1 score 0.45603576751117736 at threshold 0.9  model 404\n"
     ]
    },
    {
     "name": "stderr",
     "output_type": "stream",
     "text": [
      "\r",
      " 40%|████      | 405/1000 [31:02<36:12,  3.65s/it]"
     ]
    },
    {
     "name": "stdout",
     "output_type": "stream",
     "text": [
      "Roc score 0.9295085415641948 at model 405\n",
      "Best F1 score 0.13564213564213562 at threshold 0.9  model 405\n"
     ]
    },
    {
     "name": "stderr",
     "output_type": "stream",
     "text": [
      "\r",
      " 41%|████      | 406/1000 [31:07<40:05,  4.05s/it]"
     ]
    },
    {
     "name": "stdout",
     "output_type": "stream",
     "text": [
      "Roc score 0.9456041059981981 at model 406\n",
      "Best F1 score 0.12396694214876033 at threshold 0.9  model 406\n"
     ]
    },
    {
     "name": "stderr",
     "output_type": "stream",
     "text": [
      "\r",
      " 41%|████      | 407/1000 [31:10<38:35,  3.90s/it]"
     ]
    },
    {
     "name": "stdout",
     "output_type": "stream",
     "text": [
      "Roc score 0.9487784158552691 at model 407\n",
      "Best F1 score 0.16216216216216217 at threshold 0.9  model 407\n"
     ]
    },
    {
     "name": "stderr",
     "output_type": "stream",
     "text": [
      "\r",
      " 41%|████      | 408/1000 [31:14<38:43,  3.92s/it]"
     ]
    },
    {
     "name": "stdout",
     "output_type": "stream",
     "text": [
      "Roc score 0.944268595217707 at model 408\n",
      "Best F1 score 0.37829525483304044 at threshold 0.8  model 408\n"
     ]
    },
    {
     "name": "stderr",
     "output_type": "stream",
     "text": [
      "\r",
      " 41%|████      | 409/1000 [31:22<48:54,  4.97s/it]"
     ]
    },
    {
     "name": "stdout",
     "output_type": "stream",
     "text": [
      "Roc score 0.9559253363767419 at model 409\n",
      "Best F1 score 0.06835066864784548 at threshold 0.9  model 409\n"
     ]
    },
    {
     "name": "stderr",
     "output_type": "stream",
     "text": [
      "\r",
      " 41%|████      | 410/1000 [31:25<43:10,  4.39s/it]"
     ]
    },
    {
     "name": "stdout",
     "output_type": "stream",
     "text": [
      "Roc score 0.9493971681092199 at model 410\n",
      "Best F1 score 0.15701415701415702 at threshold 0.9  model 410\n"
     ]
    },
    {
     "name": "stderr",
     "output_type": "stream",
     "text": [
      "\r",
      " 41%|████      | 411/1000 [31:29<40:56,  4.17s/it]"
     ]
    },
    {
     "name": "stdout",
     "output_type": "stream",
     "text": [
      "Roc score 0.9647367254023577 at model 411\n",
      "Best F1 score 0.09169054441260745 at threshold 0.9  model 411\n"
     ]
    },
    {
     "name": "stderr",
     "output_type": "stream",
     "text": [
      "\r",
      " 41%|████      | 412/1000 [31:32<37:33,  3.83s/it]"
     ]
    },
    {
     "name": "stdout",
     "output_type": "stream",
     "text": [
      "Roc score 0.9223894178188901 at model 412\n",
      "Best F1 score 0.2818181818181818 at threshold 0.9  model 412\n"
     ]
    },
    {
     "name": "stderr",
     "output_type": "stream",
     "text": [
      "\r",
      " 41%|████▏     | 413/1000 [31:35<36:04,  3.69s/it]"
     ]
    },
    {
     "name": "stdout",
     "output_type": "stream",
     "text": [
      "Roc score 0.9444967971151422 at model 413\n",
      "Best F1 score 0.2263157894736842 at threshold 0.9  model 413\n"
     ]
    },
    {
     "name": "stderr",
     "output_type": "stream",
     "text": [
      "\r",
      " 41%|████▏     | 414/1000 [31:38<35:01,  3.59s/it]"
     ]
    },
    {
     "name": "stdout",
     "output_type": "stream",
     "text": [
      "Roc score 0.9465737928850538 at model 414\n",
      "Best F1 score 0.34829931972789113 at threshold 0.9  model 414\n"
     ]
    },
    {
     "name": "stderr",
     "output_type": "stream",
     "text": [
      "\r",
      " 42%|████▏     | 415/1000 [31:42<35:29,  3.64s/it]"
     ]
    },
    {
     "name": "stdout",
     "output_type": "stream",
     "text": [
      "Roc score 0.958804437367765 at model 415\n",
      "Best F1 score 0.2212855637513172 at threshold 0.9  model 415\n"
     ]
    },
    {
     "name": "stderr",
     "output_type": "stream",
     "text": [
      "\r",
      " 42%|████▏     | 416/1000 [31:47<38:08,  3.92s/it]"
     ]
    },
    {
     "name": "stdout",
     "output_type": "stream",
     "text": [
      "Roc score 0.9376416206759228 at model 416\n",
      "Best F1 score 0.18691588785046728 at threshold 0.9  model 416\n"
     ]
    },
    {
     "name": "stderr",
     "output_type": "stream",
     "text": [
      "\r",
      " 42%|████▏     | 417/1000 [31:50<36:08,  3.72s/it]"
     ]
    },
    {
     "name": "stdout",
     "output_type": "stream",
     "text": [
      "Roc score 0.9663797454959882 at model 417\n",
      "Best F1 score 0.12944983818770225 at threshold 0.9  model 417\n"
     ]
    },
    {
     "name": "stderr",
     "output_type": "stream",
     "text": [
      "\r",
      " 42%|████▏     | 418/1000 [31:53<33:29,  3.45s/it]"
     ]
    },
    {
     "name": "stdout",
     "output_type": "stream",
     "text": [
      "Roc score 0.9260887936561562 at model 418\n",
      "Best F1 score 0.16198347107438016 at threshold 0.9  model 418\n"
     ]
    },
    {
     "name": "stderr",
     "output_type": "stream",
     "text": [
      "\r",
      " 42%|████▏     | 419/1000 [31:56<33:26,  3.45s/it]"
     ]
    },
    {
     "name": "stdout",
     "output_type": "stream",
     "text": [
      "Roc score 0.9452851521028225 at model 419\n",
      "Best F1 score 0.18117647058823533 at threshold 0.9  model 419\n"
     ]
    },
    {
     "name": "stderr",
     "output_type": "stream",
     "text": [
      "\r",
      " 42%|████▏     | 420/1000 [31:59<33:05,  3.42s/it]"
     ]
    },
    {
     "name": "stdout",
     "output_type": "stream",
     "text": [
      "Roc score 0.9403241753989027 at model 420\n",
      "Best F1 score 0.21411947245927077 at threshold 0.9  model 420\n"
     ]
    },
    {
     "name": "stderr",
     "output_type": "stream",
     "text": [
      "\r",
      " 42%|████▏     | 421/1000 [32:04<35:50,  3.71s/it]"
     ]
    },
    {
     "name": "stdout",
     "output_type": "stream",
     "text": [
      "Roc score 0.9511483979159107 at model 421\n",
      "Best F1 score 0.1672727272727273 at threshold 0.9  model 421\n"
     ]
    },
    {
     "name": "stderr",
     "output_type": "stream",
     "text": [
      "\r",
      " 42%|████▏     | 422/1000 [32:07<34:26,  3.57s/it]"
     ]
    },
    {
     "name": "stdout",
     "output_type": "stream",
     "text": [
      "Roc score 0.8601974796053514 at model 422\n",
      "Best F1 score 0.08888888888888889 at threshold 0.9  model 422\n"
     ]
    },
    {
     "name": "stderr",
     "output_type": "stream",
     "text": [
      "\r",
      " 42%|████▏     | 423/1000 [32:10<33:09,  3.45s/it]"
     ]
    },
    {
     "name": "stdout",
     "output_type": "stream",
     "text": [
      "Roc score 0.9760307685058598 at model 423\n",
      "Best F1 score 0.233502538071066 at threshold 0.9  model 423\n"
     ]
    },
    {
     "name": "stderr",
     "output_type": "stream",
     "text": [
      "\r",
      " 42%|████▏     | 424/1000 [32:13<32:10,  3.35s/it]"
     ]
    },
    {
     "name": "stdout",
     "output_type": "stream",
     "text": [
      "Roc score 0.9593600412992438 at model 424\n",
      "Best F1 score 0.14953271028037382 at threshold 0.9  model 424\n"
     ]
    },
    {
     "name": "stderr",
     "output_type": "stream",
     "text": [
      "\r",
      " 42%|████▎     | 425/1000 [32:17<31:32,  3.29s/it]"
     ]
    },
    {
     "name": "stdout",
     "output_type": "stream",
     "text": [
      "Roc score 0.9346990776843891 at model 425\n",
      "Best F1 score 0.3708759954493743 at threshold 0.9  model 425\n"
     ]
    },
    {
     "name": "stderr",
     "output_type": "stream",
     "text": [
      "\r",
      " 43%|████▎     | 426/1000 [32:20<33:05,  3.46s/it]"
     ]
    },
    {
     "name": "stdout",
     "output_type": "stream",
     "text": [
      "Roc score 0.9682499355703116 at model 426\n",
      "Best F1 score 0.1654978962131837 at threshold 0.9  model 426\n"
     ]
    },
    {
     "name": "stderr",
     "output_type": "stream",
     "text": [
      "\r",
      " 43%|████▎     | 427/1000 [32:24<32:25,  3.40s/it]"
     ]
    },
    {
     "name": "stdout",
     "output_type": "stream",
     "text": [
      "Roc score 0.8842814344808818 at model 427\n",
      "Best F1 score 0.10456062291434928 at threshold 0.8  model 427\n"
     ]
    },
    {
     "name": "stderr",
     "output_type": "stream",
     "text": [
      "\r",
      " 43%|████▎     | 428/1000 [32:27<33:07,  3.48s/it]"
     ]
    },
    {
     "name": "stdout",
     "output_type": "stream",
     "text": [
      "Roc score 0.9658603578487948 at model 428\n",
      "Best F1 score 0.4665757162346521 at threshold 0.8  model 428\n"
     ]
    },
    {
     "name": "stderr",
     "output_type": "stream",
     "text": [
      "\r",
      " 43%|████▎     | 429/1000 [32:33<40:15,  4.23s/it]"
     ]
    },
    {
     "name": "stdout",
     "output_type": "stream",
     "text": [
      "Roc score 0.9674463731565086 at model 429\n",
      "Best F1 score 0.2204599524187153 at threshold 0.9  model 429\n"
     ]
    },
    {
     "name": "stderr",
     "output_type": "stream",
     "text": [
      "\r",
      " 43%|████▎     | 430/1000 [32:37<37:39,  3.96s/it]"
     ]
    },
    {
     "name": "stdout",
     "output_type": "stream",
     "text": [
      "Roc score 0.9735859816762278 at model 430\n",
      "Best F1 score 0.2135289323553382 at threshold 0.9  model 430\n"
     ]
    },
    {
     "name": "stderr",
     "output_type": "stream",
     "text": [
      "\r",
      " 43%|████▎     | 431/1000 [32:40<35:32,  3.75s/it]"
     ]
    },
    {
     "name": "stdout",
     "output_type": "stream",
     "text": [
      "Roc score 0.9744654362933584 at model 431\n",
      "Best F1 score 0.1894904458598726 at threshold 0.9  model 431\n"
     ]
    },
    {
     "name": "stderr",
     "output_type": "stream",
     "text": [
      "\r",
      " 43%|████▎     | 432/1000 [32:43<34:36,  3.66s/it]"
     ]
    },
    {
     "name": "stdout",
     "output_type": "stream",
     "text": [
      "Roc score 0.9197626309676209 at model 432\n",
      "Best F1 score 0.19312602291325695 at threshold 0.9  model 432\n"
     ]
    },
    {
     "name": "stderr",
     "output_type": "stream",
     "text": [
      "\r",
      " 43%|████▎     | 433/1000 [32:47<34:34,  3.66s/it]"
     ]
    },
    {
     "name": "stdout",
     "output_type": "stream",
     "text": [
      "Roc score 0.9638047725274184 at model 433\n",
      "Best F1 score 0.2140845070422535 at threshold 0.9  model 433\n"
     ]
    },
    {
     "name": "stderr",
     "output_type": "stream",
     "text": [
      "\r",
      " 43%|████▎     | 434/1000 [32:50<33:05,  3.51s/it]"
     ]
    },
    {
     "name": "stdout",
     "output_type": "stream",
     "text": [
      "Roc score 0.9165852383565973 at model 434\n",
      "Best F1 score 0.04674457429048415 at threshold 0.9  model 434\n"
     ]
    },
    {
     "name": "stderr",
     "output_type": "stream",
     "text": [
      "\r",
      " 44%|████▎     | 435/1000 [32:53<32:20,  3.43s/it]"
     ]
    },
    {
     "name": "stdout",
     "output_type": "stream",
     "text": [
      "Roc score 0.9610503338405173 at model 435\n",
      "Best F1 score 0.14785992217898833 at threshold 0.9  model 435\n"
     ]
    },
    {
     "name": "stderr",
     "output_type": "stream",
     "text": [
      "\r",
      " 44%|████▎     | 436/1000 [32:56<30:35,  3.25s/it]"
     ]
    },
    {
     "name": "stdout",
     "output_type": "stream",
     "text": [
      "Roc score 0.9215216264970091 at model 436\n",
      "Best F1 score 0.10085507564130673 at threshold 0.8  model 436\n"
     ]
    },
    {
     "name": "stderr",
     "output_type": "stream",
     "text": [
      "\r",
      " 44%|████▎     | 437/1000 [33:01<35:42,  3.81s/it]"
     ]
    },
    {
     "name": "stdout",
     "output_type": "stream",
     "text": [
      "Roc score 0.9558288526795354 at model 437\n",
      "Best F1 score 0.12405446293494705 at threshold 0.9  model 437\n"
     ]
    },
    {
     "name": "stderr",
     "output_type": "stream",
     "text": [
      "\r",
      " 44%|████▍     | 438/1000 [33:04<33:48,  3.61s/it]"
     ]
    },
    {
     "name": "stdout",
     "output_type": "stream",
     "text": [
      "Roc score 0.9172671522396365 at model 438\n",
      "Best F1 score 0.06510565391205025 at threshold 0.9  model 438\n"
     ]
    },
    {
     "name": "stderr",
     "output_type": "stream",
     "text": [
      "\r",
      " 44%|████▍     | 439/1000 [33:08<34:10,  3.65s/it]"
     ]
    },
    {
     "name": "stdout",
     "output_type": "stream",
     "text": [
      "Roc score 0.9796599893101942 at model 439\n",
      "Best F1 score 0.32209737827715357 at threshold 0.9  model 439\n"
     ]
    },
    {
     "name": "stderr",
     "output_type": "stream",
     "text": [
      "\r",
      " 44%|████▍     | 440/1000 [33:11<32:04,  3.44s/it]"
     ]
    },
    {
     "name": "stdout",
     "output_type": "stream",
     "text": [
      "Roc score 0.9342656125924493 at model 440\n",
      "Best F1 score 0.1869158878504673 at threshold 0.9  model 440\n"
     ]
    },
    {
     "name": "stderr",
     "output_type": "stream",
     "text": [
      "\r",
      " 44%|████▍     | 441/1000 [33:16<35:45,  3.84s/it]"
     ]
    },
    {
     "name": "stdout",
     "output_type": "stream",
     "text": [
      "Roc score 0.9526108377671777 at model 441\n",
      "Best F1 score 0.11042944785276074 at threshold 0.9  model 441\n"
     ]
    },
    {
     "name": "stderr",
     "output_type": "stream",
     "text": [
      "\r",
      " 44%|████▍     | 442/1000 [33:19<33:29,  3.60s/it]"
     ]
    },
    {
     "name": "stdout",
     "output_type": "stream",
     "text": [
      "Roc score 0.9517056310401528 at model 442\n",
      "Best F1 score 0.6699272197962155 at threshold 0.7000000000000001  model 442\n"
     ]
    },
    {
     "name": "stderr",
     "output_type": "stream",
     "text": [
      "\r",
      " 44%|████▍     | 443/1000 [34:02<2:23:53, 15.50s/it]"
     ]
    },
    {
     "name": "stdout",
     "output_type": "stream",
     "text": [
      "Roc score 0.9250048819911831 at model 443\n",
      "Best F1 score 0.07918968692449355 at threshold 0.9  model 443\n"
     ]
    },
    {
     "name": "stderr",
     "output_type": "stream",
     "text": [
      "\r",
      " 44%|████▍     | 444/1000 [34:06<1:51:17, 12.01s/it]"
     ]
    },
    {
     "name": "stdout",
     "output_type": "stream",
     "text": [
      "Roc score 0.9416699203433213 at model 444\n",
      "Best F1 score 0.21276595744680854 at threshold 0.9  model 444\n"
     ]
    },
    {
     "name": "stderr",
     "output_type": "stream",
     "text": [
      "\r",
      " 44%|████▍     | 445/1000 [34:09<1:26:12,  9.32s/it]"
     ]
    },
    {
     "name": "stdout",
     "output_type": "stream",
     "text": [
      "Roc score 0.9284658245483467 at model 445\n",
      "Best F1 score 0.0653061224489796 at threshold 0.9  model 445\n"
     ]
    },
    {
     "name": "stderr",
     "output_type": "stream",
     "text": [
      "\r",
      " 45%|████▍     | 446/1000 [34:12<1:08:58,  7.47s/it]"
     ]
    },
    {
     "name": "stdout",
     "output_type": "stream",
     "text": [
      "Roc score 0.951526811626666 at model 446\n",
      "Best F1 score 0.28328611898017 at threshold 0.9  model 446\n"
     ]
    },
    {
     "name": "stderr",
     "output_type": "stream",
     "text": [
      "\r",
      " 45%|████▍     | 447/1000 [34:16<57:12,  6.21s/it]  "
     ]
    },
    {
     "name": "stdout",
     "output_type": "stream",
     "text": [
      "Roc score 0.9138703812023837 at model 447\n",
      "Best F1 score 0.1740976645435244 at threshold 0.9  model 447\n"
     ]
    },
    {
     "name": "stderr",
     "output_type": "stream",
     "text": [
      "\r",
      " 45%|████▍     | 448/1000 [34:20<51:28,  5.59s/it]"
     ]
    },
    {
     "name": "stdout",
     "output_type": "stream",
     "text": [
      "Roc score 0.9828694750681943 at model 448\n",
      "Best F1 score 0.3697104677060134 at threshold 0.9  model 448\n"
     ]
    },
    {
     "name": "stderr",
     "output_type": "stream",
     "text": [
      "\r",
      " 45%|████▍     | 449/1000 [34:23<44:53,  4.89s/it]"
     ]
    },
    {
     "name": "stdout",
     "output_type": "stream",
     "text": [
      "Roc score 0.8942703119682075 at model 449\n",
      "Best F1 score 0.16184971098265896 at threshold 0.9  model 449\n"
     ]
    },
    {
     "name": "stderr",
     "output_type": "stream",
     "text": [
      "\r",
      " 45%|████▌     | 450/1000 [34:26<39:42,  4.33s/it]"
     ]
    },
    {
     "name": "stdout",
     "output_type": "stream",
     "text": [
      "Roc score 0.8939832086223943 at model 450\n",
      "Best F1 score 0.5740317045268835 at threshold 0.7000000000000001  model 450\n"
     ]
    },
    {
     "name": "stderr",
     "output_type": "stream",
     "text": [
      "\r",
      " 45%|████▌     | 451/1000 [35:41<3:54:09, 25.59s/it]"
     ]
    },
    {
     "name": "stdout",
     "output_type": "stream",
     "text": [
      "Roc score 0.8783955660950452 at model 451\n",
      "Best F1 score 0.08168316831683167 at threshold 0.8  model 451\n"
     ]
    },
    {
     "name": "stderr",
     "output_type": "stream",
     "text": [
      "\r",
      " 45%|████▌     | 452/1000 [35:45<2:53:41, 19.02s/it]"
     ]
    },
    {
     "name": "stdout",
     "output_type": "stream",
     "text": [
      "Roc score 0.9503119210242653 at model 452\n",
      "Best F1 score 0.17187500000000003 at threshold 0.9  model 452\n"
     ]
    },
    {
     "name": "stderr",
     "output_type": "stream",
     "text": [
      "\r",
      " 45%|████▌     | 453/1000 [35:48<2:09:42, 14.23s/it]"
     ]
    },
    {
     "name": "stdout",
     "output_type": "stream",
     "text": [
      "Roc score 0.9176760513834898 at model 453\n",
      "Best F1 score 0.5304848234099372 at threshold 0.7000000000000001  model 453\n"
     ]
    },
    {
     "name": "stderr",
     "output_type": "stream",
     "text": [
      "\r",
      " 45%|████▌     | 454/1000 [36:48<4:14:34, 27.98s/it]"
     ]
    },
    {
     "name": "stdout",
     "output_type": "stream",
     "text": [
      "Roc score 0.9507203799682503 at model 454\n",
      "Best F1 score 0.08303886925795054 at threshold 0.9  model 454\n"
     ]
    },
    {
     "name": "stderr",
     "output_type": "stream",
     "text": [
      "\r",
      " 46%|████▌     | 455/1000 [36:51<3:06:49, 20.57s/it]"
     ]
    },
    {
     "name": "stdout",
     "output_type": "stream",
     "text": [
      "Roc score 0.946110968098708 at model 455\n",
      "Best F1 score 0.052631578947368425 at threshold 0.9  model 455\n"
     ]
    },
    {
     "name": "stderr",
     "output_type": "stream",
     "text": [
      "\r",
      " 46%|████▌     | 456/1000 [36:54<2:18:18, 15.26s/it]"
     ]
    },
    {
     "name": "stdout",
     "output_type": "stream",
     "text": [
      "Roc score 0.9613491859047752 at model 456\n",
      "Best F1 score 0.23484848484848483 at threshold 0.9  model 456\n"
     ]
    },
    {
     "name": "stderr",
     "output_type": "stream",
     "text": [
      "\r",
      " 46%|████▌     | 457/1000 [36:57<1:45:10, 11.62s/it]"
     ]
    },
    {
     "name": "stdout",
     "output_type": "stream",
     "text": [
      "Roc score 0.9533157971804768 at model 457\n",
      "Best F1 score 0.2694300518134715 at threshold 0.9  model 457\n"
     ]
    },
    {
     "name": "stderr",
     "output_type": "stream",
     "text": [
      "\r",
      " 46%|████▌     | 458/1000 [37:01<1:22:33,  9.14s/it]"
     ]
    },
    {
     "name": "stdout",
     "output_type": "stream",
     "text": [
      "Roc score 0.9552938397261215 at model 458\n",
      "Best F1 score 0.27152317880794696 at threshold 0.9  model 458\n"
     ]
    },
    {
     "name": "stderr",
     "output_type": "stream",
     "text": [
      "\r",
      " 46%|████▌     | 459/1000 [37:04<1:07:50,  7.52s/it]"
     ]
    },
    {
     "name": "stdout",
     "output_type": "stream",
     "text": [
      "Roc score 0.958965863214154 at model 459\n",
      "Best F1 score 0.11059907834101382 at threshold 0.9  model 459\n"
     ]
    },
    {
     "name": "stderr",
     "output_type": "stream",
     "text": [
      "\r",
      " 46%|████▌     | 460/1000 [37:07<55:04,  6.12s/it]  "
     ]
    },
    {
     "name": "stdout",
     "output_type": "stream",
     "text": [
      "Roc score 0.9549293779449627 at model 460\n",
      "Best F1 score 0.3240223463687151 at threshold 0.9  model 460\n"
     ]
    },
    {
     "name": "stderr",
     "output_type": "stream",
     "text": [
      "\r",
      " 46%|████▌     | 461/1000 [37:10<46:09,  5.14s/it]"
     ]
    },
    {
     "name": "stdout",
     "output_type": "stream",
     "text": [
      "Roc score 0.9697744442485318 at model 461\n",
      "Best F1 score 0.2922437673130194 at threshold 0.9  model 461\n"
     ]
    },
    {
     "name": "stderr",
     "output_type": "stream",
     "text": [
      "\r",
      " 46%|████▌     | 462/1000 [37:14<42:53,  4.78s/it]"
     ]
    },
    {
     "name": "stdout",
     "output_type": "stream",
     "text": [
      "Roc score 0.9417007517566206 at model 462\n",
      "Best F1 score 0.2456140350877193 at threshold 0.9  model 462\n"
     ]
    },
    {
     "name": "stderr",
     "output_type": "stream",
     "text": [
      "\r",
      " 46%|████▋     | 463/1000 [37:17<38:56,  4.35s/it]"
     ]
    },
    {
     "name": "stdout",
     "output_type": "stream",
     "text": [
      "Roc score 0.9627475691742172 at model 463\n",
      "Best F1 score 0.27586206896551724 at threshold 0.9  model 463\n"
     ]
    },
    {
     "name": "stderr",
     "output_type": "stream",
     "text": [
      "\r",
      " 46%|████▋     | 464/1000 [37:21<37:48,  4.23s/it]"
     ]
    },
    {
     "name": "stdout",
     "output_type": "stream",
     "text": [
      "Roc score 0.9620936088561463 at model 464\n",
      "Best F1 score 0.1264367816091954 at threshold 0.9  model 464\n"
     ]
    },
    {
     "name": "stderr",
     "output_type": "stream",
     "text": [
      "\r",
      " 46%|████▋     | 465/1000 [37:24<33:59,  3.81s/it]"
     ]
    },
    {
     "name": "stdout",
     "output_type": "stream",
     "text": [
      "Roc score 0.9714657947292272 at model 465\n",
      "Best F1 score 0.31715210355987056 at threshold 0.9  model 465\n"
     ]
    },
    {
     "name": "stderr",
     "output_type": "stream",
     "text": [
      "\r",
      " 47%|████▋     | 466/1000 [37:27<32:24,  3.64s/it]"
     ]
    },
    {
     "name": "stdout",
     "output_type": "stream",
     "text": [
      "Roc score 0.9579430889047997 at model 466\n",
      "Best F1 score 0.7374243733794296 at threshold 0.8  model 466\n"
     ]
    },
    {
     "name": "stderr",
     "output_type": "stream",
     "text": [
      "\r",
      " 47%|████▋     | 467/1000 [38:19<2:40:36, 18.08s/it]"
     ]
    },
    {
     "name": "stdout",
     "output_type": "stream",
     "text": [
      "Roc score 0.9849193181540131 at model 467\n",
      "Best F1 score 0.06968641114982578 at threshold 0.9  model 467\n"
     ]
    },
    {
     "name": "stderr",
     "output_type": "stream",
     "text": [
      "\r",
      " 47%|████▋     | 468/1000 [38:22<2:00:26, 13.58s/it]"
     ]
    },
    {
     "name": "stdout",
     "output_type": "stream",
     "text": [
      "Roc score 0.9470103975302129 at model 468\n",
      "Best F1 score 0.12015810276679842 at threshold 0.9  model 468\n"
     ]
    },
    {
     "name": "stderr",
     "output_type": "stream",
     "text": [
      "\r",
      " 47%|████▋     | 469/1000 [38:26<1:34:44, 10.70s/it]"
     ]
    },
    {
     "name": "stdout",
     "output_type": "stream",
     "text": [
      "Roc score 0.9781371164157284 at model 469\n",
      "Best F1 score 0.1305699481865285 at threshold 0.9  model 469\n"
     ]
    },
    {
     "name": "stderr",
     "output_type": "stream",
     "text": [
      "\r",
      " 47%|████▋     | 470/1000 [38:30<1:15:27,  8.54s/it]"
     ]
    },
    {
     "name": "stdout",
     "output_type": "stream",
     "text": [
      "Roc score 0.9679906719953029 at model 470\n",
      "Best F1 score 0.24761255115961803 at threshold 0.9  model 470\n"
     ]
    },
    {
     "name": "stderr",
     "output_type": "stream",
     "text": [
      "\r",
      " 47%|████▋     | 471/1000 [38:35<1:06:34,  7.55s/it]"
     ]
    },
    {
     "name": "stdout",
     "output_type": "stream",
     "text": [
      "Roc score 0.9708684246194508 at model 471\n",
      "Best F1 score 0.2618510158013544 at threshold 0.9  model 471\n"
     ]
    },
    {
     "name": "stderr",
     "output_type": "stream",
     "text": [
      "\r",
      " 47%|████▋     | 472/1000 [38:38<55:11,  6.27s/it]  "
     ]
    },
    {
     "name": "stdout",
     "output_type": "stream",
     "text": [
      "Roc score 0.9497654367012532 at model 472\n",
      "Best F1 score 0.12682926829268293 at threshold 0.9  model 472\n"
     ]
    },
    {
     "name": "stderr",
     "output_type": "stream",
     "text": [
      "\r",
      " 47%|████▋     | 473/1000 [38:41<46:58,  5.35s/it]"
     ]
    },
    {
     "name": "stdout",
     "output_type": "stream",
     "text": [
      "Roc score 0.93784233565117 at model 473\n",
      "Best F1 score 0.39589169000933705 at threshold 0.8  model 473\n"
     ]
    },
    {
     "name": "stderr",
     "output_type": "stream",
     "text": [
      "\r",
      " 47%|████▋     | 474/1000 [38:46<43:50,  5.00s/it]"
     ]
    },
    {
     "name": "stdout",
     "output_type": "stream",
     "text": [
      "Roc score 0.9571297410859076 at model 474\n",
      "Best F1 score 0.18309859154929578 at threshold 0.9  model 474\n"
     ]
    },
    {
     "name": "stderr",
     "output_type": "stream",
     "text": [
      "\r",
      " 48%|████▊     | 475/1000 [38:49<38:59,  4.46s/it]"
     ]
    },
    {
     "name": "stdout",
     "output_type": "stream",
     "text": [
      "Roc score 0.9245801636327448 at model 475\n",
      "Best F1 score 0.5267938237965485 at threshold 0.8  model 475\n"
     ]
    },
    {
     "name": "stderr",
     "output_type": "stream",
     "text": [
      "\r",
      " 48%|████▊     | 476/1000 [38:55<43:48,  5.02s/it]"
     ]
    },
    {
     "name": "stdout",
     "output_type": "stream",
     "text": [
      "Roc score 0.9027997222828705 at model 476\n",
      "Best F1 score 0.312406576980568 at threshold 0.8  model 476\n"
     ]
    },
    {
     "name": "stderr",
     "output_type": "stream",
     "text": [
      "\r",
      " 48%|████▊     | 477/1000 [39:01<44:38,  5.12s/it]"
     ]
    },
    {
     "name": "stdout",
     "output_type": "stream",
     "text": [
      "Roc score 0.9313312740021849 at model 477\n",
      "Best F1 score 0.16541353383458648 at threshold 0.9  model 477\n"
     ]
    },
    {
     "name": "stderr",
     "output_type": "stream",
     "text": [
      "\r",
      " 48%|████▊     | 478/1000 [39:04<39:44,  4.57s/it]"
     ]
    },
    {
     "name": "stdout",
     "output_type": "stream",
     "text": [
      "Roc score 0.9855246118014562 at model 478\n",
      "Best F1 score 0.25 at threshold 0.9  model 478\n"
     ]
    },
    {
     "name": "stderr",
     "output_type": "stream",
     "text": [
      "\r",
      " 48%|████▊     | 479/1000 [39:07<35:28,  4.09s/it]"
     ]
    },
    {
     "name": "stdout",
     "output_type": "stream",
     "text": [
      "Roc score 0.9735480134928567 at model 479\n",
      "Best F1 score 0.3170731707317073 at threshold 0.9  model 479\n"
     ]
    },
    {
     "name": "stderr",
     "output_type": "stream",
     "text": [
      "\r",
      " 48%|████▊     | 480/1000 [39:10<34:01,  3.93s/it]"
     ]
    },
    {
     "name": "stdout",
     "output_type": "stream",
     "text": [
      "Roc score 0.9555471174630944 at model 480\n",
      "Best F1 score 0.14180929095354525 at threshold 0.9  model 480\n"
     ]
    },
    {
     "name": "stderr",
     "output_type": "stream",
     "text": [
      "\r",
      " 48%|████▊     | 481/1000 [39:14<32:34,  3.77s/it]"
     ]
    },
    {
     "name": "stdout",
     "output_type": "stream",
     "text": [
      "Roc score 0.9192518953078019 at model 481\n",
      "Best F1 score 0.22335025380710663 at threshold 0.9  model 481\n"
     ]
    },
    {
     "name": "stderr",
     "output_type": "stream",
     "text": [
      "\r",
      " 48%|████▊     | 482/1000 [39:17<30:58,  3.59s/it]"
     ]
    },
    {
     "name": "stdout",
     "output_type": "stream",
     "text": [
      "Roc score 0.923135154282884 at model 482\n",
      "Best F1 score 0.09973753280839893 at threshold 0.9  model 482\n"
     ]
    },
    {
     "name": "stderr",
     "output_type": "stream",
     "text": [
      "\r",
      " 48%|████▊     | 483/1000 [39:20<30:02,  3.49s/it]"
     ]
    },
    {
     "name": "stdout",
     "output_type": "stream",
     "text": [
      "Roc score 0.9584974764136381 at model 483\n",
      "Best F1 score 0.24343675417661098 at threshold 0.9  model 483\n"
     ]
    },
    {
     "name": "stderr",
     "output_type": "stream",
     "text": [
      "\r",
      " 48%|████▊     | 484/1000 [39:24<29:40,  3.45s/it]"
     ]
    },
    {
     "name": "stdout",
     "output_type": "stream",
     "text": [
      "Roc score 0.9737758174613903 at model 484\n",
      "Best F1 score 0.2222222222222222 at threshold 0.9  model 484\n"
     ]
    },
    {
     "name": "stderr",
     "output_type": "stream",
     "text": [
      "\r",
      " 48%|████▊     | 485/1000 [39:27<29:07,  3.39s/it]"
     ]
    },
    {
     "name": "stdout",
     "output_type": "stream",
     "text": [
      "Roc score 0.8642196389344512 at model 485\n",
      "Best F1 score 0.061538461538461535 at threshold 0.8  model 485\n"
     ]
    },
    {
     "name": "stderr",
     "output_type": "stream",
     "text": [
      "\r",
      " 49%|████▊     | 486/1000 [39:30<28:44,  3.36s/it]"
     ]
    },
    {
     "name": "stdout",
     "output_type": "stream",
     "text": [
      "Roc score 0.9439555373663963 at model 486\n",
      "Best F1 score 0.14358974358974358 at threshold 0.9  model 486\n"
     ]
    },
    {
     "name": "stderr",
     "output_type": "stream",
     "text": [
      "\r",
      " 49%|████▊     | 487/1000 [39:33<28:12,  3.30s/it]"
     ]
    },
    {
     "name": "stdout",
     "output_type": "stream",
     "text": [
      "Roc score 0.9557125498881098 at model 487\n",
      "Best F1 score 0.3503184713375796 at threshold 0.9  model 487\n"
     ]
    },
    {
     "name": "stderr",
     "output_type": "stream",
     "text": [
      "\r",
      " 49%|████▉     | 488/1000 [39:37<29:23,  3.44s/it]"
     ]
    },
    {
     "name": "stdout",
     "output_type": "stream",
     "text": [
      "Roc score 0.8730037058486532 at model 488\n",
      "Best F1 score 0.0776255707762557 at threshold 0.8  model 488\n"
     ]
    },
    {
     "name": "stderr",
     "output_type": "stream",
     "text": [
      "\r",
      " 49%|████▉     | 489/1000 [39:42<34:06,  4.01s/it]"
     ]
    },
    {
     "name": "stdout",
     "output_type": "stream",
     "text": [
      "Roc score 0.9191397952036348 at model 489\n",
      "Best F1 score 0.034653465346534656 at threshold 0.9  model 489\n"
     ]
    },
    {
     "name": "stderr",
     "output_type": "stream",
     "text": [
      "\r",
      " 49%|████▉     | 490/1000 [39:46<31:59,  3.76s/it]"
     ]
    },
    {
     "name": "stdout",
     "output_type": "stream",
     "text": [
      "Roc score 0.8995264749327778 at model 490\n",
      "Best F1 score 0.08247422680412371 at threshold 0.9  model 490\n"
     ]
    },
    {
     "name": "stderr",
     "output_type": "stream",
     "text": [
      "\r",
      " 49%|████▉     | 491/1000 [39:49<30:26,  3.59s/it]"
     ]
    },
    {
     "name": "stdout",
     "output_type": "stream",
     "text": [
      "Roc score 0.9732689876302072 at model 491\n",
      "Best F1 score 0.5301587301587302 at threshold 0.8  model 491\n"
     ]
    },
    {
     "name": "stderr",
     "output_type": "stream",
     "text": [
      "\r",
      " 49%|████▉     | 492/1000 [39:52<30:35,  3.61s/it]"
     ]
    },
    {
     "name": "stdout",
     "output_type": "stream",
     "text": [
      "Roc score 0.9272996773724014 at model 492\n",
      "Best F1 score 0.14361140443505807 at threshold 0.9  model 492\n"
     ]
    },
    {
     "name": "stderr",
     "output_type": "stream",
     "text": [
      "\r",
      " 49%|████▉     | 493/1000 [39:56<31:28,  3.72s/it]"
     ]
    },
    {
     "name": "stdout",
     "output_type": "stream",
     "text": [
      "Roc score 0.9380078617690044 at model 493\n",
      "Best F1 score 0.2692307692307693 at threshold 0.9  model 493\n"
     ]
    },
    {
     "name": "stderr",
     "output_type": "stream",
     "text": [
      "\r",
      " 49%|████▉     | 494/1000 [40:00<29:58,  3.55s/it]"
     ]
    },
    {
     "name": "stdout",
     "output_type": "stream",
     "text": [
      "Roc score 0.9501127691662382 at model 494\n",
      "Best F1 score 0.2907488986784141 at threshold 0.9  model 494\n"
     ]
    },
    {
     "name": "stderr",
     "output_type": "stream",
     "text": [
      "\r",
      " 50%|████▉     | 495/1000 [40:03<29:26,  3.50s/it]"
     ]
    },
    {
     "name": "stdout",
     "output_type": "stream",
     "text": [
      "Roc score 0.9497109901827775 at model 495\n",
      "Best F1 score 0.2456140350877193 at threshold 0.9  model 495\n"
     ]
    },
    {
     "name": "stderr",
     "output_type": "stream",
     "text": [
      "\r",
      " 50%|████▉     | 496/1000 [40:06<28:48,  3.43s/it]"
     ]
    },
    {
     "name": "stdout",
     "output_type": "stream",
     "text": [
      "Roc score 0.9542862810258963 at model 496\n",
      "Best F1 score 0.3609022556390978 at threshold 0.9  model 496\n"
     ]
    },
    {
     "name": "stderr",
     "output_type": "stream",
     "text": [
      "\r",
      " 50%|████▉     | 497/1000 [40:09<28:21,  3.38s/it]"
     ]
    },
    {
     "name": "stdout",
     "output_type": "stream",
     "text": [
      "Roc score 0.959257180928336 at model 497\n",
      "Best F1 score 0.21671826625386997 at threshold 0.9  model 497\n"
     ]
    },
    {
     "name": "stderr",
     "output_type": "stream",
     "text": [
      "\r",
      " 50%|████▉     | 498/1000 [40:13<29:02,  3.47s/it]"
     ]
    },
    {
     "name": "stdout",
     "output_type": "stream",
     "text": [
      "Roc score 0.9580741996825097 at model 498\n",
      "Best F1 score 0.6222493887530562 at threshold 0.9  model 498\n"
     ]
    },
    {
     "name": "stderr",
     "output_type": "stream",
     "text": [
      "\r",
      " 50%|████▉     | 499/1000 [40:22<42:55,  5.14s/it]"
     ]
    },
    {
     "name": "stdout",
     "output_type": "stream",
     "text": [
      "Roc score 0.9439560045140698 at model 499\n",
      "Best F1 score 0.18703703703703703 at threshold 0.9  model 499\n"
     ]
    },
    {
     "name": "stderr",
     "output_type": "stream",
     "text": [
      "\r",
      " 50%|█████     | 500/1000 [40:26<38:27,  4.61s/it]"
     ]
    },
    {
     "name": "stdout",
     "output_type": "stream",
     "text": [
      "Roc score 0.945187220976557 at model 500\n",
      "Best F1 score 0.07758620689655173 at threshold 0.9  model 500\n"
     ]
    },
    {
     "name": "stderr",
     "output_type": "stream",
     "text": [
      "\r",
      " 50%|█████     | 501/1000 [40:28<34:16,  4.12s/it]"
     ]
    },
    {
     "name": "stdout",
     "output_type": "stream",
     "text": [
      "Roc score 0.9570653375152439 at model 501\n",
      "Best F1 score 0.4611283873833852 at threshold 0.9  model 501\n"
     ]
    },
    {
     "name": "stderr",
     "output_type": "stream",
     "text": [
      "\r",
      " 50%|█████     | 502/1000 [40:35<39:21,  4.74s/it]"
     ]
    },
    {
     "name": "stdout",
     "output_type": "stream",
     "text": [
      "Roc score 0.9522999092953771 at model 502\n",
      "Best F1 score 0.20082530949105915 at threshold 0.9  model 502\n"
     ]
    },
    {
     "name": "stderr",
     "output_type": "stream",
     "text": [
      "\r",
      " 50%|█████     | 503/1000 [40:38<36:06,  4.36s/it]"
     ]
    },
    {
     "name": "stdout",
     "output_type": "stream",
     "text": [
      "Roc score 0.9030161760979023 at model 503\n",
      "Best F1 score 0.28616106333072716 at threshold 0.8  model 503\n"
     ]
    },
    {
     "name": "stderr",
     "output_type": "stream",
     "text": [
      "\r",
      " 50%|█████     | 504/1000 [40:48<49:56,  6.04s/it]"
     ]
    },
    {
     "name": "stdout",
     "output_type": "stream",
     "text": [
      "Roc score 0.9413490147108481 at model 504\n",
      "Best F1 score 0.28828828828828823 at threshold 0.9  model 504\n"
     ]
    },
    {
     "name": "stderr",
     "output_type": "stream",
     "text": [
      "\r",
      " 50%|█████     | 505/1000 [40:51<42:44,  5.18s/it]"
     ]
    },
    {
     "name": "stdout",
     "output_type": "stream",
     "text": [
      "Roc score 0.9142606539497281 at model 505\n",
      "Best F1 score 0.18836565096952912 at threshold 0.9  model 505\n"
     ]
    },
    {
     "name": "stderr",
     "output_type": "stream",
     "text": [
      "\r",
      " 51%|█████     | 506/1000 [40:55<38:10,  4.64s/it]"
     ]
    },
    {
     "name": "stdout",
     "output_type": "stream",
     "text": [
      "Roc score 0.9260735986973587 at model 506\n",
      "Best F1 score 0.2892257271609996 at threshold 0.9  model 506\n"
     ]
    },
    {
     "name": "stderr",
     "output_type": "stream",
     "text": [
      "\r",
      " 51%|█████     | 507/1000 [41:00<39:58,  4.87s/it]"
     ]
    },
    {
     "name": "stdout",
     "output_type": "stream",
     "text": [
      "Roc score 0.9686649779711334 at model 507\n",
      "Best F1 score 0.21308016877637131 at threshold 0.9  model 507\n"
     ]
    },
    {
     "name": "stderr",
     "output_type": "stream",
     "text": [
      "\r",
      " 51%|█████     | 508/1000 [41:04<36:26,  4.44s/it]"
     ]
    },
    {
     "name": "stdout",
     "output_type": "stream",
     "text": [
      "Roc score 0.9634167950248425 at model 508\n",
      "Best F1 score 0.37777777777777777 at threshold 0.9  model 508\n"
     ]
    },
    {
     "name": "stderr",
     "output_type": "stream",
     "text": [
      "\r",
      " 51%|█████     | 509/1000 [41:08<35:41,  4.36s/it]"
     ]
    },
    {
     "name": "stdout",
     "output_type": "stream",
     "text": [
      "Roc score 0.9158256165924531 at model 509\n",
      "Best F1 score 0.1293800539083558 at threshold 0.9  model 509\n"
     ]
    },
    {
     "name": "stderr",
     "output_type": "stream",
     "text": [
      "\r",
      " 51%|█████     | 510/1000 [41:11<33:14,  4.07s/it]"
     ]
    },
    {
     "name": "stdout",
     "output_type": "stream",
     "text": [
      "Roc score 0.8987522105569979 at model 510\n",
      "Best F1 score 0.18236173393124067 at threshold 0.8  model 510\n"
     ]
    },
    {
     "name": "stderr",
     "output_type": "stream",
     "text": [
      "\r",
      " 51%|█████     | 511/1000 [41:15<32:40,  4.01s/it]"
     ]
    },
    {
     "name": "stdout",
     "output_type": "stream",
     "text": [
      "Roc score 0.9234186501224719 at model 511\n",
      "Best F1 score 0.231311706629055 at threshold 0.8  model 511\n"
     ]
    },
    {
     "name": "stderr",
     "output_type": "stream",
     "text": [
      "\r",
      " 51%|█████     | 512/1000 [41:19<31:31,  3.88s/it]"
     ]
    },
    {
     "name": "stdout",
     "output_type": "stream",
     "text": [
      "Roc score 0.9515214456591757 at model 512\n",
      "Best F1 score 0.09162717219589259 at threshold 0.8  model 512\n"
     ]
    },
    {
     "name": "stderr",
     "output_type": "stream",
     "text": [
      "\r",
      " 51%|█████▏    | 513/1000 [41:22<30:11,  3.72s/it]"
     ]
    },
    {
     "name": "stdout",
     "output_type": "stream",
     "text": [
      "Roc score 0.9055448278602221 at model 513\n",
      "Best F1 score 0.10101010101010101 at threshold 0.9  model 513\n"
     ]
    },
    {
     "name": "stderr",
     "output_type": "stream",
     "text": [
      "\r",
      " 51%|█████▏    | 514/1000 [41:25<28:59,  3.58s/it]"
     ]
    },
    {
     "name": "stdout",
     "output_type": "stream",
     "text": [
      "Roc score 0.9287225098287643 at model 514\n",
      "Best F1 score 0.42748091603053434 at threshold 0.8  model 514\n"
     ]
    },
    {
     "name": "stderr",
     "output_type": "stream",
     "text": [
      "\r",
      " 52%|█████▏    | 515/1000 [41:30<31:06,  3.85s/it]"
     ]
    },
    {
     "name": "stdout",
     "output_type": "stream",
     "text": [
      "Roc score 0.8407451284572829 at model 515\n",
      "Best F1 score 0.07536231884057971 at threshold 0.8  model 515\n"
     ]
    },
    {
     "name": "stderr",
     "output_type": "stream",
     "text": [
      "\r",
      " 52%|█████▏    | 516/1000 [41:33<29:21,  3.64s/it]"
     ]
    },
    {
     "name": "stdout",
     "output_type": "stream",
     "text": [
      "Roc score 0.9475317282325811 at model 516\n",
      "Best F1 score 0.17721518987341772 at threshold 0.9  model 516\n"
     ]
    },
    {
     "name": "stderr",
     "output_type": "stream",
     "text": [
      "\r",
      " 52%|█████▏    | 517/1000 [41:36<29:10,  3.62s/it]"
     ]
    },
    {
     "name": "stdout",
     "output_type": "stream",
     "text": [
      "Roc score 0.9203918636663848 at model 517\n",
      "Best F1 score 0.26339285714285715 at threshold 0.9  model 517\n"
     ]
    },
    {
     "name": "stderr",
     "output_type": "stream",
     "text": [
      "\r",
      " 52%|█████▏    | 518/1000 [41:40<30:12,  3.76s/it]"
     ]
    },
    {
     "name": "stdout",
     "output_type": "stream",
     "text": [
      "Roc score 0.9147428914643173 at model 518\n",
      "Best F1 score 0.17054263565891473 at threshold 0.8  model 518\n"
     ]
    },
    {
     "name": "stderr",
     "output_type": "stream",
     "text": [
      "\r",
      " 52%|█████▏    | 519/1000 [41:44<28:57,  3.61s/it]"
     ]
    },
    {
     "name": "stdout",
     "output_type": "stream",
     "text": [
      "Roc score 0.9761990766349423 at model 519\n",
      "Best F1 score 0.4201680672268908 at threshold 0.9  model 519\n"
     ]
    },
    {
     "name": "stderr",
     "output_type": "stream",
     "text": [
      "\r",
      " 52%|█████▏    | 520/1000 [41:47<28:15,  3.53s/it]"
     ]
    },
    {
     "name": "stdout",
     "output_type": "stream",
     "text": [
      "Roc score 0.9505913149992097 at model 520\n",
      "Best F1 score 0.1787709497206704 at threshold 0.9  model 520\n"
     ]
    },
    {
     "name": "stderr",
     "output_type": "stream",
     "text": [
      "\r",
      " 52%|█████▏    | 521/1000 [41:50<27:16,  3.42s/it]"
     ]
    },
    {
     "name": "stdout",
     "output_type": "stream",
     "text": [
      "Roc score 0.9448492242242242 at model 521\n",
      "Best F1 score 0.078125 at threshold 0.9  model 521\n"
     ]
    },
    {
     "name": "stderr",
     "output_type": "stream",
     "text": [
      "\r",
      " 52%|█████▏    | 522/1000 [41:53<26:35,  3.34s/it]"
     ]
    },
    {
     "name": "stdout",
     "output_type": "stream",
     "text": [
      "Roc score 0.8981490128722458 at model 522\n",
      "Best F1 score 0.35014409221902015 at threshold 0.8  model 522\n"
     ]
    },
    {
     "name": "stderr",
     "output_type": "stream",
     "text": [
      "\r",
      " 52%|█████▏    | 523/1000 [42:01<36:02,  4.53s/it]"
     ]
    },
    {
     "name": "stdout",
     "output_type": "stream",
     "text": [
      "Roc score 0.971215101839094 at model 523\n",
      "Best F1 score 0.31399317406143346 at threshold 0.9  model 523\n"
     ]
    },
    {
     "name": "stderr",
     "output_type": "stream",
     "text": [
      "\r",
      " 52%|█████▏    | 524/1000 [42:04<33:13,  4.19s/it]"
     ]
    },
    {
     "name": "stdout",
     "output_type": "stream",
     "text": [
      "Roc score 0.9794008028337122 at model 524\n",
      "Best F1 score 0.4688090737240076 at threshold 0.8  model 524\n"
     ]
    },
    {
     "name": "stderr",
     "output_type": "stream",
     "text": [
      "\r",
      " 52%|█████▎    | 525/1000 [42:07<31:12,  3.94s/it]"
     ]
    },
    {
     "name": "stdout",
     "output_type": "stream",
     "text": [
      "Roc score 0.9761682893841411 at model 525\n",
      "Best F1 score 0.29365079365079366 at threshold 0.9  model 525\n"
     ]
    },
    {
     "name": "stderr",
     "output_type": "stream",
     "text": [
      "\r",
      " 53%|█████▎    | 526/1000 [42:11<30:14,  3.83s/it]"
     ]
    },
    {
     "name": "stdout",
     "output_type": "stream",
     "text": [
      "Roc score 0.9797222135003761 at model 526\n",
      "Best F1 score 0.18181818181818182 at threshold 0.9  model 526\n"
     ]
    },
    {
     "name": "stderr",
     "output_type": "stream",
     "text": [
      "\r",
      " 53%|█████▎    | 527/1000 [42:14<28:08,  3.57s/it]"
     ]
    },
    {
     "name": "stdout",
     "output_type": "stream",
     "text": [
      "Roc score 0.9626038758051906 at model 527\n",
      "Best F1 score 0.12479474548440064 at threshold 0.9  model 527\n"
     ]
    },
    {
     "name": "stderr",
     "output_type": "stream",
     "text": [
      "\r",
      " 53%|█████▎    | 528/1000 [42:17<27:19,  3.47s/it]"
     ]
    },
    {
     "name": "stdout",
     "output_type": "stream",
     "text": [
      "Roc score 0.9133378944696299 at model 528\n",
      "Best F1 score 0.14754098360655735 at threshold 0.9  model 528\n"
     ]
    },
    {
     "name": "stderr",
     "output_type": "stream",
     "text": [
      "\r",
      " 53%|█████▎    | 529/1000 [42:21<27:13,  3.47s/it]"
     ]
    },
    {
     "name": "stdout",
     "output_type": "stream",
     "text": [
      "Roc score 0.9450326086412518 at model 529\n",
      "Best F1 score 0.1388888888888889 at threshold 0.9  model 529\n"
     ]
    },
    {
     "name": "stderr",
     "output_type": "stream",
     "text": [
      "\r",
      " 53%|█████▎    | 530/1000 [42:24<25:57,  3.31s/it]"
     ]
    },
    {
     "name": "stdout",
     "output_type": "stream",
     "text": [
      "Roc score 0.9368142199547933 at model 530\n",
      "Best F1 score 0.14829659318637275 at threshold 0.9  model 530\n"
     ]
    },
    {
     "name": "stderr",
     "output_type": "stream",
     "text": [
      "\r",
      " 53%|█████▎    | 531/1000 [42:27<25:46,  3.30s/it]"
     ]
    },
    {
     "name": "stdout",
     "output_type": "stream",
     "text": [
      "Roc score 0.9222162024339408 at model 531\n",
      "Best F1 score 0.11538461538461539 at threshold 0.9  model 531\n"
     ]
    },
    {
     "name": "stderr",
     "output_type": "stream",
     "text": [
      "\r",
      " 53%|█████▎    | 532/1000 [42:30<25:24,  3.26s/it]"
     ]
    },
    {
     "name": "stdout",
     "output_type": "stream",
     "text": [
      "Roc score 0.9379906905617207 at model 532\n",
      "Best F1 score 0.2273603082851638 at threshold 0.9  model 532\n"
     ]
    },
    {
     "name": "stderr",
     "output_type": "stream",
     "text": [
      "\r",
      " 53%|█████▎    | 533/1000 [42:33<25:37,  3.29s/it]"
     ]
    },
    {
     "name": "stdout",
     "output_type": "stream",
     "text": [
      "Roc score 0.9454566814687132 at model 533\n",
      "Best F1 score 0.20202020202020202 at threshold 0.9  model 533\n"
     ]
    },
    {
     "name": "stderr",
     "output_type": "stream",
     "text": [
      "\r",
      " 53%|█████▎    | 534/1000 [42:38<29:18,  3.77s/it]"
     ]
    },
    {
     "name": "stdout",
     "output_type": "stream",
     "text": [
      "Roc score 0.9622784664901594 at model 534\n",
      "Best F1 score 0.37500000000000006 at threshold 0.9  model 534\n"
     ]
    },
    {
     "name": "stderr",
     "output_type": "stream",
     "text": [
      "\r",
      " 54%|█████▎    | 535/1000 [42:42<30:11,  3.90s/it]"
     ]
    },
    {
     "name": "stdout",
     "output_type": "stream",
     "text": [
      "Roc score 0.9547105076126888 at model 535\n",
      "Best F1 score 0.275 at threshold 0.9  model 535\n"
     ]
    },
    {
     "name": "stderr",
     "output_type": "stream",
     "text": [
      "\r",
      " 54%|█████▎    | 536/1000 [42:45<27:57,  3.62s/it]"
     ]
    },
    {
     "name": "stdout",
     "output_type": "stream",
     "text": [
      "Roc score 0.950206130065238 at model 536\n",
      "Best F1 score 0.3294797687861271 at threshold 0.9  model 536\n"
     ]
    },
    {
     "name": "stderr",
     "output_type": "stream",
     "text": [
      "\r",
      " 54%|█████▎    | 537/1000 [42:49<27:20,  3.54s/it]"
     ]
    },
    {
     "name": "stdout",
     "output_type": "stream",
     "text": [
      "Roc score 0.9776840722172918 at model 537\n",
      "Best F1 score 0.18344519015659957 at threshold 0.9  model 537\n"
     ]
    },
    {
     "name": "stderr",
     "output_type": "stream",
     "text": [
      "\r",
      " 54%|█████▍    | 538/1000 [42:52<26:36,  3.46s/it]"
     ]
    },
    {
     "name": "stdout",
     "output_type": "stream",
     "text": [
      "Roc score 0.9800994374519719 at model 538\n",
      "Best F1 score 0.5452775073028238 at threshold 0.9  model 538\n"
     ]
    },
    {
     "name": "stderr",
     "output_type": "stream",
     "text": [
      "\r",
      " 54%|█████▍    | 539/1000 [42:56<28:39,  3.73s/it]"
     ]
    },
    {
     "name": "stdout",
     "output_type": "stream",
     "text": [
      "Roc score 0.9332097264244072 at model 539\n",
      "Best F1 score 0.13157894736842102 at threshold 0.9  model 539\n"
     ]
    },
    {
     "name": "stderr",
     "output_type": "stream",
     "text": [
      "\r",
      " 54%|█████▍    | 540/1000 [43:00<27:50,  3.63s/it]"
     ]
    },
    {
     "name": "stdout",
     "output_type": "stream",
     "text": [
      "Roc score 0.9443554217526512 at model 540\n",
      "Best F1 score 0.18761726078799248 at threshold 0.8  model 540\n"
     ]
    },
    {
     "name": "stderr",
     "output_type": "stream",
     "text": [
      "\r",
      " 54%|█████▍    | 541/1000 [43:03<27:14,  3.56s/it]"
     ]
    },
    {
     "name": "stdout",
     "output_type": "stream",
     "text": [
      "Roc score 0.9349555442968376 at model 541\n",
      "Best F1 score 0.295959595959596 at threshold 0.8  model 541\n"
     ]
    },
    {
     "name": "stderr",
     "output_type": "stream",
     "text": [
      "\r",
      " 54%|█████▍    | 542/1000 [43:08<29:31,  3.87s/it]"
     ]
    },
    {
     "name": "stdout",
     "output_type": "stream",
     "text": [
      "Roc score 0.9605618570412334 at model 542\n",
      "Best F1 score 0.37905759162303665 at threshold 0.9  model 542\n"
     ]
    },
    {
     "name": "stderr",
     "output_type": "stream",
     "text": [
      "\r",
      " 54%|█████▍    | 543/1000 [43:12<29:30,  3.87s/it]"
     ]
    },
    {
     "name": "stdout",
     "output_type": "stream",
     "text": [
      "Roc score 0.9525853271218433 at model 543\n",
      "Best F1 score 0.2922201138519924 at threshold 0.9  model 543\n"
     ]
    },
    {
     "name": "stderr",
     "output_type": "stream",
     "text": [
      "\r",
      " 54%|█████▍    | 544/1000 [43:16<31:32,  4.15s/it]"
     ]
    },
    {
     "name": "stdout",
     "output_type": "stream",
     "text": [
      "Roc score 0.9570052115116156 at model 544\n",
      "Best F1 score 0.27087198515769945 at threshold 0.9  model 544\n"
     ]
    },
    {
     "name": "stderr",
     "output_type": "stream",
     "text": [
      "\r",
      " 55%|█████▍    | 545/1000 [43:20<29:55,  3.95s/it]"
     ]
    },
    {
     "name": "stdout",
     "output_type": "stream",
     "text": [
      "Roc score 0.977421270684193 at model 545\n",
      "Best F1 score 0.21710526315789472 at threshold 0.9  model 545\n"
     ]
    },
    {
     "name": "stderr",
     "output_type": "stream",
     "text": [
      "\r",
      " 55%|█████▍    | 546/1000 [43:24<29:27,  3.89s/it]"
     ]
    },
    {
     "name": "stdout",
     "output_type": "stream",
     "text": [
      "Roc score 0.9564479128056661 at model 546\n",
      "Best F1 score 0.24764890282131663 at threshold 0.9  model 546\n"
     ]
    },
    {
     "name": "stderr",
     "output_type": "stream",
     "text": [
      "\r",
      " 55%|█████▍    | 547/1000 [43:27<28:38,  3.79s/it]"
     ]
    },
    {
     "name": "stdout",
     "output_type": "stream",
     "text": [
      "Roc score 0.9301264125678381 at model 547\n",
      "Best F1 score 0.13725490196078433 at threshold 0.9  model 547\n"
     ]
    },
    {
     "name": "stderr",
     "output_type": "stream",
     "text": [
      "\r",
      " 55%|█████▍    | 548/1000 [43:30<26:54,  3.57s/it]"
     ]
    },
    {
     "name": "stdout",
     "output_type": "stream",
     "text": [
      "Roc score 0.8803903966055383 at model 548\n",
      "Best F1 score 0.060836501901140684 at threshold 0.8  model 548\n"
     ]
    },
    {
     "name": "stderr",
     "output_type": "stream",
     "text": [
      "\r",
      " 55%|█████▍    | 549/1000 [43:34<26:07,  3.48s/it]"
     ]
    },
    {
     "name": "stdout",
     "output_type": "stream",
     "text": [
      "Roc score 0.9039142750946116 at model 549\n",
      "Best F1 score 0.04030226700251889 at threshold 0.9  model 549\n"
     ]
    },
    {
     "name": "stderr",
     "output_type": "stream",
     "text": [
      "\r",
      " 55%|█████▌    | 550/1000 [43:37<25:37,  3.42s/it]"
     ]
    },
    {
     "name": "stdout",
     "output_type": "stream",
     "text": [
      "Roc score 0.9344219552218509 at model 550\n",
      "Best F1 score 0.11654320987654321 at threshold 0.9  model 550\n"
     ]
    },
    {
     "name": "stderr",
     "output_type": "stream",
     "text": [
      "\r",
      " 55%|█████▌    | 551/1000 [43:41<26:36,  3.56s/it]"
     ]
    },
    {
     "name": "stdout",
     "output_type": "stream",
     "text": [
      "Roc score 0.9037773496877614 at model 551\n",
      "Best F1 score 0.17176870748299317 at threshold 0.8  model 551\n"
     ]
    },
    {
     "name": "stderr",
     "output_type": "stream",
     "text": [
      "\r",
      " 55%|█████▌    | 552/1000 [43:45<27:30,  3.68s/it]"
     ]
    },
    {
     "name": "stdout",
     "output_type": "stream",
     "text": [
      "Roc score 0.9234168249949896 at model 552\n",
      "Best F1 score 0.2684931506849315 at threshold 0.9  model 552\n"
     ]
    },
    {
     "name": "stderr",
     "output_type": "stream",
     "text": [
      "\r",
      " 55%|█████▌    | 553/1000 [43:48<26:58,  3.62s/it]"
     ]
    },
    {
     "name": "stdout",
     "output_type": "stream",
     "text": [
      "Roc score 0.9624770149571149 at model 553\n",
      "Best F1 score 0.10612244897959185 at threshold 0.9  model 553\n"
     ]
    },
    {
     "name": "stderr",
     "output_type": "stream",
     "text": [
      "\r",
      " 55%|█████▌    | 554/1000 [43:51<25:26,  3.42s/it]"
     ]
    },
    {
     "name": "stdout",
     "output_type": "stream",
     "text": [
      "Roc score 0.9169202038939168 at model 554\n",
      "Best F1 score 0.2553191489361702 at threshold 0.9  model 554\n"
     ]
    },
    {
     "name": "stderr",
     "output_type": "stream",
     "text": [
      "\r",
      " 56%|█████▌    | 555/1000 [43:55<25:56,  3.50s/it]"
     ]
    },
    {
     "name": "stdout",
     "output_type": "stream",
     "text": [
      "Roc score 0.9576145013871024 at model 555\n",
      "Best F1 score 0.26612903225806456 at threshold 0.9  model 555\n"
     ]
    },
    {
     "name": "stderr",
     "output_type": "stream",
     "text": [
      "\r",
      " 56%|█████▌    | 556/1000 [43:58<25:37,  3.46s/it]"
     ]
    },
    {
     "name": "stdout",
     "output_type": "stream",
     "text": [
      "Roc score 0.980597518776308 at model 556\n",
      "Best F1 score 0.41721234798877455 at threshold 0.9  model 556\n"
     ]
    },
    {
     "name": "stderr",
     "output_type": "stream",
     "text": [
      "\r",
      " 56%|█████▌    | 557/1000 [44:03<27:28,  3.72s/it]"
     ]
    },
    {
     "name": "stdout",
     "output_type": "stream",
     "text": [
      "Roc score 0.950549133671421 at model 557\n",
      "Best F1 score 0.23555555555555552 at threshold 0.9  model 557\n"
     ]
    },
    {
     "name": "stderr",
     "output_type": "stream",
     "text": [
      "\r",
      " 56%|█████▌    | 558/1000 [44:06<26:11,  3.56s/it]"
     ]
    },
    {
     "name": "stdout",
     "output_type": "stream",
     "text": [
      "Roc score 0.9293077860388971 at model 558\n",
      "Best F1 score 0.1631753031973539 at threshold 0.9  model 558\n"
     ]
    },
    {
     "name": "stderr",
     "output_type": "stream",
     "text": [
      "\r",
      " 56%|█████▌    | 559/1000 [44:09<26:07,  3.55s/it]"
     ]
    },
    {
     "name": "stdout",
     "output_type": "stream",
     "text": [
      "Roc score 0.9248706749193943 at model 559\n",
      "Best F1 score 0.19766852508869742 at threshold 0.9  model 559\n"
     ]
    },
    {
     "name": "stderr",
     "output_type": "stream",
     "text": [
      "\r",
      " 56%|█████▌    | 560/1000 [44:14<28:05,  3.83s/it]"
     ]
    },
    {
     "name": "stdout",
     "output_type": "stream",
     "text": [
      "Roc score 0.9229168998692904 at model 560\n",
      "Best F1 score 0.24521072796934865 at threshold 0.9  model 560\n"
     ]
    },
    {
     "name": "stderr",
     "output_type": "stream",
     "text": [
      "\r",
      " 56%|█████▌    | 561/1000 [44:17<27:13,  3.72s/it]"
     ]
    },
    {
     "name": "stdout",
     "output_type": "stream",
     "text": [
      "Roc score 0.9296697193761233 at model 561\n",
      "Best F1 score 0.19327731092436976 at threshold 0.9  model 561\n"
     ]
    },
    {
     "name": "stderr",
     "output_type": "stream",
     "text": [
      "\r",
      " 56%|█████▌    | 562/1000 [44:20<26:07,  3.58s/it]"
     ]
    },
    {
     "name": "stdout",
     "output_type": "stream",
     "text": [
      "Roc score 0.9359081977937299 at model 562\n",
      "Best F1 score 0.13924050632911392 at threshold 0.9  model 562\n"
     ]
    },
    {
     "name": "stderr",
     "output_type": "stream",
     "text": [
      "\r",
      " 56%|█████▋    | 563/1000 [44:24<24:54,  3.42s/it]"
     ]
    },
    {
     "name": "stdout",
     "output_type": "stream",
     "text": [
      "Roc score 0.9070649881953438 at model 563\n",
      "Best F1 score 0.2088607594936709 at threshold 0.9  model 563\n"
     ]
    },
    {
     "name": "stderr",
     "output_type": "stream",
     "text": [
      "\r",
      " 56%|█████▋    | 564/1000 [44:27<25:08,  3.46s/it]"
     ]
    },
    {
     "name": "stdout",
     "output_type": "stream",
     "text": [
      "Roc score 0.9240589695817659 at model 564\n",
      "Best F1 score 0.060115606936416176 at threshold 0.9  model 564\n"
     ]
    },
    {
     "name": "stderr",
     "output_type": "stream",
     "text": [
      "\r",
      " 56%|█████▋    | 565/1000 [44:30<24:26,  3.37s/it]"
     ]
    },
    {
     "name": "stdout",
     "output_type": "stream",
     "text": [
      "Roc score 0.9781259280763751 at model 565\n",
      "Best F1 score 0.15613382899628256 at threshold 0.9  model 565\n"
     ]
    },
    {
     "name": "stderr",
     "output_type": "stream",
     "text": [
      "\r",
      " 57%|█████▋    | 566/1000 [44:33<23:14,  3.21s/it]"
     ]
    },
    {
     "name": "stdout",
     "output_type": "stream",
     "text": [
      "Roc score 0.9530380236039933 at model 566\n",
      "Best F1 score 0.1935483870967742 at threshold 0.9  model 566\n"
     ]
    },
    {
     "name": "stderr",
     "output_type": "stream",
     "text": [
      "\r",
      " 57%|█████▋    | 567/1000 [44:36<23:14,  3.22s/it]"
     ]
    },
    {
     "name": "stdout",
     "output_type": "stream",
     "text": [
      "Roc score 0.9576758299565783 at model 567\n",
      "Best F1 score 0.2826086956521739 at threshold 0.9  model 567\n"
     ]
    },
    {
     "name": "stderr",
     "output_type": "stream",
     "text": [
      "\r",
      " 57%|█████▋    | 568/1000 [44:39<23:03,  3.20s/it]"
     ]
    },
    {
     "name": "stdout",
     "output_type": "stream",
     "text": [
      "Roc score 0.92930963643341 at model 568\n",
      "Best F1 score 0.07202216066481995 at threshold 0.9  model 568\n"
     ]
    },
    {
     "name": "stderr",
     "output_type": "stream",
     "text": [
      "\r",
      " 57%|█████▋    | 569/1000 [44:42<22:38,  3.15s/it]"
     ]
    },
    {
     "name": "stdout",
     "output_type": "stream",
     "text": [
      "Roc score 0.9454409511820229 at model 569\n",
      "Best F1 score 0.4176847004072135 at threshold 0.9  model 569\n"
     ]
    },
    {
     "name": "stderr",
     "output_type": "stream",
     "text": [
      "\r",
      " 57%|█████▋    | 570/1000 [44:48<26:45,  3.73s/it]"
     ]
    },
    {
     "name": "stdout",
     "output_type": "stream",
     "text": [
      "Roc score 0.922639835735348 at model 570\n",
      "Best F1 score 0.10714285714285714 at threshold 0.9  model 570\n"
     ]
    },
    {
     "name": "stderr",
     "output_type": "stream",
     "text": [
      "\r",
      " 57%|█████▋    | 571/1000 [44:51<25:14,  3.53s/it]"
     ]
    },
    {
     "name": "stdout",
     "output_type": "stream",
     "text": [
      "Roc score 0.9311890779651852 at model 571\n",
      "Best F1 score 0.16539050535987748 at threshold 0.8  model 571\n"
     ]
    },
    {
     "name": "stderr",
     "output_type": "stream",
     "text": [
      "\r",
      " 57%|█████▋    | 572/1000 [44:54<24:32,  3.44s/it]"
     ]
    },
    {
     "name": "stdout",
     "output_type": "stream",
     "text": [
      "Roc score 0.9515330986752142 at model 572\n",
      "Best F1 score 0.4053452115812918 at threshold 0.9  model 572\n"
     ]
    },
    {
     "name": "stderr",
     "output_type": "stream",
     "text": [
      "\r",
      " 57%|█████▋    | 573/1000 [44:57<24:40,  3.47s/it]"
     ]
    },
    {
     "name": "stdout",
     "output_type": "stream",
     "text": [
      "Roc score 0.9690084888696383 at model 573\n",
      "Best F1 score 0.3184885290148448 at threshold 0.9  model 573\n"
     ]
    },
    {
     "name": "stderr",
     "output_type": "stream",
     "text": [
      "\r",
      " 57%|█████▋    | 574/1000 [45:01<25:13,  3.55s/it]"
     ]
    },
    {
     "name": "stdout",
     "output_type": "stream",
     "text": [
      "Roc score 0.9823960856382955 at model 574\n",
      "Best F1 score 0.2290748898678414 at threshold 0.9  model 574\n"
     ]
    },
    {
     "name": "stderr",
     "output_type": "stream",
     "text": [
      "\r",
      " 57%|█████▊    | 575/1000 [45:04<23:36,  3.33s/it]"
     ]
    },
    {
     "name": "stdout",
     "output_type": "stream",
     "text": [
      "Roc score 0.9322218504922122 at model 575\n",
      "Best F1 score 0.08775981524249422 at threshold 0.9  model 575\n"
     ]
    },
    {
     "name": "stderr",
     "output_type": "stream",
     "text": [
      "\r",
      " 58%|█████▊    | 576/1000 [45:07<22:30,  3.18s/it]"
     ]
    },
    {
     "name": "stdout",
     "output_type": "stream",
     "text": [
      "Roc score 0.9460652789638885 at model 576\n",
      "Best F1 score 0.14469078179696615 at threshold 0.9  model 576\n"
     ]
    },
    {
     "name": "stderr",
     "output_type": "stream",
     "text": [
      "\r",
      " 58%|█████▊    | 577/1000 [45:10<22:37,  3.21s/it]"
     ]
    },
    {
     "name": "stdout",
     "output_type": "stream",
     "text": [
      "Roc score 0.940477988158309 at model 577\n",
      "Best F1 score 0.46829755366949577 at threshold 0.8  model 577\n"
     ]
    },
    {
     "name": "stderr",
     "output_type": "stream",
     "text": [
      "\r",
      " 58%|█████▊    | 578/1000 [45:19<35:28,  5.04s/it]"
     ]
    },
    {
     "name": "stdout",
     "output_type": "stream",
     "text": [
      "Roc score 0.9763961997995328 at model 578\n",
      "Best F1 score 0.27631578947368424 at threshold 0.9  model 578\n"
     ]
    },
    {
     "name": "stderr",
     "output_type": "stream",
     "text": [
      "\r",
      " 58%|█████▊    | 579/1000 [45:23<32:53,  4.69s/it]"
     ]
    },
    {
     "name": "stdout",
     "output_type": "stream",
     "text": [
      "Roc score 0.933957527872382 at model 579\n",
      "Best F1 score 0.08979591836734695 at threshold 0.9  model 579\n"
     ]
    },
    {
     "name": "stderr",
     "output_type": "stream",
     "text": [
      "\r",
      " 58%|█████▊    | 580/1000 [45:26<29:19,  4.19s/it]"
     ]
    },
    {
     "name": "stdout",
     "output_type": "stream",
     "text": [
      "Roc score 0.950153983836518 at model 580\n",
      "Best F1 score 0.6424935064935066 at threshold 0.9  model 580\n"
     ]
    },
    {
     "name": "stderr",
     "output_type": "stream",
     "text": [
      "\r",
      " 58%|█████▊    | 581/1000 [45:54<1:17:51, 11.15s/it]"
     ]
    },
    {
     "name": "stdout",
     "output_type": "stream",
     "text": [
      "Roc score 0.959307843030296 at model 581\n",
      "Best F1 score 0.09160305343511452 at threshold 0.9  model 581\n"
     ]
    },
    {
     "name": "stderr",
     "output_type": "stream",
     "text": [
      "\r",
      " 58%|█████▊    | 582/1000 [45:57<1:00:44,  8.72s/it]"
     ]
    },
    {
     "name": "stdout",
     "output_type": "stream",
     "text": [
      "Roc score 0.9223460679119293 at model 582\n",
      "Best F1 score 0.34920634920634924 at threshold 0.9  model 582\n"
     ]
    },
    {
     "name": "stderr",
     "output_type": "stream",
     "text": [
      "\r",
      " 58%|█████▊    | 583/1000 [46:00<49:38,  7.14s/it]  "
     ]
    },
    {
     "name": "stdout",
     "output_type": "stream",
     "text": [
      "Roc score 0.9600562624551827 at model 583\n",
      "Best F1 score 0.31413612565445026 at threshold 0.9  model 583\n"
     ]
    },
    {
     "name": "stderr",
     "output_type": "stream",
     "text": [
      "\r",
      " 58%|█████▊    | 584/1000 [46:03<41:24,  5.97s/it]"
     ]
    },
    {
     "name": "stdout",
     "output_type": "stream",
     "text": [
      "Roc score 0.9659846253693121 at model 584\n",
      "Best F1 score 0.2077922077922078 at threshold 0.9  model 584\n"
     ]
    },
    {
     "name": "stderr",
     "output_type": "stream",
     "text": [
      "\r",
      " 58%|█████▊    | 585/1000 [46:07<35:27,  5.13s/it]"
     ]
    },
    {
     "name": "stdout",
     "output_type": "stream",
     "text": [
      "Roc score 0.9151110328787391 at model 585\n",
      "Best F1 score 0.14245014245014245 at threshold 0.9  model 585\n"
     ]
    },
    {
     "name": "stderr",
     "output_type": "stream",
     "text": [
      "\r",
      " 59%|█████▊    | 586/1000 [46:10<31:16,  4.53s/it]"
     ]
    },
    {
     "name": "stdout",
     "output_type": "stream",
     "text": [
      "Roc score 0.9630044642478196 at model 586\n",
      "Best F1 score 0.16862745098039217 at threshold 0.8  model 586\n"
     ]
    },
    {
     "name": "stderr",
     "output_type": "stream",
     "text": [
      "\r",
      " 59%|█████▊    | 587/1000 [46:13<28:19,  4.12s/it]"
     ]
    },
    {
     "name": "stdout",
     "output_type": "stream",
     "text": [
      "Roc score 0.9406886456800747 at model 587\n",
      "Best F1 score 0.3072378138847858 at threshold 0.9  model 587\n"
     ]
    },
    {
     "name": "stderr",
     "output_type": "stream",
     "text": [
      "\r",
      " 59%|█████▉    | 588/1000 [46:17<27:42,  4.04s/it]"
     ]
    },
    {
     "name": "stdout",
     "output_type": "stream",
     "text": [
      "Roc score 0.9201220575428758 at model 588\n",
      "Best F1 score 0.08415147265077137 at threshold 0.9  model 588\n"
     ]
    },
    {
     "name": "stderr",
     "output_type": "stream",
     "text": [
      "\r",
      " 59%|█████▉    | 589/1000 [46:20<26:02,  3.80s/it]"
     ]
    },
    {
     "name": "stdout",
     "output_type": "stream",
     "text": [
      "Roc score 0.9295949484806352 at model 589\n",
      "Best F1 score 0.19269102990033218 at threshold 0.9  model 589\n"
     ]
    },
    {
     "name": "stderr",
     "output_type": "stream",
     "text": [
      "\r",
      " 59%|█████▉    | 590/1000 [46:24<27:21,  4.00s/it]"
     ]
    },
    {
     "name": "stdout",
     "output_type": "stream",
     "text": [
      "Roc score 0.9575094540832533 at model 590\n",
      "Best F1 score 0.07075471698113207 at threshold 0.9  model 590\n"
     ]
    },
    {
     "name": "stderr",
     "output_type": "stream",
     "text": [
      "\r",
      " 59%|█████▉    | 591/1000 [46:27<25:19,  3.72s/it]"
     ]
    },
    {
     "name": "stdout",
     "output_type": "stream",
     "text": [
      "Roc score 0.9571902600460671 at model 591\n",
      "Best F1 score 0.19123505976095617 at threshold 0.9  model 591\n"
     ]
    },
    {
     "name": "stderr",
     "output_type": "stream",
     "text": [
      "\r",
      " 59%|█████▉    | 592/1000 [46:31<23:54,  3.52s/it]"
     ]
    },
    {
     "name": "stdout",
     "output_type": "stream",
     "text": [
      "Roc score 0.9697900666907476 at model 592\n",
      "Best F1 score 0.5300813008130082 at threshold 0.9  model 592\n"
     ]
    },
    {
     "name": "stderr",
     "output_type": "stream",
     "text": [
      "\r",
      " 59%|█████▉    | 593/1000 [46:37<29:17,  4.32s/it]"
     ]
    },
    {
     "name": "stdout",
     "output_type": "stream",
     "text": [
      "Roc score 0.9792512014507256 at model 593\n",
      "Best F1 score 0.2491467576791809 at threshold 0.9  model 593\n"
     ]
    },
    {
     "name": "stderr",
     "output_type": "stream",
     "text": [
      "\r",
      " 59%|█████▉    | 594/1000 [46:40<26:50,  3.97s/it]"
     ]
    },
    {
     "name": "stdout",
     "output_type": "stream",
     "text": [
      "Roc score 0.9186880289831011 at model 594\n",
      "Best F1 score 0.06263982102908278 at threshold 0.9  model 594\n"
     ]
    },
    {
     "name": "stderr",
     "output_type": "stream",
     "text": [
      "\r",
      " 60%|█████▉    | 595/1000 [46:43<24:54,  3.69s/it]"
     ]
    },
    {
     "name": "stdout",
     "output_type": "stream",
     "text": [
      "Roc score 0.844719365039787 at model 595\n",
      "Best F1 score 0.06666666666666667 at threshold 0.9  model 595\n"
     ]
    },
    {
     "name": "stderr",
     "output_type": "stream",
     "text": [
      "\r",
      " 60%|█████▉    | 596/1000 [46:46<23:32,  3.50s/it]"
     ]
    },
    {
     "name": "stdout",
     "output_type": "stream",
     "text": [
      "Roc score 0.9542435588108906 at model 596\n",
      "Best F1 score 0.13333333333333333 at threshold 0.9  model 596\n"
     ]
    },
    {
     "name": "stderr",
     "output_type": "stream",
     "text": [
      "\r",
      " 60%|█████▉    | 597/1000 [46:49<22:47,  3.39s/it]"
     ]
    },
    {
     "name": "stdout",
     "output_type": "stream",
     "text": [
      "Roc score 0.934333939208129 at model 597\n",
      "Best F1 score 0.2072538860103627 at threshold 0.9  model 597\n"
     ]
    },
    {
     "name": "stderr",
     "output_type": "stream",
     "text": [
      "\r",
      " 60%|█████▉    | 598/1000 [46:52<22:01,  3.29s/it]"
     ]
    },
    {
     "name": "stdout",
     "output_type": "stream",
     "text": [
      "Roc score 0.9498478801271669 at model 598\n",
      "Best F1 score 0.1671826625386997 at threshold 0.9  model 598\n"
     ]
    },
    {
     "name": "stderr",
     "output_type": "stream",
     "text": [
      "\r",
      " 60%|█████▉    | 599/1000 [46:55<21:15,  3.18s/it]"
     ]
    },
    {
     "name": "stdout",
     "output_type": "stream",
     "text": [
      "Roc score 0.9643970504933724 at model 599\n",
      "Best F1 score 0.3129770992366412 at threshold 0.9  model 599\n"
     ]
    },
    {
     "name": "stderr",
     "output_type": "stream",
     "text": [
      "\r",
      " 60%|██████    | 600/1000 [46:58<20:55,  3.14s/it]"
     ]
    },
    {
     "name": "stdout",
     "output_type": "stream",
     "text": [
      "Roc score 0.9512024571680713 at model 600\n",
      "Best F1 score 0.30316742081447967 at threshold 0.9  model 600\n"
     ]
    },
    {
     "name": "stderr",
     "output_type": "stream",
     "text": [
      "\r",
      " 60%|██████    | 601/1000 [47:01<21:05,  3.17s/it]"
     ]
    },
    {
     "name": "stdout",
     "output_type": "stream",
     "text": [
      "Roc score 0.9304636322639969 at model 601\n",
      "Best F1 score 0.26186579378068736 at threshold 0.9  model 601\n"
     ]
    },
    {
     "name": "stderr",
     "output_type": "stream",
     "text": [
      "\r",
      " 60%|██████    | 602/1000 [47:05<21:48,  3.29s/it]"
     ]
    },
    {
     "name": "stdout",
     "output_type": "stream",
     "text": [
      "Roc score 0.9329961323175725 at model 602\n",
      "Best F1 score 0.07242339832869081 at threshold 0.9  model 602\n"
     ]
    },
    {
     "name": "stderr",
     "output_type": "stream",
     "text": [
      "\r",
      " 60%|██████    | 603/1000 [47:08<21:28,  3.25s/it]"
     ]
    },
    {
     "name": "stdout",
     "output_type": "stream",
     "text": [
      "Roc score 0.959941667375883 at model 603\n",
      "Best F1 score 0.17672413793103448 at threshold 0.9  model 603\n"
     ]
    },
    {
     "name": "stderr",
     "output_type": "stream",
     "text": [
      "\r",
      " 60%|██████    | 604/1000 [47:11<21:24,  3.24s/it]"
     ]
    },
    {
     "name": "stdout",
     "output_type": "stream",
     "text": [
      "Roc score 0.9607752004903546 at model 604\n",
      "Best F1 score 0.17952314165497896 at threshold 0.9  model 604\n"
     ]
    },
    {
     "name": "stderr",
     "output_type": "stream",
     "text": [
      "\r",
      " 60%|██████    | 605/1000 [47:15<21:22,  3.25s/it]"
     ]
    },
    {
     "name": "stdout",
     "output_type": "stream",
     "text": [
      "Roc score 0.9698113384300131 at model 605\n",
      "Best F1 score 0.33663366336633666 at threshold 0.9  model 605\n"
     ]
    },
    {
     "name": "stderr",
     "output_type": "stream",
     "text": [
      "\r",
      " 61%|██████    | 606/1000 [47:18<21:18,  3.25s/it]"
     ]
    },
    {
     "name": "stdout",
     "output_type": "stream",
     "text": [
      "Roc score 0.9319398839986722 at model 606\n",
      "Best F1 score 0.06896551724137931 at threshold 0.9  model 606\n"
     ]
    },
    {
     "name": "stderr",
     "output_type": "stream",
     "text": [
      "\r",
      " 61%|██████    | 607/1000 [47:21<20:49,  3.18s/it]"
     ]
    },
    {
     "name": "stdout",
     "output_type": "stream",
     "text": [
      "Roc score 0.9167724745144945 at model 607\n",
      "Best F1 score 0.14285714285714288 at threshold 0.9  model 607\n"
     ]
    },
    {
     "name": "stderr",
     "output_type": "stream",
     "text": [
      "\r",
      " 61%|██████    | 608/1000 [47:25<23:05,  3.53s/it]"
     ]
    },
    {
     "name": "stdout",
     "output_type": "stream",
     "text": [
      "Roc score 0.9112116276153428 at model 608\n",
      "Best F1 score 0.34218060821790597 at threshold 0.7000000000000001  model 608\n"
     ]
    },
    {
     "name": "stderr",
     "output_type": "stream",
     "text": [
      "\r",
      " 61%|██████    | 609/1000 [47:45<54:57,  8.43s/it]"
     ]
    },
    {
     "name": "stdout",
     "output_type": "stream",
     "text": [
      "Roc score 0.9363103161246072 at model 609\n",
      "Best F1 score 0.1214814814814815 at threshold 0.9  model 609\n"
     ]
    },
    {
     "name": "stderr",
     "output_type": "stream",
     "text": [
      "\r",
      " 61%|██████    | 610/1000 [47:48<44:42,  6.88s/it]"
     ]
    },
    {
     "name": "stdout",
     "output_type": "stream",
     "text": [
      "Roc score 0.9435789594990156 at model 610\n",
      "Best F1 score 0.09836065573770492 at threshold 0.9  model 610\n"
     ]
    },
    {
     "name": "stderr",
     "output_type": "stream",
     "text": [
      "\r",
      " 61%|██████    | 611/1000 [47:51<37:08,  5.73s/it]"
     ]
    },
    {
     "name": "stdout",
     "output_type": "stream",
     "text": [
      "Roc score 0.9614472187643636 at model 611\n",
      "Best F1 score 0.08785529715762273 at threshold 0.9  model 611\n"
     ]
    },
    {
     "name": "stderr",
     "output_type": "stream",
     "text": [
      "\r",
      " 61%|██████    | 612/1000 [47:54<31:51,  4.93s/it]"
     ]
    },
    {
     "name": "stdout",
     "output_type": "stream",
     "text": [
      "Roc score 0.9289095242665945 at model 612\n",
      "Best F1 score 0.19233311302048908 at threshold 0.9  model 612\n"
     ]
    },
    {
     "name": "stderr",
     "output_type": "stream",
     "text": [
      "\r",
      " 61%|██████▏   | 613/1000 [48:01<35:48,  5.55s/it]"
     ]
    },
    {
     "name": "stdout",
     "output_type": "stream",
     "text": [
      "Roc score 0.9365411350614402 at model 613\n",
      "Best F1 score 0.3186119873817035 at threshold 0.9  model 613\n"
     ]
    },
    {
     "name": "stderr",
     "output_type": "stream",
     "text": [
      "\r",
      " 61%|██████▏   | 614/1000 [48:05<32:02,  4.98s/it]"
     ]
    },
    {
     "name": "stdout",
     "output_type": "stream",
     "text": [
      "Roc score 0.9431116760195463 at model 614\n",
      "Best F1 score 0.15139442231075695 at threshold 0.9  model 614\n"
     ]
    },
    {
     "name": "stderr",
     "output_type": "stream",
     "text": [
      "\r",
      " 62%|██████▏   | 615/1000 [48:08<28:26,  4.43s/it]"
     ]
    },
    {
     "name": "stdout",
     "output_type": "stream",
     "text": [
      "Roc score 0.9484377913845021 at model 615\n",
      "Best F1 score 0.39603960396039606 at threshold 0.9  model 615\n"
     ]
    },
    {
     "name": "stderr",
     "output_type": "stream",
     "text": [
      "\r",
      " 62%|██████▏   | 616/1000 [48:12<27:38,  4.32s/it]"
     ]
    },
    {
     "name": "stdout",
     "output_type": "stream",
     "text": [
      "Roc score 0.9724603674369963 at model 616\n",
      "Best F1 score 0.3229166666666667 at threshold 0.9  model 616\n"
     ]
    },
    {
     "name": "stderr",
     "output_type": "stream",
     "text": [
      "\r",
      " 62%|██████▏   | 617/1000 [48:16<25:42,  4.03s/it]"
     ]
    },
    {
     "name": "stdout",
     "output_type": "stream",
     "text": [
      "Roc score 0.9679976162208255 at model 617\n",
      "Best F1 score 0.36912751677852346 at threshold 0.9  model 617\n"
     ]
    },
    {
     "name": "stderr",
     "output_type": "stream",
     "text": [
      "\r",
      " 62%|██████▏   | 618/1000 [48:19<24:08,  3.79s/it]"
     ]
    },
    {
     "name": "stdout",
     "output_type": "stream",
     "text": [
      "Roc score 0.9595419598970899 at model 618\n",
      "Best F1 score 0.18666666666666668 at threshold 0.9  model 618\n"
     ]
    },
    {
     "name": "stderr",
     "output_type": "stream",
     "text": [
      "\r",
      " 62%|██████▏   | 619/1000 [48:22<22:39,  3.57s/it]"
     ]
    },
    {
     "name": "stdout",
     "output_type": "stream",
     "text": [
      "Roc score 0.9061360668440455 at model 619\n",
      "Best F1 score 0.07317073170731707 at threshold 0.9  model 619\n"
     ]
    },
    {
     "name": "stderr",
     "output_type": "stream",
     "text": [
      "\r",
      " 62%|██████▏   | 620/1000 [48:25<22:13,  3.51s/it]"
     ]
    },
    {
     "name": "stdout",
     "output_type": "stream",
     "text": [
      "Roc score 0.9881744442457834 at model 620\n",
      "Best F1 score 0.36164383561643837 at threshold 0.9  model 620\n"
     ]
    },
    {
     "name": "stderr",
     "output_type": "stream",
     "text": [
      "\r",
      " 62%|██████▏   | 621/1000 [48:28<21:18,  3.37s/it]"
     ]
    },
    {
     "name": "stdout",
     "output_type": "stream",
     "text": [
      "Roc score 0.965330569546946 at model 621\n",
      "Best F1 score 0.2605210420841683 at threshold 0.9  model 621\n"
     ]
    },
    {
     "name": "stderr",
     "output_type": "stream",
     "text": [
      "\r",
      " 62%|██████▏   | 622/1000 [48:32<20:51,  3.31s/it]"
     ]
    },
    {
     "name": "stdout",
     "output_type": "stream",
     "text": [
      "Roc score 0.8865566633328734 at model 622\n",
      "Best F1 score 0.15666240953597277 at threshold 0.8  model 622\n"
     ]
    },
    {
     "name": "stderr",
     "output_type": "stream",
     "text": [
      "\r",
      " 62%|██████▏   | 623/1000 [48:36<23:46,  3.78s/it]"
     ]
    },
    {
     "name": "stdout",
     "output_type": "stream",
     "text": [
      "Roc score 0.9346988412513879 at model 623\n",
      "Best F1 score 0.40990990990990983 at threshold 0.9  model 623\n"
     ]
    },
    {
     "name": "stderr",
     "output_type": "stream",
     "text": [
      "\r",
      " 62%|██████▏   | 624/1000 [48:44<30:56,  4.94s/it]"
     ]
    },
    {
     "name": "stdout",
     "output_type": "stream",
     "text": [
      "Roc score 0.9437529659546856 at model 624\n",
      "Best F1 score 0.14285714285714285 at threshold 0.9  model 624\n"
     ]
    },
    {
     "name": "stderr",
     "output_type": "stream",
     "text": [
      "\r",
      " 62%|██████▎   | 625/1000 [48:47<27:42,  4.43s/it]"
     ]
    },
    {
     "name": "stdout",
     "output_type": "stream",
     "text": [
      "Roc score 0.9422812204189982 at model 625\n",
      "Best F1 score 0.16729627630868862 at threshold 0.9  model 625\n"
     ]
    },
    {
     "name": "stderr",
     "output_type": "stream",
     "text": [
      "\r",
      " 63%|██████▎   | 626/1000 [48:52<27:32,  4.42s/it]"
     ]
    },
    {
     "name": "stdout",
     "output_type": "stream",
     "text": [
      "Roc score 0.9756717243559349 at model 626\n",
      "Best F1 score 0.20105820105820105 at threshold 0.9  model 626\n"
     ]
    },
    {
     "name": "stderr",
     "output_type": "stream",
     "text": [
      "\r",
      " 63%|██████▎   | 627/1000 [48:55<24:30,  3.94s/it]"
     ]
    },
    {
     "name": "stdout",
     "output_type": "stream",
     "text": [
      "Roc score 0.9472579579903152 at model 627\n",
      "Best F1 score 0.28070175438596495 at threshold 0.9  model 627\n"
     ]
    },
    {
     "name": "stderr",
     "output_type": "stream",
     "text": [
      "\r",
      " 63%|██████▎   | 628/1000 [48:58<22:45,  3.67s/it]"
     ]
    },
    {
     "name": "stdout",
     "output_type": "stream",
     "text": [
      "Roc score 0.9772883177193068 at model 628\n",
      "Best F1 score 0.389662027833002 at threshold 0.8  model 628\n"
     ]
    },
    {
     "name": "stderr",
     "output_type": "stream",
     "text": [
      "\r",
      " 63%|██████▎   | 629/1000 [49:01<21:54,  3.54s/it]"
     ]
    },
    {
     "name": "stdout",
     "output_type": "stream",
     "text": [
      "Roc score 0.9735061466422251 at model 629\n",
      "Best F1 score 0.1058601134215501 at threshold 0.9  model 629\n"
     ]
    },
    {
     "name": "stderr",
     "output_type": "stream",
     "text": [
      "\r",
      " 63%|██████▎   | 630/1000 [49:04<21:07,  3.43s/it]"
     ]
    },
    {
     "name": "stdout",
     "output_type": "stream",
     "text": [
      "Roc score 0.9437990088804796 at model 630\n",
      "Best F1 score 0.16703296703296702 at threshold 0.9  model 630\n"
     ]
    },
    {
     "name": "stderr",
     "output_type": "stream",
     "text": [
      "\r",
      " 63%|██████▎   | 631/1000 [49:07<20:35,  3.35s/it]"
     ]
    },
    {
     "name": "stdout",
     "output_type": "stream",
     "text": [
      "Roc score 0.9476846243581578 at model 631\n",
      "Best F1 score 0.16470588235294117 at threshold 0.9  model 631\n"
     ]
    },
    {
     "name": "stderr",
     "output_type": "stream",
     "text": [
      "\r",
      " 63%|██████▎   | 632/1000 [49:10<19:57,  3.25s/it]"
     ]
    },
    {
     "name": "stdout",
     "output_type": "stream",
     "text": [
      "Roc score 0.951912546512991 at model 632\n",
      "Best F1 score 0.2450980392156863 at threshold 0.9  model 632\n"
     ]
    },
    {
     "name": "stderr",
     "output_type": "stream",
     "text": [
      "\r",
      " 63%|██████▎   | 633/1000 [49:13<19:52,  3.25s/it]"
     ]
    },
    {
     "name": "stdout",
     "output_type": "stream",
     "text": [
      "Roc score 0.9037121722356399 at model 633\n",
      "Best F1 score 0.180327868852459 at threshold 0.9  model 633\n"
     ]
    },
    {
     "name": "stderr",
     "output_type": "stream",
     "text": [
      "\r",
      " 63%|██████▎   | 634/1000 [49:16<19:26,  3.19s/it]"
     ]
    },
    {
     "name": "stdout",
     "output_type": "stream",
     "text": [
      "Roc score 0.9210079528005876 at model 634\n",
      "Best F1 score 0.12017167381974247 at threshold 0.9  model 634\n"
     ]
    },
    {
     "name": "stderr",
     "output_type": "stream",
     "text": [
      "\r",
      " 64%|██████▎   | 635/1000 [49:20<19:29,  3.20s/it]"
     ]
    },
    {
     "name": "stdout",
     "output_type": "stream",
     "text": [
      "Roc score 0.9234401331445747 at model 635\n",
      "Best F1 score 0.2004487658937921 at threshold 0.9  model 635\n"
     ]
    },
    {
     "name": "stderr",
     "output_type": "stream",
     "text": [
      "\r",
      " 64%|██████▎   | 636/1000 [49:23<20:14,  3.34s/it]"
     ]
    },
    {
     "name": "stdout",
     "output_type": "stream",
     "text": [
      "Roc score 0.9281698570360596 at model 636\n",
      "Best F1 score 0.22317073170731708 at threshold 0.9  model 636\n"
     ]
    },
    {
     "name": "stderr",
     "output_type": "stream",
     "text": [
      "\r",
      " 64%|██████▎   | 637/1000 [49:29<23:55,  3.95s/it]"
     ]
    },
    {
     "name": "stdout",
     "output_type": "stream",
     "text": [
      "Roc score 0.9846695539456446 at model 637\n",
      "Best F1 score 0.16969696969696968 at threshold 0.9  model 637\n"
     ]
    },
    {
     "name": "stderr",
     "output_type": "stream",
     "text": [
      "\r",
      " 64%|██████▍   | 638/1000 [49:32<21:50,  3.62s/it]"
     ]
    },
    {
     "name": "stdout",
     "output_type": "stream",
     "text": [
      "Roc score 0.958041124565568 at model 638\n",
      "Best F1 score 0.3356643356643357 at threshold 0.9  model 638\n"
     ]
    },
    {
     "name": "stderr",
     "output_type": "stream",
     "text": [
      "\r",
      " 64%|██████▍   | 639/1000 [49:35<21:05,  3.50s/it]"
     ]
    },
    {
     "name": "stdout",
     "output_type": "stream",
     "text": [
      "Roc score 0.9310907657184994 at model 639\n",
      "Best F1 score 0.22399999999999998 at threshold 0.9  model 639\n"
     ]
    },
    {
     "name": "stderr",
     "output_type": "stream",
     "text": [
      "\r",
      " 64%|██████▍   | 640/1000 [49:38<21:07,  3.52s/it]"
     ]
    },
    {
     "name": "stdout",
     "output_type": "stream",
     "text": [
      "Roc score 0.9437709935780565 at model 640\n",
      "Best F1 score 0.11142061281337048 at threshold 0.9  model 640\n"
     ]
    },
    {
     "name": "stderr",
     "output_type": "stream",
     "text": [
      "\r",
      " 64%|██████▍   | 641/1000 [49:41<19:51,  3.32s/it]"
     ]
    },
    {
     "name": "stdout",
     "output_type": "stream",
     "text": [
      "Roc score 0.9651916501072373 at model 641\n",
      "Best F1 score 0.5158730158730158 at threshold 0.8  model 641\n"
     ]
    },
    {
     "name": "stderr",
     "output_type": "stream",
     "text": [
      "\r",
      " 64%|██████▍   | 642/1000 [49:44<19:28,  3.26s/it]"
     ]
    },
    {
     "name": "stdout",
     "output_type": "stream",
     "text": [
      "Roc score 0.9606607858551153 at model 642\n",
      "Best F1 score 0.473551637279597 at threshold 0.8  model 642\n"
     ]
    },
    {
     "name": "stderr",
     "output_type": "stream",
     "text": [
      "\r",
      " 64%|██████▍   | 643/1000 [49:48<21:02,  3.54s/it]"
     ]
    },
    {
     "name": "stdout",
     "output_type": "stream",
     "text": [
      "Roc score 0.9382659635430324 at model 643\n",
      "Best F1 score 0.20849420849420847 at threshold 0.9  model 643\n"
     ]
    },
    {
     "name": "stderr",
     "output_type": "stream",
     "text": [
      "\r",
      " 64%|██████▍   | 644/1000 [49:52<20:16,  3.42s/it]"
     ]
    },
    {
     "name": "stdout",
     "output_type": "stream",
     "text": [
      "Roc score 0.9528618379919461 at model 644\n",
      "Best F1 score 0.20930232558139533 at threshold 0.9  model 644\n"
     ]
    },
    {
     "name": "stderr",
     "output_type": "stream",
     "text": [
      "\r",
      " 64%|██████▍   | 645/1000 [49:55<19:43,  3.33s/it]"
     ]
    },
    {
     "name": "stdout",
     "output_type": "stream",
     "text": [
      "Roc score 0.9760563146334764 at model 645\n",
      "Best F1 score 0.05231388329979879 at threshold 0.9  model 645\n"
     ]
    },
    {
     "name": "stderr",
     "output_type": "stream",
     "text": [
      "\r",
      " 65%|██████▍   | 646/1000 [49:58<18:59,  3.22s/it]"
     ]
    },
    {
     "name": "stdout",
     "output_type": "stream",
     "text": [
      "Roc score 0.8822562979984432 at model 646\n",
      "Best F1 score 0.29389972832798217 at threshold 0.8  model 646\n"
     ]
    },
    {
     "name": "stderr",
     "output_type": "stream",
     "text": [
      "\r",
      " 65%|██████▍   | 647/1000 [50:07<29:37,  5.03s/it]"
     ]
    },
    {
     "name": "stdout",
     "output_type": "stream",
     "text": [
      "Roc score 0.9271538831545784 at model 647\n",
      "Best F1 score 0.5452006980802793 at threshold 0.8  model 647\n"
     ]
    },
    {
     "name": "stderr",
     "output_type": "stream",
     "text": [
      "\r",
      " 65%|██████▍   | 648/1000 [50:15<34:39,  5.91s/it]"
     ]
    },
    {
     "name": "stdout",
     "output_type": "stream",
     "text": [
      "Roc score 0.9260013039576193 at model 648\n",
      "Best F1 score 0.2525458248472505 at threshold 0.9  model 648\n"
     ]
    },
    {
     "name": "stderr",
     "output_type": "stream",
     "text": [
      "\r",
      " 65%|██████▍   | 649/1000 [50:19<30:26,  5.20s/it]"
     ]
    },
    {
     "name": "stdout",
     "output_type": "stream",
     "text": [
      "Roc score 0.900519042278665 at model 649\n",
      "Best F1 score 0.1046831955922865 at threshold 0.9  model 649\n"
     ]
    },
    {
     "name": "stderr",
     "output_type": "stream",
     "text": [
      "\r",
      " 65%|██████▌   | 650/1000 [50:22<26:55,  4.62s/it]"
     ]
    },
    {
     "name": "stdout",
     "output_type": "stream",
     "text": [
      "Roc score 0.9100801663573359 at model 650\n",
      "Best F1 score 0.6120443879117505 at threshold 0.7000000000000001  model 650\n"
     ]
    },
    {
     "name": "stderr",
     "output_type": "stream",
     "text": [
      "\r",
      " 65%|██████▌   | 651/1000 [51:28<2:13:53, 23.02s/it]"
     ]
    },
    {
     "name": "stdout",
     "output_type": "stream",
     "text": [
      "Roc score 0.9534374858836149 at model 651\n",
      "Best F1 score 0.05792682926829268 at threshold 0.9  model 651\n"
     ]
    },
    {
     "name": "stderr",
     "output_type": "stream",
     "text": [
      "\r",
      " 65%|██████▌   | 652/1000 [51:31<1:38:35, 17.00s/it]"
     ]
    },
    {
     "name": "stdout",
     "output_type": "stream",
     "text": [
      "Roc score 0.9830873144570568 at model 652\n",
      "Best F1 score 0.08870967741935484 at threshold 0.9  model 652\n"
     ]
    },
    {
     "name": "stderr",
     "output_type": "stream",
     "text": [
      "\r",
      " 65%|██████▌   | 653/1000 [51:34<1:14:05, 12.81s/it]"
     ]
    },
    {
     "name": "stdout",
     "output_type": "stream",
     "text": [
      "Roc score 0.8911728210864156 at model 653\n",
      "Best F1 score 0.12413793103448276 at threshold 0.9  model 653\n"
     ]
    },
    {
     "name": "stderr",
     "output_type": "stream",
     "text": [
      "\r",
      " 65%|██████▌   | 654/1000 [51:37<57:10,  9.91s/it]  "
     ]
    },
    {
     "name": "stdout",
     "output_type": "stream",
     "text": [
      "Roc score 0.9659242640261927 at model 654\n",
      "Best F1 score 0.25531914893617025 at threshold 0.9  model 654\n"
     ]
    },
    {
     "name": "stderr",
     "output_type": "stream",
     "text": [
      "\r",
      " 66%|██████▌   | 655/1000 [51:40<45:17,  7.88s/it]"
     ]
    },
    {
     "name": "stdout",
     "output_type": "stream",
     "text": [
      "Roc score 0.9433333166500667 at model 655\n",
      "Best F1 score 0.19580419580419578 at threshold 0.9  model 655\n"
     ]
    },
    {
     "name": "stderr",
     "output_type": "stream",
     "text": [
      "\r",
      " 66%|██████▌   | 656/1000 [51:43<36:50,  6.43s/it]"
     ]
    },
    {
     "name": "stdout",
     "output_type": "stream",
     "text": [
      "Roc score 0.9660786094634379 at model 656\n",
      "Best F1 score 0.26724137931034475 at threshold 0.9  model 656\n"
     ]
    },
    {
     "name": "stderr",
     "output_type": "stream",
     "text": [
      "\r",
      " 66%|██████▌   | 657/1000 [51:46<30:54,  5.41s/it]"
     ]
    },
    {
     "name": "stdout",
     "output_type": "stream",
     "text": [
      "Roc score 0.920845180179852 at model 657\n",
      "Best F1 score 0.11853720050441362 at threshold 0.9  model 657\n"
     ]
    },
    {
     "name": "stderr",
     "output_type": "stream",
     "text": [
      "\r",
      " 66%|██████▌   | 658/1000 [51:50<27:49,  4.88s/it]"
     ]
    },
    {
     "name": "stdout",
     "output_type": "stream",
     "text": [
      "Roc score 0.9047856929037125 at model 658\n",
      "Best F1 score 0.22809457579972184 at threshold 0.8  model 658\n"
     ]
    },
    {
     "name": "stderr",
     "output_type": "stream",
     "text": [
      "\r",
      " 66%|██████▌   | 659/1000 [51:54<26:09,  4.60s/it]"
     ]
    },
    {
     "name": "stdout",
     "output_type": "stream",
     "text": [
      "Roc score 0.9759319331630364 at model 659\n",
      "Best F1 score 0.231678486997636 at threshold 0.9  model 659\n"
     ]
    },
    {
     "name": "stderr",
     "output_type": "stream",
     "text": [
      "\r",
      " 66%|██████▌   | 660/1000 [51:57<23:35,  4.16s/it]"
     ]
    },
    {
     "name": "stdout",
     "output_type": "stream",
     "text": [
      "Roc score 0.9680234965720023 at model 660\n",
      "Best F1 score 0.3458755426917511 at threshold 0.9  model 660\n"
     ]
    },
    {
     "name": "stderr",
     "output_type": "stream",
     "text": [
      "\r",
      " 66%|██████▌   | 661/1000 [52:01<23:42,  4.20s/it]"
     ]
    },
    {
     "name": "stdout",
     "output_type": "stream",
     "text": [
      "Roc score 0.9491569338303762 at model 661\n",
      "Best F1 score 0.06597938144329897 at threshold 0.9  model 661\n"
     ]
    },
    {
     "name": "stderr",
     "output_type": "stream",
     "text": [
      "\r",
      " 66%|██████▌   | 662/1000 [52:04<21:53,  3.88s/it]"
     ]
    },
    {
     "name": "stdout",
     "output_type": "stream",
     "text": [
      "Roc score 0.9619740792745552 at model 662\n",
      "Best F1 score 0.1295336787564767 at threshold 0.9  model 662\n"
     ]
    },
    {
     "name": "stderr",
     "output_type": "stream",
     "text": [
      "\r",
      " 66%|██████▋   | 663/1000 [52:07<20:45,  3.70s/it]"
     ]
    },
    {
     "name": "stdout",
     "output_type": "stream",
     "text": [
      "Roc score 0.9249413021923724 at model 663\n",
      "Best F1 score 0.043165467625899276 at threshold 0.9  model 663\n"
     ]
    },
    {
     "name": "stderr",
     "output_type": "stream",
     "text": [
      "\r",
      " 66%|██████▋   | 664/1000 [52:11<19:46,  3.53s/it]"
     ]
    },
    {
     "name": "stdout",
     "output_type": "stream",
     "text": [
      "Roc score 0.9473887219771955 at model 664\n",
      "Best F1 score 0.282 at threshold 0.9  model 664\n"
     ]
    },
    {
     "name": "stderr",
     "output_type": "stream",
     "text": [
      "\r",
      " 66%|██████▋   | 665/1000 [52:14<20:16,  3.63s/it]"
     ]
    },
    {
     "name": "stdout",
     "output_type": "stream",
     "text": [
      "Roc score 0.9670986728809147 at model 665\n",
      "Best F1 score 0.16194331983805665 at threshold 0.9  model 665\n"
     ]
    },
    {
     "name": "stderr",
     "output_type": "stream",
     "text": [
      "\r",
      " 67%|██████▋   | 666/1000 [52:18<19:23,  3.48s/it]"
     ]
    },
    {
     "name": "stdout",
     "output_type": "stream",
     "text": [
      "Roc score 0.9273973675688272 at model 666\n",
      "Best F1 score 0.17579250720461095 at threshold 0.9  model 666\n"
     ]
    },
    {
     "name": "stderr",
     "output_type": "stream",
     "text": [
      "\r",
      " 67%|██████▋   | 667/1000 [52:23<21:39,  3.90s/it]"
     ]
    },
    {
     "name": "stdout",
     "output_type": "stream",
     "text": [
      "Roc score 0.9586500375491336 at model 667\n",
      "Best F1 score 0.32685512367491165 at threshold 0.8  model 667\n"
     ]
    },
    {
     "name": "stderr",
     "output_type": "stream",
     "text": [
      "\r",
      " 67%|██████▋   | 668/1000 [52:26<21:21,  3.86s/it]"
     ]
    },
    {
     "name": "stdout",
     "output_type": "stream",
     "text": [
      "Roc score 0.9336562791758436 at model 668\n",
      "Best F1 score 0.06971677559912853 at threshold 0.9  model 668\n"
     ]
    },
    {
     "name": "stderr",
     "output_type": "stream",
     "text": [
      "\r",
      " 67%|██████▋   | 669/1000 [52:29<19:35,  3.55s/it]"
     ]
    },
    {
     "name": "stdout",
     "output_type": "stream",
     "text": [
      "Roc score 0.9888539997344579 at model 669\n",
      "Best F1 score 0.27253668763102723 at threshold 0.9  model 669\n"
     ]
    },
    {
     "name": "stderr",
     "output_type": "stream",
     "text": [
      "\r",
      " 67%|██████▋   | 670/1000 [52:32<18:29,  3.36s/it]"
     ]
    },
    {
     "name": "stdout",
     "output_type": "stream",
     "text": [
      "Roc score 0.956448152832615 at model 670\n",
      "Best F1 score 0.16379310344827586 at threshold 0.9  model 670\n"
     ]
    },
    {
     "name": "stderr",
     "output_type": "stream",
     "text": [
      "\r",
      " 67%|██████▋   | 671/1000 [52:35<18:05,  3.30s/it]"
     ]
    },
    {
     "name": "stdout",
     "output_type": "stream",
     "text": [
      "Roc score 0.949998128658121 at model 671\n",
      "Best F1 score 0.4239130434782608 at threshold 0.8  model 671\n"
     ]
    },
    {
     "name": "stderr",
     "output_type": "stream",
     "text": [
      "\r",
      " 67%|██████▋   | 672/1000 [52:39<18:36,  3.40s/it]"
     ]
    },
    {
     "name": "stdout",
     "output_type": "stream",
     "text": [
      "Roc score 0.9468068720740139 at model 672\n",
      "Best F1 score 0.09523809523809523 at threshold 0.9  model 672\n"
     ]
    },
    {
     "name": "stderr",
     "output_type": "stream",
     "text": [
      "\r",
      " 67%|██████▋   | 673/1000 [52:42<18:08,  3.33s/it]"
     ]
    },
    {
     "name": "stdout",
     "output_type": "stream",
     "text": [
      "Roc score 0.9464510526451622 at model 673\n",
      "Best F1 score 0.25293350717079527 at threshold 0.9  model 673\n"
     ]
    },
    {
     "name": "stderr",
     "output_type": "stream",
     "text": [
      "\r",
      " 67%|██████▋   | 674/1000 [52:46<18:37,  3.43s/it]"
     ]
    },
    {
     "name": "stdout",
     "output_type": "stream",
     "text": [
      "Roc score 0.9189244541376999 at model 674\n",
      "Best F1 score 0.1111111111111111 at threshold 0.9  model 674\n"
     ]
    },
    {
     "name": "stderr",
     "output_type": "stream",
     "text": [
      "\r",
      " 68%|██████▊   | 675/1000 [52:49<18:17,  3.38s/it]"
     ]
    },
    {
     "name": "stdout",
     "output_type": "stream",
     "text": [
      "Roc score 0.9279320061326312 at model 675\n",
      "Best F1 score 0.2506024096385542 at threshold 0.9  model 675\n"
     ]
    },
    {
     "name": "stderr",
     "output_type": "stream",
     "text": [
      "\r",
      " 68%|██████▊   | 676/1000 [52:53<18:42,  3.46s/it]"
     ]
    },
    {
     "name": "stdout",
     "output_type": "stream",
     "text": [
      "Roc score 0.965451880335283 at model 676\n",
      "Best F1 score 0.38775510204081637 at threshold 0.9  model 676\n"
     ]
    },
    {
     "name": "stderr",
     "output_type": "stream",
     "text": [
      "\r",
      " 68%|██████▊   | 677/1000 [52:56<17:56,  3.33s/it]"
     ]
    },
    {
     "name": "stdout",
     "output_type": "stream",
     "text": [
      "Roc score 0.891458828023527 at model 677\n",
      "Best F1 score 0.061386138613861385 at threshold 0.9  model 677\n"
     ]
    },
    {
     "name": "stderr",
     "output_type": "stream",
     "text": [
      "\r",
      " 68%|██████▊   | 678/1000 [52:59<17:23,  3.24s/it]"
     ]
    },
    {
     "name": "stdout",
     "output_type": "stream",
     "text": [
      "Roc score 0.9455602684678597 at model 678\n",
      "Best F1 score 0.18888888888888888 at threshold 0.9  model 678\n"
     ]
    },
    {
     "name": "stderr",
     "output_type": "stream",
     "text": [
      "\r",
      " 68%|██████▊   | 679/1000 [53:02<17:21,  3.25s/it]"
     ]
    },
    {
     "name": "stdout",
     "output_type": "stream",
     "text": [
      "Roc score 0.9544994519272639 at model 679\n",
      "Best F1 score 0.2153846153846154 at threshold 0.9  model 679\n"
     ]
    },
    {
     "name": "stderr",
     "output_type": "stream",
     "text": [
      "\r",
      " 68%|██████▊   | 680/1000 [53:05<16:49,  3.15s/it]"
     ]
    },
    {
     "name": "stdout",
     "output_type": "stream",
     "text": [
      "Roc score 0.9262132723563039 at model 680\n",
      "Best F1 score 0.24692874692874692 at threshold 0.9  model 680\n"
     ]
    },
    {
     "name": "stderr",
     "output_type": "stream",
     "text": [
      "\r",
      " 68%|██████▊   | 681/1000 [53:09<18:01,  3.39s/it]"
     ]
    },
    {
     "name": "stdout",
     "output_type": "stream",
     "text": [
      "Roc score 0.8981530221128265 at model 681\n",
      "Best F1 score 0.1807228915662651 at threshold 0.9  model 681\n"
     ]
    },
    {
     "name": "stderr",
     "output_type": "stream",
     "text": [
      "\r",
      " 68%|██████▊   | 682/1000 [53:12<17:23,  3.28s/it]"
     ]
    },
    {
     "name": "stdout",
     "output_type": "stream",
     "text": [
      "Roc score 0.870989159654239 at model 682\n",
      "Best F1 score 0.0945945945945946 at threshold 0.9  model 682\n"
     ]
    },
    {
     "name": "stderr",
     "output_type": "stream",
     "text": [
      "\r",
      " 68%|██████▊   | 683/1000 [53:15<16:59,  3.22s/it]"
     ]
    },
    {
     "name": "stdout",
     "output_type": "stream",
     "text": [
      "Roc score 0.9313441597678435 at model 683\n",
      "Best F1 score 0.08057553956834532 at threshold 0.9  model 683\n"
     ]
    },
    {
     "name": "stderr",
     "output_type": "stream",
     "text": [
      "\r",
      " 68%|██████▊   | 684/1000 [53:18<17:08,  3.26s/it]"
     ]
    },
    {
     "name": "stdout",
     "output_type": "stream",
     "text": [
      "Roc score 0.9429584239292534 at model 684\n",
      "Best F1 score 0.3021276595744681 at threshold 0.9  model 684\n"
     ]
    },
    {
     "name": "stderr",
     "output_type": "stream",
     "text": [
      "\r",
      " 68%|██████▊   | 685/1000 [53:22<17:14,  3.29s/it]"
     ]
    },
    {
     "name": "stdout",
     "output_type": "stream",
     "text": [
      "Roc score 0.9588786497002169 at model 685\n",
      "Best F1 score 0.09448818897637797 at threshold 0.9  model 685\n"
     ]
    },
    {
     "name": "stderr",
     "output_type": "stream",
     "text": [
      "\r",
      " 69%|██████▊   | 686/1000 [53:25<16:58,  3.24s/it]"
     ]
    },
    {
     "name": "stdout",
     "output_type": "stream",
     "text": [
      "Roc score 0.8753163690005795 at model 686\n",
      "Best F1 score 0.05106382978723404 at threshold 0.9  model 686\n"
     ]
    },
    {
     "name": "stderr",
     "output_type": "stream",
     "text": [
      "\r",
      " 69%|██████▊   | 687/1000 [53:28<16:36,  3.18s/it]"
     ]
    },
    {
     "name": "stdout",
     "output_type": "stream",
     "text": [
      "Roc score 0.8949326049091055 at model 687\n",
      "Best F1 score 0.024896265560165977 at threshold 0.8  model 687\n"
     ]
    },
    {
     "name": "stderr",
     "output_type": "stream",
     "text": [
      "\r",
      " 69%|██████▉   | 688/1000 [53:31<16:28,  3.17s/it]"
     ]
    },
    {
     "name": "stdout",
     "output_type": "stream",
     "text": [
      "Roc score 0.9285303301385144 at model 688\n",
      "Best F1 score 0.08653846153846154 at threshold 0.9  model 688\n"
     ]
    },
    {
     "name": "stderr",
     "output_type": "stream",
     "text": [
      "\r",
      " 69%|██████▉   | 689/1000 [53:34<16:23,  3.16s/it]"
     ]
    },
    {
     "name": "stdout",
     "output_type": "stream",
     "text": [
      "Roc score 0.9134054873579207 at model 689\n",
      "Best F1 score 0.6480529022777369 at threshold 0.7000000000000001  model 689\n"
     ]
    },
    {
     "name": "stderr",
     "output_type": "stream",
     "text": [
      "\r",
      " 69%|██████▉   | 690/1000 [54:09<1:06:20, 12.84s/it]"
     ]
    },
    {
     "name": "stdout",
     "output_type": "stream",
     "text": [
      "Roc score 0.9286665042156971 at model 690\n",
      "Best F1 score 0.05340599455040872 at threshold 0.9  model 690\n"
     ]
    },
    {
     "name": "stderr",
     "output_type": "stream",
     "text": [
      "\r",
      " 69%|██████▉   | 691/1000 [54:13<51:08,  9.93s/it]  "
     ]
    },
    {
     "name": "stdout",
     "output_type": "stream",
     "text": [
      "Roc score 0.9142685529792781 at model 691\n",
      "Best F1 score 0.40459476707083597 at threshold 0.8  model 691\n"
     ]
    },
    {
     "name": "stderr",
     "output_type": "stream",
     "text": [
      "\r",
      " 69%|██████▉   | 692/1000 [54:18<43:39,  8.50s/it]"
     ]
    },
    {
     "name": "stdout",
     "output_type": "stream",
     "text": [
      "Roc score 0.9196778783150706 at model 692\n",
      "Best F1 score 0.18085106382978722 at threshold 0.9  model 692\n"
     ]
    },
    {
     "name": "stderr",
     "output_type": "stream",
     "text": [
      "\r",
      " 69%|██████▉   | 693/1000 [54:21<36:04,  7.05s/it]"
     ]
    },
    {
     "name": "stdout",
     "output_type": "stream",
     "text": [
      "Roc score 0.9707698866385682 at model 693\n",
      "Best F1 score 0.05588235294117647 at threshold 0.9  model 693\n"
     ]
    },
    {
     "name": "stderr",
     "output_type": "stream",
     "text": [
      "\r",
      " 69%|██████▉   | 694/1000 [54:24<29:49,  5.85s/it]"
     ]
    },
    {
     "name": "stdout",
     "output_type": "stream",
     "text": [
      "Roc score 0.9495460525117368 at model 694\n",
      "Best F1 score 0.1478599221789883 at threshold 0.9  model 694\n"
     ]
    },
    {
     "name": "stderr",
     "output_type": "stream",
     "text": [
      "\r",
      " 70%|██████▉   | 695/1000 [54:28<25:27,  5.01s/it]"
     ]
    },
    {
     "name": "stdout",
     "output_type": "stream",
     "text": [
      "Roc score 0.9303931796346812 at model 695\n",
      "Best F1 score 0.2385321100917431 at threshold 0.9  model 695\n"
     ]
    },
    {
     "name": "stderr",
     "output_type": "stream",
     "text": [
      "\r",
      " 70%|██████▉   | 696/1000 [54:31<22:31,  4.45s/it]"
     ]
    },
    {
     "name": "stdout",
     "output_type": "stream",
     "text": [
      "Roc score 0.9548421584658662 at model 696\n",
      "Best F1 score 0.3382594417077176 at threshold 0.8  model 696\n"
     ]
    },
    {
     "name": "stderr",
     "output_type": "stream",
     "text": [
      "\r",
      " 70%|██████▉   | 697/1000 [54:35<22:00,  4.36s/it]"
     ]
    },
    {
     "name": "stdout",
     "output_type": "stream",
     "text": [
      "Roc score 0.958229767107068 at model 697\n",
      "Best F1 score 0.30025445292620867 at threshold 0.9  model 697\n"
     ]
    },
    {
     "name": "stderr",
     "output_type": "stream",
     "text": [
      "\r",
      " 70%|██████▉   | 698/1000 [54:38<20:06,  4.00s/it]"
     ]
    },
    {
     "name": "stdout",
     "output_type": "stream",
     "text": [
      "Roc score 0.9781701558197144 at model 698\n",
      "Best F1 score 0.3793103448275862 at threshold 0.9  model 698\n"
     ]
    },
    {
     "name": "stderr",
     "output_type": "stream",
     "text": [
      "\r",
      " 70%|██████▉   | 699/1000 [54:41<18:17,  3.65s/it]"
     ]
    },
    {
     "name": "stdout",
     "output_type": "stream",
     "text": [
      "Roc score 0.9507498576881408 at model 699\n",
      "Best F1 score 0.4475247524752476 at threshold 0.9  model 699\n"
     ]
    },
    {
     "name": "stderr",
     "output_type": "stream",
     "text": [
      "\r",
      " 70%|███████   | 700/1000 [54:44<18:15,  3.65s/it]"
     ]
    },
    {
     "name": "stdout",
     "output_type": "stream",
     "text": [
      "Roc score 0.948189132291308 at model 700\n",
      "Best F1 score 0.10784313725490195 at threshold 0.8  model 700\n"
     ]
    },
    {
     "name": "stderr",
     "output_type": "stream",
     "text": [
      "\r",
      " 70%|███████   | 701/1000 [54:47<17:17,  3.47s/it]"
     ]
    },
    {
     "name": "stdout",
     "output_type": "stream",
     "text": [
      "Roc score 0.9157542104671219 at model 701\n",
      "Best F1 score 0.27450980392156865 at threshold 0.9  model 701\n"
     ]
    },
    {
     "name": "stderr",
     "output_type": "stream",
     "text": [
      "\r",
      " 70%|███████   | 702/1000 [54:51<17:30,  3.53s/it]"
     ]
    },
    {
     "name": "stdout",
     "output_type": "stream",
     "text": [
      "Roc score 0.9555802156901164 at model 702\n",
      "Best F1 score 0.29565217391304355 at threshold 0.9  model 702\n"
     ]
    },
    {
     "name": "stderr",
     "output_type": "stream",
     "text": [
      "\r",
      " 70%|███████   | 703/1000 [54:55<17:55,  3.62s/it]"
     ]
    },
    {
     "name": "stdout",
     "output_type": "stream",
     "text": [
      "Roc score 0.9042960935478318 at model 703\n",
      "Best F1 score 0.171021377672209 at threshold 0.9  model 703\n"
     ]
    },
    {
     "name": "stderr",
     "output_type": "stream",
     "text": [
      "\r",
      " 70%|███████   | 704/1000 [54:59<17:45,  3.60s/it]"
     ]
    },
    {
     "name": "stdout",
     "output_type": "stream",
     "text": [
      "Roc score 0.9169885141333077 at model 704\n",
      "Best F1 score 0.2385321100917431 at threshold 0.9  model 704\n"
     ]
    },
    {
     "name": "stderr",
     "output_type": "stream",
     "text": [
      "\r",
      " 70%|███████   | 705/1000 [55:02<17:57,  3.65s/it]"
     ]
    },
    {
     "name": "stdout",
     "output_type": "stream",
     "text": [
      "Roc score 0.9360307964509432 at model 705\n",
      "Best F1 score 0.2044728434504792 at threshold 0.9  model 705\n"
     ]
    },
    {
     "name": "stderr",
     "output_type": "stream",
     "text": [
      "\r",
      " 71%|███████   | 706/1000 [55:07<19:23,  3.96s/it]"
     ]
    },
    {
     "name": "stdout",
     "output_type": "stream",
     "text": [
      "Roc score 0.9317063697603271 at model 706\n",
      "Best F1 score 0.1978021978021978 at threshold 0.9  model 706\n"
     ]
    },
    {
     "name": "stderr",
     "output_type": "stream",
     "text": [
      "\r",
      " 71%|███████   | 707/1000 [55:10<17:59,  3.68s/it]"
     ]
    },
    {
     "name": "stdout",
     "output_type": "stream",
     "text": [
      "Roc score 0.9726448137504597 at model 707\n",
      "Best F1 score 0.6802599148554784 at threshold 0.9  model 707\n"
     ]
    },
    {
     "name": "stderr",
     "output_type": "stream",
     "text": [
      "\r",
      " 71%|███████   | 708/1000 [55:24<32:20,  6.64s/it]"
     ]
    },
    {
     "name": "stdout",
     "output_type": "stream",
     "text": [
      "Roc score 0.9365576271117736 at model 708\n",
      "Best F1 score 0.32696390658174096 at threshold 0.8  model 708\n"
     ]
    },
    {
     "name": "stderr",
     "output_type": "stream",
     "text": [
      "\r",
      " 71%|███████   | 709/1000 [55:27<27:15,  5.62s/it]"
     ]
    },
    {
     "name": "stdout",
     "output_type": "stream",
     "text": [
      "Roc score 0.96025101948975 at model 709\n",
      "Best F1 score 0.17490494296577944 at threshold 0.9  model 709\n"
     ]
    },
    {
     "name": "stderr",
     "output_type": "stream",
     "text": [
      "\r",
      " 71%|███████   | 710/1000 [55:30<23:25,  4.85s/it]"
     ]
    },
    {
     "name": "stdout",
     "output_type": "stream",
     "text": [
      "Roc score 0.9169592436962885 at model 710\n",
      "Best F1 score 0.07913669064748202 at threshold 0.9  model 710\n"
     ]
    },
    {
     "name": "stderr",
     "output_type": "stream",
     "text": [
      "\r",
      " 71%|███████   | 711/1000 [55:33<20:51,  4.33s/it]"
     ]
    },
    {
     "name": "stdout",
     "output_type": "stream",
     "text": [
      "Roc score 0.9459956479120835 at model 711\n",
      "Best F1 score 0.19327731092436973 at threshold 0.9  model 711\n"
     ]
    },
    {
     "name": "stderr",
     "output_type": "stream",
     "text": [
      "\r",
      " 71%|███████   | 712/1000 [55:36<18:37,  3.88s/it]"
     ]
    },
    {
     "name": "stdout",
     "output_type": "stream",
     "text": [
      "Roc score 0.9492474085187679 at model 712\n",
      "Best F1 score 0.1939655172413793 at threshold 0.9  model 712\n"
     ]
    },
    {
     "name": "stderr",
     "output_type": "stream",
     "text": [
      "\r",
      " 71%|███████▏  | 713/1000 [55:39<18:05,  3.78s/it]"
     ]
    },
    {
     "name": "stdout",
     "output_type": "stream",
     "text": [
      "Roc score 0.9607269500587852 at model 713\n",
      "Best F1 score 0.15934065934065933 at threshold 0.9  model 713\n"
     ]
    },
    {
     "name": "stderr",
     "output_type": "stream",
     "text": [
      "\r",
      " 71%|███████▏  | 714/1000 [55:42<16:40,  3.50s/it]"
     ]
    },
    {
     "name": "stdout",
     "output_type": "stream",
     "text": [
      "Roc score 0.9682175606142511 at model 714\n",
      "Best F1 score 0.13195876288659794 at threshold 0.8  model 714\n"
     ]
    },
    {
     "name": "stderr",
     "output_type": "stream",
     "text": [
      "\r",
      " 72%|███████▏  | 715/1000 [55:45<15:56,  3.36s/it]"
     ]
    },
    {
     "name": "stdout",
     "output_type": "stream",
     "text": [
      "Roc score 0.9371942438342247 at model 715\n",
      "Best F1 score 0.11940298507462689 at threshold 0.9  model 715\n"
     ]
    },
    {
     "name": "stderr",
     "output_type": "stream",
     "text": [
      "\r",
      " 72%|███████▏  | 716/1000 [55:48<15:34,  3.29s/it]"
     ]
    },
    {
     "name": "stdout",
     "output_type": "stream",
     "text": [
      "Roc score 0.9704515937878078 at model 716\n",
      "Best F1 score 0.4479371316306483 at threshold 0.8  model 716\n"
     ]
    },
    {
     "name": "stderr",
     "output_type": "stream",
     "text": [
      "\r",
      " 72%|███████▏  | 717/1000 [55:52<16:18,  3.46s/it]"
     ]
    },
    {
     "name": "stdout",
     "output_type": "stream",
     "text": [
      "Roc score 0.9483848901212546 at model 717\n",
      "Best F1 score 0.125 at threshold 0.9  model 717\n"
     ]
    },
    {
     "name": "stderr",
     "output_type": "stream",
     "text": [
      "\r",
      " 72%|███████▏  | 718/1000 [55:55<15:47,  3.36s/it]"
     ]
    },
    {
     "name": "stdout",
     "output_type": "stream",
     "text": [
      "Roc score 0.965548900167923 at model 718\n",
      "Best F1 score 0.31088082901554404 at threshold 0.9  model 718\n"
     ]
    },
    {
     "name": "stderr",
     "output_type": "stream",
     "text": [
      "\r",
      " 72%|███████▏  | 719/1000 [55:58<14:59,  3.20s/it]"
     ]
    },
    {
     "name": "stdout",
     "output_type": "stream",
     "text": [
      "Roc score 0.897778525401198 at model 719\n",
      "Best F1 score 0.06589147286821705 at threshold 0.9  model 719\n"
     ]
    },
    {
     "name": "stderr",
     "output_type": "stream",
     "text": [
      "\r",
      " 72%|███████▏  | 720/1000 [56:01<14:50,  3.18s/it]"
     ]
    },
    {
     "name": "stdout",
     "output_type": "stream",
     "text": [
      "Roc score 0.9643449947354829 at model 720\n",
      "Best F1 score 0.20276497695852536 at threshold 0.9  model 720\n"
     ]
    },
    {
     "name": "stderr",
     "output_type": "stream",
     "text": [
      "\r",
      " 72%|███████▏  | 721/1000 [56:04<14:43,  3.17s/it]"
     ]
    },
    {
     "name": "stdout",
     "output_type": "stream",
     "text": [
      "Roc score 0.9562457752508561 at model 721\n",
      "Best F1 score 0.12025316455696201 at threshold 0.9  model 721\n"
     ]
    },
    {
     "name": "stderr",
     "output_type": "stream",
     "text": [
      "\r",
      " 72%|███████▏  | 722/1000 [56:08<14:46,  3.19s/it]"
     ]
    },
    {
     "name": "stdout",
     "output_type": "stream",
     "text": [
      "Roc score 0.9091581147276101 at model 722\n",
      "Best F1 score 0.2813793103448276 at threshold 0.8  model 722\n"
     ]
    },
    {
     "name": "stderr",
     "output_type": "stream",
     "text": [
      "\r",
      " 72%|███████▏  | 723/1000 [56:11<15:20,  3.32s/it]"
     ]
    },
    {
     "name": "stdout",
     "output_type": "stream",
     "text": [
      "Roc score 0.9433234550182575 at model 723\n",
      "Best F1 score 0.259765625 at threshold 0.9  model 723\n"
     ]
    },
    {
     "name": "stderr",
     "output_type": "stream",
     "text": [
      "\r",
      " 72%|███████▏  | 724/1000 [56:16<16:43,  3.63s/it]"
     ]
    },
    {
     "name": "stdout",
     "output_type": "stream",
     "text": [
      "Roc score 0.9400639838544622 at model 724\n",
      "Best F1 score 0.08607594936708861 at threshold 0.9  model 724\n"
     ]
    },
    {
     "name": "stderr",
     "output_type": "stream",
     "text": [
      "\r",
      " 72%|███████▎  | 725/1000 [56:19<15:51,  3.46s/it]"
     ]
    },
    {
     "name": "stdout",
     "output_type": "stream",
     "text": [
      "Roc score 0.9751625462474143 at model 725\n",
      "Best F1 score 0.38738738738738737 at threshold 0.9  model 725\n"
     ]
    },
    {
     "name": "stderr",
     "output_type": "stream",
     "text": [
      "\r",
      " 73%|███████▎  | 726/1000 [56:22<15:05,  3.31s/it]"
     ]
    },
    {
     "name": "stdout",
     "output_type": "stream",
     "text": [
      "Roc score 0.930282517532301 at model 726\n",
      "Best F1 score 0.06965174129353234 at threshold 0.9  model 726\n"
     ]
    },
    {
     "name": "stderr",
     "output_type": "stream",
     "text": [
      "\r",
      " 73%|███████▎  | 727/1000 [56:25<14:58,  3.29s/it]"
     ]
    },
    {
     "name": "stdout",
     "output_type": "stream",
     "text": [
      "Roc score 0.952257218453195 at model 727\n",
      "Best F1 score 0.09174311926605504 at threshold 0.9  model 727\n"
     ]
    },
    {
     "name": "stderr",
     "output_type": "stream",
     "text": [
      "\r",
      " 73%|███████▎  | 728/1000 [56:28<14:50,  3.27s/it]"
     ]
    },
    {
     "name": "stdout",
     "output_type": "stream",
     "text": [
      "Roc score 0.9711623370516226 at model 728\n",
      "Best F1 score 0.1564885496183206 at threshold 0.9  model 728\n"
     ]
    },
    {
     "name": "stderr",
     "output_type": "stream",
     "text": [
      "\r",
      " 73%|███████▎  | 729/1000 [56:31<14:45,  3.27s/it]"
     ]
    },
    {
     "name": "stdout",
     "output_type": "stream",
     "text": [
      "Roc score 0.9708157763454076 at model 729\n",
      "Best F1 score 0.22613065326633167 at threshold 0.9  model 729\n"
     ]
    },
    {
     "name": "stderr",
     "output_type": "stream",
     "text": [
      "\r",
      " 73%|███████▎  | 730/1000 [56:35<14:41,  3.26s/it]"
     ]
    },
    {
     "name": "stdout",
     "output_type": "stream",
     "text": [
      "Roc score 0.9691677838315521 at model 730\n",
      "Best F1 score 0.24759284731774414 at threshold 0.9  model 730\n"
     ]
    },
    {
     "name": "stderr",
     "output_type": "stream",
     "text": [
      "\r",
      " 73%|███████▎  | 731/1000 [56:38<15:09,  3.38s/it]"
     ]
    },
    {
     "name": "stdout",
     "output_type": "stream",
     "text": [
      "Roc score 0.9673356984487954 at model 731\n",
      "Best F1 score 0.21374045801526717 at threshold 0.9  model 731\n"
     ]
    },
    {
     "name": "stderr",
     "output_type": "stream",
     "text": [
      "\r",
      " 73%|███████▎  | 732/1000 [56:42<14:54,  3.34s/it]"
     ]
    },
    {
     "name": "stdout",
     "output_type": "stream",
     "text": [
      "Roc score 0.9332277487469438 at model 732\n",
      "Best F1 score 0.4044444444444445 at threshold 0.8  model 732\n"
     ]
    },
    {
     "name": "stderr",
     "output_type": "stream",
     "text": [
      "\r",
      " 73%|███████▎  | 733/1000 [56:45<15:16,  3.43s/it]"
     ]
    },
    {
     "name": "stdout",
     "output_type": "stream",
     "text": [
      "Roc score 0.922360922901836 at model 733\n",
      "Best F1 score 0.5160192798412249 at threshold 0.7000000000000001  model 733\n"
     ]
    },
    {
     "name": "stderr",
     "output_type": "stream",
     "text": [
      "\r",
      " 73%|███████▎  | 734/1000 [56:59<29:00,  6.54s/it]"
     ]
    },
    {
     "name": "stdout",
     "output_type": "stream",
     "text": [
      "Roc score 0.9428665279751535 at model 734\n",
      "Best F1 score 0.6563451776649746 at threshold 0.8  model 734\n"
     ]
    },
    {
     "name": "stderr",
     "output_type": "stream",
     "text": [
      "\r",
      " 74%|███████▎  | 735/1000 [57:20<47:56, 10.85s/it]"
     ]
    },
    {
     "name": "stdout",
     "output_type": "stream",
     "text": [
      "Roc score 0.9362620536877768 at model 735\n",
      "Best F1 score 0.16362740266140957 at threshold 0.9  model 735\n"
     ]
    },
    {
     "name": "stderr",
     "output_type": "stream",
     "text": [
      "\r",
      " 74%|███████▎  | 736/1000 [57:24<38:36,  8.77s/it]"
     ]
    },
    {
     "name": "stdout",
     "output_type": "stream",
     "text": [
      "Roc score 0.9231777681493907 at model 736\n",
      "Best F1 score 0.05249343832020997 at threshold 0.9  model 736\n"
     ]
    },
    {
     "name": "stderr",
     "output_type": "stream",
     "text": [
      "\r",
      " 74%|███████▎  | 737/1000 [57:27<30:55,  7.06s/it]"
     ]
    },
    {
     "name": "stdout",
     "output_type": "stream",
     "text": [
      "Roc score 0.9587852068125975 at model 737\n",
      "Best F1 score 0.27988338192419826 at threshold 0.9  model 737\n"
     ]
    },
    {
     "name": "stderr",
     "output_type": "stream",
     "text": [
      "\r",
      " 74%|███████▍  | 738/1000 [57:30<26:13,  6.01s/it]"
     ]
    },
    {
     "name": "stdout",
     "output_type": "stream",
     "text": [
      "Roc score 0.8898052230198511 at model 738\n",
      "Best F1 score 0.155688622754491 at threshold 0.8  model 738\n"
     ]
    },
    {
     "name": "stderr",
     "output_type": "stream",
     "text": [
      "\r",
      " 74%|███████▍  | 739/1000 [57:34<22:40,  5.21s/it]"
     ]
    },
    {
     "name": "stdout",
     "output_type": "stream",
     "text": [
      "Roc score 0.9561296800817324 at model 739\n",
      "Best F1 score 0.1749622926093514 at threshold 0.9  model 739\n"
     ]
    },
    {
     "name": "stderr",
     "output_type": "stream",
     "text": [
      "\r",
      " 74%|███████▍  | 740/1000 [57:37<20:10,  4.66s/it]"
     ]
    },
    {
     "name": "stdout",
     "output_type": "stream",
     "text": [
      "Roc score 0.8964612215975862 at model 740\n",
      "Best F1 score 0.10752688172043011 at threshold 0.9  model 740\n"
     ]
    },
    {
     "name": "stderr",
     "output_type": "stream",
     "text": [
      "\r",
      " 74%|███████▍  | 741/1000 [57:40<18:15,  4.23s/it]"
     ]
    },
    {
     "name": "stdout",
     "output_type": "stream",
     "text": [
      "Roc score 0.9394684128613285 at model 741\n",
      "Best F1 score 0.3643858202802968 at threshold 0.8  model 741\n"
     ]
    },
    {
     "name": "stderr",
     "output_type": "stream",
     "text": [
      "\r",
      " 74%|███████▍  | 742/1000 [57:45<18:22,  4.27s/it]"
     ]
    },
    {
     "name": "stdout",
     "output_type": "stream",
     "text": [
      "Roc score 0.9317222527874532 at model 742\n",
      "Best F1 score 0.0632183908045977 at threshold 0.9  model 742\n"
     ]
    },
    {
     "name": "stderr",
     "output_type": "stream",
     "text": [
      "\r",
      " 74%|███████▍  | 743/1000 [57:48<17:01,  3.97s/it]"
     ]
    },
    {
     "name": "stdout",
     "output_type": "stream",
     "text": [
      "Roc score 0.9540000143734916 at model 743\n",
      "Best F1 score 0.2458100558659218 at threshold 0.9  model 743\n"
     ]
    },
    {
     "name": "stderr",
     "output_type": "stream",
     "text": [
      "\r",
      " 74%|███████▍  | 744/1000 [57:51<15:37,  3.66s/it]"
     ]
    },
    {
     "name": "stdout",
     "output_type": "stream",
     "text": [
      "Roc score 0.9410717377546841 at model 744\n",
      "Best F1 score 0.178498985801217 at threshold 0.9  model 744\n"
     ]
    },
    {
     "name": "stderr",
     "output_type": "stream",
     "text": [
      "\r",
      " 74%|███████▍  | 745/1000 [57:54<15:10,  3.57s/it]"
     ]
    },
    {
     "name": "stdout",
     "output_type": "stream",
     "text": [
      "Roc score 0.9460878910552296 at model 745\n",
      "Best F1 score 0.2461538461538462 at threshold 0.9  model 745\n"
     ]
    },
    {
     "name": "stderr",
     "output_type": "stream",
     "text": [
      "\r",
      " 75%|███████▍  | 746/1000 [57:58<14:43,  3.48s/it]"
     ]
    },
    {
     "name": "stdout",
     "output_type": "stream",
     "text": [
      "Roc score 0.9219989691546857 at model 746\n",
      "Best F1 score 0.19849624060150378 at threshold 0.9  model 746\n"
     ]
    },
    {
     "name": "stderr",
     "output_type": "stream",
     "text": [
      "\r",
      " 75%|███████▍  | 747/1000 [58:01<14:46,  3.50s/it]"
     ]
    },
    {
     "name": "stdout",
     "output_type": "stream",
     "text": [
      "Roc score 0.8925881830069249 at model 747\n",
      "Best F1 score 0.13270142180094788 at threshold 0.9  model 747\n"
     ]
    },
    {
     "name": "stderr",
     "output_type": "stream",
     "text": [
      "\r",
      " 75%|███████▍  | 748/1000 [58:04<14:24,  3.43s/it]"
     ]
    },
    {
     "name": "stdout",
     "output_type": "stream",
     "text": [
      "Roc score 0.884837795851371 at model 748\n",
      "Best F1 score 0.1570493753718025 at threshold 0.9  model 748\n"
     ]
    },
    {
     "name": "stderr",
     "output_type": "stream",
     "text": [
      "\r",
      " 75%|███████▍  | 749/1000 [58:09<15:38,  3.74s/it]"
     ]
    },
    {
     "name": "stdout",
     "output_type": "stream",
     "text": [
      "Roc score 0.9694572960947375 at model 749\n",
      "Best F1 score 0.21634615384615385 at threshold 0.9  model 749\n"
     ]
    },
    {
     "name": "stderr",
     "output_type": "stream",
     "text": [
      "\r",
      " 75%|███████▌  | 750/1000 [58:12<15:15,  3.66s/it]"
     ]
    },
    {
     "name": "stdout",
     "output_type": "stream",
     "text": [
      "Roc score 0.9813057143980252 at model 750\n",
      "Best F1 score 0.13870246085011184 at threshold 0.9  model 750\n"
     ]
    },
    {
     "name": "stderr",
     "output_type": "stream",
     "text": [
      "\r",
      " 75%|███████▌  | 751/1000 [58:15<14:18,  3.45s/it]"
     ]
    },
    {
     "name": "stdout",
     "output_type": "stream",
     "text": [
      "Roc score 0.9112177976477236 at model 751\n",
      "Best F1 score 0.05103280680437424 at threshold 0.9  model 751\n"
     ]
    },
    {
     "name": "stderr",
     "output_type": "stream",
     "text": [
      "\r",
      " 75%|███████▌  | 752/1000 [58:19<14:22,  3.48s/it]"
     ]
    },
    {
     "name": "stdout",
     "output_type": "stream",
     "text": [
      "Roc score 0.8704395160776368 at model 752\n",
      "Best F1 score 0.059574468085106386 at threshold 0.9  model 752\n"
     ]
    },
    {
     "name": "stderr",
     "output_type": "stream",
     "text": [
      "\r",
      " 75%|███████▌  | 753/1000 [58:22<13:53,  3.38s/it]"
     ]
    },
    {
     "name": "stdout",
     "output_type": "stream",
     "text": [
      "Roc score 0.929426719453767 at model 753\n",
      "Best F1 score 0.3329466357308585 at threshold 0.8  model 753\n"
     ]
    },
    {
     "name": "stderr",
     "output_type": "stream",
     "text": [
      "\r",
      " 75%|███████▌  | 754/1000 [58:27<15:18,  3.73s/it]"
     ]
    },
    {
     "name": "stdout",
     "output_type": "stream",
     "text": [
      "Roc score 0.937759911419191 at model 754\n",
      "Best F1 score 0.17464788732394368 at threshold 0.9  model 754\n"
     ]
    },
    {
     "name": "stderr",
     "output_type": "stream",
     "text": [
      "\r",
      " 76%|███████▌  | 755/1000 [58:30<14:25,  3.53s/it]"
     ]
    },
    {
     "name": "stdout",
     "output_type": "stream",
     "text": [
      "Roc score 0.9035855135814148 at model 755\n",
      "Best F1 score 0.23027954608358703 at threshold 0.8  model 755\n"
     ]
    },
    {
     "name": "stderr",
     "output_type": "stream",
     "text": [
      "\r",
      " 76%|███████▌  | 756/1000 [58:37<18:52,  4.64s/it]"
     ]
    },
    {
     "name": "stdout",
     "output_type": "stream",
     "text": [
      "Roc score 0.9817887610531886 at model 756\n",
      "Best F1 score 0.27726432532347506 at threshold 0.9  model 756\n"
     ]
    },
    {
     "name": "stderr",
     "output_type": "stream",
     "text": [
      "\r",
      " 76%|███████▌  | 757/1000 [58:40<17:15,  4.26s/it]"
     ]
    },
    {
     "name": "stdout",
     "output_type": "stream",
     "text": [
      "Roc score 0.9607311058240352 at model 757\n",
      "Best F1 score 0.45652173913043476 at threshold 0.9  model 757\n"
     ]
    },
    {
     "name": "stderr",
     "output_type": "stream",
     "text": [
      "\r",
      " 76%|███████▌  | 758/1000 [58:43<15:42,  3.90s/it]"
     ]
    },
    {
     "name": "stdout",
     "output_type": "stream",
     "text": [
      "Roc score 0.9385295439785668 at model 758\n",
      "Best F1 score 0.18575498575498572 at threshold 0.9  model 758\n"
     ]
    },
    {
     "name": "stderr",
     "output_type": "stream",
     "text": [
      "\r",
      " 76%|███████▌  | 759/1000 [58:47<15:45,  3.92s/it]"
     ]
    },
    {
     "name": "stdout",
     "output_type": "stream",
     "text": [
      "Roc score 0.9547169101387903 at model 759\n",
      "Best F1 score 0.45410628019323673 at threshold 0.8  model 759\n"
     ]
    },
    {
     "name": "stderr",
     "output_type": "stream",
     "text": [
      "\r",
      " 76%|███████▌  | 760/1000 [58:51<15:02,  3.76s/it]"
     ]
    },
    {
     "name": "stdout",
     "output_type": "stream",
     "text": [
      "Roc score 0.9698458791138351 at model 760\n",
      "Best F1 score 0.20973782771535582 at threshold 0.9  model 760\n"
     ]
    },
    {
     "name": "stderr",
     "output_type": "stream",
     "text": [
      "\r",
      " 76%|███████▌  | 761/1000 [58:54<14:44,  3.70s/it]"
     ]
    },
    {
     "name": "stdout",
     "output_type": "stream",
     "text": [
      "Roc score 0.9518715572066497 at model 761\n",
      "Best F1 score 0.36974789915966383 at threshold 0.9  model 761\n"
     ]
    },
    {
     "name": "stderr",
     "output_type": "stream",
     "text": [
      "\r",
      " 76%|███████▌  | 762/1000 [58:57<14:08,  3.57s/it]"
     ]
    },
    {
     "name": "stdout",
     "output_type": "stream",
     "text": [
      "Roc score 0.9322139384872794 at model 762\n",
      "Best F1 score 0.3028391167192429 at threshold 0.9  model 762\n"
     ]
    },
    {
     "name": "stderr",
     "output_type": "stream",
     "text": [
      "\r",
      " 76%|███████▋  | 763/1000 [59:03<15:56,  4.04s/it]"
     ]
    },
    {
     "name": "stdout",
     "output_type": "stream",
     "text": [
      "Roc score 0.9332662932240042 at model 763\n",
      "Best F1 score 0.15376782077393075 at threshold 0.9  model 763\n"
     ]
    },
    {
     "name": "stderr",
     "output_type": "stream",
     "text": [
      "\r",
      " 76%|███████▋  | 764/1000 [59:07<15:46,  4.01s/it]"
     ]
    },
    {
     "name": "stdout",
     "output_type": "stream",
     "text": [
      "Roc score 0.9303269051748597 at model 764\n",
      "Best F1 score 0.22390317700453857 at threshold 0.9  model 764\n"
     ]
    },
    {
     "name": "stderr",
     "output_type": "stream",
     "text": [
      "\r",
      " 76%|███████▋  | 765/1000 [59:11<15:47,  4.03s/it]"
     ]
    },
    {
     "name": "stdout",
     "output_type": "stream",
     "text": [
      "Roc score 0.9621596975530564 at model 765\n",
      "Best F1 score 0.5051359516616314 at threshold 0.8  model 765\n"
     ]
    },
    {
     "name": "stderr",
     "output_type": "stream",
     "text": [
      "\r",
      " 77%|███████▋  | 766/1000 [59:16<16:43,  4.29s/it]"
     ]
    },
    {
     "name": "stdout",
     "output_type": "stream",
     "text": [
      "Roc score 0.9107097836896759 at model 766\n",
      "Best F1 score 0.10650887573964497 at threshold 0.9  model 766\n"
     ]
    },
    {
     "name": "stderr",
     "output_type": "stream",
     "text": [
      "\r",
      " 77%|███████▋  | 767/1000 [59:19<15:28,  3.99s/it]"
     ]
    },
    {
     "name": "stdout",
     "output_type": "stream",
     "text": [
      "Roc score 0.898656374770187 at model 767\n",
      "Best F1 score 0.1792452830188679 at threshold 0.9  model 767\n"
     ]
    },
    {
     "name": "stderr",
     "output_type": "stream",
     "text": [
      "\r",
      " 77%|███████▋  | 768/1000 [59:22<14:33,  3.77s/it]"
     ]
    },
    {
     "name": "stdout",
     "output_type": "stream",
     "text": [
      "Roc score 0.945609211801256 at model 768\n",
      "Best F1 score 0.173120728929385 at threshold 0.9  model 768\n"
     ]
    },
    {
     "name": "stderr",
     "output_type": "stream",
     "text": [
      "\r",
      " 77%|███████▋  | 769/1000 [59:25<13:47,  3.58s/it]"
     ]
    },
    {
     "name": "stdout",
     "output_type": "stream",
     "text": [
      "Roc score 0.9544071114606011 at model 769\n",
      "Best F1 score 0.6419624217118999 at threshold 0.8  model 769\n"
     ]
    },
    {
     "name": "stderr",
     "output_type": "stream",
     "text": [
      "\r",
      " 77%|███████▋  | 770/1000 [59:32<16:58,  4.43s/it]"
     ]
    },
    {
     "name": "stdout",
     "output_type": "stream",
     "text": [
      "Roc score 0.9562232399116104 at model 770\n",
      "Best F1 score 0.30800000000000005 at threshold 0.8  model 770\n"
     ]
    },
    {
     "name": "stderr",
     "output_type": "stream",
     "text": [
      "\r",
      " 77%|███████▋  | 771/1000 [59:35<16:09,  4.23s/it]"
     ]
    },
    {
     "name": "stdout",
     "output_type": "stream",
     "text": [
      "Roc score 0.9640624391600612 at model 771\n",
      "Best F1 score 0.18053596614950632 at threshold 0.8  model 771\n"
     ]
    },
    {
     "name": "stderr",
     "output_type": "stream",
     "text": [
      "\r",
      " 77%|███████▋  | 772/1000 [59:39<15:06,  3.98s/it]"
     ]
    },
    {
     "name": "stdout",
     "output_type": "stream",
     "text": [
      "Roc score 0.9447495246716204 at model 772\n",
      "Best F1 score 0.2761409589832467 at threshold 0.9  model 772\n"
     ]
    },
    {
     "name": "stderr",
     "output_type": "stream",
     "text": [
      "\r",
      " 77%|███████▋  | 773/1000 [59:44<16:05,  4.25s/it]"
     ]
    },
    {
     "name": "stdout",
     "output_type": "stream",
     "text": [
      "Roc score 0.9112815802935323 at model 773\n",
      "Best F1 score 0.16326530612244897 at threshold 0.9  model 773\n"
     ]
    },
    {
     "name": "stderr",
     "output_type": "stream",
     "text": [
      "\r",
      " 77%|███████▋  | 774/1000 [59:47<14:46,  3.92s/it]"
     ]
    },
    {
     "name": "stdout",
     "output_type": "stream",
     "text": [
      "Roc score 0.9383055867456338 at model 774\n",
      "Best F1 score 0.6196202531645569 at threshold 0.8  model 774\n"
     ]
    },
    {
     "name": "stderr",
     "output_type": "stream",
     "text": [
      "\r",
      " 78%|███████▊  | 775/1000 [59:55<19:46,  5.27s/it]"
     ]
    },
    {
     "name": "stdout",
     "output_type": "stream",
     "text": [
      "Roc score 0.9500833799092323 at model 775\n",
      "Best F1 score 0.196969696969697 at threshold 0.9  model 775\n"
     ]
    },
    {
     "name": "stderr",
     "output_type": "stream",
     "text": [
      "\r",
      " 78%|███████▊  | 776/1000 [59:59<17:53,  4.79s/it]"
     ]
    },
    {
     "name": "stdout",
     "output_type": "stream",
     "text": [
      "Roc score 0.9515718411554877 at model 776\n",
      "Best F1 score 0.24561403508771928 at threshold 0.9  model 776\n"
     ]
    },
    {
     "name": "stderr",
     "output_type": "stream",
     "text": [
      "\r",
      " 78%|███████▊  | 777/1000 [1:00:03<16:40,  4.49s/it]"
     ]
    },
    {
     "name": "stdout",
     "output_type": "stream",
     "text": [
      "Roc score 0.9462396291004564 at model 777\n",
      "Best F1 score 0.1218274111675127 at threshold 0.9  model 777\n"
     ]
    },
    {
     "name": "stderr",
     "output_type": "stream",
     "text": [
      "\r",
      " 78%|███████▊  | 778/1000 [1:00:06<15:07,  4.09s/it]"
     ]
    },
    {
     "name": "stdout",
     "output_type": "stream",
     "text": [
      "Roc score 0.9260306893013273 at model 778\n",
      "Best F1 score 0.09345794392523366 at threshold 0.9  model 778\n"
     ]
    },
    {
     "name": "stderr",
     "output_type": "stream",
     "text": [
      "\r",
      " 78%|███████▊  | 779/1000 [1:00:09<14:00,  3.80s/it]"
     ]
    },
    {
     "name": "stdout",
     "output_type": "stream",
     "text": [
      "Roc score 0.952068374452228 at model 779\n",
      "Best F1 score 0.2719546742209632 at threshold 0.9  model 779\n"
     ]
    },
    {
     "name": "stderr",
     "output_type": "stream",
     "text": [
      "\r",
      " 78%|███████▊  | 780/1000 [1:00:12<13:27,  3.67s/it]"
     ]
    },
    {
     "name": "stdout",
     "output_type": "stream",
     "text": [
      "Roc score 0.9248344086265243 at model 780\n",
      "Best F1 score 0.09125475285171102 at threshold 0.9  model 780\n"
     ]
    },
    {
     "name": "stderr",
     "output_type": "stream",
     "text": [
      "\r",
      " 78%|███████▊  | 781/1000 [1:00:16<12:55,  3.54s/it]"
     ]
    },
    {
     "name": "stdout",
     "output_type": "stream",
     "text": [
      "Roc score 0.9395467623186128 at model 781\n",
      "Best F1 score 0.18 at threshold 0.9  model 781\n"
     ]
    },
    {
     "name": "stderr",
     "output_type": "stream",
     "text": [
      "\r",
      " 78%|███████▊  | 782/1000 [1:00:19<12:26,  3.42s/it]"
     ]
    },
    {
     "name": "stdout",
     "output_type": "stream",
     "text": [
      "Roc score 0.9223297960689395 at model 782\n",
      "Best F1 score 0.09876543209876543 at threshold 0.9  model 782\n"
     ]
    },
    {
     "name": "stderr",
     "output_type": "stream",
     "text": [
      "\r",
      " 78%|███████▊  | 783/1000 [1:00:22<12:11,  3.37s/it]"
     ]
    },
    {
     "name": "stdout",
     "output_type": "stream",
     "text": [
      "Roc score 0.9711522573990717 at model 783\n",
      "Best F1 score 0.2509960159362549 at threshold 0.9  model 783\n"
     ]
    },
    {
     "name": "stderr",
     "output_type": "stream",
     "text": [
      "\r",
      " 78%|███████▊  | 784/1000 [1:00:25<11:59,  3.33s/it]"
     ]
    },
    {
     "name": "stdout",
     "output_type": "stream",
     "text": [
      "Roc score 0.9432097320822266 at model 784\n",
      "Best F1 score 0.28540065861690456 at threshold 0.9  model 784\n"
     ]
    },
    {
     "name": "stderr",
     "output_type": "stream",
     "text": [
      "\r",
      " 78%|███████▊  | 785/1000 [1:00:29<12:36,  3.52s/it]"
     ]
    },
    {
     "name": "stdout",
     "output_type": "stream",
     "text": [
      "Roc score 0.9558924632717476 at model 785\n",
      "Best F1 score 0.4748603351955307 at threshold 0.9  model 785\n"
     ]
    },
    {
     "name": "stderr",
     "output_type": "stream",
     "text": [
      "\r",
      " 79%|███████▊  | 786/1000 [1:00:34<14:06,  3.96s/it]"
     ]
    },
    {
     "name": "stdout",
     "output_type": "stream",
     "text": [
      "Roc score 0.9216378783935292 at model 786\n",
      "Best F1 score 0.0909090909090909 at threshold 0.9  model 786\n"
     ]
    },
    {
     "name": "stderr",
     "output_type": "stream",
     "text": [
      "\r",
      " 79%|███████▊  | 787/1000 [1:00:37<13:11,  3.72s/it]"
     ]
    },
    {
     "name": "stdout",
     "output_type": "stream",
     "text": [
      "Roc score 0.945230500427851 at model 787\n",
      "Best F1 score 0.28205128205128205 at threshold 0.9  model 787\n"
     ]
    },
    {
     "name": "stderr",
     "output_type": "stream",
     "text": [
      "\r",
      " 79%|███████▉  | 788/1000 [1:00:41<12:37,  3.57s/it]"
     ]
    },
    {
     "name": "stdout",
     "output_type": "stream",
     "text": [
      "Roc score 0.9507398765944016 at model 788\n",
      "Best F1 score 0.3794212218649518 at threshold 0.9  model 788\n"
     ]
    },
    {
     "name": "stderr",
     "output_type": "stream",
     "text": [
      "\r",
      " 79%|███████▉  | 789/1000 [1:00:45<13:44,  3.91s/it]"
     ]
    },
    {
     "name": "stdout",
     "output_type": "stream",
     "text": [
      "Roc score 0.950670509417726 at model 789\n",
      "Best F1 score 0.272 at threshold 0.9  model 789\n"
     ]
    },
    {
     "name": "stderr",
     "output_type": "stream",
     "text": [
      "\r",
      " 79%|███████▉  | 790/1000 [1:00:49<13:00,  3.72s/it]"
     ]
    },
    {
     "name": "stdout",
     "output_type": "stream",
     "text": [
      "Roc score 0.9453507293998469 at model 790\n",
      "Best F1 score 0.49657353716394315 at threshold 0.8  model 790\n"
     ]
    },
    {
     "name": "stderr",
     "output_type": "stream",
     "text": [
      "\r",
      " 79%|███████▉  | 791/1000 [1:00:54<14:53,  4.28s/it]"
     ]
    },
    {
     "name": "stdout",
     "output_type": "stream",
     "text": [
      "Roc score 0.9492517269577933 at model 791\n",
      "Best F1 score 0.33587786259541985 at threshold 0.9  model 791\n"
     ]
    },
    {
     "name": "stderr",
     "output_type": "stream",
     "text": [
      "\r",
      " 79%|███████▉  | 792/1000 [1:00:58<14:10,  4.09s/it]"
     ]
    },
    {
     "name": "stdout",
     "output_type": "stream",
     "text": [
      "Roc score 0.9487635434731003 at model 792\n",
      "Best F1 score 0.39183673469387753 at threshold 0.9  model 792\n"
     ]
    },
    {
     "name": "stderr",
     "output_type": "stream",
     "text": [
      "\r",
      " 79%|███████▉  | 793/1000 [1:01:01<13:07,  3.81s/it]"
     ]
    },
    {
     "name": "stdout",
     "output_type": "stream",
     "text": [
      "Roc score 0.9487376864471194 at model 793\n",
      "Best F1 score 0.4894285890402515 at threshold 0.8  model 793\n"
     ]
    },
    {
     "name": "stderr",
     "output_type": "stream",
     "text": [
      "\r",
      " 79%|███████▉  | 794/1000 [1:01:35<43:58, 12.81s/it]"
     ]
    },
    {
     "name": "stdout",
     "output_type": "stream",
     "text": [
      "Roc score 0.9556046266034705 at model 794\n",
      "Best F1 score 0.2521739130434783 at threshold 0.9  model 794\n"
     ]
    },
    {
     "name": "stderr",
     "output_type": "stream",
     "text": [
      "\r",
      " 80%|███████▉  | 795/1000 [1:01:38<33:39,  9.85s/it]"
     ]
    },
    {
     "name": "stdout",
     "output_type": "stream",
     "text": [
      "Roc score 0.9713808242644205 at model 795\n",
      "Best F1 score 0.2016348773841962 at threshold 0.9  model 795\n"
     ]
    },
    {
     "name": "stderr",
     "output_type": "stream",
     "text": [
      "\r",
      " 80%|███████▉  | 796/1000 [1:01:41<26:25,  7.77s/it]"
     ]
    },
    {
     "name": "stdout",
     "output_type": "stream",
     "text": [
      "Roc score 0.9514864571653593 at model 796\n",
      "Best F1 score 0.4836423118865867 at threshold 0.8  model 796\n"
     ]
    },
    {
     "name": "stderr",
     "output_type": "stream",
     "text": [
      "\r",
      " 80%|███████▉  | 797/1000 [1:02:03<41:36, 12.30s/it]"
     ]
    },
    {
     "name": "stdout",
     "output_type": "stream",
     "text": [
      "Roc score 0.9595636596825438 at model 797\n",
      "Best F1 score 0.06294034758102396 at threshold 0.9  model 797\n"
     ]
    },
    {
     "name": "stderr",
     "output_type": "stream",
     "text": [
      "\r",
      " 80%|███████▉  | 798/1000 [1:02:07<32:16,  9.58s/it]"
     ]
    },
    {
     "name": "stdout",
     "output_type": "stream",
     "text": [
      "Roc score 0.9501658699241554 at model 798\n",
      "Best F1 score 0.26850338547746905 at threshold 0.9  model 798\n"
     ]
    },
    {
     "name": "stderr",
     "output_type": "stream",
     "text": [
      "\r",
      " 80%|███████▉  | 799/1000 [1:02:15<30:55,  9.23s/it]"
     ]
    },
    {
     "name": "stdout",
     "output_type": "stream",
     "text": [
      "Roc score 0.9472059757377365 at model 799\n",
      "Best F1 score 0.20192627034207902 at threshold 0.9  model 799\n"
     ]
    },
    {
     "name": "stderr",
     "output_type": "stream",
     "text": [
      "\r",
      " 80%|████████  | 800/1000 [1:02:21<27:12,  8.16s/it]"
     ]
    },
    {
     "name": "stdout",
     "output_type": "stream",
     "text": [
      "Roc score 0.945042247316995 at model 800\n",
      "Best F1 score 0.09461235216819974 at threshold 0.9  model 800\n"
     ]
    },
    {
     "name": "stderr",
     "output_type": "stream",
     "text": [
      "\r",
      " 80%|████████  | 801/1000 [1:02:24<22:03,  6.65s/it]"
     ]
    },
    {
     "name": "stdout",
     "output_type": "stream",
     "text": [
      "Roc score 0.9598992808738763 at model 801\n",
      "Best F1 score 0.0801644398766701 at threshold 0.9  model 801\n"
     ]
    },
    {
     "name": "stderr",
     "output_type": "stream",
     "text": [
      "\r",
      " 80%|████████  | 802/1000 [1:02:27<18:09,  5.50s/it]"
     ]
    },
    {
     "name": "stdout",
     "output_type": "stream",
     "text": [
      "Roc score 0.9834751745517395 at model 802\n",
      "Best F1 score 0.1646586345381526 at threshold 0.9  model 802\n"
     ]
    },
    {
     "name": "stderr",
     "output_type": "stream",
     "text": [
      "\r",
      " 80%|████████  | 803/1000 [1:02:30<15:26,  4.70s/it]"
     ]
    },
    {
     "name": "stdout",
     "output_type": "stream",
     "text": [
      "Roc score 0.9575593268738752 at model 803\n",
      "Best F1 score 0.17224880382775118 at threshold 0.9  model 803\n"
     ]
    },
    {
     "name": "stderr",
     "output_type": "stream",
     "text": [
      "\r",
      " 80%|████████  | 804/1000 [1:02:33<13:49,  4.23s/it]"
     ]
    },
    {
     "name": "stdout",
     "output_type": "stream",
     "text": [
      "Roc score 0.9386088511498483 at model 804\n",
      "Best F1 score 0.3770226537216828 at threshold 0.9  model 804\n"
     ]
    },
    {
     "name": "stderr",
     "output_type": "stream",
     "text": [
      "\r",
      " 80%|████████  | 805/1000 [1:02:38<14:47,  4.55s/it]"
     ]
    },
    {
     "name": "stdout",
     "output_type": "stream",
     "text": [
      "Roc score 0.9604415303485947 at model 805\n",
      "Best F1 score 0.2929577464788733 at threshold 0.9  model 805\n"
     ]
    },
    {
     "name": "stderr",
     "output_type": "stream",
     "text": [
      "\r",
      " 81%|████████  | 806/1000 [1:02:41<13:28,  4.17s/it]"
     ]
    },
    {
     "name": "stdout",
     "output_type": "stream",
     "text": [
      "Roc score 0.9686740706384726 at model 806\n",
      "Best F1 score 0.3960880195599022 at threshold 0.9  model 806\n"
     ]
    },
    {
     "name": "stderr",
     "output_type": "stream",
     "text": [
      "\r",
      " 81%|████████  | 807/1000 [1:02:45<12:43,  3.96s/it]"
     ]
    },
    {
     "name": "stdout",
     "output_type": "stream",
     "text": [
      "Roc score 0.9602827374777909 at model 807\n",
      "Best F1 score 0.3085714285714286 at threshold 0.9  model 807\n"
     ]
    },
    {
     "name": "stderr",
     "output_type": "stream",
     "text": [
      "\r",
      " 81%|████████  | 808/1000 [1:02:48<12:27,  3.90s/it]"
     ]
    },
    {
     "name": "stdout",
     "output_type": "stream",
     "text": [
      "Roc score 0.9754868542673995 at model 808\n",
      "Best F1 score 0.13080895008605853 at threshold 0.9  model 808\n"
     ]
    },
    {
     "name": "stderr",
     "output_type": "stream",
     "text": [
      "\r",
      " 81%|████████  | 809/1000 [1:02:51<11:29,  3.61s/it]"
     ]
    },
    {
     "name": "stdout",
     "output_type": "stream",
     "text": [
      "Roc score 0.9787089959271197 at model 809\n",
      "Best F1 score 0.10993657505285412 at threshold 0.8  model 809\n"
     ]
    },
    {
     "name": "stderr",
     "output_type": "stream",
     "text": [
      "\r",
      " 81%|████████  | 810/1000 [1:02:54<10:40,  3.37s/it]"
     ]
    },
    {
     "name": "stdout",
     "output_type": "stream",
     "text": [
      "Roc score 0.9264914950492075 at model 810\n",
      "Best F1 score 0.2786069651741293 at threshold 0.9  model 810\n"
     ]
    },
    {
     "name": "stderr",
     "output_type": "stream",
     "text": [
      "\r",
      " 81%|████████  | 811/1000 [1:02:57<10:22,  3.29s/it]"
     ]
    },
    {
     "name": "stdout",
     "output_type": "stream",
     "text": [
      "Roc score 0.8727047691253312 at model 811\n",
      "Best F1 score 0.05673758865248227 at threshold 0.9  model 811\n"
     ]
    },
    {
     "name": "stderr",
     "output_type": "stream",
     "text": [
      "\r",
      " 81%|████████  | 812/1000 [1:03:00<10:09,  3.24s/it]"
     ]
    },
    {
     "name": "stdout",
     "output_type": "stream",
     "text": [
      "Roc score 0.9649073916354381 at model 812\n",
      "Best F1 score 0.4017725258493353 at threshold 0.9  model 812\n"
     ]
    },
    {
     "name": "stderr",
     "output_type": "stream",
     "text": [
      "\r",
      " 81%|████████▏ | 813/1000 [1:03:04<10:30,  3.37s/it]"
     ]
    },
    {
     "name": "stdout",
     "output_type": "stream",
     "text": [
      "Roc score 0.9012701204803888 at model 813\n",
      "Best F1 score 0.07792207792207792 at threshold 0.9  model 813\n"
     ]
    },
    {
     "name": "stderr",
     "output_type": "stream",
     "text": [
      "\r",
      " 81%|████████▏ | 814/1000 [1:03:07<10:19,  3.33s/it]"
     ]
    },
    {
     "name": "stdout",
     "output_type": "stream",
     "text": [
      "Roc score 0.9500941090657523 at model 814\n",
      "Best F1 score 0.22073578595317725 at threshold 0.9  model 814\n"
     ]
    },
    {
     "name": "stderr",
     "output_type": "stream",
     "text": [
      "\r",
      " 82%|████████▏ | 815/1000 [1:03:11<10:45,  3.49s/it]"
     ]
    },
    {
     "name": "stdout",
     "output_type": "stream",
     "text": [
      "Roc score 0.9264328125252659 at model 815\n",
      "Best F1 score 0.0851063829787234 at threshold 0.9  model 815\n"
     ]
    },
    {
     "name": "stderr",
     "output_type": "stream",
     "text": [
      "\r",
      " 82%|████████▏ | 816/1000 [1:03:14<10:16,  3.35s/it]"
     ]
    },
    {
     "name": "stdout",
     "output_type": "stream",
     "text": [
      "Roc score 0.9720246763123492 at model 816\n",
      "Best F1 score 0.5762426284751475 at threshold 0.9  model 816\n"
     ]
    },
    {
     "name": "stderr",
     "output_type": "stream",
     "text": [
      "\r",
      " 82%|████████▏ | 817/1000 [1:03:18<10:56,  3.59s/it]"
     ]
    },
    {
     "name": "stdout",
     "output_type": "stream",
     "text": [
      "Roc score 0.9364399013292666 at model 817\n",
      "Best F1 score 0.18225419664268583 at threshold 0.9  model 817\n"
     ]
    },
    {
     "name": "stderr",
     "output_type": "stream",
     "text": [
      "\r",
      " 82%|████████▏ | 818/1000 [1:03:22<10:38,  3.51s/it]"
     ]
    },
    {
     "name": "stdout",
     "output_type": "stream",
     "text": [
      "Roc score 0.950908607660547 at model 818\n",
      "Best F1 score 0.24096385542168675 at threshold 0.9  model 818\n"
     ]
    },
    {
     "name": "stderr",
     "output_type": "stream",
     "text": [
      "\r",
      " 82%|████████▏ | 819/1000 [1:03:25<10:16,  3.40s/it]"
     ]
    },
    {
     "name": "stdout",
     "output_type": "stream",
     "text": [
      "Roc score 0.9441297643265794 at model 819\n",
      "Best F1 score 0.3838427947598253 at threshold 0.9  model 819\n"
     ]
    },
    {
     "name": "stderr",
     "output_type": "stream",
     "text": [
      "\r",
      " 82%|████████▏ | 820/1000 [1:03:35<16:22,  5.46s/it]"
     ]
    },
    {
     "name": "stdout",
     "output_type": "stream",
     "text": [
      "Roc score 0.9696890314725344 at model 820\n",
      "Best F1 score 0.2689556509298998 at threshold 0.9  model 820\n"
     ]
    },
    {
     "name": "stderr",
     "output_type": "stream",
     "text": [
      "\r",
      " 82%|████████▏ | 821/1000 [1:03:38<14:23,  4.82s/it]"
     ]
    },
    {
     "name": "stdout",
     "output_type": "stream",
     "text": [
      "Roc score 0.9758227068829292 at model 821\n",
      "Best F1 score 0.16326530612244897 at threshold 0.9  model 821\n"
     ]
    },
    {
     "name": "stderr",
     "output_type": "stream",
     "text": [
      "\r",
      " 82%|████████▏ | 822/1000 [1:03:41<12:31,  4.22s/it]"
     ]
    },
    {
     "name": "stdout",
     "output_type": "stream",
     "text": [
      "Roc score 0.828088333828775 at model 822\n",
      "Best F1 score 0.029154518950437316 at threshold 0.8  model 822\n"
     ]
    },
    {
     "name": "stderr",
     "output_type": "stream",
     "text": [
      "\r",
      " 82%|████████▏ | 823/1000 [1:03:45<11:34,  3.92s/it]"
     ]
    },
    {
     "name": "stdout",
     "output_type": "stream",
     "text": [
      "Roc score 0.8781634534100029 at model 823\n",
      "Best F1 score 0.04692082111436951 at threshold 0.8  model 823\n"
     ]
    },
    {
     "name": "stderr",
     "output_type": "stream",
     "text": [
      "\r",
      " 82%|████████▏ | 824/1000 [1:03:48<11:04,  3.78s/it]"
     ]
    },
    {
     "name": "stdout",
     "output_type": "stream",
     "text": [
      "Roc score 0.9467221484371555 at model 824\n",
      "Best F1 score 0.13297150610583447 at threshold 0.9  model 824\n"
     ]
    },
    {
     "name": "stderr",
     "output_type": "stream",
     "text": [
      "\r",
      " 82%|████████▎ | 825/1000 [1:03:51<10:27,  3.59s/it]"
     ]
    },
    {
     "name": "stdout",
     "output_type": "stream",
     "text": [
      "Roc score 0.9719886471701135 at model 825\n",
      "Best F1 score 0.20809248554913293 at threshold 0.9  model 825\n"
     ]
    },
    {
     "name": "stderr",
     "output_type": "stream",
     "text": [
      "\r",
      " 83%|████████▎ | 826/1000 [1:03:54<09:43,  3.35s/it]"
     ]
    },
    {
     "name": "stdout",
     "output_type": "stream",
     "text": [
      "Roc score 0.9595560077449649 at model 826\n",
      "Best F1 score 0.13398692810457516 at threshold 0.9  model 826\n"
     ]
    },
    {
     "name": "stderr",
     "output_type": "stream",
     "text": [
      "\r",
      " 83%|████████▎ | 827/1000 [1:03:57<09:12,  3.20s/it]"
     ]
    },
    {
     "name": "stdout",
     "output_type": "stream",
     "text": [
      "Roc score 0.9703670831116858 at model 827\n",
      "Best F1 score 0.03935860058309038 at threshold 0.9  model 827\n"
     ]
    },
    {
     "name": "stderr",
     "output_type": "stream",
     "text": [
      "\r",
      " 83%|████████▎ | 828/1000 [1:04:00<08:50,  3.09s/it]"
     ]
    },
    {
     "name": "stdout",
     "output_type": "stream",
     "text": [
      "Roc score 0.9458904150643536 at model 828\n",
      "Best F1 score 0.3716814159292035 at threshold 0.9  model 828\n"
     ]
    },
    {
     "name": "stderr",
     "output_type": "stream",
     "text": [
      "\r",
      " 83%|████████▎ | 829/1000 [1:04:03<08:55,  3.13s/it]"
     ]
    },
    {
     "name": "stdout",
     "output_type": "stream",
     "text": [
      "Roc score 0.9742525508767961 at model 829\n",
      "Best F1 score 0.3468208092485549 at threshold 0.9  model 829\n"
     ]
    },
    {
     "name": "stderr",
     "output_type": "stream",
     "text": [
      "\r",
      " 83%|████████▎ | 830/1000 [1:04:06<08:52,  3.13s/it]"
     ]
    },
    {
     "name": "stdout",
     "output_type": "stream",
     "text": [
      "Roc score 0.9557707277879013 at model 830\n",
      "Best F1 score 0.38647342995169076 at threshold 0.9  model 830\n"
     ]
    },
    {
     "name": "stderr",
     "output_type": "stream",
     "text": [
      "\r",
      " 83%|████████▎ | 831/1000 [1:04:09<08:49,  3.13s/it]"
     ]
    },
    {
     "name": "stdout",
     "output_type": "stream",
     "text": [
      "Roc score 0.9773491810854371 at model 831\n",
      "Best F1 score 0.5063515509601182 at threshold 0.8  model 831\n"
     ]
    },
    {
     "name": "stderr",
     "output_type": "stream",
     "text": [
      "\r",
      " 83%|████████▎ | 832/1000 [1:04:16<12:04,  4.31s/it]"
     ]
    },
    {
     "name": "stdout",
     "output_type": "stream",
     "text": [
      "Roc score 0.9471797634175524 at model 832\n",
      "Best F1 score 0.337617823479006 at threshold 0.9  model 832\n"
     ]
    },
    {
     "name": "stderr",
     "output_type": "stream",
     "text": [
      "\r",
      " 83%|████████▎ | 833/1000 [1:04:21<12:43,  4.57s/it]"
     ]
    },
    {
     "name": "stdout",
     "output_type": "stream",
     "text": [
      "Roc score 0.9159504261392868 at model 833\n",
      "Best F1 score 0.3576158940397351 at threshold 0.9  model 833\n"
     ]
    },
    {
     "name": "stderr",
     "output_type": "stream",
     "text": [
      "\r",
      " 83%|████████▎ | 834/1000 [1:04:24<11:25,  4.13s/it]"
     ]
    },
    {
     "name": "stdout",
     "output_type": "stream",
     "text": [
      "Roc score 0.9131857498101206 at model 834\n",
      "Best F1 score 0.10050251256281408 at threshold 0.9  model 834\n"
     ]
    },
    {
     "name": "stderr",
     "output_type": "stream",
     "text": [
      "\r",
      " 84%|████████▎ | 835/1000 [1:04:28<10:31,  3.83s/it]"
     ]
    },
    {
     "name": "stdout",
     "output_type": "stream",
     "text": [
      "Roc score 0.8640901059388343 at model 835\n",
      "Best F1 score 0.15151515151515152 at threshold 0.9  model 835\n"
     ]
    },
    {
     "name": "stderr",
     "output_type": "stream",
     "text": [
      "\r",
      " 84%|████████▎ | 836/1000 [1:04:31<09:49,  3.59s/it]"
     ]
    },
    {
     "name": "stdout",
     "output_type": "stream",
     "text": [
      "Roc score 0.9237783455338568 at model 836\n",
      "Best F1 score 0.2404006677796327 at threshold 0.8  model 836\n"
     ]
    },
    {
     "name": "stderr",
     "output_type": "stream",
     "text": [
      "\r",
      " 84%|████████▎ | 837/1000 [1:04:34<09:42,  3.57s/it]"
     ]
    },
    {
     "name": "stdout",
     "output_type": "stream",
     "text": [
      "Roc score 0.8786865979902794 at model 837\n",
      "Best F1 score 0.07685098406747891 at threshold 0.8  model 837\n"
     ]
    },
    {
     "name": "stderr",
     "output_type": "stream",
     "text": [
      "\r",
      " 84%|████████▍ | 838/1000 [1:04:38<09:32,  3.53s/it]"
     ]
    },
    {
     "name": "stdout",
     "output_type": "stream",
     "text": [
      "Roc score 0.88460367907368 at model 838\n",
      "Best F1 score 0.13613861386138612 at threshold 0.9  model 838\n"
     ]
    },
    {
     "name": "stderr",
     "output_type": "stream",
     "text": [
      "\r",
      " 84%|████████▍ | 839/1000 [1:04:42<09:50,  3.67s/it]"
     ]
    },
    {
     "name": "stdout",
     "output_type": "stream",
     "text": [
      "Roc score 0.9647717614258319 at model 839\n",
      "Best F1 score 0.3443708609271523 at threshold 0.9  model 839\n"
     ]
    },
    {
     "name": "stderr",
     "output_type": "stream",
     "text": [
      "\r",
      " 84%|████████▍ | 840/1000 [1:04:44<09:06,  3.41s/it]"
     ]
    },
    {
     "name": "stdout",
     "output_type": "stream",
     "text": [
      "Roc score 0.8935996459072724 at model 840\n",
      "Best F1 score 0.09574468085106384 at threshold 0.9  model 840\n"
     ]
    },
    {
     "name": "stderr",
     "output_type": "stream",
     "text": [
      "\r",
      " 84%|████████▍ | 841/1000 [1:04:47<08:44,  3.30s/it]"
     ]
    },
    {
     "name": "stdout",
     "output_type": "stream",
     "text": [
      "Roc score 0.9767067611549493 at model 841\n",
      "Best F1 score 0.10221465076660988 at threshold 0.9  model 841\n"
     ]
    },
    {
     "name": "stderr",
     "output_type": "stream",
     "text": [
      "\r",
      " 84%|████████▍ | 842/1000 [1:04:50<08:18,  3.16s/it]"
     ]
    },
    {
     "name": "stdout",
     "output_type": "stream",
     "text": [
      "Roc score 0.951867004242403 at model 842\n",
      "Best F1 score 0.25405405405405407 at threshold 0.9  model 842\n"
     ]
    },
    {
     "name": "stderr",
     "output_type": "stream",
     "text": [
      "\r",
      " 84%|████████▍ | 843/1000 [1:04:53<08:14,  3.15s/it]"
     ]
    },
    {
     "name": "stdout",
     "output_type": "stream",
     "text": [
      "Roc score 0.9223385681191124 at model 843\n",
      "Best F1 score 0.15775635407537247 at threshold 0.8  model 843\n"
     ]
    },
    {
     "name": "stderr",
     "output_type": "stream",
     "text": [
      "\r",
      " 84%|████████▍ | 844/1000 [1:04:57<08:25,  3.24s/it]"
     ]
    },
    {
     "name": "stdout",
     "output_type": "stream",
     "text": [
      "Roc score 0.9527647714186974 at model 844\n",
      "Best F1 score 0.21830209481808158 at threshold 0.9  model 844\n"
     ]
    },
    {
     "name": "stderr",
     "output_type": "stream",
     "text": [
      "\r",
      " 84%|████████▍ | 845/1000 [1:05:00<08:31,  3.30s/it]"
     ]
    },
    {
     "name": "stdout",
     "output_type": "stream",
     "text": [
      "Roc score 0.9458111382514292 at model 845\n",
      "Best F1 score 0.16077953714981733 at threshold 0.9  model 845\n"
     ]
    },
    {
     "name": "stderr",
     "output_type": "stream",
     "text": [
      "\r",
      " 85%|████████▍ | 846/1000 [1:05:04<08:33,  3.34s/it]"
     ]
    },
    {
     "name": "stdout",
     "output_type": "stream",
     "text": [
      "Roc score 0.971757481165376 at model 846\n",
      "Best F1 score 0.101010101010101 at threshold 0.9  model 846\n"
     ]
    },
    {
     "name": "stderr",
     "output_type": "stream",
     "text": [
      "\r",
      " 85%|████████▍ | 847/1000 [1:05:06<08:07,  3.18s/it]"
     ]
    },
    {
     "name": "stdout",
     "output_type": "stream",
     "text": [
      "Roc score 0.9206046776049087 at model 847\n",
      "Best F1 score 0.1951219512195122 at threshold 0.9  model 847\n"
     ]
    },
    {
     "name": "stderr",
     "output_type": "stream",
     "text": [
      "\r",
      " 85%|████████▍ | 848/1000 [1:05:10<08:00,  3.16s/it]"
     ]
    },
    {
     "name": "stdout",
     "output_type": "stream",
     "text": [
      "Roc score 0.920977847089234 at model 848\n",
      "Best F1 score 0.4335766423357664 at threshold 0.9  model 848\n"
     ]
    },
    {
     "name": "stderr",
     "output_type": "stream",
     "text": [
      "\r",
      " 85%|████████▍ | 849/1000 [1:05:15<09:23,  3.73s/it]"
     ]
    },
    {
     "name": "stdout",
     "output_type": "stream",
     "text": [
      "Roc score 0.9622780649937432 at model 849\n",
      "Best F1 score 0.17142857142857143 at threshold 0.9  model 849\n"
     ]
    },
    {
     "name": "stderr",
     "output_type": "stream",
     "text": [
      "\r",
      " 85%|████████▌ | 850/1000 [1:05:18<08:52,  3.55s/it]"
     ]
    },
    {
     "name": "stdout",
     "output_type": "stream",
     "text": [
      "Roc score 0.8843143621683406 at model 850\n",
      "Best F1 score 0.016806722689075633 at threshold 0.9  model 850\n"
     ]
    },
    {
     "name": "stderr",
     "output_type": "stream",
     "text": [
      "\r",
      " 85%|████████▌ | 851/1000 [1:05:21<08:30,  3.43s/it]"
     ]
    },
    {
     "name": "stdout",
     "output_type": "stream",
     "text": [
      "Roc score 0.9161508266538138 at model 851\n",
      "Best F1 score 0.27203389830508473 at threshold 0.8  model 851\n"
     ]
    },
    {
     "name": "stderr",
     "output_type": "stream",
     "text": [
      "\r",
      " 85%|████████▌ | 852/1000 [1:05:26<09:21,  3.80s/it]"
     ]
    },
    {
     "name": "stdout",
     "output_type": "stream",
     "text": [
      "Roc score 0.9218772784398637 at model 852\n",
      "Best F1 score 0.14735945485519591 at threshold 0.9  model 852\n"
     ]
    },
    {
     "name": "stderr",
     "output_type": "stream",
     "text": [
      "\r",
      " 85%|████████▌ | 853/1000 [1:05:29<09:20,  3.81s/it]"
     ]
    },
    {
     "name": "stdout",
     "output_type": "stream",
     "text": [
      "Roc score 0.9658075678053382 at model 853\n",
      "Best F1 score 0.15609756097560976 at threshold 0.9  model 853\n"
     ]
    },
    {
     "name": "stderr",
     "output_type": "stream",
     "text": [
      "\r",
      " 85%|████████▌ | 854/1000 [1:05:32<08:41,  3.57s/it]"
     ]
    },
    {
     "name": "stdout",
     "output_type": "stream",
     "text": [
      "Roc score 0.9490341039497943 at model 854\n",
      "Best F1 score 0.1 at threshold 0.9  model 854\n"
     ]
    },
    {
     "name": "stderr",
     "output_type": "stream",
     "text": [
      "\r",
      " 86%|████████▌ | 855/1000 [1:05:35<08:05,  3.35s/it]"
     ]
    },
    {
     "name": "stdout",
     "output_type": "stream",
     "text": [
      "Roc score 0.9761119627193914 at model 855\n",
      "Best F1 score 0.1775147928994083 at threshold 0.9  model 855\n"
     ]
    },
    {
     "name": "stderr",
     "output_type": "stream",
     "text": [
      "\r",
      " 86%|████████▌ | 856/1000 [1:05:38<07:47,  3.25s/it]"
     ]
    },
    {
     "name": "stdout",
     "output_type": "stream",
     "text": [
      "Roc score 0.9533557695921026 at model 856\n",
      "Best F1 score 0.23369565217391305 at threshold 0.9  model 856\n"
     ]
    },
    {
     "name": "stderr",
     "output_type": "stream",
     "text": [
      "\r",
      " 86%|████████▌ | 857/1000 [1:05:42<07:52,  3.30s/it]"
     ]
    },
    {
     "name": "stdout",
     "output_type": "stream",
     "text": [
      "Roc score 0.9803965513314928 at model 857\n",
      "Best F1 score 0.455012853470437 at threshold 0.9  model 857\n"
     ]
    },
    {
     "name": "stderr",
     "output_type": "stream",
     "text": [
      "\r",
      " 86%|████████▌ | 858/1000 [1:05:45<08:03,  3.40s/it]"
     ]
    },
    {
     "name": "stdout",
     "output_type": "stream",
     "text": [
      "Roc score 0.9532125696492133 at model 858\n",
      "Best F1 score 0.20304568527918782 at threshold 0.9  model 858\n"
     ]
    },
    {
     "name": "stderr",
     "output_type": "stream",
     "text": [
      "\r",
      " 86%|████████▌ | 859/1000 [1:05:48<07:48,  3.32s/it]"
     ]
    },
    {
     "name": "stdout",
     "output_type": "stream",
     "text": [
      "Roc score 0.8101314219996715 at model 859\n",
      "Best F1 score 0.034188034188034185 at threshold 0.9  model 859\n"
     ]
    },
    {
     "name": "stderr",
     "output_type": "stream",
     "text": [
      "\r",
      " 86%|████████▌ | 860/1000 [1:05:52<07:33,  3.24s/it]"
     ]
    },
    {
     "name": "stdout",
     "output_type": "stream",
     "text": [
      "Roc score 0.9156245678895085 at model 860\n",
      "Best F1 score 0.15777262180974477 at threshold 0.9  model 860\n"
     ]
    },
    {
     "name": "stderr",
     "output_type": "stream",
     "text": [
      "\r",
      " 86%|████████▌ | 861/1000 [1:05:55<07:25,  3.21s/it]"
     ]
    },
    {
     "name": "stdout",
     "output_type": "stream",
     "text": [
      "Roc score 0.9301860883077906 at model 861\n",
      "Best F1 score 0.17814892136395266 at threshold 0.9  model 861\n"
     ]
    },
    {
     "name": "stderr",
     "output_type": "stream",
     "text": [
      "\r",
      " 86%|████████▌ | 862/1000 [1:05:58<07:41,  3.34s/it]"
     ]
    },
    {
     "name": "stdout",
     "output_type": "stream",
     "text": [
      "Roc score 0.9348675177977909 at model 862\n",
      "Best F1 score 0.21148036253776437 at threshold 0.9  model 862\n"
     ]
    },
    {
     "name": "stderr",
     "output_type": "stream",
     "text": [
      "\r",
      " 86%|████████▋ | 863/1000 [1:06:02<07:34,  3.32s/it]"
     ]
    },
    {
     "name": "stdout",
     "output_type": "stream",
     "text": [
      "Roc score 0.93486229767248 at model 863\n",
      "Best F1 score 0.2768361581920904 at threshold 0.9  model 863\n"
     ]
    },
    {
     "name": "stderr",
     "output_type": "stream",
     "text": [
      "\r",
      " 86%|████████▋ | 864/1000 [1:06:05<07:36,  3.36s/it]"
     ]
    },
    {
     "name": "stdout",
     "output_type": "stream",
     "text": [
      "Roc score 0.9540017628821974 at model 864\n",
      "Best F1 score 0.10840108401084012 at threshold 0.9  model 864\n"
     ]
    },
    {
     "name": "stderr",
     "output_type": "stream",
     "text": [
      "\r",
      " 86%|████████▋ | 865/1000 [1:06:08<07:23,  3.29s/it]"
     ]
    },
    {
     "name": "stdout",
     "output_type": "stream",
     "text": [
      "Roc score 0.9567458217116103 at model 865\n",
      "Best F1 score 0.2564102564102564 at threshold 0.9  model 865\n"
     ]
    },
    {
     "name": "stderr",
     "output_type": "stream",
     "text": [
      "\r",
      " 87%|████████▋ | 866/1000 [1:06:11<07:18,  3.27s/it]"
     ]
    },
    {
     "name": "stdout",
     "output_type": "stream",
     "text": [
      "Roc score 0.9577524146758074 at model 866\n",
      "Best F1 score 0.15053763440860216 at threshold 0.9  model 866\n"
     ]
    },
    {
     "name": "stderr",
     "output_type": "stream",
     "text": [
      "\r",
      " 87%|████████▋ | 867/1000 [1:06:14<07:09,  3.23s/it]"
     ]
    },
    {
     "name": "stdout",
     "output_type": "stream",
     "text": [
      "Roc score 0.9445068389985455 at model 867\n",
      "Best F1 score 0.1044546850998464 at threshold 0.8  model 867\n"
     ]
    },
    {
     "name": "stderr",
     "output_type": "stream",
     "text": [
      "\r",
      " 87%|████████▋ | 868/1000 [1:06:18<06:58,  3.17s/it]"
     ]
    },
    {
     "name": "stdout",
     "output_type": "stream",
     "text": [
      "Roc score 0.9580762864148333 at model 868\n",
      "Best F1 score 0.40273037542662116 at threshold 0.9  model 868\n"
     ]
    },
    {
     "name": "stderr",
     "output_type": "stream",
     "text": [
      "\r",
      " 87%|████████▋ | 869/1000 [1:06:22<07:30,  3.44s/it]"
     ]
    },
    {
     "name": "stdout",
     "output_type": "stream",
     "text": [
      "Roc score 0.9603845217170651 at model 869\n",
      "Best F1 score 0.15999999999999998 at threshold 0.9  model 869\n"
     ]
    },
    {
     "name": "stderr",
     "output_type": "stream",
     "text": [
      "\r",
      " 87%|████████▋ | 870/1000 [1:06:25<07:06,  3.28s/it]"
     ]
    },
    {
     "name": "stdout",
     "output_type": "stream",
     "text": [
      "Roc score 0.9843777168284227 at model 870\n",
      "Best F1 score 0.18028169014084508 at threshold 0.9  model 870\n"
     ]
    },
    {
     "name": "stderr",
     "output_type": "stream",
     "text": [
      "\r",
      " 87%|████████▋ | 871/1000 [1:06:28<07:05,  3.30s/it]"
     ]
    },
    {
     "name": "stdout",
     "output_type": "stream",
     "text": [
      "Roc score 0.9664215206663724 at model 871\n",
      "Best F1 score 0.39089184060721066 at threshold 0.9  model 871\n"
     ]
    },
    {
     "name": "stderr",
     "output_type": "stream",
     "text": [
      "\r",
      " 87%|████████▋ | 872/1000 [1:06:31<07:15,  3.40s/it]"
     ]
    },
    {
     "name": "stdout",
     "output_type": "stream",
     "text": [
      "Roc score 0.8425136842438924 at model 872\n",
      "Best F1 score 0.08099688473520249 at threshold 0.8  model 872\n"
     ]
    },
    {
     "name": "stderr",
     "output_type": "stream",
     "text": [
      "\r",
      " 87%|████████▋ | 873/1000 [1:06:35<06:56,  3.28s/it]"
     ]
    },
    {
     "name": "stdout",
     "output_type": "stream",
     "text": [
      "Roc score 0.9828288440292164 at model 873\n",
      "Best F1 score 0.14220183486238533 at threshold 0.9  model 873\n"
     ]
    },
    {
     "name": "stderr",
     "output_type": "stream",
     "text": [
      "\r",
      " 87%|████████▋ | 874/1000 [1:06:37<06:36,  3.15s/it]"
     ]
    },
    {
     "name": "stdout",
     "output_type": "stream",
     "text": [
      "Roc score 0.9625915533952044 at model 874\n",
      "Best F1 score 0.3229357798165138 at threshold 0.8  model 874\n"
     ]
    },
    {
     "name": "stderr",
     "output_type": "stream",
     "text": [
      "\r",
      " 88%|████████▊ | 875/1000 [1:06:41<06:40,  3.20s/it]"
     ]
    },
    {
     "name": "stdout",
     "output_type": "stream",
     "text": [
      "Roc score 0.961753421737777 at model 875\n",
      "Best F1 score 0.26498422712933756 at threshold 0.9  model 875\n"
     ]
    },
    {
     "name": "stderr",
     "output_type": "stream",
     "text": [
      "\r",
      " 88%|████████▊ | 876/1000 [1:06:44<06:38,  3.21s/it]"
     ]
    },
    {
     "name": "stdout",
     "output_type": "stream",
     "text": [
      "Roc score 0.9507212925213776 at model 876\n",
      "Best F1 score 0.3844011142061281 at threshold 0.9  model 876\n"
     ]
    },
    {
     "name": "stderr",
     "output_type": "stream",
     "text": [
      "\r",
      " 88%|████████▊ | 877/1000 [1:06:47<06:40,  3.25s/it]"
     ]
    },
    {
     "name": "stdout",
     "output_type": "stream",
     "text": [
      "Roc score 0.9622082972557695 at model 877\n",
      "Best F1 score 0.1308411214953271 at threshold 0.9  model 877\n"
     ]
    },
    {
     "name": "stderr",
     "output_type": "stream",
     "text": [
      "\r",
      " 88%|████████▊ | 878/1000 [1:06:50<06:28,  3.18s/it]"
     ]
    },
    {
     "name": "stdout",
     "output_type": "stream",
     "text": [
      "Roc score 0.9579391124555788 at model 878\n",
      "Best F1 score 0.2236253617469087 at threshold 0.9  model 878\n"
     ]
    },
    {
     "name": "stderr",
     "output_type": "stream",
     "text": [
      "\r",
      " 88%|████████▊ | 879/1000 [1:06:58<09:09,  4.54s/it]"
     ]
    },
    {
     "name": "stdout",
     "output_type": "stream",
     "text": [
      "Roc score 0.936459683367578 at model 879\n",
      "Best F1 score 0.11180124223602483 at threshold 0.9  model 879\n"
     ]
    },
    {
     "name": "stderr",
     "output_type": "stream",
     "text": [
      "\r",
      " 88%|████████▊ | 880/1000 [1:07:01<08:03,  4.03s/it]"
     ]
    },
    {
     "name": "stdout",
     "output_type": "stream",
     "text": [
      "Roc score 0.9348336651408298 at model 880\n",
      "Best F1 score 0.36869565217391304 at threshold 0.9  model 880\n"
     ]
    },
    {
     "name": "stderr",
     "output_type": "stream",
     "text": [
      "\r",
      " 88%|████████▊ | 881/1000 [1:07:04<07:45,  3.91s/it]"
     ]
    },
    {
     "name": "stdout",
     "output_type": "stream",
     "text": [
      "Roc score 0.9569555996480453 at model 881\n",
      "Best F1 score 0.108843537414966 at threshold 0.9  model 881\n"
     ]
    },
    {
     "name": "stderr",
     "output_type": "stream",
     "text": [
      "\r",
      " 88%|████████▊ | 882/1000 [1:07:07<07:06,  3.62s/it]"
     ]
    },
    {
     "name": "stdout",
     "output_type": "stream",
     "text": [
      "Roc score 0.9365339202719438 at model 882\n",
      "Best F1 score 0.17004504504504503 at threshold 0.9  model 882\n"
     ]
    },
    {
     "name": "stderr",
     "output_type": "stream",
     "text": [
      "\r",
      " 88%|████████▊ | 883/1000 [1:07:11<07:18,  3.75s/it]"
     ]
    },
    {
     "name": "stdout",
     "output_type": "stream",
     "text": [
      "Roc score 0.9090628076766483 at model 883\n",
      "Best F1 score 0.21160409556313992 at threshold 0.9  model 883\n"
     ]
    },
    {
     "name": "stderr",
     "output_type": "stream",
     "text": [
      "\r",
      " 88%|████████▊ | 884/1000 [1:07:15<07:07,  3.69s/it]"
     ]
    },
    {
     "name": "stdout",
     "output_type": "stream",
     "text": [
      "Roc score 0.9602726785011046 at model 884\n",
      "Best F1 score 0.3081395348837209 at threshold 0.9  model 884\n"
     ]
    },
    {
     "name": "stderr",
     "output_type": "stream",
     "text": [
      "\r",
      " 88%|████████▊ | 885/1000 [1:07:18<06:41,  3.49s/it]"
     ]
    },
    {
     "name": "stdout",
     "output_type": "stream",
     "text": [
      "Roc score 0.96941747652384 at model 885\n",
      "Best F1 score 0.15384615384615385 at threshold 0.9  model 885\n"
     ]
    },
    {
     "name": "stderr",
     "output_type": "stream",
     "text": [
      "\r",
      " 89%|████████▊ | 886/1000 [1:07:21<06:25,  3.39s/it]"
     ]
    },
    {
     "name": "stdout",
     "output_type": "stream",
     "text": [
      "Roc score 0.9798688233449078 at model 886\n",
      "Best F1 score 0.16803278688524592 at threshold 0.9  model 886\n"
     ]
    },
    {
     "name": "stderr",
     "output_type": "stream",
     "text": [
      "\r",
      " 89%|████████▊ | 887/1000 [1:07:24<06:13,  3.31s/it]"
     ]
    },
    {
     "name": "stdout",
     "output_type": "stream",
     "text": [
      "Roc score 0.972864642343607 at model 887\n",
      "Best F1 score 0.1186868686868687 at threshold 0.9  model 887\n"
     ]
    },
    {
     "name": "stderr",
     "output_type": "stream",
     "text": [
      "\r",
      " 89%|████████▉ | 888/1000 [1:07:27<06:01,  3.22s/it]"
     ]
    },
    {
     "name": "stdout",
     "output_type": "stream",
     "text": [
      "Roc score 0.9329584621438317 at model 888\n",
      "Best F1 score 0.07849293563579278 at threshold 0.9  model 888\n"
     ]
    },
    {
     "name": "stderr",
     "output_type": "stream",
     "text": [
      "\r",
      " 89%|████████▉ | 889/1000 [1:07:31<06:12,  3.35s/it]"
     ]
    },
    {
     "name": "stdout",
     "output_type": "stream",
     "text": [
      "Roc score 0.9859080641249705 at model 889\n",
      "Best F1 score 0.20705882352941177 at threshold 0.9  model 889\n"
     ]
    },
    {
     "name": "stderr",
     "output_type": "stream",
     "text": [
      "\r",
      " 89%|████████▉ | 890/1000 [1:07:34<06:04,  3.32s/it]"
     ]
    },
    {
     "name": "stdout",
     "output_type": "stream",
     "text": [
      "Roc score 0.9802134511415226 at model 890\n",
      "Best F1 score 0.2825278810408922 at threshold 0.9  model 890\n"
     ]
    },
    {
     "name": "stderr",
     "output_type": "stream",
     "text": [
      "\r",
      " 89%|████████▉ | 891/1000 [1:07:37<05:55,  3.26s/it]"
     ]
    },
    {
     "name": "stdout",
     "output_type": "stream",
     "text": [
      "Roc score 0.9733562325131819 at model 891\n",
      "Best F1 score 0.17810760667903525 at threshold 0.9  model 891\n"
     ]
    },
    {
     "name": "stderr",
     "output_type": "stream",
     "text": [
      "\r",
      " 89%|████████▉ | 892/1000 [1:07:40<05:45,  3.19s/it]"
     ]
    },
    {
     "name": "stdout",
     "output_type": "stream",
     "text": [
      "Roc score 0.9680178905171064 at model 892\n",
      "Best F1 score 0.4084919472913616 at threshold 0.9  model 892\n"
     ]
    },
    {
     "name": "stderr",
     "output_type": "stream",
     "text": [
      "\r",
      " 89%|████████▉ | 893/1000 [1:07:45<06:35,  3.69s/it]"
     ]
    },
    {
     "name": "stdout",
     "output_type": "stream",
     "text": [
      "Roc score 0.9684065252059313 at model 893\n",
      "Best F1 score 0.21818181818181817 at threshold 0.9  model 893\n"
     ]
    },
    {
     "name": "stderr",
     "output_type": "stream",
     "text": [
      "\r",
      " 89%|████████▉ | 894/1000 [1:07:48<06:03,  3.43s/it]"
     ]
    },
    {
     "name": "stdout",
     "output_type": "stream",
     "text": [
      "Roc score 0.9752589408361957 at model 894\n",
      "Best F1 score 0.19843342036553524 at threshold 0.9  model 894\n"
     ]
    },
    {
     "name": "stderr",
     "output_type": "stream",
     "text": [
      "\r",
      " 90%|████████▉ | 895/1000 [1:07:51<05:57,  3.41s/it]"
     ]
    },
    {
     "name": "stdout",
     "output_type": "stream",
     "text": [
      "Roc score 0.9745605856459275 at model 895\n",
      "Best F1 score 0.2173913043478261 at threshold 0.9  model 895\n"
     ]
    },
    {
     "name": "stderr",
     "output_type": "stream",
     "text": [
      "\r",
      " 90%|████████▉ | 896/1000 [1:07:55<05:48,  3.35s/it]"
     ]
    },
    {
     "name": "stdout",
     "output_type": "stream",
     "text": [
      "Roc score 0.9660243369263093 at model 896\n",
      "Best F1 score 0.1925925925925926 at threshold 0.9  model 896\n"
     ]
    },
    {
     "name": "stderr",
     "output_type": "stream",
     "text": [
      "\r",
      " 90%|████████▉ | 897/1000 [1:07:58<05:41,  3.31s/it]"
     ]
    },
    {
     "name": "stdout",
     "output_type": "stream",
     "text": [
      "Roc score 0.9619149273954678 at model 897\n",
      "Best F1 score 0.3235294117647059 at threshold 0.9  model 897\n"
     ]
    },
    {
     "name": "stderr",
     "output_type": "stream",
     "text": [
      "\r",
      " 90%|████████▉ | 898/1000 [1:08:01<05:32,  3.26s/it]"
     ]
    },
    {
     "name": "stdout",
     "output_type": "stream",
     "text": [
      "Roc score 0.9625970317301397 at model 898\n",
      "Best F1 score 0.2902325581395349 at threshold 0.9  model 898\n"
     ]
    },
    {
     "name": "stderr",
     "output_type": "stream",
     "text": [
      "\r",
      " 90%|████████▉ | 899/1000 [1:08:05<05:53,  3.50s/it]"
     ]
    },
    {
     "name": "stdout",
     "output_type": "stream",
     "text": [
      "Roc score 0.9508948273311694 at model 899\n",
      "Best F1 score 0.5262708244340026 at threshold 0.9  model 899\n"
     ]
    },
    {
     "name": "stderr",
     "output_type": "stream",
     "text": [
      "\r",
      " 90%|█████████ | 900/1000 [1:08:12<07:25,  4.45s/it]"
     ]
    },
    {
     "name": "stdout",
     "output_type": "stream",
     "text": [
      "Roc score 0.9703185744731707 at model 900\n",
      "Best F1 score 0.20869565217391303 at threshold 0.9  model 900\n"
     ]
    },
    {
     "name": "stderr",
     "output_type": "stream",
     "text": [
      "\r",
      " 90%|█████████ | 901/1000 [1:08:15<06:32,  3.97s/it]"
     ]
    },
    {
     "name": "stdout",
     "output_type": "stream",
     "text": [
      "Roc score 0.9144099078532346 at model 901\n",
      "Best F1 score 0.17403708987161196 at threshold 0.9  model 901\n"
     ]
    },
    {
     "name": "stderr",
     "output_type": "stream",
     "text": [
      "\r",
      " 90%|█████████ | 902/1000 [1:08:19<06:55,  4.24s/it]"
     ]
    },
    {
     "name": "stdout",
     "output_type": "stream",
     "text": [
      "Roc score 0.9727775795442409 at model 902\n",
      "Best F1 score 0.25882352941176473 at threshold 0.9  model 902\n"
     ]
    },
    {
     "name": "stderr",
     "output_type": "stream",
     "text": [
      "\r",
      " 90%|█████████ | 903/1000 [1:08:23<06:19,  3.91s/it]"
     ]
    },
    {
     "name": "stdout",
     "output_type": "stream",
     "text": [
      "Roc score 0.9449116115023134 at model 903\n",
      "Best F1 score 0.21224489795918366 at threshold 0.9  model 903\n"
     ]
    },
    {
     "name": "stderr",
     "output_type": "stream",
     "text": [
      "\r",
      " 90%|█████████ | 904/1000 [1:08:26<06:05,  3.81s/it]"
     ]
    },
    {
     "name": "stdout",
     "output_type": "stream",
     "text": [
      "Roc score 0.9063795142833786 at model 904\n",
      "Best F1 score 0.09523809523809523 at threshold 0.9  model 904\n"
     ]
    },
    {
     "name": "stderr",
     "output_type": "stream",
     "text": [
      "\r",
      " 90%|█████████ | 905/1000 [1:08:29<05:39,  3.57s/it]"
     ]
    },
    {
     "name": "stdout",
     "output_type": "stream",
     "text": [
      "Roc score 0.9425181857413569 at model 905\n",
      "Best F1 score 0.3142724314272431 at threshold 0.9  model 905\n"
     ]
    },
    {
     "name": "stderr",
     "output_type": "stream",
     "text": [
      "\r",
      " 91%|█████████ | 906/1000 [1:08:34<06:06,  3.90s/it]"
     ]
    },
    {
     "name": "stdout",
     "output_type": "stream",
     "text": [
      "Roc score 0.9685364943776571 at model 906\n",
      "Best F1 score 0.18722659667541558 at threshold 0.9  model 906\n"
     ]
    },
    {
     "name": "stderr",
     "output_type": "stream",
     "text": [
      "\r",
      " 91%|█████████ | 907/1000 [1:08:37<05:46,  3.73s/it]"
     ]
    },
    {
     "name": "stdout",
     "output_type": "stream",
     "text": [
      "Roc score 0.9664692616737949 at model 907\n",
      "Best F1 score 0.09090909090909091 at threshold 0.9  model 907\n"
     ]
    },
    {
     "name": "stderr",
     "output_type": "stream",
     "text": [
      "\r",
      " 91%|█████████ | 908/1000 [1:08:40<05:23,  3.52s/it]"
     ]
    },
    {
     "name": "stdout",
     "output_type": "stream",
     "text": [
      "Roc score 0.902983558995621 at model 908\n",
      "Best F1 score 0.03640500568828214 at threshold 0.8  model 908\n"
     ]
    },
    {
     "name": "stderr",
     "output_type": "stream",
     "text": [
      "\r",
      " 91%|█████████ | 909/1000 [1:08:43<05:09,  3.40s/it]"
     ]
    },
    {
     "name": "stdout",
     "output_type": "stream",
     "text": [
      "Roc score 0.9661091738528093 at model 909\n",
      "Best F1 score 0.4388185654008439 at threshold 0.9  model 909\n"
     ]
    },
    {
     "name": "stderr",
     "output_type": "stream",
     "text": [
      "\r",
      " 91%|█████████ | 910/1000 [1:08:46<04:59,  3.32s/it]"
     ]
    },
    {
     "name": "stdout",
     "output_type": "stream",
     "text": [
      "Roc score 0.9587757910364054 at model 910\n",
      "Best F1 score 0.24484364604125083 at threshold 0.9  model 910\n"
     ]
    },
    {
     "name": "stderr",
     "output_type": "stream",
     "text": [
      "\r",
      " 91%|█████████ | 911/1000 [1:08:50<05:13,  3.52s/it]"
     ]
    },
    {
     "name": "stdout",
     "output_type": "stream",
     "text": [
      "Roc score 0.898329856252599 at model 911\n",
      "Best F1 score 0.1832899681989014 at threshold 0.8  model 911\n"
     ]
    },
    {
     "name": "stderr",
     "output_type": "stream",
     "text": [
      "\r",
      " 91%|█████████ | 912/1000 [1:08:57<06:34,  4.48s/it]"
     ]
    },
    {
     "name": "stdout",
     "output_type": "stream",
     "text": [
      "Roc score 0.961939460807292 at model 912\n",
      "Best F1 score 0.1758241758241758 at threshold 0.9  model 912\n"
     ]
    },
    {
     "name": "stderr",
     "output_type": "stream",
     "text": [
      "\r",
      " 91%|█████████▏| 913/1000 [1:09:01<06:05,  4.20s/it]"
     ]
    },
    {
     "name": "stdout",
     "output_type": "stream",
     "text": [
      "Roc score 0.9335555859356499 at model 913\n",
      "Best F1 score 0.4179755671902268 at threshold 0.8  model 913\n"
     ]
    },
    {
     "name": "stderr",
     "output_type": "stream",
     "text": [
      "\r",
      " 91%|█████████▏| 914/1000 [1:09:06<06:42,  4.68s/it]"
     ]
    },
    {
     "name": "stdout",
     "output_type": "stream",
     "text": [
      "Roc score 0.9345968578512741 at model 914\n",
      "Best F1 score 0.22906793048973148 at threshold 0.9  model 914\n"
     ]
    },
    {
     "name": "stderr",
     "output_type": "stream",
     "text": [
      "\r",
      " 92%|█████████▏| 915/1000 [1:09:11<06:32,  4.61s/it]"
     ]
    },
    {
     "name": "stdout",
     "output_type": "stream",
     "text": [
      "Roc score 0.8383179742702642 at model 915\n",
      "Best F1 score 0.2030785849311369 at threshold 0.8  model 915\n"
     ]
    },
    {
     "name": "stderr",
     "output_type": "stream",
     "text": [
      "\r",
      " 92%|█████████▏| 916/1000 [1:09:22<09:21,  6.68s/it]"
     ]
    },
    {
     "name": "stdout",
     "output_type": "stream",
     "text": [
      "Roc score 0.8836427791954715 at model 916\n",
      "Best F1 score 0.17108251324753973 at threshold 0.8  model 916\n"
     ]
    },
    {
     "name": "stderr",
     "output_type": "stream",
     "text": [
      "\r",
      " 92%|█████████▏| 917/1000 [1:09:26<08:03,  5.83s/it]"
     ]
    },
    {
     "name": "stdout",
     "output_type": "stream",
     "text": [
      "Roc score 0.9398756597068004 at model 917\n",
      "Best F1 score 0.36882129277566533 at threshold 0.8  model 917\n"
     ]
    },
    {
     "name": "stderr",
     "output_type": "stream",
     "text": [
      "\r",
      " 92%|█████████▏| 918/1000 [1:09:31<07:39,  5.60s/it]"
     ]
    },
    {
     "name": "stdout",
     "output_type": "stream",
     "text": [
      "Roc score 0.8855926327292627 at model 918\n",
      "Best F1 score 0.1402116402116402 at threshold 0.8  model 918\n"
     ]
    },
    {
     "name": "stderr",
     "output_type": "stream",
     "text": [
      "\r",
      " 92%|█████████▏| 919/1000 [1:09:35<06:46,  5.02s/it]"
     ]
    },
    {
     "name": "stdout",
     "output_type": "stream",
     "text": [
      "Roc score 0.9593523820814878 at model 919\n",
      "Best F1 score 0.27574750830564787 at threshold 0.9  model 919\n"
     ]
    },
    {
     "name": "stderr",
     "output_type": "stream",
     "text": [
      "\r",
      " 92%|█████████▏| 920/1000 [1:09:39<06:06,  4.58s/it]"
     ]
    },
    {
     "name": "stdout",
     "output_type": "stream",
     "text": [
      "Roc score 0.953156520394464 at model 920\n",
      "Best F1 score 0.14414414414414414 at threshold 0.9  model 920\n"
     ]
    },
    {
     "name": "stderr",
     "output_type": "stream",
     "text": [
      "\r",
      " 92%|█████████▏| 921/1000 [1:09:42<05:24,  4.11s/it]"
     ]
    },
    {
     "name": "stdout",
     "output_type": "stream",
     "text": [
      "Roc score 0.9709204365135028 at model 921\n",
      "Best F1 score 0.2828175026680897 at threshold 0.9  model 921\n"
     ]
    },
    {
     "name": "stderr",
     "output_type": "stream",
     "text": [
      "\r",
      " 92%|█████████▏| 922/1000 [1:09:46<05:33,  4.28s/it]"
     ]
    },
    {
     "name": "stdout",
     "output_type": "stream",
     "text": [
      "Roc score 0.938419685711474 at model 922\n",
      "Best F1 score 0.09180327868852459 at threshold 0.9  model 922\n"
     ]
    },
    {
     "name": "stderr",
     "output_type": "stream",
     "text": [
      "\r",
      " 92%|█████████▏| 923/1000 [1:09:49<05:03,  3.94s/it]"
     ]
    },
    {
     "name": "stdout",
     "output_type": "stream",
     "text": [
      "Roc score 0.9727765060278724 at model 923\n",
      "Best F1 score 0.3438914027149321 at threshold 0.9  model 923\n"
     ]
    },
    {
     "name": "stderr",
     "output_type": "stream",
     "text": [
      "\r",
      " 92%|█████████▏| 924/1000 [1:09:53<04:54,  3.88s/it]"
     ]
    },
    {
     "name": "stdout",
     "output_type": "stream",
     "text": [
      "Roc score 0.9798602308205089 at model 924\n",
      "Best F1 score 0.1774193548387097 at threshold 0.9  model 924\n"
     ]
    },
    {
     "name": "stderr",
     "output_type": "stream",
     "text": [
      "\r",
      " 92%|█████████▎| 925/1000 [1:09:56<04:27,  3.56s/it]"
     ]
    },
    {
     "name": "stdout",
     "output_type": "stream",
     "text": [
      "Roc score 0.9340136258198143 at model 925\n",
      "Best F1 score 0.09854267869535045 at threshold 0.9  model 925\n"
     ]
    },
    {
     "name": "stderr",
     "output_type": "stream",
     "text": [
      "\r",
      " 93%|█████████▎| 926/1000 [1:09:59<04:21,  3.53s/it]"
     ]
    },
    {
     "name": "stdout",
     "output_type": "stream",
     "text": [
      "Roc score 0.94967597140655 at model 926\n",
      "Best F1 score 0.09625668449197859 at threshold 0.9  model 926\n"
     ]
    },
    {
     "name": "stderr",
     "output_type": "stream",
     "text": [
      "\r",
      " 93%|█████████▎| 927/1000 [1:10:02<04:02,  3.32s/it]"
     ]
    },
    {
     "name": "stdout",
     "output_type": "stream",
     "text": [
      "Roc score 0.9355907187031258 at model 927\n",
      "Best F1 score 0.09248554913294799 at threshold 0.9  model 927\n"
     ]
    },
    {
     "name": "stderr",
     "output_type": "stream",
     "text": [
      "\r",
      " 93%|█████████▎| 928/1000 [1:10:06<03:57,  3.30s/it]"
     ]
    },
    {
     "name": "stdout",
     "output_type": "stream",
     "text": [
      "Roc score 0.9736865569312895 at model 928\n",
      "Best F1 score 0.24875621890547261 at threshold 0.9  model 928\n"
     ]
    },
    {
     "name": "stderr",
     "output_type": "stream",
     "text": [
      "\r",
      " 93%|█████████▎| 929/1000 [1:10:09<03:48,  3.22s/it]"
     ]
    },
    {
     "name": "stdout",
     "output_type": "stream",
     "text": [
      "Roc score 0.9753129142563283 at model 929\n",
      "Best F1 score 0.4827586206896552 at threshold 0.9  model 929\n"
     ]
    },
    {
     "name": "stderr",
     "output_type": "stream",
     "text": [
      "\r",
      " 93%|█████████▎| 930/1000 [1:10:13<04:07,  3.53s/it]"
     ]
    },
    {
     "name": "stdout",
     "output_type": "stream",
     "text": [
      "Roc score 0.9021480966557996 at model 930\n",
      "Best F1 score 0.16502463054187191 at threshold 0.9  model 930\n"
     ]
    },
    {
     "name": "stderr",
     "output_type": "stream",
     "text": [
      "\r",
      " 93%|█████████▎| 931/1000 [1:10:18<04:36,  4.01s/it]"
     ]
    },
    {
     "name": "stdout",
     "output_type": "stream",
     "text": [
      "Roc score 0.9640506888582565 at model 931\n",
      "Best F1 score 0.12318840579710146 at threshold 0.9  model 931\n"
     ]
    },
    {
     "name": "stderr",
     "output_type": "stream",
     "text": [
      "\r",
      " 93%|█████████▎| 932/1000 [1:10:21<04:13,  3.72s/it]"
     ]
    },
    {
     "name": "stdout",
     "output_type": "stream",
     "text": [
      "Roc score 0.9173970405296163 at model 932\n",
      "Best F1 score 0.44614624505928857 at threshold 0.9  model 932\n"
     ]
    },
    {
     "name": "stderr",
     "output_type": "stream",
     "text": [
      "\r",
      " 93%|█████████▎| 933/1000 [1:10:33<06:53,  6.17s/it]"
     ]
    },
    {
     "name": "stdout",
     "output_type": "stream",
     "text": [
      "Roc score 0.8901939601414972 at model 933\n",
      "Best F1 score 0.10240963855421686 at threshold 0.8  model 933\n"
     ]
    },
    {
     "name": "stderr",
     "output_type": "stream",
     "text": [
      "\r",
      " 93%|█████████▎| 934/1000 [1:10:37<06:01,  5.48s/it]"
     ]
    },
    {
     "name": "stdout",
     "output_type": "stream",
     "text": [
      "Roc score 0.9016120313071172 at model 934\n",
      "Best F1 score 0.3258575197889182 at threshold 0.8  model 934\n"
     ]
    },
    {
     "name": "stderr",
     "output_type": "stream",
     "text": [
      "\r",
      " 94%|█████████▎| 935/1000 [1:10:46<07:08,  6.59s/it]"
     ]
    },
    {
     "name": "stdout",
     "output_type": "stream",
     "text": [
      "Roc score 0.9103620340407055 at model 935\n",
      "Best F1 score 0.2509307520476545 at threshold 0.9  model 935\n"
     ]
    },
    {
     "name": "stderr",
     "output_type": "stream",
     "text": [
      "\r",
      " 94%|█████████▎| 936/1000 [1:10:52<06:50,  6.41s/it]"
     ]
    },
    {
     "name": "stdout",
     "output_type": "stream",
     "text": [
      "Roc score 0.9492793897694656 at model 936\n",
      "Best F1 score 0.15473887814313347 at threshold 0.8  model 936\n"
     ]
    },
    {
     "name": "stderr",
     "output_type": "stream",
     "text": [
      "\r",
      " 94%|█████████▎| 937/1000 [1:10:55<05:44,  5.47s/it]"
     ]
    },
    {
     "name": "stdout",
     "output_type": "stream",
     "text": [
      "Roc score 0.94483822134156 at model 937\n",
      "Best F1 score 0.20761245674740483 at threshold 0.9  model 937\n"
     ]
    },
    {
     "name": "stderr",
     "output_type": "stream",
     "text": [
      "\r",
      " 94%|█████████▍| 938/1000 [1:10:58<04:58,  4.81s/it]"
     ]
    },
    {
     "name": "stdout",
     "output_type": "stream",
     "text": [
      "Roc score 0.9667655041628606 at model 938\n",
      "Best F1 score 0.6911665542818611 at threshold 0.9  model 938\n"
     ]
    },
    {
     "name": "stderr",
     "output_type": "stream",
     "text": [
      "\r",
      " 94%|█████████▍| 939/1000 [1:11:07<06:10,  6.07s/it]"
     ]
    },
    {
     "name": "stdout",
     "output_type": "stream",
     "text": [
      "Roc score 0.9674725948141393 at model 939\n",
      "Best F1 score 0.14312617702448213 at threshold 0.9  model 939\n"
     ]
    },
    {
     "name": "stderr",
     "output_type": "stream",
     "text": [
      "\r",
      " 94%|█████████▍| 940/1000 [1:11:11<05:14,  5.24s/it]"
     ]
    },
    {
     "name": "stdout",
     "output_type": "stream",
     "text": [
      "Roc score 0.9106398154129145 at model 940\n",
      "Best F1 score 0.11111111111111112 at threshold 0.9  model 940\n"
     ]
    },
    {
     "name": "stderr",
     "output_type": "stream",
     "text": [
      "\r",
      " 94%|█████████▍| 941/1000 [1:11:14<04:41,  4.77s/it]"
     ]
    },
    {
     "name": "stdout",
     "output_type": "stream",
     "text": [
      "Roc score 0.8647879356582922 at model 941\n",
      "Best F1 score 0.19767441860465115 at threshold 0.9  model 941\n"
     ]
    },
    {
     "name": "stderr",
     "output_type": "stream",
     "text": [
      "\r",
      " 94%|█████████▍| 942/1000 [1:11:19<04:37,  4.78s/it]"
     ]
    },
    {
     "name": "stdout",
     "output_type": "stream",
     "text": [
      "Roc score 0.9483707195778855 at model 942\n",
      "Best F1 score 0.2636103151862464 at threshold 0.9  model 942\n"
     ]
    },
    {
     "name": "stderr",
     "output_type": "stream",
     "text": [
      "\r",
      " 94%|█████████▍| 943/1000 [1:11:23<04:12,  4.43s/it]"
     ]
    },
    {
     "name": "stdout",
     "output_type": "stream",
     "text": [
      "Roc score 0.898667392930997 at model 943\n",
      "Best F1 score 0.05952380952380952 at threshold 0.9  model 943\n"
     ]
    },
    {
     "name": "stderr",
     "output_type": "stream",
     "text": [
      "\r",
      " 94%|█████████▍| 944/1000 [1:11:26<03:48,  4.08s/it]"
     ]
    },
    {
     "name": "stdout",
     "output_type": "stream",
     "text": [
      "Roc score 0.95496598341509 at model 944\n",
      "Best F1 score 0.24875621890547264 at threshold 0.9  model 944\n"
     ]
    },
    {
     "name": "stderr",
     "output_type": "stream",
     "text": [
      "\r",
      " 94%|█████████▍| 945/1000 [1:11:29<03:29,  3.81s/it]"
     ]
    },
    {
     "name": "stdout",
     "output_type": "stream",
     "text": [
      "Roc score 0.9369515412856257 at model 945\n",
      "Best F1 score 0.40748740100791936 at threshold 0.9  model 945\n"
     ]
    },
    {
     "name": "stderr",
     "output_type": "stream",
     "text": [
      "\r",
      " 95%|█████████▍| 946/1000 [1:11:37<04:34,  5.08s/it]"
     ]
    },
    {
     "name": "stdout",
     "output_type": "stream",
     "text": [
      "Roc score 0.9315817560117443 at model 946\n",
      "Best F1 score 0.2528089887640449 at threshold 0.9  model 946\n"
     ]
    },
    {
     "name": "stderr",
     "output_type": "stream",
     "text": [
      "\r",
      " 95%|█████████▍| 947/1000 [1:11:41<04:00,  4.54s/it]"
     ]
    },
    {
     "name": "stdout",
     "output_type": "stream",
     "text": [
      "Roc score 0.8952392959436016 at model 947\n",
      "Best F1 score 0.07698744769874476 at threshold 0.9  model 947\n"
     ]
    },
    {
     "name": "stderr",
     "output_type": "stream",
     "text": [
      "\r",
      " 95%|█████████▍| 948/1000 [1:11:44<03:44,  4.32s/it]"
     ]
    },
    {
     "name": "stdout",
     "output_type": "stream",
     "text": [
      "Roc score 0.8928647721636199 at model 948\n",
      "Best F1 score 0.10434782608695653 at threshold 0.9  model 948\n"
     ]
    },
    {
     "name": "stderr",
     "output_type": "stream",
     "text": [
      "\r",
      " 95%|█████████▍| 949/1000 [1:11:48<03:29,  4.10s/it]"
     ]
    },
    {
     "name": "stdout",
     "output_type": "stream",
     "text": [
      "Roc score 0.916189453436594 at model 949\n",
      "Best F1 score 0.1302681992337165 at threshold 0.9  model 949\n"
     ]
    },
    {
     "name": "stderr",
     "output_type": "stream",
     "text": [
      "\r",
      " 95%|█████████▌| 950/1000 [1:11:51<03:11,  3.82s/it]"
     ]
    },
    {
     "name": "stdout",
     "output_type": "stream",
     "text": [
      "Roc score 0.9124367199724246 at model 950\n",
      "Best F1 score 0.09813084112149531 at threshold 0.9  model 950\n"
     ]
    },
    {
     "name": "stderr",
     "output_type": "stream",
     "text": [
      "\r",
      " 95%|█████████▌| 951/1000 [1:11:54<02:59,  3.66s/it]"
     ]
    },
    {
     "name": "stdout",
     "output_type": "stream",
     "text": [
      "Roc score 0.9287214197727321 at model 951\n",
      "Best F1 score 0.1416666666666667 at threshold 0.9  model 951\n"
     ]
    },
    {
     "name": "stderr",
     "output_type": "stream",
     "text": [
      "\r",
      " 95%|█████████▌| 952/1000 [1:11:58<02:48,  3.51s/it]"
     ]
    },
    {
     "name": "stdout",
     "output_type": "stream",
     "text": [
      "Roc score 0.9572077468909616 at model 952\n",
      "Best F1 score 0.16528925619834708 at threshold 0.9  model 952\n"
     ]
    },
    {
     "name": "stderr",
     "output_type": "stream",
     "text": [
      "\r",
      " 95%|█████████▌| 953/1000 [1:12:01<02:39,  3.40s/it]"
     ]
    },
    {
     "name": "stdout",
     "output_type": "stream",
     "text": [
      "Roc score 0.9312776921658501 at model 953\n",
      "Best F1 score 0.1543859649122807 at threshold 0.9  model 953\n"
     ]
    },
    {
     "name": "stderr",
     "output_type": "stream",
     "text": [
      "\r",
      " 95%|█████████▌| 954/1000 [1:12:04<02:32,  3.32s/it]"
     ]
    },
    {
     "name": "stdout",
     "output_type": "stream",
     "text": [
      "Roc score 0.943218356526231 at model 954\n",
      "Best F1 score 0.13688212927756654 at threshold 0.9  model 954\n"
     ]
    },
    {
     "name": "stderr",
     "output_type": "stream",
     "text": [
      "\r",
      " 96%|█████████▌| 955/1000 [1:12:07<02:24,  3.21s/it]"
     ]
    },
    {
     "name": "stdout",
     "output_type": "stream",
     "text": [
      "Roc score 0.9074449189478151 at model 955\n",
      "Best F1 score 0.22222222222222218 at threshold 0.8  model 955\n"
     ]
    },
    {
     "name": "stderr",
     "output_type": "stream",
     "text": [
      "\r",
      " 96%|█████████▌| 956/1000 [1:12:10<02:21,  3.22s/it]"
     ]
    },
    {
     "name": "stdout",
     "output_type": "stream",
     "text": [
      "Roc score 0.9718009706285012 at model 956\n",
      "Best F1 score 0.11338582677165353 at threshold 0.9  model 956\n"
     ]
    },
    {
     "name": "stderr",
     "output_type": "stream",
     "text": [
      "\r",
      " 96%|█████████▌| 957/1000 [1:12:13<02:14,  3.14s/it]"
     ]
    },
    {
     "name": "stdout",
     "output_type": "stream",
     "text": [
      "Roc score 0.9075566884796522 at model 957\n",
      "Best F1 score 0.16286149162861494 at threshold 0.8  model 957\n"
     ]
    },
    {
     "name": "stderr",
     "output_type": "stream",
     "text": [
      "\r",
      " 96%|█████████▌| 958/1000 [1:12:19<02:52,  4.12s/it]"
     ]
    },
    {
     "name": "stdout",
     "output_type": "stream",
     "text": [
      "Roc score 0.9617817247561088 at model 958\n",
      "Best F1 score 0.07786589762076424 at threshold 0.9  model 958\n"
     ]
    },
    {
     "name": "stderr",
     "output_type": "stream",
     "text": [
      "\r",
      " 96%|█████████▌| 959/1000 [1:12:23<02:38,  3.87s/it]"
     ]
    },
    {
     "name": "stdout",
     "output_type": "stream",
     "text": [
      "Roc score 0.8971098282137371 at model 959\n",
      "Best F1 score 0.3279253409906676 at threshold 0.8  model 959\n"
     ]
    },
    {
     "name": "stderr",
     "output_type": "stream",
     "text": [
      "\r",
      " 96%|█████████▌| 960/1000 [1:12:37<04:37,  6.94s/it]"
     ]
    },
    {
     "name": "stdout",
     "output_type": "stream",
     "text": [
      "Roc score 0.9317138561763969 at model 960\n",
      "Best F1 score 0.10009099181073702 at threshold 0.9  model 960\n"
     ]
    },
    {
     "name": "stderr",
     "output_type": "stream",
     "text": [
      "\r",
      " 96%|█████████▌| 961/1000 [1:12:41<03:56,  6.07s/it]"
     ]
    },
    {
     "name": "stdout",
     "output_type": "stream",
     "text": [
      "Roc score 0.9252713015013176 at model 961\n",
      "Best F1 score 0.1639344262295082 at threshold 0.9  model 961\n"
     ]
    },
    {
     "name": "stderr",
     "output_type": "stream",
     "text": [
      "\r",
      " 96%|█████████▌| 962/1000 [1:12:44<03:20,  5.27s/it]"
     ]
    },
    {
     "name": "stdout",
     "output_type": "stream",
     "text": [
      "Roc score 0.975697734990934 at model 962\n",
      "Best F1 score 0.3356009070294784 at threshold 0.9  model 962\n"
     ]
    },
    {
     "name": "stderr",
     "output_type": "stream",
     "text": [
      "\r",
      " 96%|█████████▋| 963/1000 [1:12:48<02:57,  4.80s/it]"
     ]
    },
    {
     "name": "stdout",
     "output_type": "stream",
     "text": [
      "Roc score 0.9240120291790712 at model 963\n",
      "Best F1 score 0.43156199677938806 at threshold 0.9  model 963\n"
     ]
    },
    {
     "name": "stderr",
     "output_type": "stream",
     "text": [
      "\r",
      " 96%|█████████▋| 964/1000 [1:12:52<02:42,  4.53s/it]"
     ]
    },
    {
     "name": "stdout",
     "output_type": "stream",
     "text": [
      "Roc score 0.8976438259202648 at model 964\n",
      "Best F1 score 0.3916913946587537 at threshold 0.9  model 964\n"
     ]
    },
    {
     "name": "stderr",
     "output_type": "stream",
     "text": [
      "\r",
      " 96%|█████████▋| 965/1000 [1:12:56<02:29,  4.27s/it]"
     ]
    },
    {
     "name": "stdout",
     "output_type": "stream",
     "text": [
      "Roc score 0.9222087995324662 at model 965\n",
      "Best F1 score 0.06995884773662552 at threshold 0.9  model 965\n"
     ]
    },
    {
     "name": "stderr",
     "output_type": "stream",
     "text": [
      "\r",
      " 97%|█████████▋| 966/1000 [1:12:59<02:14,  3.95s/it]"
     ]
    },
    {
     "name": "stdout",
     "output_type": "stream",
     "text": [
      "Roc score 0.9098940354015066 at model 966\n",
      "Best F1 score 0.1785714285714286 at threshold 0.9  model 966\n"
     ]
    },
    {
     "name": "stderr",
     "output_type": "stream",
     "text": [
      "\r",
      " 97%|█████████▋| 967/1000 [1:13:02<02:03,  3.75s/it]"
     ]
    },
    {
     "name": "stdout",
     "output_type": "stream",
     "text": [
      "Roc score 0.9645904952897284 at model 967\n",
      "Best F1 score 0.4103720405862458 at threshold 0.9  model 967\n"
     ]
    },
    {
     "name": "stderr",
     "output_type": "stream",
     "text": [
      "\r",
      " 97%|█████████▋| 968/1000 [1:13:06<01:59,  3.75s/it]"
     ]
    },
    {
     "name": "stdout",
     "output_type": "stream",
     "text": [
      "Roc score 0.9387421637618344 at model 968\n",
      "Best F1 score 0.21481481481481482 at threshold 0.9  model 968\n"
     ]
    },
    {
     "name": "stderr",
     "output_type": "stream",
     "text": [
      "\r",
      " 97%|█████████▋| 969/1000 [1:13:09<01:54,  3.69s/it]"
     ]
    },
    {
     "name": "stdout",
     "output_type": "stream",
     "text": [
      "Roc score 0.9328088732649963 at model 969\n",
      "Best F1 score 0.11588785046728974 at threshold 0.9  model 969\n"
     ]
    },
    {
     "name": "stderr",
     "output_type": "stream",
     "text": [
      "\r",
      " 97%|█████████▋| 970/1000 [1:13:13<01:47,  3.59s/it]"
     ]
    },
    {
     "name": "stdout",
     "output_type": "stream",
     "text": [
      "Roc score 0.9188110275759702 at model 970\n",
      "Best F1 score 0.3298438934802571 at threshold 0.8  model 970\n"
     ]
    },
    {
     "name": "stderr",
     "output_type": "stream",
     "text": [
      "\r",
      " 97%|█████████▋| 971/1000 [1:13:24<02:48,  5.80s/it]"
     ]
    },
    {
     "name": "stdout",
     "output_type": "stream",
     "text": [
      "Roc score 0.9770514757066164 at model 971\n",
      "Best F1 score 0.32558139534883723 at threshold 0.9  model 971\n"
     ]
    },
    {
     "name": "stderr",
     "output_type": "stream",
     "text": [
      "\r",
      " 97%|█████████▋| 972/1000 [1:13:27<02:22,  5.08s/it]"
     ]
    },
    {
     "name": "stdout",
     "output_type": "stream",
     "text": [
      "Roc score 0.9350926057033013 at model 972\n",
      "Best F1 score 0.1340782122905028 at threshold 0.9  model 972\n"
     ]
    },
    {
     "name": "stderr",
     "output_type": "stream",
     "text": [
      "\r",
      " 97%|█████████▋| 973/1000 [1:13:30<02:02,  4.53s/it]"
     ]
    },
    {
     "name": "stdout",
     "output_type": "stream",
     "text": [
      "Roc score 0.942725950250042 at model 973\n",
      "Best F1 score 0.5446133509583609 at threshold 0.8  model 973\n"
     ]
    },
    {
     "name": "stderr",
     "output_type": "stream",
     "text": [
      "\r",
      " 97%|█████████▋| 974/1000 [1:13:35<02:02,  4.72s/it]"
     ]
    },
    {
     "name": "stdout",
     "output_type": "stream",
     "text": [
      "Roc score 0.9551094582296067 at model 974\n",
      "Best F1 score 0.3252032520325203 at threshold 0.9  model 974\n"
     ]
    },
    {
     "name": "stderr",
     "output_type": "stream",
     "text": [
      "\r",
      " 98%|█████████▊| 975/1000 [1:13:39<01:47,  4.31s/it]"
     ]
    },
    {
     "name": "stdout",
     "output_type": "stream",
     "text": [
      "Roc score 0.9693563324449181 at model 975\n",
      "Best F1 score 0.4401913875598086 at threshold 0.8  model 975\n"
     ]
    },
    {
     "name": "stderr",
     "output_type": "stream",
     "text": [
      "\r",
      " 98%|█████████▊| 976/1000 [1:13:42<01:35,  3.99s/it]"
     ]
    },
    {
     "name": "stdout",
     "output_type": "stream",
     "text": [
      "Roc score 0.9556068481620019 at model 976\n",
      "Best F1 score 0.7041075429424944 at threshold 0.8  model 976\n"
     ]
    },
    {
     "name": "stderr",
     "output_type": "stream",
     "text": [
      "\r",
      " 98%|█████████▊| 977/1000 [1:13:58<02:56,  7.68s/it]"
     ]
    },
    {
     "name": "stdout",
     "output_type": "stream",
     "text": [
      "Roc score 0.9552933981827989 at model 977\n",
      "Best F1 score 0.1053268765133172 at threshold 0.9  model 977\n"
     ]
    },
    {
     "name": "stderr",
     "output_type": "stream",
     "text": [
      "\r",
      " 98%|█████████▊| 978/1000 [1:14:02<02:20,  6.39s/it]"
     ]
    },
    {
     "name": "stdout",
     "output_type": "stream",
     "text": [
      "Roc score 0.9732217680093489 at model 978\n",
      "Best F1 score 0.19809523809523813 at threshold 0.9  model 978\n"
     ]
    },
    {
     "name": "stderr",
     "output_type": "stream",
     "text": [
      "\r",
      " 98%|█████████▊| 979/1000 [1:14:05<01:55,  5.48s/it]"
     ]
    },
    {
     "name": "stdout",
     "output_type": "stream",
     "text": [
      "Roc score 0.9503660114690174 at model 979\n",
      "Best F1 score 0.08667736757624397 at threshold 0.8  model 979\n"
     ]
    },
    {
     "name": "stderr",
     "output_type": "stream",
     "text": [
      "\r",
      " 98%|█████████▊| 980/1000 [1:14:08<01:35,  4.77s/it]"
     ]
    },
    {
     "name": "stdout",
     "output_type": "stream",
     "text": [
      "Roc score 0.9158847707254666 at model 980\n",
      "Best F1 score 0.09589041095890412 at threshold 0.9  model 980\n"
     ]
    },
    {
     "name": "stderr",
     "output_type": "stream",
     "text": [
      "\r",
      " 98%|█████████▊| 981/1000 [1:14:12<01:22,  4.35s/it]"
     ]
    },
    {
     "name": "stdout",
     "output_type": "stream",
     "text": [
      "Roc score 0.8298604880099673 at model 981\n",
      "Best F1 score 0.05161290322580645 at threshold 0.9  model 981\n"
     ]
    },
    {
     "name": "stderr",
     "output_type": "stream",
     "text": [
      "\r",
      " 98%|█████████▊| 982/1000 [1:14:15<01:11,  3.99s/it]"
     ]
    },
    {
     "name": "stdout",
     "output_type": "stream",
     "text": [
      "Roc score 0.9459996696884824 at model 982\n",
      "Best F1 score 0.24291497975708498 at threshold 0.9  model 982\n"
     ]
    },
    {
     "name": "stderr",
     "output_type": "stream",
     "text": [
      "\r",
      " 98%|█████████▊| 983/1000 [1:14:18<01:04,  3.77s/it]"
     ]
    },
    {
     "name": "stdout",
     "output_type": "stream",
     "text": [
      "Roc score 0.9556811017692477 at model 983\n",
      "Best F1 score 0.23049327354260088 at threshold 0.9  model 983\n"
     ]
    },
    {
     "name": "stderr",
     "output_type": "stream",
     "text": [
      "\r",
      " 98%|█████████▊| 984/1000 [1:14:23<01:06,  4.16s/it]"
     ]
    },
    {
     "name": "stdout",
     "output_type": "stream",
     "text": [
      "Roc score 0.9302264072752721 at model 984\n",
      "Best F1 score 0.24987354577642892 at threshold 0.9  model 984\n"
     ]
    },
    {
     "name": "stderr",
     "output_type": "stream",
     "text": [
      "\r",
      " 98%|█████████▊| 985/1000 [1:14:30<01:12,  4.86s/it]"
     ]
    },
    {
     "name": "stdout",
     "output_type": "stream",
     "text": [
      "Roc score 0.9174152812370399 at model 985\n",
      "Best F1 score 0.10204081632653061 at threshold 0.9  model 985\n"
     ]
    },
    {
     "name": "stderr",
     "output_type": "stream",
     "text": [
      "\r",
      " 99%|█████████▊| 986/1000 [1:14:34<01:05,  4.66s/it]"
     ]
    },
    {
     "name": "stdout",
     "output_type": "stream",
     "text": [
      "Roc score 0.9242113182081317 at model 986\n",
      "Best F1 score 0.626120583582352 at threshold 0.8  model 986\n"
     ]
    },
    {
     "name": "stderr",
     "output_type": "stream",
     "text": [
      "\r",
      " 99%|█████████▊| 987/1000 [1:14:49<01:40,  7.73s/it]"
     ]
    },
    {
     "name": "stdout",
     "output_type": "stream",
     "text": [
      "Roc score 0.9653993543450683 at model 987\n",
      "Best F1 score 0.2088050314465409 at threshold 0.9  model 987\n"
     ]
    },
    {
     "name": "stderr",
     "output_type": "stream",
     "text": [
      "\r",
      " 99%|█████████▉| 988/1000 [1:14:52<01:18,  6.50s/it]"
     ]
    },
    {
     "name": "stdout",
     "output_type": "stream",
     "text": [
      "Roc score 0.9486823695500898 at model 988\n",
      "Best F1 score 0.08185053380782917 at threshold 0.9  model 988\n"
     ]
    },
    {
     "name": "stderr",
     "output_type": "stream",
     "text": [
      "\r",
      " 99%|█████████▉| 989/1000 [1:14:56<01:00,  5.53s/it]"
     ]
    },
    {
     "name": "stdout",
     "output_type": "stream",
     "text": [
      "Roc score 0.9580472751838331 at model 989\n",
      "Best F1 score 0.12121212121212123 at threshold 0.9  model 989\n"
     ]
    },
    {
     "name": "stderr",
     "output_type": "stream",
     "text": [
      "\r",
      " 99%|█████████▉| 990/1000 [1:14:59<00:48,  4.81s/it]"
     ]
    },
    {
     "name": "stdout",
     "output_type": "stream",
     "text": [
      "Roc score 0.9223526960664353 at model 990\n",
      "Best F1 score 0.1736111111111111 at threshold 0.9  model 990\n"
     ]
    },
    {
     "name": "stderr",
     "output_type": "stream",
     "text": [
      "\r",
      " 99%|█████████▉| 991/1000 [1:15:02<00:39,  4.38s/it]"
     ]
    },
    {
     "name": "stdout",
     "output_type": "stream",
     "text": [
      "Roc score 0.9732724900750719 at model 991\n",
      "Best F1 score 0.44080604534005036 at threshold 0.9  model 991\n"
     ]
    },
    {
     "name": "stderr",
     "output_type": "stream",
     "text": [
      "\r",
      " 99%|█████████▉| 992/1000 [1:15:06<00:34,  4.25s/it]"
     ]
    },
    {
     "name": "stdout",
     "output_type": "stream",
     "text": [
      "Roc score 0.9570656097600462 at model 992\n",
      "Best F1 score 0.30806257521058966 at threshold 0.9  model 992\n"
     ]
    },
    {
     "name": "stderr",
     "output_type": "stream",
     "text": [
      "\r",
      " 99%|█████████▉| 993/1000 [1:15:10<00:28,  4.13s/it]"
     ]
    },
    {
     "name": "stdout",
     "output_type": "stream",
     "text": [
      "Roc score 0.9591246521168467 at model 993\n",
      "Best F1 score 0.40544871794871795 at threshold 0.9  model 993\n"
     ]
    },
    {
     "name": "stderr",
     "output_type": "stream",
     "text": [
      "\r",
      " 99%|█████████▉| 994/1000 [1:15:15<00:26,  4.39s/it]"
     ]
    },
    {
     "name": "stdout",
     "output_type": "stream",
     "text": [
      "Roc score 0.9331525863458969 at model 994\n",
      "Best F1 score 0.15873015873015872 at threshold 0.9  model 994\n"
     ]
    },
    {
     "name": "stderr",
     "output_type": "stream",
     "text": [
      "\r",
      "100%|█████████▉| 995/1000 [1:15:18<00:20,  4.04s/it]"
     ]
    },
    {
     "name": "stdout",
     "output_type": "stream",
     "text": [
      "Roc score 0.9606047598607336 at model 995\n",
      "Best F1 score 0.19921875 at threshold 0.8  model 995\n"
     ]
    },
    {
     "name": "stderr",
     "output_type": "stream",
     "text": [
      "\r",
      "100%|█████████▉| 996/1000 [1:15:21<00:15,  3.78s/it]"
     ]
    },
    {
     "name": "stdout",
     "output_type": "stream",
     "text": [
      "Roc score 0.9152265435439435 at model 996\n",
      "Best F1 score 0.09183673469387754 at threshold 0.9  model 996\n"
     ]
    },
    {
     "name": "stderr",
     "output_type": "stream",
     "text": [
      "\r",
      "100%|█████████▉| 997/1000 [1:15:24<00:10,  3.62s/it]"
     ]
    },
    {
     "name": "stdout",
     "output_type": "stream",
     "text": [
      "Roc score 0.931871937727201 at model 997\n",
      "Best F1 score 0.20168067226890754 at threshold 0.9  model 997\n"
     ]
    },
    {
     "name": "stderr",
     "output_type": "stream",
     "text": [
      "\r",
      "100%|█████████▉| 998/1000 [1:15:28<00:06,  3.48s/it]"
     ]
    },
    {
     "name": "stdout",
     "output_type": "stream",
     "text": [
      "Roc score 0.9136505511321356 at model 998\n",
      "Best F1 score 0.47803163444639724 at threshold 0.9  model 998\n"
     ]
    },
    {
     "name": "stderr",
     "output_type": "stream",
     "text": [
      "\r",
      "100%|█████████▉| 999/1000 [1:15:33<00:04,  4.02s/it]"
     ]
    },
    {
     "name": "stdout",
     "output_type": "stream",
     "text": [
      "Roc score 0.9493660925363053 at model 999\n",
      "Best F1 score 0.15080789946140036 at threshold 0.9  model 999\n"
     ]
    },
    {
     "name": "stderr",
     "output_type": "stream",
     "text": [
      "100%|██████████| 1000/1000 [1:15:36<00:00,  4.54s/it]"
     ]
    },
    {
     "name": "stdout",
     "output_type": "stream",
     "text": [
      "CPU times: user 6h 21min 35s, sys: 2min 25s, total: 6h 24min 1s\n",
      "Wall time: 1h 15min 36s\n"
     ]
    },
    {
     "name": "stderr",
     "output_type": "stream",
     "text": [
      "\n"
     ]
    }
   ],
   "source": [
    "%%time\n",
    "from sklearn.ensemble import RandomForestClassifier\n",
    "from sklearn.metrics import f1_score,precision_score,recall_score, roc_auc_score\n",
    "import joblib\n",
    "\n",
    "score = []\n",
    "f1_score_ls = []\n",
    "\n",
    "# Training 1000 models for 1000 tags\n",
    "for i in tqdm(range(0,1000)):\n",
    "    \n",
    "    # ytrain, y_test contains array inside array structure so flatten it to have just one array of length equal to dataset\n",
    "    ytrain_subset = pd.Series(y_train[:,i].toarray().flatten())\n",
    "    ytest_subset = pd.Series(y_test[:,i].toarray().flatten())\n",
    "    \n",
    "    \n",
    "    ytrain_index1 = ytrain_subset[ytrain_subset==1].index.tolist()\n",
    "    ytrain_index0 = ytrain_subset[ytrain_subset==0].index.tolist()\n",
    "    \n",
    "    # Randomly undersample negative points equal to positive \n",
    "    undersampled_index0 = np.random.choice(ytrain_index0, len(ytrain_index1)).tolist()\n",
    "    final_data_index = ytrain_index1  + undersampled_index0\n",
    "    \n",
    "    # Final balanced data\n",
    "    X_train_subset = X_train[final_data_index,:]\n",
    "    y_tr_under = ytrain_subset[final_data_index]\n",
    "    \n",
    "    \n",
    "    # Model training\n",
    "    clf =  RandomForestClassifier(n_estimators=100, n_jobs=-1)\n",
    "    clf.fit(X_train_subset, y_tr_under)\n",
    "    \n",
    "    \n",
    "    # Model predictions inform of probability\n",
    "    y_predprob = clf.predict_proba(X_test)[:,1] # get prob of only positive class\n",
    "    \n",
    "    # Evaluation metrics\n",
    "    roc_score = roc_auc_score(ytest_subset,y_predprob)\n",
    "    \n",
    "    \n",
    "    # Computing best thresold to convert probability to actual class predictions\n",
    "    max_f1 = -1\n",
    "    best_thr = 0\n",
    "    for thr in np.arange(0.1,1,0.1):\n",
    "        f1 = f1_score(ytest_subset, (y_predprob>thr).astype('int'))\n",
    "        if max_f1 < f1:\n",
    "            max_f1 = f1\n",
    "            best_thr=thr\n",
    "                  \n",
    "    print(\"Roc score {} at model {}\".format(roc_score, i))\n",
    "    print(\"Best F1 score {} at threshold {}  model {}\".format(max_f1, best_thr,i))\n",
    "    score.append(roc_score)\n",
    "    f1_score_ls.append(max_f1)\n",
    "    \n",
    "    \n",
    "    # Save model and its predictions for future use.\n",
    "    joblib.dump(clf.predict_proba(X_test)[:,1], './Tag_Models/Predictions/RF/y_predicted_' + str(i) + '.pkl')\n",
    "    joblib.dump(clf,'./Tag_Models/RF/rf_model_'+ str(i)+'.pkl')\n"
   ]
  },
  {
   "cell_type": "code",
   "execution_count": 70,
   "metadata": {},
   "outputs": [
    {
     "data": {
      "text/plain": [
       "49"
      ]
     },
     "execution_count": 70,
     "metadata": {},
     "output_type": "execute_result"
    }
   ],
   "source": [
    "len([f1 for f1 in f1_score_ls if f1>0.5 ])"
   ]
  },
  {
   "cell_type": "markdown",
   "metadata": {
    "collapsed": true
   },
   "source": [
    "## Observations:-\n",
    "- For most of the models f1 score is low.\n",
    "- For only 49 models out of 1000, f1 score is greater than 0.5."
   ]
  },
  {
   "cell_type": "markdown",
   "metadata": {},
   "source": [
    "### Final Conclusion:-\n",
    "- None of the model obtained from any experiment have decent f1score.\n",
    "- We can't use obtained model as our whole end result depends on this tag prediction model.\n",
    "- Slight improvement in performance can be showcased using ngram features + w2v but memory constraints don't allow."
   ]
  },
  {
   "cell_type": "code",
   "execution_count": 64,
   "metadata": {
    "collapsed": true
   },
   "outputs": [],
   "source": [
    "## Final Solution - Refer Sentence Bert.ipynb"
   ]
  }
 ],
 "metadata": {
  "anaconda-cloud": {},
  "kernelspec": {
   "display_name": "Python 3",
   "language": "python",
   "name": "python3"
  },
  "language_info": {
   "codemirror_mode": {
    "name": "ipython",
    "version": 3
   },
   "file_extension": ".py",
   "mimetype": "text/x-python",
   "name": "python",
   "nbconvert_exporter": "python",
   "pygments_lexer": "ipython3",
   "version": "3.8.5"
  }
 },
 "nbformat": 4,
 "nbformat_minor": 5
}
